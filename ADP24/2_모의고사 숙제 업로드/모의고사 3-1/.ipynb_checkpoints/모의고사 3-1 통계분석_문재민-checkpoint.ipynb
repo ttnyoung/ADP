{
 "cells": [
  {
   "cell_type": "code",
   "execution_count": 1,
   "id": "edc15f74",
   "metadata": {},
   "outputs": [],
   "source": [
    "###################################################################################\n",
    "#                      1. 통계분석 (사용 데이터 : Carseats)                  \n",
    "###################################################################################"
   ]
  },
  {
   "cell_type": "markdown",
   "id": "ef768595",
   "metadata": {},
   "source": [
    "# Q1"
   ]
  },
  {
   "cell_type": "code",
   "execution_count": 2,
   "id": "b59af62b",
   "metadata": {},
   "outputs": [],
   "source": [
    "#------------------------------------------------------------------------------------------------\n",
    "# Q1) Urban변수에 따른 Sales의 차이가 있는지를 통계적으로 검증하기 위한 통계분석을 수행하고, 결과를 해석하시오. \n",
    "#    (데이터는 정규성을 만족한다고 가정하고 유의수준 0.05 하에서 검정\n",
    "#------------------------------------------------------------------------------------------------"
   ]
  },
  {
   "cell_type": "code",
   "execution_count": 6,
   "id": "078de748",
   "metadata": {
    "scrolled": false
   },
   "outputs": [
    {
     "data": {
      "text/html": [
       "<div>\n",
       "<style scoped>\n",
       "    .dataframe tbody tr th:only-of-type {\n",
       "        vertical-align: middle;\n",
       "    }\n",
       "\n",
       "    .dataframe tbody tr th {\n",
       "        vertical-align: top;\n",
       "    }\n",
       "\n",
       "    .dataframe thead th {\n",
       "        text-align: right;\n",
       "    }\n",
       "</style>\n",
       "<table border=\"1\" class=\"dataframe\">\n",
       "  <thead>\n",
       "    <tr style=\"text-align: right;\">\n",
       "      <th></th>\n",
       "      <th>Sales</th>\n",
       "      <th>CompPrice</th>\n",
       "      <th>Income</th>\n",
       "      <th>Advertising</th>\n",
       "      <th>Population</th>\n",
       "      <th>Price</th>\n",
       "      <th>ShelveLoc</th>\n",
       "      <th>Age</th>\n",
       "      <th>Education</th>\n",
       "      <th>Urban</th>\n",
       "      <th>US</th>\n",
       "    </tr>\n",
       "  </thead>\n",
       "  <tbody>\n",
       "    <tr>\n",
       "      <th>0</th>\n",
       "      <td>9.50</td>\n",
       "      <td>138</td>\n",
       "      <td>73</td>\n",
       "      <td>11</td>\n",
       "      <td>276</td>\n",
       "      <td>120</td>\n",
       "      <td>Bad</td>\n",
       "      <td>42</td>\n",
       "      <td>17</td>\n",
       "      <td>Yes</td>\n",
       "      <td>Yes</td>\n",
       "    </tr>\n",
       "    <tr>\n",
       "      <th>1</th>\n",
       "      <td>11.22</td>\n",
       "      <td>111</td>\n",
       "      <td>48</td>\n",
       "      <td>16</td>\n",
       "      <td>260</td>\n",
       "      <td>83</td>\n",
       "      <td>Good</td>\n",
       "      <td>65</td>\n",
       "      <td>10</td>\n",
       "      <td>Yes</td>\n",
       "      <td>Yes</td>\n",
       "    </tr>\n",
       "    <tr>\n",
       "      <th>2</th>\n",
       "      <td>10.06</td>\n",
       "      <td>113</td>\n",
       "      <td>35</td>\n",
       "      <td>10</td>\n",
       "      <td>269</td>\n",
       "      <td>80</td>\n",
       "      <td>Medium</td>\n",
       "      <td>59</td>\n",
       "      <td>12</td>\n",
       "      <td>Yes</td>\n",
       "      <td>Yes</td>\n",
       "    </tr>\n",
       "    <tr>\n",
       "      <th>3</th>\n",
       "      <td>7.40</td>\n",
       "      <td>117</td>\n",
       "      <td>100</td>\n",
       "      <td>4</td>\n",
       "      <td>466</td>\n",
       "      <td>97</td>\n",
       "      <td>Medium</td>\n",
       "      <td>55</td>\n",
       "      <td>14</td>\n",
       "      <td>Yes</td>\n",
       "      <td>Yes</td>\n",
       "    </tr>\n",
       "    <tr>\n",
       "      <th>4</th>\n",
       "      <td>4.15</td>\n",
       "      <td>141</td>\n",
       "      <td>64</td>\n",
       "      <td>3</td>\n",
       "      <td>340</td>\n",
       "      <td>128</td>\n",
       "      <td>Bad</td>\n",
       "      <td>38</td>\n",
       "      <td>13</td>\n",
       "      <td>Yes</td>\n",
       "      <td>No</td>\n",
       "    </tr>\n",
       "    <tr>\n",
       "      <th>...</th>\n",
       "      <td>...</td>\n",
       "      <td>...</td>\n",
       "      <td>...</td>\n",
       "      <td>...</td>\n",
       "      <td>...</td>\n",
       "      <td>...</td>\n",
       "      <td>...</td>\n",
       "      <td>...</td>\n",
       "      <td>...</td>\n",
       "      <td>...</td>\n",
       "      <td>...</td>\n",
       "    </tr>\n",
       "    <tr>\n",
       "      <th>395</th>\n",
       "      <td>12.57</td>\n",
       "      <td>138</td>\n",
       "      <td>108</td>\n",
       "      <td>17</td>\n",
       "      <td>203</td>\n",
       "      <td>128</td>\n",
       "      <td>Good</td>\n",
       "      <td>33</td>\n",
       "      <td>14</td>\n",
       "      <td>Yes</td>\n",
       "      <td>Yes</td>\n",
       "    </tr>\n",
       "    <tr>\n",
       "      <th>396</th>\n",
       "      <td>6.14</td>\n",
       "      <td>139</td>\n",
       "      <td>23</td>\n",
       "      <td>3</td>\n",
       "      <td>37</td>\n",
       "      <td>120</td>\n",
       "      <td>Medium</td>\n",
       "      <td>55</td>\n",
       "      <td>11</td>\n",
       "      <td>No</td>\n",
       "      <td>Yes</td>\n",
       "    </tr>\n",
       "    <tr>\n",
       "      <th>397</th>\n",
       "      <td>7.41</td>\n",
       "      <td>162</td>\n",
       "      <td>26</td>\n",
       "      <td>12</td>\n",
       "      <td>368</td>\n",
       "      <td>159</td>\n",
       "      <td>Medium</td>\n",
       "      <td>40</td>\n",
       "      <td>18</td>\n",
       "      <td>Yes</td>\n",
       "      <td>Yes</td>\n",
       "    </tr>\n",
       "    <tr>\n",
       "      <th>398</th>\n",
       "      <td>5.94</td>\n",
       "      <td>100</td>\n",
       "      <td>79</td>\n",
       "      <td>7</td>\n",
       "      <td>284</td>\n",
       "      <td>95</td>\n",
       "      <td>Bad</td>\n",
       "      <td>50</td>\n",
       "      <td>12</td>\n",
       "      <td>Yes</td>\n",
       "      <td>Yes</td>\n",
       "    </tr>\n",
       "    <tr>\n",
       "      <th>399</th>\n",
       "      <td>9.71</td>\n",
       "      <td>134</td>\n",
       "      <td>37</td>\n",
       "      <td>0</td>\n",
       "      <td>27</td>\n",
       "      <td>120</td>\n",
       "      <td>Good</td>\n",
       "      <td>49</td>\n",
       "      <td>16</td>\n",
       "      <td>Yes</td>\n",
       "      <td>Yes</td>\n",
       "    </tr>\n",
       "  </tbody>\n",
       "</table>\n",
       "<p>400 rows × 11 columns</p>\n",
       "</div>"
      ],
      "text/plain": [
       "     Sales  CompPrice  Income  Advertising  Population  Price ShelveLoc  Age  \\\n",
       "0     9.50        138      73           11         276    120       Bad   42   \n",
       "1    11.22        111      48           16         260     83      Good   65   \n",
       "2    10.06        113      35           10         269     80    Medium   59   \n",
       "3     7.40        117     100            4         466     97    Medium   55   \n",
       "4     4.15        141      64            3         340    128       Bad   38   \n",
       "..     ...        ...     ...          ...         ...    ...       ...  ...   \n",
       "395  12.57        138     108           17         203    128      Good   33   \n",
       "396   6.14        139      23            3          37    120    Medium   55   \n",
       "397   7.41        162      26           12         368    159    Medium   40   \n",
       "398   5.94        100      79            7         284     95       Bad   50   \n",
       "399   9.71        134      37            0          27    120      Good   49   \n",
       "\n",
       "     Education Urban   US  \n",
       "0           17   Yes  Yes  \n",
       "1           10   Yes  Yes  \n",
       "2           12   Yes  Yes  \n",
       "3           14   Yes  Yes  \n",
       "4           13   Yes   No  \n",
       "..         ...   ...  ...  \n",
       "395         14   Yes  Yes  \n",
       "396         11    No  Yes  \n",
       "397         18   Yes  Yes  \n",
       "398         12   Yes  Yes  \n",
       "399         16   Yes  Yes  \n",
       "\n",
       "[400 rows x 11 columns]"
      ]
     },
     "execution_count": 6,
     "metadata": {},
     "output_type": "execute_result"
    }
   ],
   "source": [
    "import pandas as pd\n",
    "import numpy as np\n",
    "\n",
    "df = pd.read_csv('./carseats.csv')\n",
    "df"
   ]
  },
  {
   "cell_type": "code",
   "execution_count": 7,
   "id": "dcb484ba",
   "metadata": {},
   "outputs": [
    {
     "name": "stdout",
     "output_type": "stream",
     "text": [
      "<class 'pandas.core.frame.DataFrame'>\n",
      "RangeIndex: 400 entries, 0 to 399\n",
      "Data columns (total 11 columns):\n",
      " #   Column       Non-Null Count  Dtype  \n",
      "---  ------       --------------  -----  \n",
      " 0   Sales        400 non-null    float64\n",
      " 1   CompPrice    400 non-null    int64  \n",
      " 2   Income       400 non-null    int64  \n",
      " 3   Advertising  400 non-null    int64  \n",
      " 4   Population   400 non-null    int64  \n",
      " 5   Price        400 non-null    int64  \n",
      " 6   ShelveLoc    400 non-null    object \n",
      " 7   Age          400 non-null    int64  \n",
      " 8   Education    400 non-null    int64  \n",
      " 9   Urban        400 non-null    object \n",
      " 10  US           400 non-null    object \n",
      "dtypes: float64(1), int64(7), object(3)\n",
      "memory usage: 34.5+ KB\n"
     ]
    }
   ],
   "source": [
    "df.info()"
   ]
  },
  {
   "cell_type": "code",
   "execution_count": 14,
   "id": "469adbfd",
   "metadata": {},
   "outputs": [
    {
     "data": {
      "text/plain": [
       "Yes    282\n",
       "No     118\n",
       "Name: Urban, dtype: int64"
      ]
     },
     "execution_count": 14,
     "metadata": {},
     "output_type": "execute_result"
    }
   ],
   "source": [
    "df.Urban.value_counts()"
   ]
  },
  {
   "cell_type": "code",
   "execution_count": 15,
   "id": "28319757",
   "metadata": {},
   "outputs": [
    {
     "data": {
      "text/plain": [
       "count    400.000000\n",
       "mean       7.496325\n",
       "std        2.824115\n",
       "min        0.000000\n",
       "25%        5.390000\n",
       "50%        7.490000\n",
       "75%        9.320000\n",
       "max       16.270000\n",
       "Name: Sales, dtype: float64"
      ]
     },
     "execution_count": 15,
     "metadata": {},
     "output_type": "execute_result"
    }
   ],
   "source": [
    "df.Sales.describe()"
   ]
  },
  {
   "cell_type": "code",
   "execution_count": 13,
   "id": "b0c2e98b",
   "metadata": {},
   "outputs": [],
   "source": [
    "# Two sample-t검정을 위한 정규성 검정\n",
    "# H0: Urban==Yes 인 집단의 Sales 평균과 Urban==No 인 집단의 Sales 평균은 같다.\n",
    "# H1: 두 집단의 평균은 다르다."
   ]
  },
  {
   "cell_type": "code",
   "execution_count": 28,
   "id": "7947f092",
   "metadata": {},
   "outputs": [
    {
     "data": {
      "text/plain": [
       "ShapiroResult(statistic=0.9952030181884766, pvalue=0.25409069657325745)"
      ]
     },
     "execution_count": 28,
     "metadata": {},
     "output_type": "execute_result"
    }
   ],
   "source": [
    "#정규성 검정 \n",
    "import scipy.stats as stats\n",
    "from scipy.stats import shapiro\n",
    "\n",
    "stats.shapiro(df.Sales)\n",
    "# H0: 표본분포가 정규성을 따른다.\n",
    "# H1: 표본분포가 정규성을 따르지 않는다.\n",
    "# 검정 결과: 귀무가설을 기각하지 않음. 정규성을 따른다."
   ]
  },
  {
   "cell_type": "code",
   "execution_count": 31,
   "id": "beddb46e",
   "metadata": {},
   "outputs": [
    {
     "data": {
      "text/plain": [
       "LeveneResult(statistic=2.9559854965252977e-06, pvalue=0.9986290607894824)"
      ]
     },
     "execution_count": 31,
     "metadata": {},
     "output_type": "execute_result"
    }
   ],
   "source": [
    "# 등분산 검정\n",
    "urban_y_sales = df.Sales[df['Urban']=='Yes']\n",
    "urban_n_sales = df.Sales[df['Urban']=='No']\n",
    "stats.levene(urban_y_sales, urban_n_sales)\n",
    "\n",
    "# H0: 등분산성을 만족한다.\n",
    "# H1: 등분산성을 만족하지 않는다.\n",
    "# 검정 결과: 귀무가설을 기각하지 않음. 등분산성을 만족한다. "
   ]
  },
  {
   "cell_type": "markdown",
   "id": "82d4f46d",
   "metadata": {},
   "source": [
    "## Q1 해설"
   ]
  },
  {
   "cell_type": "code",
   "execution_count": 40,
   "id": "cccc3b1e",
   "metadata": {},
   "outputs": [
    {
     "data": {
      "text/plain": [
       "Ttest_indResult(statistic=-0.30765346670661126, pvalue=0.7585069603942775)"
      ]
     },
     "execution_count": 40,
     "metadata": {},
     "output_type": "execute_result"
    }
   ],
   "source": [
    "# 독립표본 t 검정\n",
    "stats.ttest_ind(urban_y_sales, urban_n_sales, equal_var=True)\n",
    "\n",
    "#검정 결과: p-value가 유의수준 0.05보다 한참 크다. 귀무가설을 기각하지 않음. 두 표본의 평균은 차이가 없다."
   ]
  },
  {
   "cell_type": "code",
   "execution_count": 41,
   "id": "992fa3fa",
   "metadata": {
    "scrolled": true
   },
   "outputs": [
    {
     "name": "stdout",
     "output_type": "stream",
     "text": [
      "7.468191489361701 7.563559322033897\n"
     ]
    }
   ],
   "source": [
    "print(urban_y_sales.mean(), urban_n_sales.mean())"
   ]
  },
  {
   "cell_type": "markdown",
   "id": "d9f84edf",
   "metadata": {},
   "source": [
    "# Q2"
   ]
  },
  {
   "cell_type": "code",
   "execution_count": 42,
   "id": "828f031e",
   "metadata": {},
   "outputs": [],
   "source": [
    "#------------------------------------------------------------------------------------------------\n",
    "# Q2)Sales변수와 CompPrice, Income, Advertising, Population, Price, Age, Education 변수들 간에 \n",
    "#    피어슨 상관계수를 이용한 상관관계 분석을 수행하고 이를 해석하시오.\n",
    "#------------------------------------------------------------------------------------------------"
   ]
  },
  {
   "cell_type": "code",
   "execution_count": 47,
   "id": "19c9e79e",
   "metadata": {
    "scrolled": true
   },
   "outputs": [
    {
     "data": {
      "text/html": [
       "<div>\n",
       "<style scoped>\n",
       "    .dataframe tbody tr th:only-of-type {\n",
       "        vertical-align: middle;\n",
       "    }\n",
       "\n",
       "    .dataframe tbody tr th {\n",
       "        vertical-align: top;\n",
       "    }\n",
       "\n",
       "    .dataframe thead th {\n",
       "        text-align: right;\n",
       "    }\n",
       "</style>\n",
       "<table border=\"1\" class=\"dataframe\">\n",
       "  <thead>\n",
       "    <tr style=\"text-align: right;\">\n",
       "      <th></th>\n",
       "      <th>Sales</th>\n",
       "      <th>CompPrice</th>\n",
       "      <th>Income</th>\n",
       "      <th>Advertising</th>\n",
       "      <th>Population</th>\n",
       "      <th>Price</th>\n",
       "      <th>Age</th>\n",
       "      <th>Education</th>\n",
       "    </tr>\n",
       "  </thead>\n",
       "  <tbody>\n",
       "    <tr>\n",
       "      <th>count</th>\n",
       "      <td>400.000000</td>\n",
       "      <td>400.000000</td>\n",
       "      <td>400.000000</td>\n",
       "      <td>400.000000</td>\n",
       "      <td>400.000000</td>\n",
       "      <td>400.000000</td>\n",
       "      <td>400.000000</td>\n",
       "      <td>400.000000</td>\n",
       "    </tr>\n",
       "    <tr>\n",
       "      <th>mean</th>\n",
       "      <td>7.496325</td>\n",
       "      <td>124.975000</td>\n",
       "      <td>68.657500</td>\n",
       "      <td>6.635000</td>\n",
       "      <td>264.840000</td>\n",
       "      <td>115.795000</td>\n",
       "      <td>53.322500</td>\n",
       "      <td>13.900000</td>\n",
       "    </tr>\n",
       "    <tr>\n",
       "      <th>std</th>\n",
       "      <td>2.824115</td>\n",
       "      <td>15.334512</td>\n",
       "      <td>27.986037</td>\n",
       "      <td>6.650364</td>\n",
       "      <td>147.376436</td>\n",
       "      <td>23.676664</td>\n",
       "      <td>16.200297</td>\n",
       "      <td>2.620528</td>\n",
       "    </tr>\n",
       "    <tr>\n",
       "      <th>min</th>\n",
       "      <td>0.000000</td>\n",
       "      <td>77.000000</td>\n",
       "      <td>21.000000</td>\n",
       "      <td>0.000000</td>\n",
       "      <td>10.000000</td>\n",
       "      <td>24.000000</td>\n",
       "      <td>25.000000</td>\n",
       "      <td>10.000000</td>\n",
       "    </tr>\n",
       "    <tr>\n",
       "      <th>25%</th>\n",
       "      <td>5.390000</td>\n",
       "      <td>115.000000</td>\n",
       "      <td>42.750000</td>\n",
       "      <td>0.000000</td>\n",
       "      <td>139.000000</td>\n",
       "      <td>100.000000</td>\n",
       "      <td>39.750000</td>\n",
       "      <td>12.000000</td>\n",
       "    </tr>\n",
       "    <tr>\n",
       "      <th>50%</th>\n",
       "      <td>7.490000</td>\n",
       "      <td>125.000000</td>\n",
       "      <td>69.000000</td>\n",
       "      <td>5.000000</td>\n",
       "      <td>272.000000</td>\n",
       "      <td>117.000000</td>\n",
       "      <td>54.500000</td>\n",
       "      <td>14.000000</td>\n",
       "    </tr>\n",
       "    <tr>\n",
       "      <th>75%</th>\n",
       "      <td>9.320000</td>\n",
       "      <td>135.000000</td>\n",
       "      <td>91.000000</td>\n",
       "      <td>12.000000</td>\n",
       "      <td>398.500000</td>\n",
       "      <td>131.000000</td>\n",
       "      <td>66.000000</td>\n",
       "      <td>16.000000</td>\n",
       "    </tr>\n",
       "    <tr>\n",
       "      <th>max</th>\n",
       "      <td>16.270000</td>\n",
       "      <td>175.000000</td>\n",
       "      <td>120.000000</td>\n",
       "      <td>29.000000</td>\n",
       "      <td>509.000000</td>\n",
       "      <td>191.000000</td>\n",
       "      <td>80.000000</td>\n",
       "      <td>18.000000</td>\n",
       "    </tr>\n",
       "  </tbody>\n",
       "</table>\n",
       "</div>"
      ],
      "text/plain": [
       "            Sales   CompPrice      Income  Advertising  Population  \\\n",
       "count  400.000000  400.000000  400.000000   400.000000  400.000000   \n",
       "mean     7.496325  124.975000   68.657500     6.635000  264.840000   \n",
       "std      2.824115   15.334512   27.986037     6.650364  147.376436   \n",
       "min      0.000000   77.000000   21.000000     0.000000   10.000000   \n",
       "25%      5.390000  115.000000   42.750000     0.000000  139.000000   \n",
       "50%      7.490000  125.000000   69.000000     5.000000  272.000000   \n",
       "75%      9.320000  135.000000   91.000000    12.000000  398.500000   \n",
       "max     16.270000  175.000000  120.000000    29.000000  509.000000   \n",
       "\n",
       "            Price         Age   Education  \n",
       "count  400.000000  400.000000  400.000000  \n",
       "mean   115.795000   53.322500   13.900000  \n",
       "std     23.676664   16.200297    2.620528  \n",
       "min     24.000000   25.000000   10.000000  \n",
       "25%    100.000000   39.750000   12.000000  \n",
       "50%    117.000000   54.500000   14.000000  \n",
       "75%    131.000000   66.000000   16.000000  \n",
       "max    191.000000   80.000000   18.000000  "
      ]
     },
     "execution_count": 47,
     "metadata": {},
     "output_type": "execute_result"
    }
   ],
   "source": [
    "df.describe()"
   ]
  },
  {
   "cell_type": "code",
   "execution_count": 95,
   "id": "075bd2d0",
   "metadata": {},
   "outputs": [
    {
     "data": {
      "text/plain": [
       "Sales          1.000000\n",
       "CompPrice      0.064079\n",
       "Income         0.151951\n",
       "Advertising    0.269507\n",
       "Population     0.050471\n",
       "Price         -0.444951\n",
       "Age           -0.231815\n",
       "Education     -0.051955\n",
       "Name: Sales, dtype: float64"
      ]
     },
     "execution_count": 95,
     "metadata": {},
     "output_type": "execute_result"
    }
   ],
   "source": [
    "df.corr().Sales"
   ]
  },
  {
   "cell_type": "code",
   "execution_count": 89,
   "id": "8ec132ab",
   "metadata": {},
   "outputs": [
    {
     "data": {
      "text/plain": [
       "<AxesSubplot:>"
      ]
     },
     "execution_count": 89,
     "metadata": {},
     "output_type": "execute_result"
    },
    {
     "data": {
      "image/png": "[encoded data removed]",
      "text/plain": [
       "<Figure size 432x288 with 2 Axes>"
      ]
     },
     "metadata": {
      "needs_background": "light"
     },
     "output_type": "display_data"
    }
   ],
   "source": [
    "import seaborn as sns\n",
    "sns.heatmap(df.corr(), annot=True)"
   ]
  },
  {
   "cell_type": "markdown",
   "id": "4e1bda65",
   "metadata": {},
   "source": [
    "## Q2 해설"
   ]
  },
  {
   "cell_type": "markdown",
   "id": "52a3b65a",
   "metadata": {},
   "source": [
    "1. Sales ~ Price: 강한 음의 상관관계\n",
    "1. Sales ~ Age: 약한 음의 상관관계\n",
    "1. Sales ~ Advertising: 약한 양의 상관관계\n",
    "1. Sales ~ Income: 약한 양의 상관관계  \n",
    "이외, Sales와 나머지 3개 독립변수 CompPrice, Population, Education 사이는 상관관계가 약하다고 할 수 있다. "
   ]
  },
  {
   "cell_type": "markdown",
   "id": "4de06ccb",
   "metadata": {},
   "source": [
    "# Q3"
   ]
  },
  {
   "cell_type": "code",
   "execution_count": 4,
   "id": "c5ebe474",
   "metadata": {},
   "outputs": [],
   "source": [
    "#------------------------------------------------------------------------------------------------\n",
    "# Q3) 종속변수를 Sales, 독립변수를 CompPrice, Income, Advertising, Population, Price, \n",
    "#     Age, Education으로 설정하고 후진제거법을 활용하여 회귀분석을 실시하고, 추정된 회귀식을 작성하시오. \n",
    "#------------------------------------------------------------------------------------------------"
   ]
  },
  {
   "cell_type": "code",
   "execution_count": 64,
   "id": "795c59a1",
   "metadata": {},
   "outputs": [
    {
     "name": "stdout",
     "output_type": "stream",
     "text": [
      "1668.6474655138295\n",
      "1667.8293197461587\n",
      "1720.0875089437056\n",
      "1913.9295396783903\n",
      "1666.6805971176161\n",
      "1736.5803895792037\n",
      "1680.403099967904\n",
      "1791.432449605461\n"
     ]
    }
   ],
   "source": [
    "print(smf.ols(\"Sales ~ CompPrice + Income + Advertising + Population + Price + Age + Education\", data = df).fit().aic)\n",
    "print(smf.ols(\"Sales ~ CompPrice + Income + Advertising + Population + Price + Age\", data = df).fit().aic)\n",
    "print(smf.ols(\"Sales ~ CompPrice + Income + Advertising + Population + Price + Education\", data = df).fit().aic)\n",
    "print(smf.ols(\"Sales ~ CompPrice + Income + Advertising + Population + Age + Education\", data = df).fit().aic)\n",
    "print(smf.ols(\"Sales ~ CompPrice + Income + Advertising + Price + Age + Education\", data = df).fit().aic)\n",
    "print(smf.ols(\"Sales ~ CompPrice + Income + Population + Price + Age + Education\", data = df).fit().aic)\n",
    "print(smf.ols(\"Sales ~ CompPrice + Advertising + Population + Price + Age + Education\", data = df).fit().aic)\n",
    "print(smf.ols(\"Sales ~ Income + Advertising + Population + Price + Age + Education\", data = df).fit().aic)"
   ]
  },
  {
   "cell_type": "code",
   "execution_count": 65,
   "id": "3216dd40",
   "metadata": {},
   "outputs": [
    {
     "name": "stdout",
     "output_type": "stream",
     "text": [
      "1666.6805971176161\n",
      "1665.83456851915\n",
      "1718.1232304446967\n",
      "1912.260478339565\n",
      "1738.561304934372\n",
      "1678.503967303332\n",
      "1790.8127336179487\n"
     ]
    }
   ],
   "source": [
    "print(smf.ols(\"Sales ~ CompPrice + Income + Advertising + Price + Age + Education\", data = df).fit().aic)\n",
    "print(smf.ols(\"Sales ~ CompPrice + Income + Advertising + Price + Age\", data = df).fit().aic)\n",
    "print(smf.ols(\"Sales ~ CompPrice + Income + Advertising + Price + Education\", data = df).fit().aic)\n",
    "print(smf.ols(\"Sales ~ CompPrice + Income + Advertising + Age + Education\", data = df).fit().aic)\n",
    "print(smf.ols(\"Sales ~ CompPrice + Income + Price + Age + Education\", data = df).fit().aic)\n",
    "print(smf.ols(\"Sales ~ CompPrice + Advertising + Price + Age + Education\", data = df).fit().aic)\n",
    "print(smf.ols(\"Sales ~ Income + Advertising + Price + Age + Education\", data = df).fit().aic)\n"
   ]
  },
  {
   "cell_type": "code",
   "execution_count": 66,
   "id": "1ab98d5b",
   "metadata": {},
   "outputs": [
    {
     "name": "stdout",
     "output_type": "stream",
     "text": [
      "1665.83456851915\n",
      "1717.251001113229\n",
      "1910.8460525231067\n",
      "1738.0581415372485\n",
      "1678.074227488973\n",
      "1789.3471574750265\n"
     ]
    }
   ],
   "source": [
    "print(smf.ols(\"Sales ~ CompPrice + Income + Advertising + Price + Age\", data = df).fit().aic)\n",
    "print(smf.ols(\"Sales ~ CompPrice + Income + Advertising + Price\", data = df).fit().aic)\n",
    "print(smf.ols(\"Sales ~ CompPrice + Income + Advertising + Age\", data = df).fit().aic)\n",
    "print(smf.ols(\"Sales ~ CompPrice + Income + Price + Age\", data = df).fit().aic)\n",
    "print(smf.ols(\"Sales ~ CompPrice + Advertising + Price + Age\", data = df).fit().aic)\n",
    "print(smf.ols(\"Sales ~ Income + Advertising + Price + Age\", data = df).fit().aic)\n"
   ]
  },
  {
   "cell_type": "code",
   "execution_count": 67,
   "id": "9134fc1a",
   "metadata": {},
   "outputs": [
    {
     "data": {
      "text/html": [
       "<table class=\"simpletable\">\n",
       "<caption>OLS Regression Results</caption>\n",
       "<tr>\n",
       "  <th>Dep. Variable:</th>          <td>Sales</td>      <th>  R-squared:         </th> <td>   0.540</td>\n",
       "</tr>\n",
       "<tr>\n",
       "  <th>Model:</th>                   <td>OLS</td>       <th>  Adj. R-squared:    </th> <td>   0.534</td>\n",
       "</tr>\n",
       "<tr>\n",
       "  <th>Method:</th>             <td>Least Squares</td>  <th>  F-statistic:       </th> <td>   92.62</td>\n",
       "</tr>\n",
       "<tr>\n",
       "  <th>Date:</th>             <td>Sat, 22 Jan 2022</td> <th>  Prob (F-statistic):</th> <td>2.70e-64</td>\n",
       "</tr>\n",
       "<tr>\n",
       "  <th>Time:</th>                 <td>14:07:22</td>     <th>  Log-Likelihood:    </th> <td> -826.92</td>\n",
       "</tr>\n",
       "<tr>\n",
       "  <th>No. Observations:</th>      <td>   400</td>      <th>  AIC:               </th> <td>   1666.</td>\n",
       "</tr>\n",
       "<tr>\n",
       "  <th>Df Residuals:</th>          <td>   394</td>      <th>  BIC:               </th> <td>   1690.</td>\n",
       "</tr>\n",
       "<tr>\n",
       "  <th>Df Model:</th>              <td>     5</td>      <th>                     </th>     <td> </td>   \n",
       "</tr>\n",
       "<tr>\n",
       "  <th>Covariance Type:</th>      <td>nonrobust</td>    <th>                     </th>     <td> </td>   \n",
       "</tr>\n",
       "</table>\n",
       "<table class=\"simpletable\">\n",
       "<tr>\n",
       "       <td></td>          <th>coef</th>     <th>std err</th>      <th>t</th>      <th>P>|t|</th>  <th>[0.025</th>    <th>0.975]</th>  \n",
       "</tr>\n",
       "<tr>\n",
       "  <th>Intercept</th>   <td>    7.1092</td> <td>    0.944</td> <td>    7.531</td> <td> 0.000</td> <td>    5.253</td> <td>    8.965</td>\n",
       "</tr>\n",
       "<tr>\n",
       "  <th>CompPrice</th>   <td>    0.0939</td> <td>    0.008</td> <td>   12.051</td> <td> 0.000</td> <td>    0.079</td> <td>    0.109</td>\n",
       "</tr>\n",
       "<tr>\n",
       "  <th>Income</th>      <td>    0.0131</td> <td>    0.003</td> <td>    3.779</td> <td> 0.000</td> <td>    0.006</td> <td>    0.020</td>\n",
       "</tr>\n",
       "<tr>\n",
       "  <th>Advertising</th> <td>    0.1306</td> <td>    0.015</td> <td>    8.963</td> <td> 0.000</td> <td>    0.102</td> <td>    0.159</td>\n",
       "</tr>\n",
       "<tr>\n",
       "  <th>Price</th>       <td>   -0.0925</td> <td>    0.005</td> <td>  -18.347</td> <td> 0.000</td> <td>   -0.102</td> <td>   -0.083</td>\n",
       "</tr>\n",
       "<tr>\n",
       "  <th>Age</th>         <td>   -0.0450</td> <td>    0.006</td> <td>   -7.503</td> <td> 0.000</td> <td>   -0.057</td> <td>   -0.033</td>\n",
       "</tr>\n",
       "</table>\n",
       "<table class=\"simpletable\">\n",
       "<tr>\n",
       "  <th>Omnibus:</th>       <td> 9.073</td> <th>  Durbin-Watson:     </th> <td>   1.963</td>\n",
       "</tr>\n",
       "<tr>\n",
       "  <th>Prob(Omnibus):</th> <td> 0.011</td> <th>  Jarque-Bera (JB):  </th> <td>   8.154</td>\n",
       "</tr>\n",
       "<tr>\n",
       "  <th>Skew:</th>          <td> 0.288</td> <th>  Prob(JB):          </th> <td>  0.0170</td>\n",
       "</tr>\n",
       "<tr>\n",
       "  <th>Kurtosis:</th>      <td> 2.602</td> <th>  Cond. No.          </th> <td>1.89e+03</td>\n",
       "</tr>\n",
       "</table><br/><br/>Notes:<br/>[1] Standard Errors assume that the covariance matrix of the errors is correctly specified.<br/>[2] The condition number is large, 1.89e+03. This might indicate that there are<br/>strong multicollinearity or other numerical problems."
      ],
      "text/plain": [
       "<class 'statsmodels.iolib.summary.Summary'>\n",
       "\"\"\"\n",
       "                            OLS Regression Results                            \n",
       "==============================================================================\n",
       "Dep. Variable:                  Sales   R-squared:                       0.540\n",
       "Model:                            OLS   Adj. R-squared:                  0.534\n",
       "Method:                 Least Squares   F-statistic:                     92.62\n",
       "Date:                Sat, 22 Jan 2022   Prob (F-statistic):           2.70e-64\n",
       "Time:                        14:07:22   Log-Likelihood:                -826.92\n",
       "No. Observations:                 400   AIC:                             1666.\n",
       "Df Residuals:                     394   BIC:                             1690.\n",
       "Df Model:                           5                                         \n",
       "Covariance Type:            nonrobust                                         \n",
       "===============================================================================\n",
       "                  coef    std err          t      P>|t|      [0.025      0.975]\n",
       "-------------------------------------------------------------------------------\n",
       "Intercept       7.1092      0.944      7.531      0.000       5.253       8.965\n",
       "CompPrice       0.0939      0.008     12.051      0.000       0.079       0.109\n",
       "Income          0.0131      0.003      3.779      0.000       0.006       0.020\n",
       "Advertising     0.1306      0.015      8.963      0.000       0.102       0.159\n",
       "Price          -0.0925      0.005    -18.347      0.000      -0.102      -0.083\n",
       "Age            -0.0450      0.006     -7.503      0.000      -0.057      -0.033\n",
       "==============================================================================\n",
       "Omnibus:                        9.073   Durbin-Watson:                   1.963\n",
       "Prob(Omnibus):                  0.011   Jarque-Bera (JB):                8.154\n",
       "Skew:                           0.288   Prob(JB):                       0.0170\n",
       "Kurtosis:                       2.602   Cond. No.                     1.89e+03\n",
       "==============================================================================\n",
       "\n",
       "Notes:\n",
       "[1] Standard Errors assume that the covariance matrix of the errors is correctly specified.\n",
       "[2] The condition number is large, 1.89e+03. This might indicate that there are\n",
       "strong multicollinearity or other numerical problems.\n",
       "\"\"\""
      ]
     },
     "execution_count": 67,
     "metadata": {},
     "output_type": "execute_result"
    }
   ],
   "source": [
    "import numpy as np\n",
    "import statsmodels.api as sm\n",
    "import statsmodels.formula.api as smf\n",
    "\n",
    "model = smf.ols(formula = \"Sales ~ CompPrice + Income + Advertising + Price + Age\", data = df)\n",
    "result = model.fit()\n",
    "result.summary()"
   ]
  },
  {
   "cell_type": "markdown",
   "id": "c924d3ff",
   "metadata": {},
   "source": [
    "## Q3 해설"
   ]
  },
  {
   "cell_type": "markdown",
   "id": "856f362c",
   "metadata": {},
   "source": [
    "OLD model에서 후진소거법으로 가장 작은 AIC 벌점을 가진 모델을 추정한 결과\n",
    "> \"Sales ~ CompPrice + Income + Advertising + Price + Age\"\n",
    ">\n",
    "위와 같으며, 이 때의 AIC는 1665.83456851915"
   ]
  },
  {
   "cell_type": "markdown",
   "id": "127a6917",
   "metadata": {},
   "source": [
    "# Q4"
   ]
  },
  {
   "cell_type": "code",
   "execution_count": 5,
   "id": "70122481",
   "metadata": {},
   "outputs": [],
   "source": [
    "#------------------------------------------------------------------------------------------------\n",
    "# Q4)  앞서 생성한 회귀모델에 대해 해석하시오.\n",
    "#------------------------------------------------------------------------------------------------"
   ]
  },
  {
   "cell_type": "markdown",
   "id": "abb4353f",
   "metadata": {},
   "source": [
    "## Q4 해설"
   ]
  },
  {
   "cell_type": "markdown",
   "id": "10df4599",
   "metadata": {},
   "source": [
    "위 다중선형회귀 모델에 대한 F통계량에 대한 p-value는 2.70e-64 로 유의수준 0.05에 비해 매우 낮으므로, 통계적으로 유의한 모델이라고 할 수 있다.  \n",
    "다중선형회귀의 수정된 R2 계수는 0.534로 모델이 데이터의 약 53%를 설명한다고 볼 수 있어, 설명력이 매우 높은 것은 아니다.  \n",
    "각 독립변수의 계수 모두 t통계량에 대한 p-value가 0.05보다 매우 낮으므로, 추정된 모든 계수 또한 유의하다고 할 수 있다.  \n",
    "독립변수 중, coef의 크기가 가장 큰 순서대로, Advertising > CompPrice > Price > Age > Income 순으로 영향력이 크다고 할 수 있고,  \n",
    "이중, Advertising, CompPrice, Income이 커질수록 Sales가 높아지는 경향이 있고,  \n",
    "Price, Age가 낮아질수록 Sales가 높아지는 경향이 있다."
   ]
  }
 ],
 "metadata": {
  "kernelspec": {
   "display_name": "Python 3 (ipykernel)",
   "language": "python",
   "name": "python3"
  },
  "language_info": {
   "codemirror_mode": {
    "name": "ipython",
    "version": 3
   },
   "file_extension": ".py",
   "mimetype": "text/x-python",
   "name": "python",
   "nbconvert_exporter": "python",
   "pygments_lexer": "ipython3",
   "version": "3.7.11"
  },
  "toc": {
   "base_numbering": 1,
   "nav_menu": {},
   "number_sections": true,
   "sideBar": true,
   "skip_h1_title": false,
   "title_cell": "Table of Contents",
   "title_sidebar": "Contents",
   "toc_cell": false,
   "toc_position": {},
   "toc_section_display": true,
   "toc_window_display": true
  }
 },
 "nbformat": 4,
 "nbformat_minor": 5
}
