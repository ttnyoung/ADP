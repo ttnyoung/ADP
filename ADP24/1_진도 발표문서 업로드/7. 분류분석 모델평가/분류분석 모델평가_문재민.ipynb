{
 "cells": [
  {
   "cell_type": "markdown",
   "id": "1505ecdd",
   "metadata": {},
   "source": [
    "목차\n",
    "1. 분류분석 평가 방법들\n",
    "1. https://scikit-learn.org/stable/modules/model_evaluation.html\n"
   ]
  },
  {
   "cell_type": "code",
   "execution_count": 19,
   "id": "9a6ed4bb",
   "metadata": {},
   "outputs": [
    {
     "name": "stdout",
     "output_type": "stream",
     "text": [
      "range(2, 40, 2)\n"
     ]
    }
   ],
   "source": [
    "print(range(2,40,2))"
   ]
  },
  {
   "cell_type": "code",
   "execution_count": 20,
   "id": "ba428a72",
   "metadata": {},
   "outputs": [
    {
     "data": {
      "text/plain": [
       "(2, 40, 2)"
      ]
     },
     "execution_count": 20,
     "metadata": {},
     "output_type": "execute_result"
    }
   ],
   "source": [
    "(2,40,2)"
   ]
  },
  {
   "cell_type": "markdown",
   "id": "2960592d",
   "metadata": {},
   "source": [
    "교차 검증  \n",
    "https://m.blog.naver.com/ckdgus1433/221599517834\n",
    "\n",
    "교차 검증을 왜 사용하는가?\n",
    "- Train / Test 으로 나누게 되면 Test 는 모델링에 반영되지 않음\n",
    "- 제공된 모든 데이터를 Train으로 사용하고자 함\n",
    "- Train / Test 으로 한번만 나누지 말고, 동적으로 여러가지 케이스로 나누고, 학습, 검증\n",
    "- 나눠진 Test 케이스가 모든 데이터를 포함할 때까지 반복\n",
    "- 계산량이 많아짐\n",
    "\n",
    "1. 데이터셋\n",
    "![python image2](https://mblogthumb-phinf.pstatic.net/MjAxOTA3MjVfMTg4/MDAxNTY0MDU5OTMyMzMy.xptymihN3pg06c5NgVEw6UHWzxeukdnQjSKHNaE3uosg.PQNoW2yYZuVMeRmzY8Daxp8msWCgrdLlsa1pmiqMxvEg.PNG.ckdgus1433/image.png?type=w800)\n",
    "\n",
    "1. 홀드아웃\n",
    "![python image2](https://mblogthumb-phinf.pstatic.net/MjAxOTA3MjVfMjUw/MDAxNTY0MDY0MjA3NTk1.iOrZkLYld_wuQ51TjJPpdiQcISFG3KeukqD1OuEfSP0g.e4tmacb2eMG19lDbGlIJ91dmukNe1R_3zZLsMfDXuN8g.PNG.ckdgus1433/image.png?type=w800)\n",
    "\n",
    "1. k-fold\n",
    "![python image2](https://mblogthumb-phinf.pstatic.net/MjAxOTA3MjVfMTYz/MDAxNTY0MDY1ODk4NTM0.HiTh5fw3_Fulbq6dv1iLrxS7EmEM4htsWC-5fh-TiGAg.5rbp2nHtWYOZvzoN-Kl4mCKF4nZ4rd5bmO_IDh-sieAg.PNG.ckdgus1433/image.png?type=w800)\n",
    "\n",
    "1. 리브-p-아웃 교차 검증 \n",
    "![python image2](https://mblogthumb-phinf.pstatic.net/MjAxOTA3MjZfNCAg/MDAxNTY0MDY4NzA4MTEy.WMv-qZ490weZMjteert-trU-zIXBeX6wUs19A0Fo5RAg.KqxSpltjlbeYUTjj1d_V-HdPjYlzms_pKUmsJ1PipL0g.PNG.ckdgus1433/image.png?type=w800)\n",
    "\n",
    "1. k-fold + stratify\n",
    "![python image2](https://mblogthumb-phinf.pstatic.net/MjAxOTA3MjlfMiAg/MDAxNTY0NDA5MTY4MTkw.IlCY5_N8e3Qw1lU5DDufL0G1DYzIoWRgBDLlr4BY9JAg.qlE19XgVRk2CcFYTYZ7zHcuKtKjh8eQ-a4WYPhpE7V4g.PNG.ckdgus1433/image.png?type=w800)"
   ]
  },
  {
   "cell_type": "markdown",
   "id": "fa51c41d",
   "metadata": {},
   "source": [
    "# 평가 방법 (지도 학습)\n",
    "- 오분류표 (confusion matrix)\n",
    "- 분석지표  \n",
    "print(\"Acuuracy : \", accuracy_score(y_test, y_pred))  \n",
    "print(\"Sensitivity(recall) : \", recall_score(y_test, y_pred))  \n",
    "print(\"precision_score : \", precision_score(y_test, y_pred))  \n",
    "print(\"f1_score : \", f1_score(y_test, y_pred))  \n",
    "- ROC 그래프  \n",
    "roc_auc_score(y_test,y_pred_proba)\n",
    "\n",
    "> https://scikit-learn.org/stable/modules/model_evaluation.html\n",
    ">"
   ]
  },
  {
   "cell_type": "markdown",
   "id": "ceec8a25",
   "metadata": {},
   "source": [
    "## 분류 분석"
   ]
  },
  {
   "cell_type": "markdown",
   "id": "cc9890b1",
   "metadata": {},
   "source": [
    "### 로지스틱 회귀분석\n",
    "* 타이타닉 survived (0과 1의 값을 가짐) 예측"
   ]
  },
  {
   "cell_type": "code",
   "execution_count": 1,
   "id": "7e8e7d28",
   "metadata": {},
   "outputs": [
    {
     "name": "stdout",
     "output_type": "stream",
     "text": [
      "<class 'pandas.core.frame.DataFrame'>\n",
      "RangeIndex: 891 entries, 0 to 890\n",
      "Data columns (total 11 columns):\n",
      " #   Column       Non-Null Count  Dtype  \n",
      "---  ------       --------------  -----  \n",
      " 0   survived     891 non-null    int64  \n",
      " 1   pclass       891 non-null    int64  \n",
      " 2   sex          891 non-null    object \n",
      " 3   age          714 non-null    float64\n",
      " 4   sibsp        891 non-null    int64  \n",
      " 5   parch        891 non-null    int64  \n",
      " 6   fare         891 non-null    float64\n",
      " 7   embarked     889 non-null    object \n",
      " 8   class        891 non-null    object \n",
      " 9   adult_male   891 non-null    bool   \n",
      " 10  embark_town  889 non-null    object \n",
      "dtypes: bool(1), float64(2), int64(4), object(4)\n",
      "memory usage: 70.6+ KB\n"
     ]
    }
   ],
   "source": [
    "import pandas as pd\n",
    "import numpy as np\n",
    "\n",
    "df_t = pd.read_csv(\"/Users/hmc/Documents/GitHub/ADP/class101/data/titanic.csv\")\n",
    "df_t.info()"
   ]
  },
  {
   "cell_type": "markdown",
   "id": "4248180d",
   "metadata": {},
   "source": [
    "X: pclass, age, sibsp, parch, fare, adult_male  \n",
    "y: survived"
   ]
  },
  {
   "cell_type": "code",
   "execution_count": 2,
   "id": "d52a243b",
   "metadata": {},
   "outputs": [
    {
     "name": "stdout",
     "output_type": "stream",
     "text": [
      "(498, 5) (214, 5) (498, 1) (214, 1)\n"
     ]
    }
   ],
   "source": [
    "df_t = df_t.dropna()\n",
    "y = df_t[['survived']]\n",
    "X = df_t[['pclass', 'age', 'sibsp', 'parch', 'fare']]\n",
    "\n",
    "from sklearn.model_selection import train_test_split\n",
    "\n",
    "X_train, X_test, y_train, y_test = train_test_split(X, y, stratify=y, train_size=0.7,\n",
    "                                                   test_size = 0.3, random_state=123)\n",
    "print(X_train.shape, X_test.shape, y_train.shape, y_test.shape)"
   ]
  },
  {
   "cell_type": "code",
   "execution_count": 3,
   "id": "500a8e48",
   "metadata": {},
   "outputs": [
    {
     "data": {
      "text/html": [
       "<div>\n",
       "<style scoped>\n",
       "    .dataframe tbody tr th:only-of-type {\n",
       "        vertical-align: middle;\n",
       "    }\n",
       "\n",
       "    .dataframe tbody tr th {\n",
       "        vertical-align: top;\n",
       "    }\n",
       "\n",
       "    .dataframe thead th {\n",
       "        text-align: right;\n",
       "    }\n",
       "</style>\n",
       "<table border=\"1\" class=\"dataframe\">\n",
       "  <thead>\n",
       "    <tr style=\"text-align: right;\">\n",
       "      <th></th>\n",
       "      <th>pclass</th>\n",
       "      <th>age</th>\n",
       "      <th>sibsp</th>\n",
       "      <th>parch</th>\n",
       "      <th>fare</th>\n",
       "    </tr>\n",
       "  </thead>\n",
       "  <tbody>\n",
       "    <tr>\n",
       "      <th>0</th>\n",
       "      <td>3</td>\n",
       "      <td>22.0</td>\n",
       "      <td>1</td>\n",
       "      <td>0</td>\n",
       "      <td>7.2500</td>\n",
       "    </tr>\n",
       "    <tr>\n",
       "      <th>1</th>\n",
       "      <td>1</td>\n",
       "      <td>38.0</td>\n",
       "      <td>1</td>\n",
       "      <td>0</td>\n",
       "      <td>71.2833</td>\n",
       "    </tr>\n",
       "    <tr>\n",
       "      <th>2</th>\n",
       "      <td>3</td>\n",
       "      <td>26.0</td>\n",
       "      <td>0</td>\n",
       "      <td>0</td>\n",
       "      <td>7.9250</td>\n",
       "    </tr>\n",
       "    <tr>\n",
       "      <th>3</th>\n",
       "      <td>1</td>\n",
       "      <td>35.0</td>\n",
       "      <td>1</td>\n",
       "      <td>0</td>\n",
       "      <td>53.1000</td>\n",
       "    </tr>\n",
       "    <tr>\n",
       "      <th>4</th>\n",
       "      <td>3</td>\n",
       "      <td>35.0</td>\n",
       "      <td>0</td>\n",
       "      <td>0</td>\n",
       "      <td>8.0500</td>\n",
       "    </tr>\n",
       "    <tr>\n",
       "      <th>...</th>\n",
       "      <td>...</td>\n",
       "      <td>...</td>\n",
       "      <td>...</td>\n",
       "      <td>...</td>\n",
       "      <td>...</td>\n",
       "    </tr>\n",
       "    <tr>\n",
       "      <th>885</th>\n",
       "      <td>3</td>\n",
       "      <td>39.0</td>\n",
       "      <td>0</td>\n",
       "      <td>5</td>\n",
       "      <td>29.1250</td>\n",
       "    </tr>\n",
       "    <tr>\n",
       "      <th>886</th>\n",
       "      <td>2</td>\n",
       "      <td>27.0</td>\n",
       "      <td>0</td>\n",
       "      <td>0</td>\n",
       "      <td>13.0000</td>\n",
       "    </tr>\n",
       "    <tr>\n",
       "      <th>887</th>\n",
       "      <td>1</td>\n",
       "      <td>19.0</td>\n",
       "      <td>0</td>\n",
       "      <td>0</td>\n",
       "      <td>30.0000</td>\n",
       "    </tr>\n",
       "    <tr>\n",
       "      <th>889</th>\n",
       "      <td>1</td>\n",
       "      <td>26.0</td>\n",
       "      <td>0</td>\n",
       "      <td>0</td>\n",
       "      <td>30.0000</td>\n",
       "    </tr>\n",
       "    <tr>\n",
       "      <th>890</th>\n",
       "      <td>3</td>\n",
       "      <td>32.0</td>\n",
       "      <td>0</td>\n",
       "      <td>0</td>\n",
       "      <td>7.7500</td>\n",
       "    </tr>\n",
       "  </tbody>\n",
       "</table>\n",
       "<p>712 rows × 5 columns</p>\n",
       "</div>"
      ],
      "text/plain": [
       "     pclass   age  sibsp  parch     fare\n",
       "0         3  22.0      1      0   7.2500\n",
       "1         1  38.0      1      0  71.2833\n",
       "2         3  26.0      0      0   7.9250\n",
       "3         1  35.0      1      0  53.1000\n",
       "4         3  35.0      0      0   8.0500\n",
       "..      ...   ...    ...    ...      ...\n",
       "885       3  39.0      0      5  29.1250\n",
       "886       2  27.0      0      0  13.0000\n",
       "887       1  19.0      0      0  30.0000\n",
       "889       1  26.0      0      0  30.0000\n",
       "890       3  32.0      0      0   7.7500\n",
       "\n",
       "[712 rows x 5 columns]"
      ]
     },
     "execution_count": 3,
     "metadata": {},
     "output_type": "execute_result"
    }
   ],
   "source": [
    "X"
   ]
  },
  {
   "cell_type": "code",
   "execution_count": 4,
   "id": "4392d464",
   "metadata": {},
   "outputs": [
    {
     "name": "stdout",
     "output_type": "stream",
     "text": [
      "Optimization terminated successfully.\n",
      "         Current function value: 0.592323\n",
      "         Iterations 6\n"
     ]
    }
   ],
   "source": [
    "import statsmodels.api as sm\n",
    "model = sm.Logit(y_train, X_train)\n",
    "result = model.fit()"
   ]
  },
  {
   "cell_type": "code",
   "execution_count": 5,
   "id": "abc3cc02",
   "metadata": {},
   "outputs": [],
   "source": [
    "# 오분류표"
   ]
  },
  {
   "cell_type": "code",
   "execution_count": 6,
   "id": "7c7a8c03",
   "metadata": {},
   "outputs": [
    {
     "name": "stdout",
     "output_type": "stream",
     "text": [
      "[[113  14]\n",
      " [ 63  24]]\n",
      "TN, FP\n",
      "FN, TP\n"
     ]
    }
   ],
   "source": [
    "from sklearn.metrics import confusion_matrix, accuracy_score, recall_score, precision_score, f1_score, classification_report\n",
    "\n",
    "y_predict = result.predict(X_test[result.params.index])\n",
    "y_predict = round(y_predict)\n",
    "cm = confusion_matrix(y_test,y_predict)\n",
    "print(cm)\n",
    "print(\"TN, FP\")\n",
    "print(\"FN, TP\")"
   ]
  },
  {
   "cell_type": "markdown",
   "id": "c7eef694",
   "metadata": {},
   "source": [
    "    Thus in binary classification, the count of true negatives is\n",
    "    :math:`C_{0,0}`, false negatives is :math:`C_{1,0}`, true positives is\n",
    "    :math:`C_{1,1}` and false positives is :math:`C_{0,1}`.\n"
   ]
  },
  {
   "cell_type": "code",
   "execution_count": 7,
   "id": "e34281ab",
   "metadata": {},
   "outputs": [
    {
     "name": "stdout",
     "output_type": "stream",
     "text": [
      "Help on function confusion_matrix in module sklearn.metrics._classification:\n",
      "\n",
      "confusion_matrix(y_true, y_pred, *, labels=None, sample_weight=None, normalize=None)\n",
      "    Compute confusion matrix to evaluate the accuracy of a classification.\n",
      "    \n",
      "    By definition a confusion matrix :math:`C` is such that :math:`C_{i, j}`\n",
      "    is equal to the number of observations known to be in group :math:`i` and\n",
      "    predicted to be in group :math:`j`.\n",
      "    \n",
      "    Thus in binary classification, the count of true negatives is\n",
      "    :math:`C_{0,0}`, false negatives is :math:`C_{1,0}`, true positives is\n",
      "    :math:`C_{1,1}` and false positives is :math:`C_{0,1}`.\n",
      "    \n",
      "    Read more in the :ref:`User Guide <confusion_matrix>`.\n",
      "    \n",
      "    Parameters\n",
      "    ----------\n",
      "    y_true : array-like of shape (n_samples,)\n",
      "        Ground truth (correct) target values.\n",
      "    \n",
      "    y_pred : array-like of shape (n_samples,)\n",
      "        Estimated targets as returned by a classifier.\n",
      "    \n",
      "    labels : array-like of shape (n_classes), default=None\n",
      "        List of labels to index the matrix. This may be used to reorder\n",
      "        or select a subset of labels.\n",
      "        If ``None`` is given, those that appear at least once\n",
      "        in ``y_true`` or ``y_pred`` are used in sorted order.\n",
      "    \n",
      "    sample_weight : array-like of shape (n_samples,), default=None\n",
      "        Sample weights.\n",
      "    \n",
      "        .. versionadded:: 0.18\n",
      "    \n",
      "    normalize : {'true', 'pred', 'all'}, default=None\n",
      "        Normalizes confusion matrix over the true (rows), predicted (columns)\n",
      "        conditions or all the population. If None, confusion matrix will not be\n",
      "        normalized.\n",
      "    \n",
      "    Returns\n",
      "    -------\n",
      "    C : ndarray of shape (n_classes, n_classes)\n",
      "        Confusion matrix whose i-th row and j-th\n",
      "        column entry indicates the number of\n",
      "        samples with true label being i-th class\n",
      "        and predicted label being j-th class.\n",
      "    \n",
      "    See Also\n",
      "    --------\n",
      "    ConfusionMatrixDisplay.from_estimator : Plot the confusion matrix\n",
      "        given an estimator, the data, and the label.\n",
      "    ConfusionMatrixDisplay.from_predictions : Plot the confusion matrix\n",
      "        given the true and predicted labels.\n",
      "    ConfusionMatrixDisplay : Confusion Matrix visualization.\n",
      "    \n",
      "    References\n",
      "    ----------\n",
      "    .. [1] `Wikipedia entry for the Confusion matrix\n",
      "           <https://en.wikipedia.org/wiki/Confusion_matrix>`_\n",
      "           (Wikipedia and other references may use a different\n",
      "           convention for axes).\n",
      "    \n",
      "    Examples\n",
      "    --------\n",
      "    >>> from sklearn.metrics import confusion_matrix\n",
      "    >>> y_true = [2, 0, 2, 2, 0, 1]\n",
      "    >>> y_pred = [0, 0, 2, 2, 0, 2]\n",
      "    >>> confusion_matrix(y_true, y_pred)\n",
      "    array([[2, 0, 0],\n",
      "           [0, 0, 1],\n",
      "           [1, 0, 2]])\n",
      "    \n",
      "    >>> y_true = [\"cat\", \"ant\", \"cat\", \"cat\", \"ant\", \"bird\"]\n",
      "    >>> y_pred = [\"ant\", \"ant\", \"cat\", \"cat\", \"ant\", \"cat\"]\n",
      "    >>> confusion_matrix(y_true, y_pred, labels=[\"ant\", \"bird\", \"cat\"])\n",
      "    array([[2, 0, 0],\n",
      "           [0, 0, 1],\n",
      "           [1, 0, 2]])\n",
      "    \n",
      "    In the binary case, we can extract true positives, etc as follows:\n",
      "    \n",
      "    >>> tn, fp, fn, tp = confusion_matrix([0, 1, 0, 1], [1, 1, 1, 0]).ravel()\n",
      "    >>> (tn, fp, fn, tp)\n",
      "    (0, 2, 1, 1)\n",
      "\n"
     ]
    }
   ],
   "source": [
    "help(confusion_matrix)"
   ]
  },
  {
   "cell_type": "code",
   "execution_count": 8,
   "id": "b7affdf7",
   "metadata": {},
   "outputs": [],
   "source": [
    "# 분석 지표"
   ]
  },
  {
   "cell_type": "code",
   "execution_count": 9,
   "id": "dec9359c",
   "metadata": {},
   "outputs": [
    {
     "data": {
      "text/plain": [
       "0.0    176\n",
       "1.0     38\n",
       "dtype: int64"
      ]
     },
     "execution_count": 9,
     "metadata": {},
     "output_type": "execute_result"
    }
   ],
   "source": [
    "# survived의 예측값 (0 또는 1)\n",
    "y_pred = round(result.predict(X_test))\n",
    "y_pred.value_counts()"
   ]
  },
  {
   "cell_type": "code",
   "execution_count": 10,
   "id": "40a116a8",
   "metadata": {},
   "outputs": [
    {
     "name": "stdout",
     "output_type": "stream",
     "text": [
      "[[113  14]\n",
      " [ 63  24]]\n",
      "TN, FP\n",
      "FN, TP\n",
      "\n",
      "\n",
      "Acuuracy :  0.6401869158878505\n",
      "옳게 예측한 확률, TP+TN / TOTAL \n",
      "\n",
      "Sensitivity(recall) :  0.27586206896551724\n",
      "True Positive Rate \n",
      "\n",
      "precision_score :  0.631578947368421\n",
      "정밀도, TP / TP + FP\n",
      "\n",
      "f1_score :  0.384\n",
      "2 * recall * precision / (recall + precision)\n",
      "불균형 데이터라서...f1을 쓰는게 바람직함. survived==0의 갯수가 1에 비해 훨씬 많음 = TN, FP 갯수가 높음\n"
     ]
    }
   ],
   "source": [
    "from sklearn.metrics import confusion_matrix, accuracy_score, recall_score, precision_score, f1_score\n",
    "\n",
    "print(cm)\n",
    "print(\"TN, FP\")\n",
    "print(\"FN, TP\")\n",
    "print(\"\\n\")\n",
    "print(\"Acuuracy : \", accuracy_score(y_test, y_pred))\n",
    "print(\"옳게 예측한 확률, TP+TN / TOTAL \\n\")\n",
    "\n",
    "print(\"Sensitivity(recall) : \", recall_score(y_test, y_pred))\n",
    "print(\"True Positive Rate \\n\")\n",
    "\n",
    "print(\"precision_score : \", precision_score(y_test, y_pred))\n",
    "print(\"정밀도, TP / TP + FP\\n\")\n",
    "\n",
    "print(\"f1_score : \", f1_score(y_test, y_pred))\n",
    "print(\"2 * recall * precision / (recall + precision)\")\n",
    "print(\"불균형 데이터라서...f1을 쓰는게 바람직함. survived==0의 갯수가 1에 비해 훨씬 많음 = TN, FP 갯수가 높음\")"
   ]
  },
  {
   "cell_type": "markdown",
   "id": "761acbcf",
   "metadata": {},
   "source": [
    "![python image2](https://mblogthumb-phinf.pstatic.net/20160517_61/ministyle7_1463464259433dFuKs_JPEG/%BB%EA%BC%FA%B1%E2%C7%CF%C6%F2%B1%D5.jpg?type=w2)"
   ]
  },
  {
   "cell_type": "code",
   "execution_count": 16,
   "id": "b7ab30b4",
   "metadata": {},
   "outputs": [
    {
     "name": "stdout",
     "output_type": "stream",
     "text": [
      "              precision    recall  f1-score   support\n",
      "\n",
      "           0       0.64      0.89      0.75       127\n",
      "           1       0.63      0.28      0.38        87\n",
      "\n",
      "    accuracy                           0.64       214\n",
      "   macro avg       0.64      0.58      0.56       214\n",
      "weighted avg       0.64      0.64      0.60       214\n",
      "\n"
     ]
    }
   ],
   "source": [
    "print(classification_report(y_test, y_pred))"
   ]
  },
  {
   "cell_type": "code",
   "execution_count": 11,
   "id": "125eaf8b",
   "metadata": {},
   "outputs": [],
   "source": [
    "# 교차 검증"
   ]
  },
  {
   "cell_type": "code",
   "execution_count": 12,
   "id": "b5ae5423",
   "metadata": {},
   "outputs": [
    {
     "name": "stdout",
     "output_type": "stream",
     "text": [
      "교차 검증별 정확도: [0.6084 0.6993 0.7254 0.7254 0.6972]\n",
      "평균 검증 정확도: 0.6911\n"
     ]
    },
    {
     "name": "stderr",
     "output_type": "stream",
     "text": [
      "/Users/hmc/opt/anaconda3/envs/ADP_Class/lib/python3.7/site-packages/sklearn/utils/validation.py:993: DataConversionWarning: A column-vector y was passed when a 1d array was expected. Please change the shape of y to (n_samples, ), for example using ravel().\n",
      "  y = column_or_1d(y, warn=True)\n",
      "/Users/hmc/opt/anaconda3/envs/ADP_Class/lib/python3.7/site-packages/sklearn/utils/validation.py:993: DataConversionWarning: A column-vector y was passed when a 1d array was expected. Please change the shape of y to (n_samples, ), for example using ravel().\n",
      "  y = column_or_1d(y, warn=True)\n",
      "/Users/hmc/opt/anaconda3/envs/ADP_Class/lib/python3.7/site-packages/sklearn/utils/validation.py:993: DataConversionWarning: A column-vector y was passed when a 1d array was expected. Please change the shape of y to (n_samples, ), for example using ravel().\n",
      "  y = column_or_1d(y, warn=True)\n",
      "/Users/hmc/opt/anaconda3/envs/ADP_Class/lib/python3.7/site-packages/sklearn/utils/validation.py:993: DataConversionWarning: A column-vector y was passed when a 1d array was expected. Please change the shape of y to (n_samples, ), for example using ravel().\n",
      "  y = column_or_1d(y, warn=True)\n",
      "/Users/hmc/opt/anaconda3/envs/ADP_Class/lib/python3.7/site-packages/sklearn/utils/validation.py:993: DataConversionWarning: A column-vector y was passed when a 1d array was expected. Please change the shape of y to (n_samples, ), for example using ravel().\n",
      "  y = column_or_1d(y, warn=True)\n"
     ]
    }
   ],
   "source": [
    "# 에스티메이터는 sklearn 객체만 가능함!\n",
    "from sklearn.model_selection import cross_val_score\n",
    "from sklearn.linear_model import LogisticRegression\n",
    "\n",
    "model = LogisticRegression()\n",
    "# 파라미터는 (모델, Traingdata의 feature, Trainingdata의 target, 폴드수) 이다.\n",
    "scores = cross_val_score(model, X , y ,cv=5)\n",
    "\n",
    "# Trainingdata에 대한 성능을 나타낸다.\n",
    "print('교차 검증별 정확도:',np.round(scores, 4))\n",
    "print('평균 검증 정확도:', np.round(np.mean(scores), 4))\n",
    "\n",
    "#https://wooono.tistory.com/105\n",
    "#https://scikit-learn.org/stable/modules/cross_validation.html"
   ]
  },
  {
   "cell_type": "code",
   "execution_count": null,
   "id": "5d8cbe54",
   "metadata": {},
   "outputs": [],
   "source": [
    "#model_grid_tree = GridSearchCV(DecisionTreeClassifier(), param_grid, cv=5)"
   ]
  },
  {
   "cell_type": "code",
   "execution_count": 13,
   "id": "34c94d6d",
   "metadata": {},
   "outputs": [],
   "source": [
    "# ROC 커브"
   ]
  },
  {
   "cell_type": "markdown",
   "id": "4b50e0b9",
   "metadata": {},
   "source": [
    "cm  \n",
    "[92 18]  \n",
    "[21 48]]\n",
    "\n",
    "TN FP  \n",
    "FN TP"
   ]
  },
  {
   "cell_type": "markdown",
   "id": "be85ff6a",
   "metadata": {},
   "source": [
    "ROC 커브 그릴때는 확률값임 (prob)\n",
    ">In the binary case, it corresponds to an array of shape (n_samples,). **Both probability estimates and non-thresholded decision values can be provided.** The probability estimates correspond to the probability of the class with the greater label, i.e. estimator.classes_[1] and thus estimator.predict_proba(X, y)[:, 1]. The decision values corresponds to the output of estimator.decision_function(X, y). See more information in the User guide;\n",
    "\n",
    ">In the multiclass case, it corresponds to an array of shape (n_samples, n_classes) of **probability estimates provided by the predict_proba method.** The probability estimates must sum to 1 across the possible classes. In addition, the order of the class scores must correspond to the order of labels, if provided, or else to the numerical or lexicographical order of the labels in y_true. See more information in the User guide;\n",
    "\n",
    ">In the multilabel case, it corresponds to an array of shape (n_samples, n_classes). **Probability estimates are provided by the predict_proba method and the non-thresholded decision values by the decision_function method.** The probability estimates correspond to the probability of the class with the greater label for each output of the classifier. See more information in the User guide.\n",
    "\n",
    "\"non-thresholded decision values\" 0 또는 1 값 아님  \n",
    ">You might be confused by the term \"non-thresholded decision-values\" but this does not describe predicted labels (rather decision functions like the ones you can find on support vector classification  \n",
    ">https://stackoverflow.com/questions/65275314/confusion-on-sklearns-roc-auc-score-method\n",
    ">"
   ]
  },
  {
   "cell_type": "code",
   "execution_count": 14,
   "id": "c09bd91b",
   "metadata": {},
   "outputs": [
    {
     "data": {
      "image/png": "[encoded data removed]",
      "text/plain": [
       "<Figure size 432x288 with 1 Axes>"
      ]
     },
     "metadata": {
      "needs_background": "light"
     },
     "output_type": "display_data"
    }
   ],
   "source": [
    "from sklearn.metrics import roc_curve, auc\n",
    "import matplotlib.pyplot as plt\n",
    "\n",
    "#확률값\n",
    "y_pred_proba = result.predict(X_test)\n",
    "\n",
    "fpr, tpr, thr = roc_curve(y_test, y_pred_proba)\n",
    "roc_auc = auc(fpr, tpr)\n",
    "\n",
    "plt.plot(fpr, tpr, label = \"ROC curve (area = %0.2f)\" % roc_auc)\n",
    "plt.plot([0, 1], [0, 1], linestyle='--')\n",
    "plt.xlabel(\"False Positive Rate, 1-specificity\")\n",
    "plt.ylabel(\"True Positive Rate, Sensitivity\")\n",
    "plt.show()"
   ]
  },
  {
   "cell_type": "code",
   "execution_count": 15,
   "id": "a1207d0f",
   "metadata": {},
   "outputs": [
    {
     "name": "stdout",
     "output_type": "stream",
     "text": [
      "roc_auc_score:  0.7213322472621956\n"
     ]
    }
   ],
   "source": [
    "# ROC 커브 아래 면적\n",
    "from sklearn.metrics import roc_auc_score\n",
    "\n",
    "y_pred_proba = result.predict(X_test)\n",
    "print(\"roc_auc_score: \", roc_auc_score(y_test,y_pred_proba))"
   ]
  },
  {
   "cell_type": "markdown",
   "id": "dbc81707",
   "metadata": {},
   "source": [
    "#### 정리\n",
    "* 필요한것\n",
    "    * model (sm, sklearn)\n",
    "    * confusion matrix\n",
    "    * 분석지표 (scores)\n",
    "    * ROC 커브\n",
    "    * AUC_ROC_SCORE\n",
    "* 교차 검증 (sklearn)\n",
    "    * k-fold"
   ]
  },
  {
   "cell_type": "markdown",
   "id": "cae6dff8",
   "metadata": {},
   "source": [
    "### 의사결정나무"
   ]
  },
  {
   "cell_type": "markdown",
   "id": "de00e1e5",
   "metadata": {},
   "source": [
    "### 앙상블"
   ]
  },
  {
   "cell_type": "markdown",
   "id": "72afca9e",
   "metadata": {},
   "source": [
    "#### 배깅"
   ]
  },
  {
   "cell_type": "markdown",
   "id": "8372a2d9",
   "metadata": {},
   "source": [
    "#### 랜덤포레스트"
   ]
  },
  {
   "cell_type": "markdown",
   "id": "c8ae29e7",
   "metadata": {},
   "source": [
    "#### 부스팅"
   ]
  },
  {
   "cell_type": "markdown",
   "id": "93e7601c",
   "metadata": {},
   "source": [
    "### 나이브베이즈 분류"
   ]
  },
  {
   "cell_type": "markdown",
   "id": "6a2b00f0",
   "metadata": {},
   "source": [
    "### KNN 분류기"
   ]
  },
  {
   "cell_type": "markdown",
   "id": "3a42a374",
   "metadata": {},
   "source": [
    "### SVM 분류기"
   ]
  },
  {
   "cell_type": "markdown",
   "id": "9270b426",
   "metadata": {},
   "source": [
    "### 인공신경망 분류"
   ]
  },
  {
   "cell_type": "markdown",
   "id": "cf27169a",
   "metadata": {},
   "source": [
    "## 회귀 분석"
   ]
  },
  {
   "cell_type": "code",
   "execution_count": null,
   "id": "736f2b6d",
   "metadata": {},
   "outputs": [],
   "source": []
  }
 ],
 "metadata": {
  "kernelspec": {
   "display_name": "Python 3 (ipykernel)",
   "language": "python",
   "name": "python3"
  },
  "language_info": {
   "codemirror_mode": {
    "name": "ipython",
    "version": 3
   },
   "file_extension": ".py",
   "mimetype": "text/x-python",
   "name": "python",
   "nbconvert_exporter": "python",
   "pygments_lexer": "ipython3",
   "version": "3.7.11"
  },
  "toc": {
   "base_numbering": 1,
   "nav_menu": {},
   "number_sections": true,
   "sideBar": true,
   "skip_h1_title": false,
   "title_cell": "Table of Contents",
   "title_sidebar": "Contents",
   "toc_cell": false,
   "toc_position": {},
   "toc_section_display": true,
   "toc_window_display": true
  }
 },
 "nbformat": 4,
 "nbformat_minor": 5
}
