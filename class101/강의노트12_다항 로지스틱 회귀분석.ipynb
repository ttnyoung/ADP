{
 "cells": [
  {
   "cell_type": "markdown",
   "metadata": {},
   "source": [
    "# 다항 로지스틱 회귀모형 실습"
   ]
  },
  {
   "cell_type": "markdown",
   "metadata": {},
   "source": [
    "__[예제]__   \n",
    "iris 데이터의 Species 를 분류하는 다항 로지스틱 회귀분석을 실시하고 오분류표를 만들어라"
   ]
  },
  {
   "cell_type": "code",
   "execution_count": 2,
   "metadata": {},
   "outputs": [],
   "source": [
    "import pandas as pd \n",
    "iris = pd.read_csv('./data/iris.csv')\n",
    "\n",
    "X = iris.drop(['target'],axis=1)\n",
    "y = iris.target"
   ]
  },
  {
   "cell_type": "code",
   "execution_count": 3,
   "metadata": {},
   "outputs": [
    {
     "data": {
      "text/plain": [
       "Iris-virginica     50\n",
       "Iris-setosa        50\n",
       "Iris-versicolor    50\n",
       "Name: target, dtype: int64"
      ]
     },
     "execution_count": 3,
     "metadata": {},
     "output_type": "execute_result"
    }
   ],
   "source": [
    "y.value_counts()"
   ]
  },
  {
   "cell_type": "code",
   "execution_count": 4,
   "metadata": {},
   "outputs": [
    {
     "name": "stdout",
     "output_type": "stream",
     "text": [
      "(105, 4) (45, 4) (105,) (45,)\n"
     ]
    }
   ],
   "source": [
    "# 훈련셋 평가셋 분리하기\n",
    "from sklearn.model_selection import train_test_split\n",
    "\n",
    "X_train, X_test, y_train, y_test = train_test_split(X, y, stratify=y, train_size=0.7,\n",
    "                                                   test_size = 0.3, random_state=123)\n",
    "print(X_train.shape, X_test.shape, y_train.shape, y_test.shape)"
   ]
  },
  {
   "cell_type": "markdown",
   "metadata": {},
   "source": [
    "**층화 추출을 위해 y 값을 기준으로 15:15:15개씩 1:1:1 비율로 샘플링이 되도록 stratify=y 적용**"
   ]
  },
  {
   "cell_type": "code",
   "execution_count": 5,
   "metadata": {},
   "outputs": [
    {
     "data": {
      "text/plain": [
       "Iris-setosa        15\n",
       "Iris-versicolor    15\n",
       "Iris-virginica     15\n",
       "Name: target, dtype: int64"
      ]
     },
     "execution_count": 5,
     "metadata": {},
     "output_type": "execute_result"
    }
   ],
   "source": [
    "y_test.value_counts()"
   ]
  },
  {
   "cell_type": "markdown",
   "metadata": {},
   "source": [
    "## sklearn 모델 생성\n",
    "\n",
    "* sklearn 모델은 l2 패널티를 이용하여 전통적 통계모델에서 다중공선성의 문제를 내부적으로 해결해준다. \n",
    "* 독립변수 간의 상관성이 높은 변수라면, l2패널티를 0에 가깝게하여 변수를 삭제하는 것과 같은 효과를 보인다. "
   ]
  },
  {
   "cell_type": "code",
   "execution_count": 6,
   "metadata": {
    "scrolled": true
   },
   "outputs": [
    {
     "name": "stdout",
     "output_type": "stream",
     "text": [
      "LogisticRegression()\n"
     ]
    },
    {
     "name": "stderr",
     "output_type": "stream",
     "text": [
      "/Users/hmc/opt/anaconda3/envs/ADP_Class/lib/python3.7/site-packages/sklearn/linear_model/_logistic.py:818: ConvergenceWarning: lbfgs failed to converge (status=1):\n",
      "STOP: TOTAL NO. of ITERATIONS REACHED LIMIT.\n",
      "\n",
      "Increase the number of iterations (max_iter) or scale the data as shown in:\n",
      "    https://scikit-learn.org/stable/modules/preprocessing.html\n",
      "Please also refer to the documentation for alternative solver options:\n",
      "    https://scikit-learn.org/stable/modules/linear_model.html#logistic-regression\n",
      "  extra_warning_msg=_LOGISTIC_SOLVER_CONVERGENCE_MSG,\n"
     ]
    }
   ],
   "source": [
    "# 모델 적합하기\n",
    "from sklearn.linear_model import LogisticRegression\n",
    "\n",
    "model = LogisticRegression()\n",
    "model.fit(X_train, y_train)\n",
    "print(model)"
   ]
  },
  {
   "cell_type": "markdown",
   "metadata": {},
   "source": [
    "## 모델 평가"
   ]
  },
  {
   "cell_type": "code",
   "execution_count": 7,
   "metadata": {
    "scrolled": true
   },
   "outputs": [
    {
     "data": {
      "text/html": [
       "<div>\n",
       "<style scoped>\n",
       "    .dataframe tbody tr th:only-of-type {\n",
       "        vertical-align: middle;\n",
       "    }\n",
       "\n",
       "    .dataframe tbody tr th {\n",
       "        vertical-align: top;\n",
       "    }\n",
       "\n",
       "    .dataframe thead th {\n",
       "        text-align: right;\n",
       "    }\n",
       "</style>\n",
       "<table border=\"1\" class=\"dataframe\">\n",
       "  <thead>\n",
       "    <tr style=\"text-align: right;\">\n",
       "      <th></th>\n",
       "      <th>prediected_setosa</th>\n",
       "      <th>predicted_versicolor</th>\n",
       "      <th>predicted_virginica</th>\n",
       "    </tr>\n",
       "  </thead>\n",
       "  <tbody>\n",
       "    <tr>\n",
       "      <th>setosa</th>\n",
       "      <td>15</td>\n",
       "      <td>0</td>\n",
       "      <td>0</td>\n",
       "    </tr>\n",
       "    <tr>\n",
       "      <th>versicolor</th>\n",
       "      <td>0</td>\n",
       "      <td>14</td>\n",
       "      <td>1</td>\n",
       "    </tr>\n",
       "    <tr>\n",
       "      <th>virginica</th>\n",
       "      <td>0</td>\n",
       "      <td>0</td>\n",
       "      <td>15</td>\n",
       "    </tr>\n",
       "  </tbody>\n",
       "</table>\n",
       "</div>"
      ],
      "text/plain": [
       "            prediected_setosa  predicted_versicolor  predicted_virginica\n",
       "setosa                     15                     0                    0\n",
       "versicolor                  0                    14                    1\n",
       "virginica                   0                     0                   15"
      ]
     },
     "execution_count": 7,
     "metadata": {},
     "output_type": "execute_result"
    }
   ],
   "source": [
    "from sklearn.metrics import classification_report, confusion_matrix, accuracy_score, roc_auc_score\n",
    "# 테스트셋 예측\n",
    "predicted = model.predict(X_test)\n",
    "\n",
    "# 오분류표 생성\n",
    "cm = confusion_matrix(y_test, predicted)\n",
    "cmtb = pd.DataFrame(cm, columns=['prediected_setosa', 'predicted_versicolor', 'predicted_virginica'],\n",
    "                   index = ['setosa', 'versicolor', 'virginica'])\n",
    "\n",
    "cmtb"
   ]
  },
  {
   "cell_type": "code",
   "execution_count": 8,
   "metadata": {},
   "outputs": [
    {
     "data": {
      "text/plain": [
       "array(['Iris-versicolor', 'Iris-virginica', 'Iris-versicolor',\n",
       "       'Iris-versicolor', 'Iris-virginica', 'Iris-setosa', 'Iris-setosa',\n",
       "       'Iris-versicolor', 'Iris-setosa', 'Iris-setosa', 'Iris-virginica',\n",
       "       'Iris-setosa', 'Iris-virginica', 'Iris-setosa', 'Iris-versicolor',\n",
       "       'Iris-setosa', 'Iris-virginica', 'Iris-virginica', 'Iris-setosa',\n",
       "       'Iris-setosa', 'Iris-setosa', 'Iris-setosa', 'Iris-setosa',\n",
       "       'Iris-versicolor', 'Iris-setosa', 'Iris-versicolor',\n",
       "       'Iris-virginica', 'Iris-setosa', 'Iris-versicolor',\n",
       "       'Iris-virginica', 'Iris-virginica', 'Iris-virginica',\n",
       "       'Iris-virginica', 'Iris-versicolor', 'Iris-versicolor',\n",
       "       'Iris-versicolor', 'Iris-virginica', 'Iris-virginica',\n",
       "       'Iris-virginica', 'Iris-setosa', 'Iris-virginica',\n",
       "       'Iris-versicolor', 'Iris-versicolor', 'Iris-virginica',\n",
       "       'Iris-versicolor'], dtype=object)"
      ]
     },
     "execution_count": 8,
     "metadata": {},
     "output_type": "execute_result"
    }
   ],
   "source": [
    " model.predict(X_test)"
   ]
  },
  {
   "cell_type": "code",
   "execution_count": 9,
   "metadata": {},
   "outputs": [
    {
     "data": {
      "text/plain": [
       "array([[1.19448762e-03, 5.20347546e-01, 4.78457966e-01],\n",
       "       [1.00927039e-05, 4.96991012e-02, 9.50290806e-01],\n",
       "       [4.31648245e-02, 9.33401279e-01, 2.34338969e-02],\n",
       "       [3.50877175e-03, 7.32085315e-01, 2.64405913e-01],\n",
       "       [2.47420590e-07, 4.75238205e-03, 9.95247371e-01],\n",
       "       [9.76994271e-01, 2.30056338e-02, 9.53058432e-08],\n",
       "       [9.84980826e-01, 1.50191435e-02, 3.08182336e-08],\n",
       "       [3.08308970e-03, 7.21546324e-01, 2.75370586e-01],\n",
       "       [9.81963936e-01, 1.80360053e-02, 5.83394153e-08],\n",
       "       [9.72865447e-01, 2.71344633e-02, 8.95182969e-08],\n",
       "       [8.95890192e-08, 4.79981744e-03, 9.95200093e-01],\n",
       "       [9.79252979e-01, 2.07469242e-02, 9.67568183e-08],\n",
       "       [1.08329147e-04, 1.26060566e-01, 8.73831105e-01],\n",
       "       [9.94240195e-01, 5.75979748e-03, 7.17495635e-09],\n",
       "       [7.01768995e-03, 7.80936786e-01, 2.12045524e-01],\n",
       "       [9.64955340e-01, 3.50445120e-02, 1.48454179e-07],\n",
       "       [4.04820252e-04, 2.37475854e-01, 7.62119326e-01],\n",
       "       [4.78785377e-04, 1.85358970e-01, 8.14162244e-01],\n",
       "       [9.82599707e-01, 1.74002257e-02, 6.77129476e-08],\n",
       "       [9.69178155e-01, 3.08217087e-02, 1.36278942e-07],\n",
       "       [9.64955340e-01, 3.50445120e-02, 1.48454179e-07],\n",
       "       [9.85897194e-01, 1.41027564e-02, 4.98245306e-08],\n",
       "       [9.47354055e-01, 5.26455666e-02, 3.78504083e-07],\n",
       "       [8.18914720e-03, 8.79227828e-01, 1.12583025e-01],\n",
       "       [9.84214918e-01, 1.57850441e-02, 3.77583135e-08],\n",
       "       [5.47966301e-03, 6.75629768e-01, 3.18890569e-01],\n",
       "       [1.13247161e-04, 7.07458653e-02, 9.29140888e-01],\n",
       "       [9.64955340e-01, 3.50445120e-02, 1.48454179e-07],\n",
       "       [1.86402649e-03, 7.06750718e-01, 2.91385255e-01],\n",
       "       [5.48496192e-06, 1.73246039e-02, 9.82669911e-01],\n",
       "       [1.02905304e-05, 1.82418031e-02, 9.81747906e-01],\n",
       "       [3.07690221e-06, 7.43886698e-03, 9.92558056e-01],\n",
       "       [2.57145830e-03, 4.39370806e-01, 5.58057736e-01],\n",
       "       [1.84435690e-01, 8.10482728e-01, 5.08158213e-03],\n",
       "       [1.57524651e-01, 8.37126473e-01, 5.34887658e-03],\n",
       "       [2.12722065e-02, 8.67297903e-01, 1.11429890e-01],\n",
       "       [1.66511705e-03, 3.83232863e-01, 6.15102020e-01],\n",
       "       [9.15933899e-04, 4.21876137e-01, 5.77207929e-01],\n",
       "       [5.23859767e-04, 2.17608702e-01, 7.81867438e-01],\n",
       "       [9.69677551e-01, 3.03222748e-02, 1.74706339e-07],\n",
       "       [9.56825949e-07, 1.21645695e-02, 9.87834474e-01],\n",
       "       [9.49821932e-02, 8.88568237e-01, 1.64495695e-02],\n",
       "       [1.24795170e-02, 7.54236321e-01, 2.33284162e-01],\n",
       "       [1.59085172e-07, 5.21849148e-03, 9.94781349e-01],\n",
       "       [4.73147768e-03, 7.26017165e-01, 2.69251357e-01]])"
      ]
     },
     "execution_count": 9,
     "metadata": {},
     "output_type": "execute_result"
    }
   ],
   "source": [
    " model.predict_proba(X_test)"
   ]
  },
  {
   "cell_type": "code",
   "execution_count": 29,
   "metadata": {
    "scrolled": true
   },
   "outputs": [
    {
     "name": "stdout",
     "output_type": "stream",
     "text": [
      "Accuracy Score:  0.9777777777777777\n",
      "\n",
      "\n",
      "                 precision    recall  f1-score   support\n",
      "\n",
      "    Iris-setosa       1.00      1.00      1.00        15\n",
      "Iris-versicolor       1.00      0.93      0.97        15\n",
      " Iris-virginica       0.94      1.00      0.97        15\n",
      "\n",
      "       accuracy                           0.98        45\n",
      "      macro avg       0.98      0.98      0.98        45\n",
      "   weighted avg       0.98      0.98      0.98        45\n",
      "\n"
     ]
    }
   ],
   "source": [
    "# 정확도\n",
    "print('Accuracy Score: ',accuracy_score(y_test, predicted))\n",
    "\n",
    "print('\\n')\n",
    "# 분류 리포트 생성하기\n",
    "class_report = classification_report(y_test, predicted)\n",
    "print(class_report)"
   ]
  },
  {
   "cell_type": "code",
   "execution_count": 32,
   "metadata": {},
   "outputs": [
    {
     "data": {
      "text/plain": [
       "0.9985185185185186"
      ]
     },
     "execution_count": 32,
     "metadata": {},
     "output_type": "execute_result"
    }
   ],
   "source": [
    "roc_auc_score(y_test, model.predict_proba(X_test), multi_class='ovr')"
   ]
  },
  {
   "cell_type": "code",
   "execution_count": 10,
   "metadata": {},
   "outputs": [],
   "source": [
    "#help(roc_auc_score)"
   ]
  },
  {
   "cell_type": "markdown",
   "metadata": {},
   "source": [
    "## 다항 로지스틱 회귀 계수 해석 \n"
   ]
  },
  {
   "cell_type": "code",
   "execution_count": 8,
   "metadata": {
    "scrolled": true
   },
   "outputs": [
    {
     "name": "stdout",
     "output_type": "stream",
     "text": [
      "Intercept: \n",
      " [  9.42940015   2.10066833 -11.53006848]\n",
      "Coefficient: \n",
      " [[-0.45747705  0.87262687 -2.30840796 -0.96053751]\n",
      " [ 0.37578083 -0.19466078 -0.16297032 -0.75289644]\n",
      " [ 0.08169622 -0.6779661   2.47137828  1.71343395]]\n"
     ]
    }
   ],
   "source": [
    "# 회귀계수 확인하기\n",
    "print('Intercept: \\n', model.intercept_)\n",
    "print('Coefficient: \\n', model.coef_)"
   ]
  },
  {
   "cell_type": "code",
   "execution_count": 9,
   "metadata": {
    "scrolled": false
   },
   "outputs": [
    {
     "data": {
      "text/plain": [
       "array([[ 0.63287835,  2.39318921,  0.09941941,  0.38268713],\n",
       "       [ 1.45612796,  0.82311383,  0.8496164 ,  0.47100035],\n",
       "       [ 1.08512612,  0.50764845, 11.83875275,  5.54798029]])"
      ]
     },
     "execution_count": 9,
     "metadata": {},
     "output_type": "execute_result"
    }
   ],
   "source": [
    "# 오즈비 계산하기\n",
    "import numpy as np\n",
    "np.exp(model.coef_)"
   ]
  },
  {
   "cell_type": "code",
   "execution_count": 10,
   "metadata": {
    "scrolled": true
   },
   "outputs": [
    {
     "data": {
      "text/html": [
       "<div>\n",
       "<style scoped>\n",
       "    .dataframe tbody tr th:only-of-type {\n",
       "        vertical-align: middle;\n",
       "    }\n",
       "\n",
       "    .dataframe tbody tr th {\n",
       "        vertical-align: top;\n",
       "    }\n",
       "\n",
       "    .dataframe thead th {\n",
       "        text-align: right;\n",
       "    }\n",
       "</style>\n",
       "<table border=\"1\" class=\"dataframe\">\n",
       "  <thead>\n",
       "    <tr style=\"text-align: right;\">\n",
       "      <th></th>\n",
       "      <th>sepal length</th>\n",
       "      <th>sepal width</th>\n",
       "      <th>petal length</th>\n",
       "      <th>petal width</th>\n",
       "    </tr>\n",
       "  </thead>\n",
       "  <tbody>\n",
       "    <tr>\n",
       "      <th>Iris-setosa</th>\n",
       "      <td>0.632878</td>\n",
       "      <td>2.393189</td>\n",
       "      <td>0.099419</td>\n",
       "      <td>0.382687</td>\n",
       "    </tr>\n",
       "    <tr>\n",
       "      <th>Iris-versicolor</th>\n",
       "      <td>1.456128</td>\n",
       "      <td>0.823114</td>\n",
       "      <td>0.849616</td>\n",
       "      <td>0.471000</td>\n",
       "    </tr>\n",
       "    <tr>\n",
       "      <th>Iris-virginica</th>\n",
       "      <td>1.085126</td>\n",
       "      <td>0.507648</td>\n",
       "      <td>11.838753</td>\n",
       "      <td>5.547980</td>\n",
       "    </tr>\n",
       "  </tbody>\n",
       "</table>\n",
       "</div>"
      ],
      "text/plain": [
       "                 sepal length  sepal width  petal length  petal width\n",
       "Iris-setosa          0.632878     2.393189      0.099419     0.382687\n",
       "Iris-versicolor      1.456128     0.823114      0.849616     0.471000\n",
       "Iris-virginica       1.085126     0.507648     11.838753     5.547980"
      ]
     },
     "execution_count": 10,
     "metadata": {},
     "output_type": "execute_result"
    }
   ],
   "source": [
    "pd.DataFrame(np.exp(model.coef_), columns=X_train.columns, index = model.classes_)"
   ]
  },
  {
   "cell_type": "markdown",
   "metadata": {},
   "source": [
    "\n",
    "*<b> 다른 변수가 일정할 때, sepal width가 1단위 증가하면 Iris-setosa로 분류될 확률이 2.393189배 증가한다. </b>"
   ]
  },
  {
   "cell_type": "code",
   "execution_count": null,
   "metadata": {},
   "outputs": [],
   "source": []
  }
 ],
 "metadata": {
  "kernelspec": {
   "display_name": "Python 3 (ipykernel)",
   "language": "python",
   "name": "python3"
  },
  "language_info": {
   "codemirror_mode": {
    "name": "ipython",
    "version": 3
   },
   "file_extension": ".py",
   "mimetype": "text/x-python",
   "name": "python",
   "nbconvert_exporter": "python",
   "pygments_lexer": "ipython3",
   "version": "3.7.11"
  },
  "toc": {
   "base_numbering": "6.4",
   "nav_menu": {},
   "number_sections": true,
   "sideBar": true,
   "skip_h1_title": false,
   "title_cell": "Table of Contents",
   "title_sidebar": "Contents",
   "toc_cell": false,
   "toc_position": {
    "height": "calc(100% - 180px)",
    "left": "10px",
    "top": "150px",
    "width": "165px"
   },
   "toc_section_display": true,
   "toc_window_display": false
  }
 },
 "nbformat": 4,
 "nbformat_minor": 4
}
