{
 "cells": [
  {
   "cell_type": "markdown",
   "metadata": {},
   "source": [
    "\n",
    "\n",
    "## 의사결정나무 (분류)\n",
    "     "
   ]
  },
  {
   "cell_type": "markdown",
   "metadata": {},
   "source": [
    "### 개념  \n",
    "__가. 성장단계__  \n",
    "- 각 마디에서 __적절한 최적의 분리규칙(splitting rule)__ 을 찾아서 나무를 성장시키는 과정으로 적절한 __정지규칙(stopping rule)__ d을 만족하면 중단한다\n",
    "- 분리규칙을 설정하는 분리기준(splitting criterion)은 이산형 목표변수, 연속형 목표변수에 따라 다르다\n",
    "- 범주형 목표변수   \n",
    "    \n",
    "|기준값 |분리기준|  |\n",
    "|------|---|---|\n",
    "|지니지수|지니지수를 감소시커주는 예측변수와 그 때의 최적 분리에 의해서 자식마디를 형성|  |\n",
    "|엔트로피지수|엔트로피 지수가 가장 작은 예측변수와 이 때의 최적 분리에 의해 자식마디를 형성| "
   ]
  },
  {
   "cell_type": "markdown",
   "metadata": {},
   "source": [
    "__나. 가지치기 단계__   \n",
    "- 나무의 크기를 모형의 복잡도로 볼 수 있음\n",
    "- 과적합 방지를 위함\n"
   ]
  },
  {
   "cell_type": "markdown",
   "metadata": {},
   "source": [
    "* <b>max_depth:int, default=None\n",
    "    - 트리의 최대 깊이\n",
    "* <b>min_samples_split:int or float, default=2\n",
    "    - 내부 노드를 분할하는 데 필요한 최소 샘플 수\n",
    "* <b>min_samples_leaf:int or float, default=1\n",
    "    - 리프노드에 있어야 하는 최소 샘플 수</b>\n",
    "        <br><br>\n",
    "       \n",
    "* criterion:{“gini”, “entropy”}, default=”gini”   \n",
    "    - 분할할 때 사용할 함수\n",
    "\n",
    "* splitter:{“best”, “random”}, default=”best”\n",
    "    - 분할방법\n",
    "        - best: 분할 시가장 좋은 노드 선택\n",
    "        - random: 임의적으로 노드 선택\n",
    "\n",
    "* random_state\n",
    "    - 추정량의 임의성을 제어함\n",
    "    \n",
    "* ccp_alphanon-negative: float, default=0.0\n",
    "    - pruning에 사용하는 파라미터\n",
    "    - 최소비용-복잡성 정리에 사용되는 복잡성 매개변수\n",
    "    - ccp_alpha보다 작은 비용-복잡성을 가진 서브트리 중 가장 비용-복잡성이 큰 트리를 선택함\n",
    "    - default로 할 경우 pruning은 수행되지 않음"
   ]
  },
  {
   "cell_type": "markdown",
   "metadata": {},
   "source": [
    "예시\n",
    "> sklearn.tree.DecisionTreeClassifier(*, criterion='gini', splitter='best', max_depth=None, \n",
    "                                    min_samples_split=2, min_samples_leaf=1,\n",
    "                                    max_features=None, random_state=None, ccp_alpha=0.0)"
   ]
  },
  {
   "cell_type": "markdown",
   "metadata": {},
   "source": [
    "__[예제 1.]__   \n",
    "credit 데이터의 train 데이터로 credit.rating(기간 내 대출 상환 여부)을분류하는 의사결정나무 모델 만들어라"
   ]
  },
  {
   "cell_type": "code",
   "execution_count": 1,
   "metadata": {},
   "outputs": [
    {
     "data": {
      "text/html": [
       "<div>\n",
       "<style scoped>\n",
       "    .dataframe tbody tr th:only-of-type {\n",
       "        vertical-align: middle;\n",
       "    }\n",
       "\n",
       "    .dataframe tbody tr th {\n",
       "        vertical-align: top;\n",
       "    }\n",
       "\n",
       "    .dataframe thead th {\n",
       "        text-align: right;\n",
       "    }\n",
       "</style>\n",
       "<table border=\"1\" class=\"dataframe\">\n",
       "  <thead>\n",
       "    <tr style=\"text-align: right;\">\n",
       "      <th></th>\n",
       "      <th>credit.rating</th>\n",
       "      <th>account.balance</th>\n",
       "      <th>credit.duration.months</th>\n",
       "      <th>previous.credit.payment.status</th>\n",
       "      <th>credit.purpose</th>\n",
       "      <th>credit.amount</th>\n",
       "      <th>savings</th>\n",
       "      <th>employment.duration</th>\n",
       "      <th>installment.rate</th>\n",
       "      <th>marital.status</th>\n",
       "      <th>...</th>\n",
       "      <th>residence.duration</th>\n",
       "      <th>current.assets</th>\n",
       "      <th>age</th>\n",
       "      <th>other.credits</th>\n",
       "      <th>apartment.type</th>\n",
       "      <th>bank.credits</th>\n",
       "      <th>occupation</th>\n",
       "      <th>dependents</th>\n",
       "      <th>telephone</th>\n",
       "      <th>foreign.worker</th>\n",
       "    </tr>\n",
       "  </thead>\n",
       "  <tbody>\n",
       "    <tr>\n",
       "      <th>0</th>\n",
       "      <td>1</td>\n",
       "      <td>1</td>\n",
       "      <td>18</td>\n",
       "      <td>3</td>\n",
       "      <td>2</td>\n",
       "      <td>1049</td>\n",
       "      <td>1</td>\n",
       "      <td>1</td>\n",
       "      <td>4</td>\n",
       "      <td>1</td>\n",
       "      <td>...</td>\n",
       "      <td>4</td>\n",
       "      <td>2</td>\n",
       "      <td>21</td>\n",
       "      <td>2</td>\n",
       "      <td>1</td>\n",
       "      <td>1</td>\n",
       "      <td>3</td>\n",
       "      <td>1</td>\n",
       "      <td>1</td>\n",
       "      <td>1</td>\n",
       "    </tr>\n",
       "    <tr>\n",
       "      <th>1</th>\n",
       "      <td>1</td>\n",
       "      <td>1</td>\n",
       "      <td>9</td>\n",
       "      <td>3</td>\n",
       "      <td>4</td>\n",
       "      <td>2799</td>\n",
       "      <td>1</td>\n",
       "      <td>2</td>\n",
       "      <td>2</td>\n",
       "      <td>3</td>\n",
       "      <td>...</td>\n",
       "      <td>2</td>\n",
       "      <td>1</td>\n",
       "      <td>36</td>\n",
       "      <td>2</td>\n",
       "      <td>1</td>\n",
       "      <td>2</td>\n",
       "      <td>3</td>\n",
       "      <td>2</td>\n",
       "      <td>1</td>\n",
       "      <td>1</td>\n",
       "    </tr>\n",
       "    <tr>\n",
       "      <th>2</th>\n",
       "      <td>1</td>\n",
       "      <td>2</td>\n",
       "      <td>12</td>\n",
       "      <td>2</td>\n",
       "      <td>4</td>\n",
       "      <td>841</td>\n",
       "      <td>2</td>\n",
       "      <td>3</td>\n",
       "      <td>2</td>\n",
       "      <td>1</td>\n",
       "      <td>...</td>\n",
       "      <td>4</td>\n",
       "      <td>1</td>\n",
       "      <td>23</td>\n",
       "      <td>2</td>\n",
       "      <td>1</td>\n",
       "      <td>1</td>\n",
       "      <td>2</td>\n",
       "      <td>1</td>\n",
       "      <td>1</td>\n",
       "      <td>1</td>\n",
       "    </tr>\n",
       "    <tr>\n",
       "      <th>3</th>\n",
       "      <td>1</td>\n",
       "      <td>1</td>\n",
       "      <td>12</td>\n",
       "      <td>3</td>\n",
       "      <td>4</td>\n",
       "      <td>2122</td>\n",
       "      <td>1</td>\n",
       "      <td>2</td>\n",
       "      <td>3</td>\n",
       "      <td>3</td>\n",
       "      <td>...</td>\n",
       "      <td>2</td>\n",
       "      <td>1</td>\n",
       "      <td>39</td>\n",
       "      <td>2</td>\n",
       "      <td>1</td>\n",
       "      <td>2</td>\n",
       "      <td>2</td>\n",
       "      <td>2</td>\n",
       "      <td>1</td>\n",
       "      <td>2</td>\n",
       "    </tr>\n",
       "    <tr>\n",
       "      <th>4</th>\n",
       "      <td>1</td>\n",
       "      <td>1</td>\n",
       "      <td>12</td>\n",
       "      <td>3</td>\n",
       "      <td>4</td>\n",
       "      <td>2171</td>\n",
       "      <td>1</td>\n",
       "      <td>2</td>\n",
       "      <td>4</td>\n",
       "      <td>3</td>\n",
       "      <td>...</td>\n",
       "      <td>4</td>\n",
       "      <td>2</td>\n",
       "      <td>38</td>\n",
       "      <td>1</td>\n",
       "      <td>2</td>\n",
       "      <td>2</td>\n",
       "      <td>2</td>\n",
       "      <td>1</td>\n",
       "      <td>1</td>\n",
       "      <td>2</td>\n",
       "    </tr>\n",
       "    <tr>\n",
       "      <th>...</th>\n",
       "      <td>...</td>\n",
       "      <td>...</td>\n",
       "      <td>...</td>\n",
       "      <td>...</td>\n",
       "      <td>...</td>\n",
       "      <td>...</td>\n",
       "      <td>...</td>\n",
       "      <td>...</td>\n",
       "      <td>...</td>\n",
       "      <td>...</td>\n",
       "      <td>...</td>\n",
       "      <td>...</td>\n",
       "      <td>...</td>\n",
       "      <td>...</td>\n",
       "      <td>...</td>\n",
       "      <td>...</td>\n",
       "      <td>...</td>\n",
       "      <td>...</td>\n",
       "      <td>...</td>\n",
       "      <td>...</td>\n",
       "      <td>...</td>\n",
       "    </tr>\n",
       "    <tr>\n",
       "      <th>995</th>\n",
       "      <td>0</td>\n",
       "      <td>1</td>\n",
       "      <td>24</td>\n",
       "      <td>2</td>\n",
       "      <td>3</td>\n",
       "      <td>1987</td>\n",
       "      <td>1</td>\n",
       "      <td>2</td>\n",
       "      <td>2</td>\n",
       "      <td>3</td>\n",
       "      <td>...</td>\n",
       "      <td>4</td>\n",
       "      <td>1</td>\n",
       "      <td>21</td>\n",
       "      <td>2</td>\n",
       "      <td>1</td>\n",
       "      <td>1</td>\n",
       "      <td>2</td>\n",
       "      <td>2</td>\n",
       "      <td>1</td>\n",
       "      <td>1</td>\n",
       "    </tr>\n",
       "    <tr>\n",
       "      <th>996</th>\n",
       "      <td>0</td>\n",
       "      <td>1</td>\n",
       "      <td>24</td>\n",
       "      <td>2</td>\n",
       "      <td>4</td>\n",
       "      <td>2303</td>\n",
       "      <td>1</td>\n",
       "      <td>4</td>\n",
       "      <td>4</td>\n",
       "      <td>3</td>\n",
       "      <td>...</td>\n",
       "      <td>1</td>\n",
       "      <td>1</td>\n",
       "      <td>45</td>\n",
       "      <td>2</td>\n",
       "      <td>2</td>\n",
       "      <td>1</td>\n",
       "      <td>3</td>\n",
       "      <td>1</td>\n",
       "      <td>1</td>\n",
       "      <td>1</td>\n",
       "    </tr>\n",
       "    <tr>\n",
       "      <th>997</th>\n",
       "      <td>0</td>\n",
       "      <td>3</td>\n",
       "      <td>21</td>\n",
       "      <td>3</td>\n",
       "      <td>4</td>\n",
       "      <td>12680</td>\n",
       "      <td>4</td>\n",
       "      <td>4</td>\n",
       "      <td>4</td>\n",
       "      <td>3</td>\n",
       "      <td>...</td>\n",
       "      <td>4</td>\n",
       "      <td>4</td>\n",
       "      <td>30</td>\n",
       "      <td>2</td>\n",
       "      <td>3</td>\n",
       "      <td>1</td>\n",
       "      <td>4</td>\n",
       "      <td>1</td>\n",
       "      <td>2</td>\n",
       "      <td>1</td>\n",
       "    </tr>\n",
       "    <tr>\n",
       "      <th>998</th>\n",
       "      <td>0</td>\n",
       "      <td>2</td>\n",
       "      <td>12</td>\n",
       "      <td>2</td>\n",
       "      <td>3</td>\n",
       "      <td>6468</td>\n",
       "      <td>4</td>\n",
       "      <td>1</td>\n",
       "      <td>2</td>\n",
       "      <td>3</td>\n",
       "      <td>...</td>\n",
       "      <td>1</td>\n",
       "      <td>4</td>\n",
       "      <td>52</td>\n",
       "      <td>2</td>\n",
       "      <td>2</td>\n",
       "      <td>1</td>\n",
       "      <td>4</td>\n",
       "      <td>1</td>\n",
       "      <td>2</td>\n",
       "      <td>1</td>\n",
       "    </tr>\n",
       "    <tr>\n",
       "      <th>999</th>\n",
       "      <td>0</td>\n",
       "      <td>1</td>\n",
       "      <td>30</td>\n",
       "      <td>2</td>\n",
       "      <td>2</td>\n",
       "      <td>6350</td>\n",
       "      <td>4</td>\n",
       "      <td>4</td>\n",
       "      <td>4</td>\n",
       "      <td>3</td>\n",
       "      <td>...</td>\n",
       "      <td>4</td>\n",
       "      <td>2</td>\n",
       "      <td>31</td>\n",
       "      <td>2</td>\n",
       "      <td>2</td>\n",
       "      <td>1</td>\n",
       "      <td>3</td>\n",
       "      <td>1</td>\n",
       "      <td>1</td>\n",
       "      <td>1</td>\n",
       "    </tr>\n",
       "  </tbody>\n",
       "</table>\n",
       "<p>1000 rows × 21 columns</p>\n",
       "</div>"
      ],
      "text/plain": [
       "     credit.rating  account.balance  credit.duration.months  \\\n",
       "0                1                1                      18   \n",
       "1                1                1                       9   \n",
       "2                1                2                      12   \n",
       "3                1                1                      12   \n",
       "4                1                1                      12   \n",
       "..             ...              ...                     ...   \n",
       "995              0                1                      24   \n",
       "996              0                1                      24   \n",
       "997              0                3                      21   \n",
       "998              0                2                      12   \n",
       "999              0                1                      30   \n",
       "\n",
       "     previous.credit.payment.status  credit.purpose  credit.amount  savings  \\\n",
       "0                                 3               2           1049        1   \n",
       "1                                 3               4           2799        1   \n",
       "2                                 2               4            841        2   \n",
       "3                                 3               4           2122        1   \n",
       "4                                 3               4           2171        1   \n",
       "..                              ...             ...            ...      ...   \n",
       "995                               2               3           1987        1   \n",
       "996                               2               4           2303        1   \n",
       "997                               3               4          12680        4   \n",
       "998                               2               3           6468        4   \n",
       "999                               2               2           6350        4   \n",
       "\n",
       "     employment.duration  installment.rate  marital.status  ...  \\\n",
       "0                      1                 4               1  ...   \n",
       "1                      2                 2               3  ...   \n",
       "2                      3                 2               1  ...   \n",
       "3                      2                 3               3  ...   \n",
       "4                      2                 4               3  ...   \n",
       "..                   ...               ...             ...  ...   \n",
       "995                    2                 2               3  ...   \n",
       "996                    4                 4               3  ...   \n",
       "997                    4                 4               3  ...   \n",
       "998                    1                 2               3  ...   \n",
       "999                    4                 4               3  ...   \n",
       "\n",
       "     residence.duration  current.assets  age  other.credits  apartment.type  \\\n",
       "0                     4               2   21              2               1   \n",
       "1                     2               1   36              2               1   \n",
       "2                     4               1   23              2               1   \n",
       "3                     2               1   39              2               1   \n",
       "4                     4               2   38              1               2   \n",
       "..                  ...             ...  ...            ...             ...   \n",
       "995                   4               1   21              2               1   \n",
       "996                   1               1   45              2               2   \n",
       "997                   4               4   30              2               3   \n",
       "998                   1               4   52              2               2   \n",
       "999                   4               2   31              2               2   \n",
       "\n",
       "     bank.credits  occupation  dependents  telephone  foreign.worker  \n",
       "0               1           3           1          1               1  \n",
       "1               2           3           2          1               1  \n",
       "2               1           2           1          1               1  \n",
       "3               2           2           2          1               2  \n",
       "4               2           2           1          1               2  \n",
       "..            ...         ...         ...        ...             ...  \n",
       "995             1           2           2          1               1  \n",
       "996             1           3           1          1               1  \n",
       "997             1           4           1          2               1  \n",
       "998             1           4           1          2               1  \n",
       "999             1           3           1          1               1  \n",
       "\n",
       "[1000 rows x 21 columns]"
      ]
     },
     "execution_count": 1,
     "metadata": {},
     "output_type": "execute_result"
    }
   ],
   "source": [
    "import pandas as pd\n",
    "import numpy as np\n",
    "\n",
    "# 데이터 업로드\n",
    "credit = pd.read_csv('../data/credit_final.csv')\n",
    "credit \n"
   ]
  },
  {
   "cell_type": "code",
   "execution_count": 2,
   "metadata": {},
   "outputs": [],
   "source": [
    "# 설명변수(X), 종속변수(y) 분리\n",
    "X = credit.drop(['credit.rating'],axis=1)\n",
    "y = credit['credit.rating']"
   ]
  },
  {
   "cell_type": "code",
   "execution_count": 3,
   "metadata": {},
   "outputs": [
    {
     "name": "stdout",
     "output_type": "stream",
     "text": [
      "<class 'pandas.core.frame.DataFrame'>\n",
      "RangeIndex: 1000 entries, 0 to 999\n",
      "Data columns (total 20 columns):\n",
      " #   Column                          Non-Null Count  Dtype\n",
      "---  ------                          --------------  -----\n",
      " 0   account.balance                 1000 non-null   int64\n",
      " 1   credit.duration.months          1000 non-null   int64\n",
      " 2   previous.credit.payment.status  1000 non-null   int64\n",
      " 3   credit.purpose                  1000 non-null   int64\n",
      " 4   credit.amount                   1000 non-null   int64\n",
      " 5   savings                         1000 non-null   int64\n",
      " 6   employment.duration             1000 non-null   int64\n",
      " 7   installment.rate                1000 non-null   int64\n",
      " 8   marital.status                  1000 non-null   int64\n",
      " 9   guarantor                       1000 non-null   int64\n",
      " 10  residence.duration              1000 non-null   int64\n",
      " 11  current.assets                  1000 non-null   int64\n",
      " 12  age                             1000 non-null   int64\n",
      " 13  other.credits                   1000 non-null   int64\n",
      " 14  apartment.type                  1000 non-null   int64\n",
      " 15  bank.credits                    1000 non-null   int64\n",
      " 16  occupation                      1000 non-null   int64\n",
      " 17  dependents                      1000 non-null   int64\n",
      " 18  telephone                       1000 non-null   int64\n",
      " 19  foreign.worker                  1000 non-null   int64\n",
      "dtypes: int64(20)\n",
      "memory usage: 156.4 KB\n"
     ]
    }
   ],
   "source": [
    "X.info()"
   ]
  },
  {
   "cell_type": "code",
   "execution_count": 4,
   "metadata": {},
   "outputs": [],
   "source": [
    "from sklearn.model_selection import train_test_split\n",
    "\n",
    "# 훈련셋, 테스트셋 분리\n",
    "X_train, X_test, y_train, y_test = train_test_split(X, y, stratify=y, test_size=0.3, random_state=1)"
   ]
  },
  {
   "cell_type": "code",
   "execution_count": 5,
   "metadata": {},
   "outputs": [
    {
     "data": {
      "text/plain": [
       "DecisionTreeClassifier()"
      ]
     },
     "execution_count": 5,
     "metadata": {},
     "output_type": "execute_result"
    }
   ],
   "source": [
    "\n",
    "from sklearn.tree import DecisionTreeClassifier\n",
    "\n",
    "# 의사결정나무 모델링\n",
    "dt_clf = DecisionTreeClassifier()\n",
    "\n",
    "## 모델 학습 \n",
    "dt_clf.fit(X_train, y_train)\n"
   ]
  },
  {
   "cell_type": "code",
   "execution_count": 6,
   "metadata": {},
   "outputs": [
    {
     "data": {
      "text/plain": [
       "1.0"
      ]
     },
     "execution_count": 6,
     "metadata": {},
     "output_type": "execute_result"
    }
   ],
   "source": [
    "## 학습용 데이터에 대한 정확도 \n",
    "dt_clf.score(X_train,y_train)"
   ]
  },
  {
   "cell_type": "code",
   "execution_count": 7,
   "metadata": {
    "scrolled": true
   },
   "outputs": [
    {
     "data": {
      "text/plain": [
       "0.6833333333333333"
      ]
     },
     "execution_count": 7,
     "metadata": {},
     "output_type": "execute_result"
    }
   ],
   "source": [
    "## 테스트 데이터에 대한 정확도 \n",
    "dt_clf.score(X_test,y_test)"
   ]
  },
  {
   "cell_type": "code",
   "execution_count": 8,
   "metadata": {},
   "outputs": [
    {
     "data": {
      "text/plain": [
       "array([1, 1, 1, 1, 1, 0, 0, 0, 1, 1, 0, 1, 1, 0, 1, 0, 0, 1, 0, 1, 1, 1,\n",
       "       1, 1, 1, 1, 0, 1, 1, 1, 1, 1, 0, 0, 1, 1, 1, 1, 0, 0, 1, 1, 1, 0,\n",
       "       1, 1, 0, 1, 1, 1, 1, 0, 1, 0, 1, 1, 1, 1, 0, 0, 0, 1, 1, 1, 1, 0,\n",
       "       1, 1, 1, 1, 1, 1, 0, 1, 0, 1, 1, 0, 0, 0, 0, 1, 1, 0, 1, 1, 1, 1,\n",
       "       0, 0, 1, 1, 1, 1, 0, 1, 1, 1, 0, 1, 1, 1, 1, 1, 1, 0, 1, 1, 1, 1,\n",
       "       1, 1, 0, 1, 1, 1, 1, 0, 1, 1, 1, 1, 1, 1, 0, 0, 1, 1, 1, 1, 0, 1,\n",
       "       0, 1, 1, 1, 1, 0, 1, 0, 1, 1, 1, 1, 1, 0, 1, 1, 0, 1, 1, 1, 0, 0,\n",
       "       1, 1, 1, 1, 1, 1, 1, 1, 1, 1, 0, 1, 1, 0, 1, 0, 1, 0, 1, 1, 1, 1,\n",
       "       1, 0, 1, 0, 0, 0, 1, 1, 1, 1, 1, 1, 1, 1, 1, 0, 1, 1, 1, 1, 0, 1,\n",
       "       0, 1, 0, 0, 1, 0, 0, 1, 0, 0, 0, 1, 1, 0, 1, 0, 1, 0, 0, 0, 1, 1,\n",
       "       1, 1, 0, 1, 0, 0, 1, 1, 0, 1, 1, 1, 0, 1, 0, 0, 1, 0, 0, 1, 0, 1,\n",
       "       1, 1, 1, 1, 1, 1, 1, 1, 1, 1, 1, 1, 1, 1, 1, 1, 1, 0, 1, 0, 0, 1,\n",
       "       1, 1, 1, 0, 1, 1, 1, 1, 1, 1, 0, 0, 1, 1, 1, 1, 0, 1, 1, 1, 0, 1,\n",
       "       0, 0, 1, 1, 0, 0, 0, 1, 0, 0, 1, 0, 0, 1], dtype=int64)"
      ]
     },
     "execution_count": 8,
     "metadata": {},
     "output_type": "execute_result"
    }
   ],
   "source": [
    "## 예측 \n",
    "dt_prediction = dt_clf.predict(X_test)\n",
    "dt_prediction"
   ]
  },
  {
   "cell_type": "code",
   "execution_count": 14,
   "metadata": {
    "scrolled": true
   },
   "outputs": [
    {
     "data": {
      "text/plain": [
       "array([[ 45,  45],\n",
       "       [ 50, 160]], dtype=int64)"
      ]
     },
     "execution_count": 14,
     "metadata": {},
     "output_type": "execute_result"
    }
   ],
   "source": [
    "from sklearn.metrics import confusion_matrix, classification_report, roc_auc_score, plot_roc_curve, precision_score, f1_score, recall_score\n",
    "\n",
    "confusion_matrix(y_test,dt_prediction)\n"
   ]
  },
  {
   "cell_type": "code",
   "execution_count": 15,
   "metadata": {
    "scrolled": true
   },
   "outputs": [
    {
     "name": "stdout",
     "output_type": "stream",
     "text": [
      "0.7804878048780488\n",
      "0.7619047619047619\n",
      "0.7710843373493976\n"
     ]
    }
   ],
   "source": [
    "print(precision_score(y_test,dt_prediction))\n",
    "print(recall_score(y_test,dt_prediction))\n",
    "print(f1_score(y_test,dt_prediction))"
   ]
  },
  {
   "cell_type": "code",
   "execution_count": 13,
   "metadata": {},
   "outputs": [
    {
     "name": "stdout",
     "output_type": "stream",
     "text": [
      "              precision    recall  f1-score   support\n",
      "\n",
      "           0       0.47      0.50      0.49        90\n",
      "           1       0.78      0.76      0.77       210\n",
      "\n",
      "    accuracy                           0.68       300\n",
      "   macro avg       0.63      0.63      0.63       300\n",
      "weighted avg       0.69      0.68      0.69       300\n",
      "\n"
     ]
    }
   ],
   "source": [
    "print(classification_report(y_test,dt_prediction))"
   ]
  },
  {
   "cell_type": "code",
   "execution_count": 16,
   "metadata": {
    "scrolled": true
   },
   "outputs": [
    {
     "data": {
      "text/plain": [
       "<sklearn.metrics._plot.roc_curve.RocCurveDisplay at 0x1ea49f24a88>"
      ]
     },
     "execution_count": 16,
     "metadata": {},
     "output_type": "execute_result"
    },
    {
     "data": {
      "image/png": "[encoded data removed]",
      "text/plain": [
       "<Figure size 432x288 with 1 Axes>"
      ]
     },
     "metadata": {
      "needs_background": "light"
     },
     "output_type": "display_data"
    }
   ],
   "source": [
    "plot_roc_curve(dt_clf, X_test,y_test)"
   ]
  },
  {
   "cell_type": "code",
   "execution_count": 17,
   "metadata": {},
   "outputs": [
    {
     "data": {
      "text/plain": [
       "0.6309523809523809"
      ]
     },
     "execution_count": 17,
     "metadata": {},
     "output_type": "execute_result"
    }
   ],
   "source": [
    "## ROC_AUC_SCORE\n",
    "roc_auc_score(y_test,dt_clf.predict_proba(X_test)[:,1])"
   ]
  },
  {
   "cell_type": "markdown",
   "metadata": {},
   "source": [
    "### 가지치기"
   ]
  },
  {
   "cell_type": "markdown",
   "metadata": {},
   "source": [
    "#### 주요 매개변수 조정 "
   ]
  },
  {
   "cell_type": "code",
   "execution_count": 18,
   "metadata": {},
   "outputs": [
    {
     "data": {
      "text/plain": [
       "16"
      ]
     },
     "execution_count": 18,
     "metadata": {},
     "output_type": "execute_result"
    }
   ],
   "source": [
    "dt_clf.get_depth()"
   ]
  },
  {
   "cell_type": "code",
   "execution_count": 19,
   "metadata": {},
   "outputs": [
    {
     "data": {
      "text/plain": [
       "GridSearchCV(cv=5, estimator=DecisionTreeClassifier(),\n",
       "             param_grid={'max_depth': range(2, 16),\n",
       "                         'min_samples_leaf': range(1, 20)})"
      ]
     },
     "execution_count": 19,
     "metadata": {},
     "output_type": "execute_result"
    }
   ],
   "source": [
    "from sklearn.model_selection import GridSearchCV\n",
    "\n",
    "param_grid = {'max_depth':range(2,16,1) , 'min_samples_leaf':range(1,20,1)}\n",
    "model_grid_tree = GridSearchCV(DecisionTreeClassifier(), param_grid, cv=5)\n",
    "model_grid_tree.fit(X_train,y_train)"
   ]
  },
  {
   "cell_type": "code",
   "execution_count": 20,
   "metadata": {
    "scrolled": true
   },
   "outputs": [
    {
     "data": {
      "text/plain": [
       "DecisionTreeClassifier(max_depth=3, min_samples_leaf=5)"
      ]
     },
     "execution_count": 20,
     "metadata": {},
     "output_type": "execute_result"
    }
   ],
   "source": [
    "model_grid_tree.best_estimator_"
   ]
  },
  {
   "cell_type": "code",
   "execution_count": 21,
   "metadata": {},
   "outputs": [
    {
     "data": {
      "text/plain": [
       "0.7514285714285714"
      ]
     },
     "execution_count": 21,
     "metadata": {},
     "output_type": "execute_result"
    }
   ],
   "source": [
    "model_grid_tree.best_score_"
   ]
  },
  {
   "cell_type": "code",
   "execution_count": 22,
   "metadata": {},
   "outputs": [
    {
     "data": {
      "text/plain": [
       "0.7066666666666667"
      ]
     },
     "execution_count": 22,
     "metadata": {},
     "output_type": "execute_result"
    }
   ],
   "source": [
    "model_grid_tree.score(X_test,y_test)"
   ]
  },
  {
   "cell_type": "code",
   "execution_count": 23,
   "metadata": {},
   "outputs": [],
   "source": [
    "y_pred = model_grid_tree.predict(X_test)"
   ]
  },
  {
   "cell_type": "code",
   "execution_count": 24,
   "metadata": {
    "scrolled": true
   },
   "outputs": [
    {
     "data": {
      "text/plain": [
       "array([[ 31,  59],\n",
       "       [ 29, 181]], dtype=int64)"
      ]
     },
     "execution_count": 24,
     "metadata": {},
     "output_type": "execute_result"
    }
   ],
   "source": [
    "confusion_matrix(y_test, y_pred)"
   ]
  },
  {
   "cell_type": "code",
   "execution_count": 25,
   "metadata": {},
   "outputs": [
    {
     "data": {
      "text/plain": [
       "<sklearn.metrics._plot.roc_curve.RocCurveDisplay at 0x2d8b1a9a608>"
      ]
     },
     "execution_count": 25,
     "metadata": {},
     "output_type": "execute_result"
    },
    {
     "data": {
      "image/png": "[encoded data removed]",
      "text/plain": [
       "<Figure size 432x288 with 1 Axes>"
      ]
     },
     "metadata": {
      "needs_background": "light"
     },
     "output_type": "display_data"
    }
   ],
   "source": [
    "plot_roc_curve(model_grid_tree, X_test,y_test)"
   ]
  },
  {
   "cell_type": "code",
   "execution_count": 26,
   "metadata": {
    "scrolled": true
   },
   "outputs": [
    {
     "data": {
      "text/plain": [
       "0.7058201058201058"
      ]
     },
     "execution_count": 26,
     "metadata": {},
     "output_type": "execute_result"
    }
   ],
   "source": [
    "roc_auc_score(y_test,model_grid_tree.predict_proba(X_test)[:,1])"
   ]
  },
  {
   "cell_type": "markdown",
   "metadata": {},
   "source": [
    "<b> 결과 해석 \n",
    "    \n",
    "1) 과적합을 막고, 최적의 분류 모델을 찾기 위해 GridSearchCV를 사용하였다. \n",
    "\n",
    "2) max_depth = 3, min_samples_leaf=5 로 모델을 학습시켰다. \n",
    "\n",
    "3) 결과 ROC_AUC_SCORE는 0.71로 준수하다고 볼 수는 없다. \n",
    "    \n",
    "4) 다른 모델을 통해 정확도를 향상시킬 방안을 찾아봐야함 "
   ]
  },
  {
   "cell_type": "markdown",
   "metadata": {},
   "source": [
    "#### ccp_alpha로 수행 (참고) "
   ]
  },
  {
   "cell_type": "markdown",
   "metadata": {},
   "source": [
    "* ccp_alphanon-negative: float, default=0.0\n",
    "    - pruning에 사용하는 파라미터\n",
    "    - 최소비용-복잡성 정리에 사용되는 복잡성 매개변수\n",
    "    - ccp_alpha보다 작은 비용-복잡성을 가진 서브트리 중 가장 비용-복잡성이 큰 트리를 선택함\n",
    "    - default로 할 경우 pruning은 수행되지 않음"
   ]
  },
  {
   "cell_type": "code",
   "execution_count": 27,
   "metadata": {},
   "outputs": [
    {
     "data": {
      "text/plain": [
       "{'ccp_alphas': array([0.        , 0.00090226, 0.00091097, 0.00119048, 0.00122449,\n",
       "        0.00122449, 0.00126211, 0.00126984, 0.00131868, 0.00133929,\n",
       "        0.00134921, 0.00135714, 0.00136054, 0.00136364, 0.00138996,\n",
       "        0.00140056, 0.0014127 , 0.0015873 , 0.00166667, 0.00166667,\n",
       "        0.00175283, 0.00182963, 0.00186064, 0.00190476, 0.00190476,\n",
       "        0.00190476, 0.00190476, 0.00190476, 0.00190476, 0.00202691,\n",
       "        0.00205882, 0.00214286, 0.00214286, 0.00214286, 0.00214286,\n",
       "        0.00214286, 0.00217687, 0.00227546, 0.00233432, 0.00241758,\n",
       "        0.00244898, 0.00245238, 0.00247619, 0.0025    , 0.00258963,\n",
       "        0.00259662, 0.00266973, 0.00267284, 0.0027551 , 0.0027551 ,\n",
       "        0.00287415, 0.00301413, 0.00304311, 0.00338624, 0.00378711,\n",
       "        0.00387636, 0.0041662 , 0.00417262, 0.00445055, 0.00511711,\n",
       "        0.00606213, 0.00752796, 0.00857532, 0.01353158, 0.02487219,\n",
       "        0.04253428]),\n",
       " 'impurities': array([0.        , 0.00270677, 0.00543969, 0.00782064, 0.01026962,\n",
       "        0.0127186 , 0.01524282, 0.0177825 , 0.02041987, 0.02309844,\n",
       "        0.02849526, 0.03120955, 0.03393064, 0.03665791, 0.03943783,\n",
       "        0.04223895, 0.04506435, 0.04982626, 0.05482626, 0.05982626,\n",
       "        0.07034321, 0.0758321 , 0.08327466, 0.08517942, 0.08708419,\n",
       "        0.08898895, 0.09279847, 0.09470323, 0.096608  , 0.10268871,\n",
       "        0.10474754, 0.1068904 , 0.10903325, 0.11117611, 0.11331897,\n",
       "        0.11546182, 0.11763869, 0.12674053, 0.13140917, 0.13624434,\n",
       "        0.1411423 , 0.14604706, 0.15099944, 0.15349944, 0.1586787 ,\n",
       "        0.16387194, 0.17188114, 0.1879182 , 0.1906733 , 0.19342841,\n",
       "        0.19630256, 0.19931669, 0.22974774, 0.23313399, 0.2369211 ,\n",
       "        0.25242653, 0.26492513, 0.27327037, 0.27772092, 0.30330646,\n",
       "        0.31543072, 0.33048663, 0.33906195, 0.35259353, 0.37746572,\n",
       "        0.42      ])}"
      ]
     },
     "execution_count": 27,
     "metadata": {},
     "output_type": "execute_result"
    }
   ],
   "source": [
    "path = dt_clf.cost_complexity_pruning_path(X_train, y_train)\n",
    "path"
   ]
  },
  {
   "cell_type": "code",
   "execution_count": 28,
   "metadata": {},
   "outputs": [],
   "source": [
    "ccp_alphas, impurities = path.ccp_alphas, path.impurities"
   ]
  },
  {
   "cell_type": "code",
   "execution_count": 29,
   "metadata": {},
   "outputs": [
    {
     "data": {
      "image/png": "[encoded data removed]",
      "text/plain": [
       "<Figure size 432x288 with 1 Axes>"
      ]
     },
     "metadata": {
      "needs_background": "light"
     },
     "output_type": "display_data"
    }
   ],
   "source": [
    "import matplotlib.pyplot as plt\n",
    "fig, ax = plt.subplots()\n",
    "ax.plot(ccp_alphas[:-1], impurities[:-1], marker='o', drawstyle=\"steps-post\")\n",
    "ax.set_xlabel(\"effective alpha\")\n",
    "ax.set_ylabel(\"total impurity of leaves\")\n",
    "ax.set_title(\"Total Impurity vs effective alpha for training set\")\n",
    "plt.show()"
   ]
  },
  {
   "cell_type": "code",
   "execution_count": 30,
   "metadata": {},
   "outputs": [],
   "source": [
    "dt_clf_pr = DecisionTreeClassifier(ccp_alpha=0.0055)\n",
    "dt_clf_pr = dt_clf_pr.fit(X_train, y_train)\n",
    "dt_prediction_pr = dt_clf_pr.predict(X_test)"
   ]
  },
  {
   "cell_type": "code",
   "execution_count": 31,
   "metadata": {},
   "outputs": [
    {
     "data": {
      "text/plain": [
       "array([[ 29,  61],\n",
       "       [ 25, 185]], dtype=int64)"
      ]
     },
     "execution_count": 31,
     "metadata": {},
     "output_type": "execute_result"
    }
   ],
   "source": [
    "confusion_matrix(y_test, dt_prediction_pr)"
   ]
  },
  {
   "cell_type": "code",
   "execution_count": 32,
   "metadata": {
    "scrolled": true
   },
   "outputs": [
    {
     "data": {
      "text/plain": [
       "<sklearn.metrics._plot.roc_curve.RocCurveDisplay at 0x2d8b2fe8088>"
      ]
     },
     "execution_count": 32,
     "metadata": {},
     "output_type": "execute_result"
    },
    {
     "data": {
      "image/png": "[encoded data removed]",
      "text/plain": [
       "<Figure size 432x288 with 1 Axes>"
      ]
     },
     "metadata": {
      "needs_background": "light"
     },
     "output_type": "display_data"
    }
   ],
   "source": [
    "plot_roc_curve(dt_clf_pr,X_test,y_test)"
   ]
  },
  {
   "cell_type": "code",
   "execution_count": 33,
   "metadata": {},
   "outputs": [
    {
     "data": {
      "text/plain": [
       "0.7113227513227512"
      ]
     },
     "execution_count": 33,
     "metadata": {},
     "output_type": "execute_result"
    }
   ],
   "source": [
    "roc_auc_score(y_test,dt_clf_pr.predict_proba(X_test)[:,1])"
   ]
  }
 ],
 "metadata": {
  "kernelspec": {
   "display_name": "Python 3 (ipykernel)",
   "language": "python",
   "name": "python3"
  },
  "language_info": {
   "codemirror_mode": {
    "name": "ipython",
    "version": 3
   },
   "file_extension": ".py",
   "mimetype": "text/x-python",
   "name": "python",
   "nbconvert_exporter": "python",
   "pygments_lexer": "ipython3",
   "version": "3.7.10"
  },
  "toc": {
   "base_numbering": "12.2",
   "nav_menu": {},
   "number_sections": true,
   "sideBar": true,
   "skip_h1_title": false,
   "title_cell": "Table of Contents",
   "title_sidebar": "Contents",
   "toc_cell": false,
   "toc_position": {
    "height": "calc(100% - 180px)",
    "left": "10px",
    "top": "150px",
    "width": "279.273px"
   },
   "toc_section_display": true,
   "toc_window_display": false
  }
 },
 "nbformat": 4,
 "nbformat_minor": 4
}
