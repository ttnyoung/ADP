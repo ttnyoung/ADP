{
 "cells": [
  {
   "cell_type": "markdown",
   "metadata": {},
   "source": [
    "\n",
    "<b>[예제]</b>\n",
    "\n",
    "boston 데이터로  LinearRegression을 사용하여 선형 회귀분석을 실시한 후, 추정된 회귀모형에 대해 해석하라"
   ]
  },
  {
   "cell_type": "code",
   "execution_count": null,
   "metadata": {
    "scrolled": true
   },
   "outputs": [],
   "source": [
    "import pandas as pd \n",
    "import numpy as np \n",
    "import mglearn\n",
    "X,y = mglearn.datasets.load_extended_boston()"
   ]
  },
  {
   "cell_type": "code",
   "execution_count": 2,
   "metadata": {},
   "outputs": [
    {
     "data": {
      "text/plain": [
       "array([[0.00000000e+00, 1.80000000e-01, 6.78152493e-02, ...,\n",
       "        1.00000000e+00, 8.96799117e-02, 8.04248656e-03],\n",
       "       [2.35922539e-04, 0.00000000e+00, 2.42302053e-01, ...,\n",
       "        1.00000000e+00, 2.04470199e-01, 4.18080621e-02],\n",
       "       [2.35697744e-04, 0.00000000e+00, 2.42302053e-01, ...,\n",
       "        9.79579831e-01, 6.28144504e-02, 4.02790570e-03],\n",
       "       ...,\n",
       "       [6.11892474e-04, 0.00000000e+00, 4.20454545e-01, ...,\n",
       "        1.00000000e+00, 1.07891832e-01, 1.16406475e-02],\n",
       "       [1.16072990e-03, 0.00000000e+00, 4.20454545e-01, ...,\n",
       "        9.82676920e-01, 1.29930407e-01, 1.71795127e-02],\n",
       "       [4.61841693e-04, 0.00000000e+00, 4.20454545e-01, ...,\n",
       "        1.00000000e+00, 1.69701987e-01, 2.87987643e-02]])"
      ]
     },
     "execution_count": 2,
     "metadata": {},
     "output_type": "execute_result"
    }
   ],
   "source": [
    "X"
   ]
  },
  {
   "cell_type": "code",
   "execution_count": 3,
   "metadata": {
    "scrolled": false
   },
   "outputs": [
    {
     "name": "stdout",
     "output_type": "stream",
     "text": [
      "(506, 104)\n",
      "(506,)\n"
     ]
    }
   ],
   "source": [
    "print(X.shape)\n",
    "print(y.shape)"
   ]
  },
  {
   "cell_type": "code",
   "execution_count": 4,
   "metadata": {},
   "outputs": [],
   "source": [
    "# 훈련, 테스트 셋 분리 \n",
    "from sklearn.model_selection import train_test_split\n",
    "X_train, X_test, y_train, y_test = train_test_split(X,y,test_size=0.3,random_state=0)"
   ]
  },
  {
   "cell_type": "code",
   "execution_count": 5,
   "metadata": {},
   "outputs": [
    {
     "name": "stdout",
     "output_type": "stream",
     "text": [
      "(354, 104)\n",
      "(354,)\n"
     ]
    }
   ],
   "source": [
    "print(X_train.shape)\n",
    "print(y_train.shape)"
   ]
  },
  {
   "cell_type": "code",
   "execution_count": 6,
   "metadata": {},
   "outputs": [
    {
     "data": {
      "text/plain": [
       "LinearRegression()"
      ]
     },
     "execution_count": 6,
     "metadata": {},
     "output_type": "execute_result"
    }
   ],
   "source": [
    "#pip install sklearn\n",
    "from sklearn.linear_model import LinearRegression\n",
    "lr = LinearRegression() # 회귀모델 생성\n",
    "lr.fit(X_train, y_train) # 회귀모델 학습 "
   ]
  },
  {
   "cell_type": "code",
   "execution_count": 7,
   "metadata": {},
   "outputs": [
    {
     "name": "stdout",
     "output_type": "stream",
     "text": [
      "기울기 : [-4.33704714e+02 -4.27754308e+01 -1.28481468e+02 -1.18776033e+01\n",
      " -1.78703730e+01  2.59686895e+01  5.63747064e+01 -5.58439243e+01\n",
      "  1.61598828e+01  4.16901656e+01 -1.09516095e+01 -1.40253594e+01\n",
      " -2.19041413e+01  1.90551463e+01  2.76667699e+03  1.53047514e+03\n",
      "  1.21268554e+02 -4.60499609e+00  2.48383118e+01 -3.00570284e+01\n",
      "  9.59771262e+01  1.33888720e+03 -2.33427571e+03  2.61342693e+02\n",
      " -1.41712353e+00  3.20215615e+01 -1.45894092e+01 -2.10437385e+01\n",
      " -7.66545703e+00 -8.03876611e+01  8.62968881e+00  7.28471754e+00\n",
      " -1.10266163e+00 -2.24144700e+00  3.23407788e+01 -1.03736502e+01\n",
      "  5.97750174e+01 -1.83399865e+01  3.64204995e+01 -4.26367054e+00\n",
      "  1.59044619e+01  5.69081378e+01  1.48746227e+01  6.39295382e+01\n",
      " -2.16980861e+01  2.25591789e+01 -1.49418510e+01  5.49066542e+01\n",
      " -1.30858038e+01 -1.18776033e+01 -1.67729835e+01 -3.46890006e+01\n",
      "  6.55871187e+00 -7.06931008e+00  1.15762091e+01 -5.82484408e+00\n",
      " -1.09660567e+01  5.89367073e+01 -1.93606085e+01  1.08440448e+00\n",
      "  2.92079323e+01 -1.79712416e+01  7.76892471e+01 -1.76823041e+01\n",
      "  2.10705479e+01 -3.61318856e+01  7.83124859e+00  2.30781445e+01\n",
      "  2.58472388e+01 -4.93601058e+01  3.34258774e+01  1.26260260e+01\n",
      " -7.27589803e+01 -2.34183530e+01  9.65471263e+00 -5.42861776e+00\n",
      "  2.99587789e+00 -5.58273290e+00  4.24364627e+01 -4.00394492e+01\n",
      " -3.07127315e+00 -2.95814395e+01 -3.26454923e+01  4.99511531e+01\n",
      " -2.60658619e+01 -2.07088803e+01 -1.37591761e+01 -2.44341720e+01\n",
      "  3.80071780e+01 -1.01350600e+02  1.40986617e+02 -1.21703331e+01\n",
      " -1.28431955e+01 -2.60888445e+01 -2.74946939e+01  2.85035364e+01\n",
      " -1.87238637e+01  2.16330148e+00  1.33434185e+00  3.34762834e+01\n",
      "  1.05195500e+01  1.01366894e+00  3.59245203e+00  3.20470461e+01]\n",
      "절편 : 29.512674275860824\n"
     ]
    }
   ],
   "source": [
    "# 기울기와 절편은 따로 호출하여 확인할 수 있다\n",
    "print('기울기 :', lr.coef_)\n",
    "print('절편 :', lr.intercept_)"
   ]
  },
  {
   "cell_type": "code",
   "execution_count": 8,
   "metadata": {},
   "outputs": [
    {
     "data": {
      "text/plain": [
       "array([23.91238964, 26.78414909, 30.01687048, 10.28605728, 19.97437885,\n",
       "       19.70947018, 22.10807185, 20.49301402, 12.11793241, 18.12056132])"
      ]
     },
     "execution_count": 8,
     "metadata": {},
     "output_type": "execute_result"
    }
   ],
   "source": [
    "# 추정된 값을 보기 위해서는 모델.predict(x)를 출력한다\n",
    "\n",
    "y_pred= lr.predict(X_test)\n",
    "y_pred[:10]"
   ]
  },
  {
   "cell_type": "code",
   "execution_count": 9,
   "metadata": {
    "scrolled": false
   },
   "outputs": [
    {
     "data": {
      "text/plain": [
       "array([-1.31238964, 23.21585091, -7.01687048, -1.98605728,  1.22562115,\n",
       "        0.19052982, -1.50807185, -1.79301402,  3.98206759,  0.47943868])"
      ]
     },
     "execution_count": 9,
     "metadata": {},
     "output_type": "execute_result"
    }
   ],
   "source": [
    "# 잔차를 확인하는 방법 : y값과 추정값의 차를 계산\n",
    "\n",
    "resid= y_test - y_pred\n",
    "resid[:10]"
   ]
  },
  {
   "cell_type": "code",
   "execution_count": 10,
   "metadata": {},
   "outputs": [
    {
     "name": "stdout",
     "output_type": "stream",
     "text": [
      "훈련 데이터 셋 성능 :  0.9517246762476056\n",
      "테스트 데이터 셋 성능 :  0.6486839499987763\n"
     ]
    }
   ],
   "source": [
    "## R2 \n",
    "print(\"훈련 데이터 셋 성능 : \", lr.score(X_train,y_train))\n",
    "print(\"테스트 데이터 셋 성능 : \", lr.score(X_test,y_test))"
   ]
  },
  {
   "cell_type": "markdown",
   "metadata": {},
   "source": [
    "**Train 대비 Test 세트에서 성능이 떨어짐. 과대적합이 일어났다고 할 수 있음**"
   ]
  },
  {
   "cell_type": "code",
   "execution_count": 11,
   "metadata": {},
   "outputs": [
    {
     "data": {
      "text/plain": [
       "29.252507139199345"
      ]
     },
     "execution_count": 11,
     "metadata": {},
     "output_type": "execute_result"
    }
   ],
   "source": [
    "#mse \n",
    "(resid**2).sum()/len(y_test)"
   ]
  },
  {
   "cell_type": "code",
   "execution_count": 12,
   "metadata": {},
   "outputs": [
    {
     "data": {
      "text/plain": [
       "5.408558693330354"
      ]
     },
     "execution_count": 12,
     "metadata": {},
     "output_type": "execute_result"
    }
   ],
   "source": [
    "## rmse \n",
    "np.sqrt((resid**2).sum()/len(y_test))"
   ]
  },
  {
   "cell_type": "code",
   "execution_count": 13,
   "metadata": {},
   "outputs": [
    {
     "name": "stdout",
     "output_type": "stream",
     "text": [
      "29.252507139199345\n",
      "5.408558693330354\n"
     ]
    }
   ],
   "source": [
    "from sklearn.metrics import mean_squared_error\n",
    "mse = mean_squared_error(y_test,y_pred)\n",
    "rmse = np.sqrt(mse)\n",
    "\n",
    "print(mse)\n",
    "print(rmse)"
   ]
  },
  {
   "cell_type": "markdown",
   "metadata": {},
   "source": [
    "- R2 값이 훈련데이터에 비해 테스트 데이터셋이 더 작으므로 과대적합임을 알 수 있다.  \n",
    "- R2 값이 0.648은 좋은 성능은 아니다. \n",
    "- 모델의 성능을 높이려면, 과대적합을 조정해주어야 함 "
   ]
  },
  {
   "cell_type": "code",
   "execution_count": 14,
   "metadata": {},
   "outputs": [
    {
     "data": {
      "text/plain": [
       "array([[0.01823449, 0.        , 0.78555718, ..., 1.        , 0.901766  ,\n",
       "        0.81318193],\n",
       "       [0.00121704, 0.2       , 0.23826979, ..., 0.99024028, 0.16475301,\n",
       "        0.02741108],\n",
       "       [0.00619828, 0.        , 0.78555718, ..., 0.98878546, 0.41789074,\n",
       "        0.17661331],\n",
       "       ...,\n",
       "       [0.00162594, 0.        , 0.35007331, ..., 0.98798327, 0.23505388,\n",
       "        0.05592233],\n",
       "       [0.0025059 , 0.        , 0.23643695, ..., 0.97913066, 0.46608557,\n",
       "        0.22186595],\n",
       "       [0.00149286, 0.        , 0.13159824, ..., 1.        , 0.35761589,\n",
       "        0.12788913]])"
      ]
     },
     "execution_count": 14,
     "metadata": {},
     "output_type": "execute_result"
    }
   ],
   "source": [
    "X_train"
   ]
  },
  {
   "cell_type": "code",
   "execution_count": 18,
   "metadata": {},
   "outputs": [
    {
     "name": "stderr",
     "output_type": "stream",
     "text": [
      "/Users/hmc/opt/anaconda3/envs/ADP_Class/lib/python3.7/site-packages/statsmodels/stats/outliers_influence.py:195: RuntimeWarning: divide by zero encountered in double_scalars\n",
      "  vif = 1. / (1. - r_squared_i)\n"
     ]
    },
    {
     "data": {
      "text/plain": [
       "[[54851.95197767613],\n",
       " [7130.307358208186],\n",
       " [22374.003679026846],\n",
       " [inf],\n",
       " [6771.725195571671],\n",
       " [6800.801502806481],\n",
       " [10940.386138579546],\n",
       " [7326.440153114255],\n",
       " [30805.61103699408],\n",
       " [81206.29682014103],\n",
       " [10708.631478254902],\n",
       " [7673.09915025527],\n",
       " [2412.5310782263655],\n",
       " [37.29568591935417],\n",
       " [19.417800952621043],\n",
       " [325173.70523822005],\n",
       " [14.822542635807308],\n",
       " [515.0122621388858],\n",
       " [177.6698962626534],\n",
       " [844.5913175230344]]"
      ]
     },
     "execution_count": 18,
     "metadata": {},
     "output_type": "execute_result"
    }
   ],
   "source": [
    "### 다중공선성의 문제 있을 수 있다. \n",
    "\n",
    "from statsmodels.stats.outliers_influence import variance_inflation_factor\n",
    "\n",
    "vif_list = []\n",
    "for i in range(X_train.shape[1]): \n",
    "    vif_list.append([variance_inflation_factor(X_train,i)])\n",
    "vif_list[:20]"
   ]
  },
  {
   "cell_type": "code",
   "execution_count": 16,
   "metadata": {
    "scrolled": true
   },
   "outputs": [],
   "source": [
    "vif_dt = pd.DataFrame(vif_list,columns=['vif'])"
   ]
  },
  {
   "cell_type": "code",
   "execution_count": 17,
   "metadata": {
    "scrolled": true
   },
   "outputs": [
    {
     "data": {
      "text/html": [
       "<div>\n",
       "<style scoped>\n",
       "    .dataframe tbody tr th:only-of-type {\n",
       "        vertical-align: middle;\n",
       "    }\n",
       "\n",
       "    .dataframe tbody tr th {\n",
       "        vertical-align: top;\n",
       "    }\n",
       "\n",
       "    .dataframe thead th {\n",
       "        text-align: right;\n",
       "    }\n",
       "</style>\n",
       "<table border=\"1\" class=\"dataframe\">\n",
       "  <thead>\n",
       "    <tr style=\"text-align: right;\">\n",
       "      <th></th>\n",
       "      <th>vif</th>\n",
       "    </tr>\n",
       "  </thead>\n",
       "  <tbody>\n",
       "    <tr>\n",
       "      <th>28</th>\n",
       "      <td>6.940197</td>\n",
       "    </tr>\n",
       "  </tbody>\n",
       "</table>\n",
       "</div>"
      ],
      "text/plain": [
       "         vif\n",
       "28  6.940197"
      ]
     },
     "execution_count": 17,
     "metadata": {},
     "output_type": "execute_result"
    }
   ],
   "source": [
    "vif_dt[vif_dt['vif']<10]"
   ]
  }
 ],
 "metadata": {
  "kernelspec": {
   "display_name": "Python 3 (ipykernel)",
   "language": "python",
   "name": "python3"
  },
  "language_info": {
   "codemirror_mode": {
    "name": "ipython",
    "version": 3
   },
   "file_extension": ".py",
   "mimetype": "text/x-python",
   "name": "python",
   "nbconvert_exporter": "python",
   "pygments_lexer": "ipython3",
   "version": "3.7.11"
  },
  "toc": {
   "base_numbering": "11",
   "nav_menu": {},
   "number_sections": true,
   "sideBar": true,
   "skip_h1_title": false,
   "title_cell": "Table of Contents",
   "title_sidebar": "Contents",
   "toc_cell": false,
   "toc_position": {},
   "toc_section_display": true,
   "toc_window_display": false
  }
 },
 "nbformat": 4,
 "nbformat_minor": 4
}
