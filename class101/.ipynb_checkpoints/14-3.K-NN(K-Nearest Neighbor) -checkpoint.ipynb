{
 "cells": [
  {
   "cell_type": "markdown",
   "metadata": {
    "toc": true
   },
   "source": [
    "<h1>Table of Contents<span class=\"tocSkip\"></span></h1>\n",
    "<div class=\"toc\"><ul class=\"toc-item\"><li><span><a href=\"#K-NN(K-Nearest-Neighbor)\" data-toc-modified-id=\"K-NN(K-Nearest-Neighbor)-14.3\"><span class=\"toc-item-num\">14.3&nbsp;&nbsp;</span>K-NN(K-Nearest Neighbor)</a></span><ul class=\"toc-item\"><li><span><a href=\"#K-NN-알고리즘의-원리\" data-toc-modified-id=\"K-NN-알고리즘의-원리-14.3.1\"><span class=\"toc-item-num\">14.3.1&nbsp;&nbsp;</span>K-NN 알고리즘의 원리</a></span></li><li><span><a href=\"#K의-선택\" data-toc-modified-id=\"K의-선택-14.3.2\"><span class=\"toc-item-num\">14.3.2&nbsp;&nbsp;</span>K의 선택</a></span><ul class=\"toc-item\"><li><ul class=\"toc-item\"><li><span><a href=\"#앞서-분할한-credit-데이터의-train데이터로-K-NN-모델을-만들어-보자\" data-toc-modified-id=\"앞서-분할한-credit-데이터의-train데이터로-K-NN-모델을-만들어-보자-14.3.2.0.1\"><span class=\"toc-item-num\">14.3.2.0.1&nbsp;&nbsp;</span>앞서 분할한 credit 데이터의 train데이터로 K-NN 모델을 만들어 보자</a></span></li></ul></li></ul></li><li><span><a href=\"#최적의-k찾기\" data-toc-modified-id=\"최적의-k찾기-14.3.3\"><span class=\"toc-item-num\">14.3.3&nbsp;&nbsp;</span>최적의 k찾기</a></span></li><li><span><a href=\"#Cross-validation을-활용한-최적의-k찾기\" data-toc-modified-id=\"Cross-validation을-활용한-최적의-k찾기-14.3.4\"><span class=\"toc-item-num\">14.3.4&nbsp;&nbsp;</span>Cross-validation을 활용한 최적의 k찾기</a></span></li></ul></li></ul></div>"
   ]
  },
  {
   "cell_type": "markdown",
   "metadata": {},
   "source": [
    "-----------\n",
    "\n",
    "## K-NN(K-Nearest Neighbor) \n",
    "\n",
    "\n",
    "### K-NN 알고리즘의 원리\n",
    "\n",
    "- K-NN 알고리즘에서는 새로운 데이터의 클래스를 해당 데이터와 가장 가까운 k개 데이터들의 클래스(범주)로 결정한다. \n",
    "\n",
    "- 예를 들어 아래의 그림에서 '?'의 클래스를 구분하고자 할 때, k를 1로 설정할 경우는 사각형으로 분류할 수 있고 k를 3으로 설정할 경우는 삼각형으로 분류될 수 있다. \n",
    "\n",
    "<img src='https://github.com/mjaemin/ADP/blob/main/class101/KNN.png?raw=true' width=\"600\">\n",
    "- K-NN 알고리즘에서는 최근접 이웃 간의 거리를 계산할 때 유클리디안 거리, 맨하탄 거리, 민코우스키 거리 등을 사용할 수 있으며, 대표적으로 유클리디안 거리를 사용한다. \n",
    "\n",
    "###  K의 선택 \n",
    "- K의 선택은 학습의 난이도와 데이터의 개수에 따라 결정될 수 있으며, 일반적으로는 훈련 데이터 개수의 제곱근으로 설정한다. 그리고 짝수로 했을 때, 인접객체의 범주가 동률일 경우가 나오므로 일반적으로 홀수로 설정함 "
   ]
  },
  {
   "cell_type": "code",
   "execution_count": 1,
   "metadata": {},
   "outputs": [],
   "source": [
    "import warnings\n",
    "warnings.filterwarnings(action='ignore')"
   ]
  },
  {
   "cell_type": "code",
   "execution_count": 2,
   "metadata": {},
   "outputs": [
    {
     "data": {
      "text/html": [
       "<div>\n",
       "<style scoped>\n",
       "    .dataframe tbody tr th:only-of-type {\n",
       "        vertical-align: middle;\n",
       "    }\n",
       "\n",
       "    .dataframe tbody tr th {\n",
       "        vertical-align: top;\n",
       "    }\n",
       "\n",
       "    .dataframe thead th {\n",
       "        text-align: right;\n",
       "    }\n",
       "</style>\n",
       "<table border=\"1\" class=\"dataframe\">\n",
       "  <thead>\n",
       "    <tr style=\"text-align: right;\">\n",
       "      <th></th>\n",
       "      <th>account.balance</th>\n",
       "      <th>age</th>\n",
       "      <th>apartment.type</th>\n",
       "      <th>bank.credits</th>\n",
       "      <th>credit.amount</th>\n",
       "      <th>credit.duration.months</th>\n",
       "      <th>credit.purpose</th>\n",
       "      <th>current.assets</th>\n",
       "      <th>dependents</th>\n",
       "      <th>employment.duration</th>\n",
       "      <th>foreign.worker</th>\n",
       "      <th>guarantor</th>\n",
       "      <th>installment.rate</th>\n",
       "      <th>marital.status</th>\n",
       "      <th>occupation</th>\n",
       "      <th>other.credits</th>\n",
       "      <th>previous.credit.payment.status</th>\n",
       "      <th>residence.duration</th>\n",
       "      <th>savings</th>\n",
       "      <th>telephone</th>\n",
       "    </tr>\n",
       "  </thead>\n",
       "  <tbody>\n",
       "    <tr>\n",
       "      <th>75</th>\n",
       "      <td>2</td>\n",
       "      <td>24</td>\n",
       "      <td>2</td>\n",
       "      <td>1</td>\n",
       "      <td>2030</td>\n",
       "      <td>9</td>\n",
       "      <td>2</td>\n",
       "      <td>3</td>\n",
       "      <td>1</td>\n",
       "      <td>3</td>\n",
       "      <td>1</td>\n",
       "      <td>1</td>\n",
       "      <td>2</td>\n",
       "      <td>3</td>\n",
       "      <td>3</td>\n",
       "      <td>2</td>\n",
       "      <td>2</td>\n",
       "      <td>1</td>\n",
       "      <td>4</td>\n",
       "      <td>2</td>\n",
       "    </tr>\n",
       "    <tr>\n",
       "      <th>112</th>\n",
       "      <td>2</td>\n",
       "      <td>36</td>\n",
       "      <td>2</td>\n",
       "      <td>1</td>\n",
       "      <td>2366</td>\n",
       "      <td>12</td>\n",
       "      <td>4</td>\n",
       "      <td>3</td>\n",
       "      <td>1</td>\n",
       "      <td>3</td>\n",
       "      <td>1</td>\n",
       "      <td>1</td>\n",
       "      <td>3</td>\n",
       "      <td>1</td>\n",
       "      <td>4</td>\n",
       "      <td>2</td>\n",
       "      <td>3</td>\n",
       "      <td>3</td>\n",
       "      <td>3</td>\n",
       "      <td>2</td>\n",
       "    </tr>\n",
       "    <tr>\n",
       "      <th>327</th>\n",
       "      <td>3</td>\n",
       "      <td>46</td>\n",
       "      <td>2</td>\n",
       "      <td>2</td>\n",
       "      <td>1343</td>\n",
       "      <td>6</td>\n",
       "      <td>4</td>\n",
       "      <td>1</td>\n",
       "      <td>2</td>\n",
       "      <td>4</td>\n",
       "      <td>2</td>\n",
       "      <td>1</td>\n",
       "      <td>1</td>\n",
       "      <td>3</td>\n",
       "      <td>3</td>\n",
       "      <td>2</td>\n",
       "      <td>3</td>\n",
       "      <td>4</td>\n",
       "      <td>1</td>\n",
       "      <td>1</td>\n",
       "    </tr>\n",
       "    <tr>\n",
       "      <th>894</th>\n",
       "      <td>2</td>\n",
       "      <td>34</td>\n",
       "      <td>2</td>\n",
       "      <td>1</td>\n",
       "      <td>2064</td>\n",
       "      <td>24</td>\n",
       "      <td>2</td>\n",
       "      <td>2</td>\n",
       "      <td>1</td>\n",
       "      <td>1</td>\n",
       "      <td>1</td>\n",
       "      <td>1</td>\n",
       "      <td>3</td>\n",
       "      <td>1</td>\n",
       "      <td>4</td>\n",
       "      <td>2</td>\n",
       "      <td>3</td>\n",
       "      <td>2</td>\n",
       "      <td>1</td>\n",
       "      <td>2</td>\n",
       "    </tr>\n",
       "    <tr>\n",
       "      <th>437</th>\n",
       "      <td>3</td>\n",
       "      <td>24</td>\n",
       "      <td>2</td>\n",
       "      <td>1</td>\n",
       "      <td>935</td>\n",
       "      <td>6</td>\n",
       "      <td>3</td>\n",
       "      <td>1</td>\n",
       "      <td>1</td>\n",
       "      <td>2</td>\n",
       "      <td>1</td>\n",
       "      <td>1</td>\n",
       "      <td>3</td>\n",
       "      <td>1</td>\n",
       "      <td>3</td>\n",
       "      <td>2</td>\n",
       "      <td>3</td>\n",
       "      <td>2</td>\n",
       "      <td>1</td>\n",
       "      <td>1</td>\n",
       "    </tr>\n",
       "  </tbody>\n",
       "</table>\n",
       "</div>"
      ],
      "text/plain": [
       "     account.balance  age  apartment.type  bank.credits  credit.amount  \\\n",
       "75                 2   24               2             1           2030   \n",
       "112                2   36               2             1           2366   \n",
       "327                3   46               2             2           1343   \n",
       "894                2   34               2             1           2064   \n",
       "437                3   24               2             1            935   \n",
       "\n",
       "     credit.duration.months  credit.purpose  current.assets  dependents  \\\n",
       "75                        9               2               3           1   \n",
       "112                      12               4               3           1   \n",
       "327                       6               4               1           2   \n",
       "894                      24               2               2           1   \n",
       "437                       6               3               1           1   \n",
       "\n",
       "     employment.duration  foreign.worker  guarantor  installment.rate  \\\n",
       "75                     3               1          1                 2   \n",
       "112                    3               1          1                 3   \n",
       "327                    4               2          1                 1   \n",
       "894                    1               1          1                 3   \n",
       "437                    2               1          1                 3   \n",
       "\n",
       "     marital.status  occupation  other.credits  \\\n",
       "75                3           3              2   \n",
       "112               1           4              2   \n",
       "327               3           3              2   \n",
       "894               1           4              2   \n",
       "437               1           3              2   \n",
       "\n",
       "     previous.credit.payment.status  residence.duration  savings  telephone  \n",
       "75                                2                   1        4          2  \n",
       "112                               3                   3        3          2  \n",
       "327                               3                   4        1          1  \n",
       "894                               3                   2        1          2  \n",
       "437                               3                   2        1          1  "
      ]
     },
     "execution_count": 2,
     "metadata": {},
     "output_type": "execute_result"
    }
   ],
   "source": [
    "import pandas as pd\n",
    "from sklearn.model_selection import train_test_split\n",
    "\n",
    "credit = pd.read_csv(\"./data/credit_final.csv\")\n",
    "X = credit[credit.columns.difference(['credit.rating'])]\n",
    "y = credit['credit.rating']\n",
    "\n",
    "X_train, X_test, y_train, y_test = train_test_split(X, y, test_size=0.3,stratify=y , random_state=321)\n",
    "X_train.head()"
   ]
  },
  {
   "cell_type": "markdown",
   "metadata": {},
   "source": [
    "##### 앞서 분할한 credit 데이터의 train데이터로 K-NN 모델을 만들어 보자 "
   ]
  },
  {
   "cell_type": "code",
   "execution_count": 3,
   "metadata": {},
   "outputs": [],
   "source": [
    "import numpy as np\n",
    "from sklearn.neighbors import KNeighborsClassifier"
   ]
  },
  {
   "cell_type": "code",
   "execution_count": 4,
   "metadata": {},
   "outputs": [
    {
     "data": {
      "text/plain": [
       "KNeighborsClassifier()"
      ]
     },
     "execution_count": 4,
     "metadata": {},
     "output_type": "execute_result"
    }
   ],
   "source": [
    "clf =KNeighborsClassifier() #### k = 5 \n",
    "clf.fit(X_train,y_train)"
   ]
  },
  {
   "cell_type": "code",
   "execution_count": 5,
   "metadata": {},
   "outputs": [
    {
     "data": {
      "text/plain": [
       "{'algorithm': 'auto',\n",
       " 'leaf_size': 30,\n",
       " 'metric': 'minkowski',\n",
       " 'metric_params': None,\n",
       " 'n_jobs': None,\n",
       " 'n_neighbors': 5,\n",
       " 'p': 2,\n",
       " 'weights': 'uniform'}"
      ]
     },
     "execution_count": 5,
     "metadata": {},
     "output_type": "execute_result"
    }
   ],
   "source": [
    "clf.get_params()"
   ]
  },
  {
   "cell_type": "code",
   "execution_count": 6,
   "metadata": {},
   "outputs": [],
   "source": [
    "y_pred=clf.predict(X_test)"
   ]
  },
  {
   "cell_type": "code",
   "execution_count": 7,
   "metadata": {},
   "outputs": [
    {
     "data": {
      "text/plain": [
       "array([[ 22,  68],\n",
       "       [ 40, 170]])"
      ]
     },
     "execution_count": 7,
     "metadata": {},
     "output_type": "execute_result"
    }
   ],
   "source": [
    "from sklearn.metrics import confusion_matrix, plot_roc_curve, roc_auc_score\n",
    "confusion_matrix(y_test,y_pred)"
   ]
  },
  {
   "cell_type": "code",
   "execution_count": 8,
   "metadata": {
    "scrolled": false
   },
   "outputs": [
    {
     "data": {
      "text/plain": [
       "<sklearn.metrics._plot.roc_curve.RocCurveDisplay at 0x7ffa897a0a50>"
      ]
     },
     "execution_count": 8,
     "metadata": {},
     "output_type": "execute_result"
    },
    {
     "data": {
      "image/png": "[encoded data removed]",
      "text/plain": [
       "<Figure size 432x288 with 1 Axes>"
      ]
     },
     "metadata": {
      "needs_background": "light"
     },
     "output_type": "display_data"
    }
   ],
   "source": [
    "plot_roc_curve(clf, X_test,y_test)"
   ]
  },
  {
   "cell_type": "code",
   "execution_count": 9,
   "metadata": {
    "scrolled": true
   },
   "outputs": [
    {
     "data": {
      "text/plain": [
       "0.5692592592592592"
      ]
     },
     "execution_count": 9,
     "metadata": {},
     "output_type": "execute_result"
    }
   ],
   "source": [
    "roc_auc_score(y_test,clf.predict_proba(X_test)[:,1])"
   ]
  },
  {
   "cell_type": "code",
   "execution_count": 10,
   "metadata": {},
   "outputs": [
    {
     "data": {
      "text/plain": [
       "array([[0.6, 0.4],\n",
       "       [0.2, 0.8],\n",
       "       [0.4, 0.6],\n",
       "       [0. , 1. ],\n",
       "       [0. , 1. ]])"
      ]
     },
     "execution_count": 10,
     "metadata": {},
     "output_type": "execute_result"
    }
   ],
   "source": [
    "clf.predict_proba(X_test)[:5,:]"
   ]
  },
  {
   "cell_type": "markdown",
   "metadata": {},
   "source": [
    "### 최적의 k찾기"
   ]
  },
  {
   "cell_type": "code",
   "execution_count": 11,
   "metadata": {},
   "outputs": [
    {
     "data": {
      "image/png": "[encoded data removed]",
      "text/plain": [
       "<Figure size 432x288 with 1 Axes>"
      ]
     },
     "metadata": {
      "needs_background": "light"
     },
     "output_type": "display_data"
    }
   ],
   "source": [
    "k_range = range(1,200)\n",
    "k_scores= []\n",
    "\n",
    "for k in k_range:\n",
    "    knn=KNeighborsClassifier(k)\n",
    "    knn.fit(X_train,y_train)\n",
    "    scores=roc_auc_score(y_test,knn.predict_proba(X_test)[:,1])\n",
    "    k_scores.append(scores.mean())\n",
    "    \n",
    "import matplotlib.pyplot as plt\n",
    "plt.plot(k_range, k_scores)\n",
    "plt.xlabel('Value of K for KNN')\n",
    "plt.ylabel('roc_auc_score')\n",
    "plt.show()"
   ]
  },
  {
   "cell_type": "code",
   "execution_count": 12,
   "metadata": {
    "scrolled": true
   },
   "outputs": [
    {
     "name": "stdout",
     "output_type": "stream",
     "text": [
      "0.6156349206349208\n",
      "179\n"
     ]
    }
   ],
   "source": [
    "print(max(k_scores))\n",
    "print(k_scores.index(max(k_scores)))"
   ]
  },
  {
   "cell_type": "markdown",
   "metadata": {},
   "source": [
    "### Cross-validation을 활용한 최적의 k찾기"
   ]
  },
  {
   "cell_type": "code",
   "execution_count": 13,
   "metadata": {},
   "outputs": [],
   "source": [
    "from sklearn.model_selection import cross_val_score"
   ]
  },
  {
   "cell_type": "code",
   "execution_count": 14,
   "metadata": {},
   "outputs": [],
   "source": [
    "k_range = range(1,100)\n",
    "k_scores= []\n",
    "\n",
    "for k in k_range:\n",
    "    knn=KNeighborsClassifier(k)\n",
    "    scores=cross_val_score(knn,X,y,cv=10,scoring=\"accuracy\")\n",
    "    k_scores.append(scores.mean())"
   ]
  },
  {
   "cell_type": "code",
   "execution_count": 15,
   "metadata": {},
   "outputs": [
    {
     "data": {
      "image/png": "[encoded data removed]",
      "text/plain": [
       "<Figure size 432x288 with 1 Axes>"
      ]
     },
     "metadata": {
      "needs_background": "light"
     },
     "output_type": "display_data"
    }
   ],
   "source": [
    "import matplotlib.pyplot as plt\n",
    "plt.plot(k_range, k_scores)\n",
    "plt.xlabel('Value of K for KNN')\n",
    "plt.ylabel('Cross-validated accuracy')\n",
    "plt.show()"
   ]
  },
  {
   "cell_type": "code",
   "execution_count": 18,
   "metadata": {},
   "outputs": [
    {
     "data": {
      "image/png": "[encoded data removed]",
      "text/plain": [
       "<Figure size 432x288 with 1 Axes>"
      ]
     },
     "metadata": {
      "needs_background": "light"
     },
     "output_type": "display_data"
    }
   ],
   "source": [
    "k_range = range(1,200)\n",
    "k_scores= []\n",
    "\n",
    "for k in k_range:\n",
    "    knn=KNeighborsClassifier(k)\n",
    "    scores=cross_val_score(knn,X,y,cv=10,scoring=\"roc_auc\")\n",
    "    k_scores.append(scores.mean())\n",
    "import matplotlib.pyplot as plt\n",
    "plt.plot(k_range, k_scores)\n",
    "plt.xlabel('Value of K for KNN')\n",
    "plt.ylabel('Cross-validated accuracy')\n",
    "plt.show()"
   ]
  },
  {
   "cell_type": "code",
   "execution_count": null,
   "metadata": {},
   "outputs": [],
   "source": []
  }
 ],
 "metadata": {
  "kernelspec": {
   "display_name": "Python 3 (ipykernel)",
   "language": "python",
   "name": "python3"
  },
  "language_info": {
   "codemirror_mode": {
    "name": "ipython",
    "version": 3
   },
   "file_extension": ".py",
   "mimetype": "text/x-python",
   "name": "python",
   "nbconvert_exporter": "python",
   "pygments_lexer": "ipython3",
   "version": "3.7.11"
  },
  "toc": {
   "base_numbering": "14.3",
   "nav_menu": {},
   "number_sections": true,
   "sideBar": true,
   "skip_h1_title": false,
   "title_cell": "Table of Contents",
   "title_sidebar": "Contents",
   "toc_cell": true,
   "toc_position": {},
   "toc_section_display": true,
   "toc_window_display": false
  }
 },
 "nbformat": 4,
 "nbformat_minor": 4
}
