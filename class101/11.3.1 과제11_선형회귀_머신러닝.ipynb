{
 "cells": [
  {
   "cell_type": "markdown",
   "id": "fee3317e",
   "metadata": {
    "toc": true
   },
   "source": [
    "<h1>Table of Contents<span class=\"tocSkip\"></span></h1>\n",
    "<div class=\"toc\"><ul class=\"toc-item\"><li><span><a href=\"#11.Ridge,-Lasso,-Elastic-선형회귀분석-과제\" data-toc-modified-id=\"11.Ridge,-Lasso,-Elastic-선형회귀분석-과제-1\"><span class=\"toc-item-num\">1&nbsp;&nbsp;</span>11.Ridge, Lasso, Elastic 선형회귀분석 과제</a></span><ul class=\"toc-item\"><li><span><a href=\"#전처리-:--id,-date-삭제\" data-toc-modified-id=\"전처리-:--id,-date-삭제-1.1\"><span class=\"toc-item-num\">1.1&nbsp;&nbsp;</span>전처리 :  id, date 삭제</a></span></li><li><span><a href=\"#범주형-변수-전처리\" data-toc-modified-id=\"범주형-변수-전처리-1.2\"><span class=\"toc-item-num\">1.2&nbsp;&nbsp;</span>범주형 변수 전처리</a></span></li><li><span><a href=\"#종속변수-y-=-price-,-나머지는-독립변수-X로-설정\" data-toc-modified-id=\"종속변수-y-=-price-,-나머지는-독립변수-X로-설정-1.3\"><span class=\"toc-item-num\">1.3&nbsp;&nbsp;</span>종속변수 y = price , 나머지는 독립변수 X로 설정</a></span></li><li><span><a href=\"#홀드아웃-기법을-사용하여-데이터-분할\" data-toc-modified-id=\"홀드아웃-기법을-사용하여-데이터-분할-1.4\"><span class=\"toc-item-num\">1.4&nbsp;&nbsp;</span>홀드아웃 기법을 사용하여 데이터 분할</a></span></li><li><span><a href=\"#Ridge-회귀분석을-하여-R2-값과-RMSE값을-구하고-설명하세요.\" data-toc-modified-id=\"Ridge-회귀분석을-하여-R2-값과-RMSE값을-구하고-설명하세요.-1.5\"><span class=\"toc-item-num\">1.5&nbsp;&nbsp;</span>Ridge 회귀분석을 하여 R2 값과 RMSE값을 구하고 설명하세요.</a></span><ul class=\"toc-item\"><li><span><a href=\"#해석\" data-toc-modified-id=\"해석-1.5.1\"><span class=\"toc-item-num\">1.5.1&nbsp;&nbsp;</span>해석</a></span></li></ul></li><li><span><a href=\"#스케일링-한-데이터셋의-결과와-스케일링-하지-않은-데이터-셋의-결과를-비교해보세요.\" data-toc-modified-id=\"스케일링-한-데이터셋의-결과와-스케일링-하지-않은-데이터-셋의-결과를-비교해보세요.-1.6\"><span class=\"toc-item-num\">1.6&nbsp;&nbsp;</span>스케일링 한 데이터셋의 결과와 스케일링 하지 않은 데이터 셋의 결과를 비교해보세요.</a></span><ul class=\"toc-item\"><li><span><a href=\"#해석\" data-toc-modified-id=\"해석-1.6.1\"><span class=\"toc-item-num\">1.6.1&nbsp;&nbsp;</span>해석</a></span></li></ul></li><li><span><a href=\"#회귀-계수-중-집값과-상관성이-높은-3가지-변수를-해석하세요\" data-toc-modified-id=\"회귀-계수-중-집값과-상관성이-높은-3가지-변수를-해석하세요-1.7\"><span class=\"toc-item-num\">1.7&nbsp;&nbsp;</span>회귀 계수 중 집값과 상관성이 높은 3가지 변수를 해석하세요</a></span><ul class=\"toc-item\"><li><span><a href=\"#해석\" data-toc-modified-id=\"해석-1.7.1\"><span class=\"toc-item-num\">1.7.1&nbsp;&nbsp;</span>해석</a></span></li></ul></li></ul></li></ul></div>"
   ]
  },
  {
   "cell_type": "markdown",
   "id": "f4c4847d",
   "metadata": {},
   "source": [
    "# 11.Ridge, Lasso, Elastic 선형회귀분석 과제 "
   ]
  },
  {
   "cell_type": "markdown",
   "id": "411d2b56",
   "metadata": {},
   "source": [
    "변수 설명 \n",
    "\n",
    "id - 판매된 각 주택의 고유 ID <br>\n",
    "date  - 주택 판매 날짜<br>\n",
    "price - 판매된 각 주택의 가격<br>\n",
    "bedrooms  - 침실 수<br>\n",
    "bathrooms  - 화장실이 있지만 샤워 시설은 없는 방을 0.5로 설명하는 욕실 수<br>\n",
    "sqft_living - 아파트 내부 생활 공간의 평방 피트<br>\n",
    "sqft_lot - 토지 공간의 평방 피트수<br>\n",
    "floors  - 층 수<br>\n",
    "waterfront - 아파트가 해안가를 내려다보고 있는지 여부에 대한 더미 변수<br>\n",
    "view - 부동산에 대한 뷰가 얼마나 좋았는지에 대한 0에서 4 사이의 인덱스<br>\n",
    "condition - 아파트 상태에 대한 1에서 5까지의 지수,<br>\n",
    "grade - 1-13까지의 수로,1-3은 건축 및 설계 미달, 7은 시공 및 설계 평균, 11-13은 시공 및 설계 수준 높은 수준이다.<br>\n",
    "sqft_above - 지면보다 높은 내부 주택 공간의 평방 피트수<br>\n",
    "sqft_basement - 지면 아래에 있는 내부 주택 공간의 평방 피트수<br>\n",
    "yr_built - 집이 처음 지어진 연도<br>\n",
    "yr_renovated - 집의 마지막 리모델링 연도<br>\n",
    "sqft_living15 - 가장 가까운 이웃 15명을 위한 내부 주택 생활 공간의 평방 피트<br>\n",
    "sqft_lot15 - 가장 가까운 15개 이웃 토지 부지의 평방 피트수<br>"
   ]
  },
  {
   "cell_type": "code",
   "execution_count": 5,
   "id": "20585f2c",
   "metadata": {
    "scrolled": false
   },
   "outputs": [
    {
     "data": {
      "text/html": [
       "<div>\n",
       "<style scoped>\n",
       "    .dataframe tbody tr th:only-of-type {\n",
       "        vertical-align: middle;\n",
       "    }\n",
       "\n",
       "    .dataframe tbody tr th {\n",
       "        vertical-align: top;\n",
       "    }\n",
       "\n",
       "    .dataframe thead th {\n",
       "        text-align: right;\n",
       "    }\n",
       "</style>\n",
       "<table border=\"1\" class=\"dataframe\">\n",
       "  <thead>\n",
       "    <tr style=\"text-align: right;\">\n",
       "      <th></th>\n",
       "      <th>id</th>\n",
       "      <th>date</th>\n",
       "      <th>price</th>\n",
       "      <th>bedrooms</th>\n",
       "      <th>bathrooms</th>\n",
       "      <th>sqft_living</th>\n",
       "      <th>sqft_lot</th>\n",
       "      <th>floors</th>\n",
       "      <th>waterfront</th>\n",
       "      <th>view</th>\n",
       "      <th>condition</th>\n",
       "      <th>grade</th>\n",
       "      <th>sqft_above</th>\n",
       "      <th>sqft_basement</th>\n",
       "      <th>yr_built</th>\n",
       "      <th>yr_renovated</th>\n",
       "      <th>sqft_living15</th>\n",
       "      <th>sqft_lot15</th>\n",
       "    </tr>\n",
       "  </thead>\n",
       "  <tbody>\n",
       "    <tr>\n",
       "      <th>0</th>\n",
       "      <td>7129300520</td>\n",
       "      <td>20141013T000000</td>\n",
       "      <td>221900.0</td>\n",
       "      <td>3</td>\n",
       "      <td>1.00</td>\n",
       "      <td>1180</td>\n",
       "      <td>5650</td>\n",
       "      <td>1.0</td>\n",
       "      <td>standard</td>\n",
       "      <td>0</td>\n",
       "      <td>3</td>\n",
       "      <td>7</td>\n",
       "      <td>1180</td>\n",
       "      <td>0</td>\n",
       "      <td>1955</td>\n",
       "      <td>0</td>\n",
       "      <td>1340</td>\n",
       "      <td>5650</td>\n",
       "    </tr>\n",
       "    <tr>\n",
       "      <th>1</th>\n",
       "      <td>6414100192</td>\n",
       "      <td>20141209T000000</td>\n",
       "      <td>538000.0</td>\n",
       "      <td>3</td>\n",
       "      <td>2.25</td>\n",
       "      <td>2570</td>\n",
       "      <td>7242</td>\n",
       "      <td>2.0</td>\n",
       "      <td>standard</td>\n",
       "      <td>0</td>\n",
       "      <td>3</td>\n",
       "      <td>7</td>\n",
       "      <td>2170</td>\n",
       "      <td>400</td>\n",
       "      <td>1951</td>\n",
       "      <td>1991</td>\n",
       "      <td>1690</td>\n",
       "      <td>7639</td>\n",
       "    </tr>\n",
       "    <tr>\n",
       "      <th>2</th>\n",
       "      <td>5631500400</td>\n",
       "      <td>20150225T000000</td>\n",
       "      <td>180000.0</td>\n",
       "      <td>2</td>\n",
       "      <td>1.00</td>\n",
       "      <td>770</td>\n",
       "      <td>10000</td>\n",
       "      <td>1.0</td>\n",
       "      <td>standard</td>\n",
       "      <td>0</td>\n",
       "      <td>3</td>\n",
       "      <td>6</td>\n",
       "      <td>770</td>\n",
       "      <td>0</td>\n",
       "      <td>1933</td>\n",
       "      <td>0</td>\n",
       "      <td>2720</td>\n",
       "      <td>8062</td>\n",
       "    </tr>\n",
       "    <tr>\n",
       "      <th>3</th>\n",
       "      <td>2487200875</td>\n",
       "      <td>20141209T000000</td>\n",
       "      <td>604000.0</td>\n",
       "      <td>4</td>\n",
       "      <td>3.00</td>\n",
       "      <td>1960</td>\n",
       "      <td>5000</td>\n",
       "      <td>1.0</td>\n",
       "      <td>standard</td>\n",
       "      <td>0</td>\n",
       "      <td>5</td>\n",
       "      <td>7</td>\n",
       "      <td>1050</td>\n",
       "      <td>910</td>\n",
       "      <td>1965</td>\n",
       "      <td>0</td>\n",
       "      <td>1360</td>\n",
       "      <td>5000</td>\n",
       "    </tr>\n",
       "    <tr>\n",
       "      <th>4</th>\n",
       "      <td>1954400510</td>\n",
       "      <td>20150218T000000</td>\n",
       "      <td>510000.0</td>\n",
       "      <td>3</td>\n",
       "      <td>2.00</td>\n",
       "      <td>1680</td>\n",
       "      <td>8080</td>\n",
       "      <td>1.0</td>\n",
       "      <td>standard</td>\n",
       "      <td>0</td>\n",
       "      <td>3</td>\n",
       "      <td>8</td>\n",
       "      <td>1680</td>\n",
       "      <td>0</td>\n",
       "      <td>1987</td>\n",
       "      <td>0</td>\n",
       "      <td>1800</td>\n",
       "      <td>7503</td>\n",
       "    </tr>\n",
       "    <tr>\n",
       "      <th>...</th>\n",
       "      <td>...</td>\n",
       "      <td>...</td>\n",
       "      <td>...</td>\n",
       "      <td>...</td>\n",
       "      <td>...</td>\n",
       "      <td>...</td>\n",
       "      <td>...</td>\n",
       "      <td>...</td>\n",
       "      <td>...</td>\n",
       "      <td>...</td>\n",
       "      <td>...</td>\n",
       "      <td>...</td>\n",
       "      <td>...</td>\n",
       "      <td>...</td>\n",
       "      <td>...</td>\n",
       "      <td>...</td>\n",
       "      <td>...</td>\n",
       "      <td>...</td>\n",
       "    </tr>\n",
       "    <tr>\n",
       "      <th>21608</th>\n",
       "      <td>263000018</td>\n",
       "      <td>20140521T000000</td>\n",
       "      <td>360000.0</td>\n",
       "      <td>3</td>\n",
       "      <td>2.50</td>\n",
       "      <td>1530</td>\n",
       "      <td>1131</td>\n",
       "      <td>3.0</td>\n",
       "      <td>standard</td>\n",
       "      <td>0</td>\n",
       "      <td>3</td>\n",
       "      <td>8</td>\n",
       "      <td>1530</td>\n",
       "      <td>0</td>\n",
       "      <td>2009</td>\n",
       "      <td>0</td>\n",
       "      <td>1530</td>\n",
       "      <td>1509</td>\n",
       "    </tr>\n",
       "    <tr>\n",
       "      <th>21609</th>\n",
       "      <td>6600060120</td>\n",
       "      <td>20150223T000000</td>\n",
       "      <td>400000.0</td>\n",
       "      <td>4</td>\n",
       "      <td>2.50</td>\n",
       "      <td>2310</td>\n",
       "      <td>5813</td>\n",
       "      <td>2.0</td>\n",
       "      <td>standard</td>\n",
       "      <td>0</td>\n",
       "      <td>3</td>\n",
       "      <td>8</td>\n",
       "      <td>2310</td>\n",
       "      <td>0</td>\n",
       "      <td>2014</td>\n",
       "      <td>0</td>\n",
       "      <td>1830</td>\n",
       "      <td>7200</td>\n",
       "    </tr>\n",
       "    <tr>\n",
       "      <th>21610</th>\n",
       "      <td>1523300141</td>\n",
       "      <td>20140623T000000</td>\n",
       "      <td>402101.0</td>\n",
       "      <td>2</td>\n",
       "      <td>0.75</td>\n",
       "      <td>1020</td>\n",
       "      <td>1350</td>\n",
       "      <td>2.0</td>\n",
       "      <td>standard</td>\n",
       "      <td>0</td>\n",
       "      <td>3</td>\n",
       "      <td>7</td>\n",
       "      <td>1020</td>\n",
       "      <td>0</td>\n",
       "      <td>2009</td>\n",
       "      <td>0</td>\n",
       "      <td>1020</td>\n",
       "      <td>2007</td>\n",
       "    </tr>\n",
       "    <tr>\n",
       "      <th>21611</th>\n",
       "      <td>291310100</td>\n",
       "      <td>20150116T000000</td>\n",
       "      <td>400000.0</td>\n",
       "      <td>3</td>\n",
       "      <td>2.50</td>\n",
       "      <td>1600</td>\n",
       "      <td>2388</td>\n",
       "      <td>2.0</td>\n",
       "      <td>standard</td>\n",
       "      <td>0</td>\n",
       "      <td>3</td>\n",
       "      <td>8</td>\n",
       "      <td>1600</td>\n",
       "      <td>0</td>\n",
       "      <td>2004</td>\n",
       "      <td>0</td>\n",
       "      <td>1410</td>\n",
       "      <td>1287</td>\n",
       "    </tr>\n",
       "    <tr>\n",
       "      <th>21612</th>\n",
       "      <td>1523300157</td>\n",
       "      <td>20141015T000000</td>\n",
       "      <td>325000.0</td>\n",
       "      <td>2</td>\n",
       "      <td>0.75</td>\n",
       "      <td>1020</td>\n",
       "      <td>1076</td>\n",
       "      <td>2.0</td>\n",
       "      <td>standard</td>\n",
       "      <td>0</td>\n",
       "      <td>3</td>\n",
       "      <td>7</td>\n",
       "      <td>1020</td>\n",
       "      <td>0</td>\n",
       "      <td>2008</td>\n",
       "      <td>0</td>\n",
       "      <td>1020</td>\n",
       "      <td>1357</td>\n",
       "    </tr>\n",
       "  </tbody>\n",
       "</table>\n",
       "<p>21613 rows × 18 columns</p>\n",
       "</div>"
      ],
      "text/plain": [
       "               id             date     price  bedrooms  bathrooms  \\\n",
       "0      7129300520  20141013T000000  221900.0         3       1.00   \n",
       "1      6414100192  20141209T000000  538000.0         3       2.25   \n",
       "2      5631500400  20150225T000000  180000.0         2       1.00   \n",
       "3      2487200875  20141209T000000  604000.0         4       3.00   \n",
       "4      1954400510  20150218T000000  510000.0         3       2.00   \n",
       "...           ...              ...       ...       ...        ...   \n",
       "21608   263000018  20140521T000000  360000.0         3       2.50   \n",
       "21609  6600060120  20150223T000000  400000.0         4       2.50   \n",
       "21610  1523300141  20140623T000000  402101.0         2       0.75   \n",
       "21611   291310100  20150116T000000  400000.0         3       2.50   \n",
       "21612  1523300157  20141015T000000  325000.0         2       0.75   \n",
       "\n",
       "       sqft_living  sqft_lot  floors waterfront  view  condition  grade  \\\n",
       "0             1180      5650     1.0   standard     0          3      7   \n",
       "1             2570      7242     2.0   standard     0          3      7   \n",
       "2              770     10000     1.0   standard     0          3      6   \n",
       "3             1960      5000     1.0   standard     0          5      7   \n",
       "4             1680      8080     1.0   standard     0          3      8   \n",
       "...            ...       ...     ...        ...   ...        ...    ...   \n",
       "21608         1530      1131     3.0   standard     0          3      8   \n",
       "21609         2310      5813     2.0   standard     0          3      8   \n",
       "21610         1020      1350     2.0   standard     0          3      7   \n",
       "21611         1600      2388     2.0   standard     0          3      8   \n",
       "21612         1020      1076     2.0   standard     0          3      7   \n",
       "\n",
       "       sqft_above  sqft_basement  yr_built  yr_renovated  sqft_living15  \\\n",
       "0            1180              0      1955             0           1340   \n",
       "1            2170            400      1951          1991           1690   \n",
       "2             770              0      1933             0           2720   \n",
       "3            1050            910      1965             0           1360   \n",
       "4            1680              0      1987             0           1800   \n",
       "...           ...            ...       ...           ...            ...   \n",
       "21608        1530              0      2009             0           1530   \n",
       "21609        2310              0      2014             0           1830   \n",
       "21610        1020              0      2009             0           1020   \n",
       "21611        1600              0      2004             0           1410   \n",
       "21612        1020              0      2008             0           1020   \n",
       "\n",
       "       sqft_lot15  \n",
       "0            5650  \n",
       "1            7639  \n",
       "2            8062  \n",
       "3            5000  \n",
       "4            7503  \n",
       "...           ...  \n",
       "21608        1509  \n",
       "21609        7200  \n",
       "21610        2007  \n",
       "21611        1287  \n",
       "21612        1357  \n",
       "\n",
       "[21613 rows x 18 columns]"
      ]
     },
     "execution_count": 5,
     "metadata": {},
     "output_type": "execute_result"
    }
   ],
   "source": [
    "import pandas as pd \n",
    "df = pd.read_csv(\"./data/kc_house_data.csv\")\n",
    "df"
   ]
  },
  {
   "cell_type": "markdown",
   "id": "7824fe7c",
   "metadata": {},
   "source": [
    "## 전처리 :  id, date 삭제 "
   ]
  },
  {
   "cell_type": "code",
   "execution_count": 6,
   "id": "c8899b0c",
   "metadata": {},
   "outputs": [],
   "source": [
    "df.drop(columns=['id','date'], inplace=True)"
   ]
  },
  {
   "cell_type": "markdown",
   "id": "d82f0872",
   "metadata": {},
   "source": [
    "## 범주형 변수 전처리 "
   ]
  },
  {
   "cell_type": "code",
   "execution_count": 7,
   "id": "eaa114f2",
   "metadata": {},
   "outputs": [
    {
     "name": "stdout",
     "output_type": "stream",
     "text": [
      "<class 'pandas.core.frame.DataFrame'>\n",
      "RangeIndex: 21613 entries, 0 to 21612\n",
      "Data columns (total 16 columns):\n",
      " #   Column         Non-Null Count  Dtype  \n",
      "---  ------         --------------  -----  \n",
      " 0   price          21613 non-null  float64\n",
      " 1   bedrooms       21613 non-null  int64  \n",
      " 2   bathrooms      21613 non-null  float64\n",
      " 3   sqft_living    21613 non-null  int64  \n",
      " 4   sqft_lot       21613 non-null  int64  \n",
      " 5   floors         21613 non-null  float64\n",
      " 6   waterfront     21613 non-null  object \n",
      " 7   view           21613 non-null  int64  \n",
      " 8   condition      21613 non-null  int64  \n",
      " 9   grade          21613 non-null  int64  \n",
      " 10  sqft_above     21613 non-null  int64  \n",
      " 11  sqft_basement  21613 non-null  int64  \n",
      " 12  yr_built       21613 non-null  int64  \n",
      " 13  yr_renovated   21613 non-null  int64  \n",
      " 14  sqft_living15  21613 non-null  int64  \n",
      " 15  sqft_lot15     21613 non-null  int64  \n",
      "dtypes: float64(3), int64(12), object(1)\n",
      "memory usage: 2.6+ MB\n"
     ]
    }
   ],
   "source": [
    "df.info()"
   ]
  },
  {
   "cell_type": "code",
   "execution_count": 8,
   "id": "6c88291f",
   "metadata": {},
   "outputs": [
    {
     "data": {
      "text/plain": [
       "standard      21450\n",
       "river_view      163\n",
       "Name: waterfront, dtype: int64"
      ]
     },
     "execution_count": 8,
     "metadata": {},
     "output_type": "execute_result"
    }
   ],
   "source": [
    "df['waterfront'].value_counts()"
   ]
  },
  {
   "cell_type": "code",
   "execution_count": 10,
   "id": "04fb3ee8",
   "metadata": {},
   "outputs": [],
   "source": [
    "df_dum = pd.get_dummies(columns=['waterfront'], data = df)"
   ]
  },
  {
   "cell_type": "markdown",
   "id": "91721d03",
   "metadata": {},
   "source": [
    "## 종속변수 y = price , 나머지는 독립변수 X로 설정 "
   ]
  },
  {
   "cell_type": "code",
   "execution_count": 11,
   "id": "8256b439",
   "metadata": {},
   "outputs": [],
   "source": [
    "y = df_dum['price']\n",
    "X = df_dum.drop(columns = ['price'])"
   ]
  },
  {
   "cell_type": "markdown",
   "id": "214f6fd3",
   "metadata": {},
   "source": [
    "## 홀드아웃 기법을 사용하여 데이터 분할 "
   ]
  },
  {
   "cell_type": "code",
   "execution_count": 16,
   "id": "e907c4e0",
   "metadata": {},
   "outputs": [
    {
     "name": "stdout",
     "output_type": "stream",
     "text": [
      "(15129, 16) (6484, 16) (15129,) (6484,)\n"
     ]
    }
   ],
   "source": [
    "from sklearn.model_selection import train_test_split\n",
    "\n",
    "X_train, X_test, y_train, y_test = train_test_split(X, y, train_size=0.7,\n",
    "                                                   test_size = 0.3, random_state=123)\n",
    "print(X_train.shape, X_test.shape, y_train.shape, y_test.shape)"
   ]
  },
  {
   "cell_type": "markdown",
   "id": "0eb2a649",
   "metadata": {},
   "source": [
    "## Ridge 회귀분석을 하여 R2 값과 RMSE값을 구하고 설명하세요. "
   ]
  },
  {
   "cell_type": "code",
   "execution_count": 17,
   "id": "6803db9c",
   "metadata": {},
   "outputs": [
    {
     "name": "stderr",
     "output_type": "stream",
     "text": [
      "/Users/hmc/opt/anaconda3/envs/ADP_Class/lib/python3.7/site-packages/sklearn/linear_model/_ridge.py:157: LinAlgWarning: Ill-conditioned matrix (rcond=3.25626e-18): result may not be accurate.\n",
      "  return linalg.solve(A, Xy, sym_pos=True, overwrite_a=True).T\n",
      "/Users/hmc/opt/anaconda3/envs/ADP_Class/lib/python3.7/site-packages/sklearn/linear_model/_ridge.py:157: LinAlgWarning: Ill-conditioned matrix (rcond=3.02031e-18): result may not be accurate.\n",
      "  return linalg.solve(A, Xy, sym_pos=True, overwrite_a=True).T\n",
      "/Users/hmc/opt/anaconda3/envs/ADP_Class/lib/python3.7/site-packages/sklearn/linear_model/_ridge.py:157: LinAlgWarning: Ill-conditioned matrix (rcond=3.30285e-18): result may not be accurate.\n",
      "  return linalg.solve(A, Xy, sym_pos=True, overwrite_a=True).T\n",
      "/Users/hmc/opt/anaconda3/envs/ADP_Class/lib/python3.7/site-packages/sklearn/linear_model/_ridge.py:157: LinAlgWarning: Ill-conditioned matrix (rcond=3.31546e-18): result may not be accurate.\n",
      "  return linalg.solve(A, Xy, sym_pos=True, overwrite_a=True).T\n",
      "/Users/hmc/opt/anaconda3/envs/ADP_Class/lib/python3.7/site-packages/sklearn/linear_model/_ridge.py:157: LinAlgWarning: Ill-conditioned matrix (rcond=3.16592e-18): result may not be accurate.\n",
      "  return linalg.solve(A, Xy, sym_pos=True, overwrite_a=True).T\n",
      "/Users/hmc/opt/anaconda3/envs/ADP_Class/lib/python3.7/site-packages/sklearn/linear_model/_ridge.py:157: LinAlgWarning: Ill-conditioned matrix (rcond=1.62813e-17): result may not be accurate.\n",
      "  return linalg.solve(A, Xy, sym_pos=True, overwrite_a=True).T\n",
      "/Users/hmc/opt/anaconda3/envs/ADP_Class/lib/python3.7/site-packages/sklearn/linear_model/_ridge.py:157: LinAlgWarning: Ill-conditioned matrix (rcond=1.53159e-17): result may not be accurate.\n",
      "  return linalg.solve(A, Xy, sym_pos=True, overwrite_a=True).T\n",
      "/Users/hmc/opt/anaconda3/envs/ADP_Class/lib/python3.7/site-packages/sklearn/linear_model/_ridge.py:157: LinAlgWarning: Ill-conditioned matrix (rcond=1.66733e-17): result may not be accurate.\n",
      "  return linalg.solve(A, Xy, sym_pos=True, overwrite_a=True).T\n",
      "/Users/hmc/opt/anaconda3/envs/ADP_Class/lib/python3.7/site-packages/sklearn/linear_model/_ridge.py:157: LinAlgWarning: Ill-conditioned matrix (rcond=1.65773e-17): result may not be accurate.\n",
      "  return linalg.solve(A, Xy, sym_pos=True, overwrite_a=True).T\n",
      "/Users/hmc/opt/anaconda3/envs/ADP_Class/lib/python3.7/site-packages/sklearn/linear_model/_ridge.py:157: LinAlgWarning: Ill-conditioned matrix (rcond=1.58296e-17): result may not be accurate.\n",
      "  return linalg.solve(A, Xy, sym_pos=True, overwrite_a=True).T\n",
      "/Users/hmc/opt/anaconda3/envs/ADP_Class/lib/python3.7/site-packages/sklearn/linear_model/_ridge.py:157: LinAlgWarning: Ill-conditioned matrix (rcond=3.25625e-17): result may not be accurate.\n",
      "  return linalg.solve(A, Xy, sym_pos=True, overwrite_a=True).T\n",
      "/Users/hmc/opt/anaconda3/envs/ADP_Class/lib/python3.7/site-packages/sklearn/linear_model/_ridge.py:157: LinAlgWarning: Ill-conditioned matrix (rcond=3.06269e-17): result may not be accurate.\n",
      "  return linalg.solve(A, Xy, sym_pos=True, overwrite_a=True).T\n",
      "/Users/hmc/opt/anaconda3/envs/ADP_Class/lib/python3.7/site-packages/sklearn/linear_model/_ridge.py:157: LinAlgWarning: Ill-conditioned matrix (rcond=3.33201e-17): result may not be accurate.\n",
      "  return linalg.solve(A, Xy, sym_pos=True, overwrite_a=True).T\n",
      "/Users/hmc/opt/anaconda3/envs/ADP_Class/lib/python3.7/site-packages/sklearn/linear_model/_ridge.py:157: LinAlgWarning: Ill-conditioned matrix (rcond=3.31546e-17): result may not be accurate.\n",
      "  return linalg.solve(A, Xy, sym_pos=True, overwrite_a=True).T\n",
      "/Users/hmc/opt/anaconda3/envs/ADP_Class/lib/python3.7/site-packages/sklearn/linear_model/_ridge.py:157: LinAlgWarning: Ill-conditioned matrix (rcond=3.16592e-17): result may not be accurate.\n",
      "  return linalg.solve(A, Xy, sym_pos=True, overwrite_a=True).T\n"
     ]
    },
    {
     "data": {
      "text/plain": [
       "GridSearchCV(estimator=Ridge(),\n",
       "             param_grid={'alpha': (0.0001, 0.0005, 0.001, 0.005, 0.01, 0.05,\n",
       "                                   0.1, 0.15, 0.2, 0.25, 0.3, 0.5, 1, 2, 3)})"
      ]
     },
     "execution_count": 17,
     "metadata": {},
     "output_type": "execute_result"
    }
   ],
   "source": [
    "from sklearn.linear_model import Ridge \n",
    "from sklearn.model_selection import GridSearchCV\n",
    "\n",
    "ridge = Ridge() \n",
    "param_grid = {'alpha':(0.0001,0.0005,0.001,0.005, 0.01,0.05,0.1, 0.15, 0.2, 0.25, 0.3,0.5,1,2,3)}\n",
    "model = GridSearchCV(ridge, param_grid)\n",
    "model.fit(X_train,y_train)"
   ]
  },
  {
   "cell_type": "code",
   "execution_count": 18,
   "id": "d0aa3420",
   "metadata": {},
   "outputs": [
    {
     "data": {
      "text/plain": [
       "Ridge(alpha=2)"
      ]
     },
     "execution_count": 18,
     "metadata": {},
     "output_type": "execute_result"
    }
   ],
   "source": [
    "model.best_estimator_"
   ]
  },
  {
   "cell_type": "code",
   "execution_count": 19,
   "id": "4c56bc42",
   "metadata": {},
   "outputs": [
    {
     "data": {
      "text/plain": [
       "Ridge(alpha=2)"
      ]
     },
     "execution_count": 19,
     "metadata": {},
     "output_type": "execute_result"
    }
   ],
   "source": [
    "model = Ridge(alpha=2) \n",
    "model.fit(X_train,y_train)"
   ]
  },
  {
   "cell_type": "code",
   "execution_count": 21,
   "id": "300a5baa",
   "metadata": {
    "scrolled": true
   },
   "outputs": [
    {
     "name": "stdout",
     "output_type": "stream",
     "text": [
      "사용한 데이터 컬럼 수 : 16\n",
      "훈련 데이터 셋 성능 :  0.6494005566522837\n",
      "테스트 데이터 셋 성능 :  0.6629505285083124\n"
     ]
    }
   ],
   "source": [
    "## R2\n",
    "import numpy as np\n",
    "print(\"사용한 데이터 컬럼 수 :\", np.sum(model.coef_!=0))\n",
    "print(\"훈련 데이터 셋 성능 : \", model.score(X_train,y_train))\n",
    "print(\"테스트 데이터 셋 성능 : \", model.score(X_test,y_test))"
   ]
  },
  {
   "cell_type": "code",
   "execution_count": null,
   "id": "c9191344",
   "metadata": {},
   "outputs": [],
   "source": []
  },
  {
   "cell_type": "code",
   "execution_count": 25,
   "id": "91b9640e",
   "metadata": {},
   "outputs": [
    {
     "name": "stdout",
     "output_type": "stream",
     "text": [
      "213942.0201695023\n"
     ]
    }
   ],
   "source": [
    "from sklearn.metrics import mean_squared_error\n",
    "y_pred = model.predict(X_test)\n",
    "\n",
    "mse = mean_squared_error(y_test,y_pred)\n",
    "rmse = np.sqrt(mse)\n",
    "print(rmse)"
   ]
  },
  {
   "cell_type": "code",
   "execution_count": 26,
   "id": "5006b0ae",
   "metadata": {},
   "outputs": [
    {
     "data": {
      "text/plain": [
       "array([618321.5705133 , 400302.93179583, 909678.4501467 , ...,\n",
       "       858556.1105221 , 581383.25813401, 469600.98007551])"
      ]
     },
     "execution_count": 26,
     "metadata": {},
     "output_type": "execute_result"
    }
   ],
   "source": [
    "y_pred"
   ]
  },
  {
   "cell_type": "markdown",
   "id": "36a23071",
   "metadata": {},
   "source": [
    "### 해석\n",
    "- alpha 값이 (0.0001,0.0005,0.001,0.005, 0.01,0.05,0.1, 0.15, 0.2, 0.25, 0.3,0.5,1,2,3) 사이에서 2가 최적인 것으로 확인\n",
    "- 이때, 사용된 종속 변수는 16개임\n",
    "- R2_score_train = 0.65\n",
    "- R2_score_test = 0.66\n",
    "- RMSE 값은 213942"
   ]
  },
  {
   "cell_type": "markdown",
   "id": "79685837",
   "metadata": {},
   "source": [
    "## 스케일링 한 데이터셋의 결과와 스케일링 하지 않은 데이터 셋의 결과를 비교해보세요.\n",
    "> Tip : X_train 데이터를 fit_transform 하여 전처리, X_test는 transform 사용하여 전처리 <br>\n",
    ">  X_train_scaled = pd.DataFrame(scaler.fit_transform(X_train),columns=X_train.columns,index=X_train.index)"
   ]
  },
  {
   "cell_type": "code",
   "execution_count": 49,
   "id": "dee1aad3",
   "metadata": {},
   "outputs": [],
   "source": [
    "from sklearn.preprocessing import StandardScaler\n",
    "\n",
    "scaler = StandardScaler()\n",
    "X_train_scaled = pd.DataFrame(scaler.fit_transform(X_train),columns=X_train.columns,index=X_train.index)\n",
    "X_test_scaled = pd.DataFrame(scaler.transform(X_test),columns=X_test.columns,index=X_test.index)"
   ]
  },
  {
   "cell_type": "code",
   "execution_count": 50,
   "id": "8128dbd8",
   "metadata": {},
   "outputs": [
    {
     "data": {
      "text/plain": [
       "(6484, 16)"
      ]
     },
     "execution_count": 50,
     "metadata": {},
     "output_type": "execute_result"
    }
   ],
   "source": [
    "X_test_scaled.shape"
   ]
  },
  {
   "cell_type": "code",
   "execution_count": 51,
   "id": "cbb1448a",
   "metadata": {},
   "outputs": [
    {
     "data": {
      "text/plain": [
       "(15129, 16)"
      ]
     },
     "execution_count": 51,
     "metadata": {},
     "output_type": "execute_result"
    }
   ],
   "source": [
    "X_train_scaled.shape"
   ]
  },
  {
   "cell_type": "code",
   "execution_count": 52,
   "id": "a380478b",
   "metadata": {},
   "outputs": [
    {
     "data": {
      "text/plain": [
       "GridSearchCV(estimator=Ridge(),\n",
       "             param_grid={'alpha': (0.0001, 0.0005, 0.001, 0.005, 0.01, 0.05,\n",
       "                                   0.1, 0.15, 0.2, 0.25, 0.3, 0.5, 1, 2, 3)})"
      ]
     },
     "execution_count": 52,
     "metadata": {},
     "output_type": "execute_result"
    }
   ],
   "source": [
    "ridge = Ridge() \n",
    "param_grid = {'alpha':(0.0001,0.0005,0.001,0.005, 0.01,0.05,0.1, 0.15, 0.2, 0.25, 0.3,0.5,1,2,3)}\n",
    "model = GridSearchCV(ridge, param_grid)\n",
    "model.fit(X_train_scaled,y_train)"
   ]
  },
  {
   "cell_type": "code",
   "execution_count": 53,
   "id": "67636c87",
   "metadata": {
    "scrolled": true
   },
   "outputs": [
    {
     "data": {
      "text/plain": [
       "Ridge(alpha=3)"
      ]
     },
     "execution_count": 53,
     "metadata": {},
     "output_type": "execute_result"
    }
   ],
   "source": [
    "model.best_estimator_"
   ]
  },
  {
   "cell_type": "code",
   "execution_count": 54,
   "id": "e0198e96",
   "metadata": {},
   "outputs": [
    {
     "data": {
      "text/plain": [
       "Ridge(alpha=3)"
      ]
     },
     "execution_count": 54,
     "metadata": {},
     "output_type": "execute_result"
    }
   ],
   "source": [
    "model = Ridge(alpha=3)\n",
    "model.fit(X_train_scaled,y_train)"
   ]
  },
  {
   "cell_type": "code",
   "execution_count": 55,
   "id": "946fb5a0",
   "metadata": {
    "scrolled": true
   },
   "outputs": [
    {
     "name": "stdout",
     "output_type": "stream",
     "text": [
      "사용한 데이터 컬럼 수 : 16\n",
      "훈련 데이터 셋 성능 :  0.6494027213510856\n",
      "테스트 데이터 셋 성능 :  0.6628356990191566\n",
      "RMSE : 213978.46105266176\n"
     ]
    }
   ],
   "source": [
    "## R2\n",
    "import numpy as np\n",
    "print(\"사용한 데이터 컬럼 수 :\", np.sum(model.coef_!=0))\n",
    "print(\"훈련 데이터 셋 성능 : \", model.score(X_train_scaled,y_train))\n",
    "print(\"테스트 데이터 셋 성능 : \", model.score(X_test_scaled,y_test))\n",
    "y_pred = model.predict(X_test_scaled)\n",
    "\n",
    "mse = mean_squared_error(y_test,y_pred)\n",
    "rmse = np.sqrt(mse)\n",
    "print(\"RMSE :\",rmse)"
   ]
  },
  {
   "cell_type": "markdown",
   "id": "e866ac52",
   "metadata": {},
   "source": [
    "### 해석\n",
    "- alpha 값이 (0.0001,0.0005,0.001,0.005, 0.01,0.05,0.1, 0.15, 0.2, 0.25, 0.3,0.5,1,2,3) 중 Ridge 회귀했을 때 alpha=3이 최적임을 확인\n",
    "- 회귀에 사용된 종속변수는 16개임\n",
    "- R2_score_train = 0.65\n",
    "- R2_score_test = 0.66\n",
    "- RMSE = 213978\n",
    "- StandardScaled 된 결과와 비교했을 때, Ridge 회귀의 매개변수는 변했지만(alpha), R2_score와 RMSE는 거의 변함이 없다."
   ]
  },
  {
   "cell_type": "markdown",
   "id": "ddb9fefd",
   "metadata": {},
   "source": [
    "## 회귀 계수 중 집값과 상관성이 높은 3가지 변수를 해석하세요 "
   ]
  },
  {
   "cell_type": "code",
   "execution_count": 56,
   "id": "5ee205ac",
   "metadata": {},
   "outputs": [
    {
     "data": {
      "text/plain": [
       "array([ -34146.27927065,   34044.02924205,   74077.50173883,\n",
       "           646.47835578,   13250.7523758 ,   31542.0209924 ,\n",
       "         13025.70233902,  145101.6389495 ,   62835.31126402,\n",
       "         36028.01209128, -106714.07707908,    3780.09355268,\n",
       "         15741.59833662,  -15494.79208757,   26341.43981365,\n",
       "        -26341.43981366])"
      ]
     },
     "execution_count": 56,
     "metadata": {},
     "output_type": "execute_result"
    }
   ],
   "source": [
    "model.coef_"
   ]
  },
  {
   "cell_type": "code",
   "execution_count": 71,
   "id": "90dbf2da",
   "metadata": {},
   "outputs": [],
   "source": [
    "coefficients = pd.concat([pd.DataFrame(model.coef_), pd.DataFrame(model.feature_names_in_)], axis = 1)\n",
    "coefficients.columns = ['coef','feature']"
   ]
  },
  {
   "cell_type": "code",
   "execution_count": 76,
   "id": "470f04ff",
   "metadata": {},
   "outputs": [
    {
     "data": {
      "text/html": [
       "<div>\n",
       "<style scoped>\n",
       "    .dataframe tbody tr th:only-of-type {\n",
       "        vertical-align: middle;\n",
       "    }\n",
       "\n",
       "    .dataframe tbody tr th {\n",
       "        vertical-align: top;\n",
       "    }\n",
       "\n",
       "    .dataframe thead th {\n",
       "        text-align: right;\n",
       "    }\n",
       "</style>\n",
       "<table border=\"1\" class=\"dataframe\">\n",
       "  <thead>\n",
       "    <tr style=\"text-align: right;\">\n",
       "      <th></th>\n",
       "      <th>coef</th>\n",
       "      <th>feature</th>\n",
       "    </tr>\n",
       "  </thead>\n",
       "  <tbody>\n",
       "    <tr>\n",
       "      <th>0</th>\n",
       "      <td>-34146.279271</td>\n",
       "      <td>bedrooms</td>\n",
       "    </tr>\n",
       "    <tr>\n",
       "      <th>1</th>\n",
       "      <td>34044.029242</td>\n",
       "      <td>bathrooms</td>\n",
       "    </tr>\n",
       "    <tr>\n",
       "      <th>2</th>\n",
       "      <td>74077.501739</td>\n",
       "      <td>sqft_living</td>\n",
       "    </tr>\n",
       "    <tr>\n",
       "      <th>3</th>\n",
       "      <td>646.478356</td>\n",
       "      <td>sqft_lot</td>\n",
       "    </tr>\n",
       "    <tr>\n",
       "      <th>4</th>\n",
       "      <td>13250.752376</td>\n",
       "      <td>floors</td>\n",
       "    </tr>\n",
       "    <tr>\n",
       "      <th>5</th>\n",
       "      <td>31542.020992</td>\n",
       "      <td>view</td>\n",
       "    </tr>\n",
       "    <tr>\n",
       "      <th>6</th>\n",
       "      <td>13025.702339</td>\n",
       "      <td>condition</td>\n",
       "    </tr>\n",
       "    <tr>\n",
       "      <th>7</th>\n",
       "      <td>145101.638950</td>\n",
       "      <td>grade</td>\n",
       "    </tr>\n",
       "    <tr>\n",
       "      <th>8</th>\n",
       "      <td>62835.311264</td>\n",
       "      <td>sqft_above</td>\n",
       "    </tr>\n",
       "    <tr>\n",
       "      <th>9</th>\n",
       "      <td>36028.012091</td>\n",
       "      <td>sqft_basement</td>\n",
       "    </tr>\n",
       "    <tr>\n",
       "      <th>10</th>\n",
       "      <td>-106714.077079</td>\n",
       "      <td>yr_built</td>\n",
       "    </tr>\n",
       "    <tr>\n",
       "      <th>11</th>\n",
       "      <td>3780.093553</td>\n",
       "      <td>yr_renovated</td>\n",
       "    </tr>\n",
       "    <tr>\n",
       "      <th>12</th>\n",
       "      <td>15741.598337</td>\n",
       "      <td>sqft_living15</td>\n",
       "    </tr>\n",
       "    <tr>\n",
       "      <th>13</th>\n",
       "      <td>-15494.792088</td>\n",
       "      <td>sqft_lot15</td>\n",
       "    </tr>\n",
       "    <tr>\n",
       "      <th>14</th>\n",
       "      <td>26341.439814</td>\n",
       "      <td>waterfront_river_view</td>\n",
       "    </tr>\n",
       "    <tr>\n",
       "      <th>15</th>\n",
       "      <td>-26341.439814</td>\n",
       "      <td>waterfront_standard</td>\n",
       "    </tr>\n",
       "  </tbody>\n",
       "</table>\n",
       "</div>"
      ],
      "text/plain": [
       "             coef                feature\n",
       "0   -34146.279271               bedrooms\n",
       "1    34044.029242              bathrooms\n",
       "2    74077.501739            sqft_living\n",
       "3      646.478356               sqft_lot\n",
       "4    13250.752376                 floors\n",
       "5    31542.020992                   view\n",
       "6    13025.702339              condition\n",
       "7   145101.638950                  grade\n",
       "8    62835.311264             sqft_above\n",
       "9    36028.012091          sqft_basement\n",
       "10 -106714.077079               yr_built\n",
       "11    3780.093553           yr_renovated\n",
       "12   15741.598337          sqft_living15\n",
       "13  -15494.792088             sqft_lot15\n",
       "14   26341.439814  waterfront_river_view\n",
       "15  -26341.439814    waterfront_standard"
      ]
     },
     "execution_count": 76,
     "metadata": {},
     "output_type": "execute_result"
    }
   ],
   "source": [
    "coefficients"
   ]
  },
  {
   "cell_type": "code",
   "execution_count": 80,
   "id": "790a72e5",
   "metadata": {},
   "outputs": [],
   "source": [
    "coefficients['abs_coef'] = abs(coefficients['coef'])"
   ]
  },
  {
   "cell_type": "code",
   "execution_count": 81,
   "id": "50632314",
   "metadata": {},
   "outputs": [
    {
     "data": {
      "text/html": [
       "<div>\n",
       "<style scoped>\n",
       "    .dataframe tbody tr th:only-of-type {\n",
       "        vertical-align: middle;\n",
       "    }\n",
       "\n",
       "    .dataframe tbody tr th {\n",
       "        vertical-align: top;\n",
       "    }\n",
       "\n",
       "    .dataframe thead th {\n",
       "        text-align: right;\n",
       "    }\n",
       "</style>\n",
       "<table border=\"1\" class=\"dataframe\">\n",
       "  <thead>\n",
       "    <tr style=\"text-align: right;\">\n",
       "      <th></th>\n",
       "      <th>coef</th>\n",
       "      <th>feature</th>\n",
       "      <th>abs_coef</th>\n",
       "    </tr>\n",
       "  </thead>\n",
       "  <tbody>\n",
       "    <tr>\n",
       "      <th>0</th>\n",
       "      <td>-34146.279271</td>\n",
       "      <td>bedrooms</td>\n",
       "      <td>34146.279271</td>\n",
       "    </tr>\n",
       "    <tr>\n",
       "      <th>1</th>\n",
       "      <td>34044.029242</td>\n",
       "      <td>bathrooms</td>\n",
       "      <td>34044.029242</td>\n",
       "    </tr>\n",
       "    <tr>\n",
       "      <th>2</th>\n",
       "      <td>74077.501739</td>\n",
       "      <td>sqft_living</td>\n",
       "      <td>74077.501739</td>\n",
       "    </tr>\n",
       "    <tr>\n",
       "      <th>3</th>\n",
       "      <td>646.478356</td>\n",
       "      <td>sqft_lot</td>\n",
       "      <td>646.478356</td>\n",
       "    </tr>\n",
       "    <tr>\n",
       "      <th>4</th>\n",
       "      <td>13250.752376</td>\n",
       "      <td>floors</td>\n",
       "      <td>13250.752376</td>\n",
       "    </tr>\n",
       "    <tr>\n",
       "      <th>5</th>\n",
       "      <td>31542.020992</td>\n",
       "      <td>view</td>\n",
       "      <td>31542.020992</td>\n",
       "    </tr>\n",
       "    <tr>\n",
       "      <th>6</th>\n",
       "      <td>13025.702339</td>\n",
       "      <td>condition</td>\n",
       "      <td>13025.702339</td>\n",
       "    </tr>\n",
       "    <tr>\n",
       "      <th>7</th>\n",
       "      <td>145101.638950</td>\n",
       "      <td>grade</td>\n",
       "      <td>145101.638950</td>\n",
       "    </tr>\n",
       "    <tr>\n",
       "      <th>8</th>\n",
       "      <td>62835.311264</td>\n",
       "      <td>sqft_above</td>\n",
       "      <td>62835.311264</td>\n",
       "    </tr>\n",
       "    <tr>\n",
       "      <th>9</th>\n",
       "      <td>36028.012091</td>\n",
       "      <td>sqft_basement</td>\n",
       "      <td>36028.012091</td>\n",
       "    </tr>\n",
       "    <tr>\n",
       "      <th>10</th>\n",
       "      <td>-106714.077079</td>\n",
       "      <td>yr_built</td>\n",
       "      <td>106714.077079</td>\n",
       "    </tr>\n",
       "    <tr>\n",
       "      <th>11</th>\n",
       "      <td>3780.093553</td>\n",
       "      <td>yr_renovated</td>\n",
       "      <td>3780.093553</td>\n",
       "    </tr>\n",
       "    <tr>\n",
       "      <th>12</th>\n",
       "      <td>15741.598337</td>\n",
       "      <td>sqft_living15</td>\n",
       "      <td>15741.598337</td>\n",
       "    </tr>\n",
       "    <tr>\n",
       "      <th>13</th>\n",
       "      <td>-15494.792088</td>\n",
       "      <td>sqft_lot15</td>\n",
       "      <td>15494.792088</td>\n",
       "    </tr>\n",
       "    <tr>\n",
       "      <th>14</th>\n",
       "      <td>26341.439814</td>\n",
       "      <td>waterfront_river_view</td>\n",
       "      <td>26341.439814</td>\n",
       "    </tr>\n",
       "    <tr>\n",
       "      <th>15</th>\n",
       "      <td>-26341.439814</td>\n",
       "      <td>waterfront_standard</td>\n",
       "      <td>26341.439814</td>\n",
       "    </tr>\n",
       "  </tbody>\n",
       "</table>\n",
       "</div>"
      ],
      "text/plain": [
       "             coef                feature       abs_coef\n",
       "0   -34146.279271               bedrooms   34146.279271\n",
       "1    34044.029242              bathrooms   34044.029242\n",
       "2    74077.501739            sqft_living   74077.501739\n",
       "3      646.478356               sqft_lot     646.478356\n",
       "4    13250.752376                 floors   13250.752376\n",
       "5    31542.020992                   view   31542.020992\n",
       "6    13025.702339              condition   13025.702339\n",
       "7   145101.638950                  grade  145101.638950\n",
       "8    62835.311264             sqft_above   62835.311264\n",
       "9    36028.012091          sqft_basement   36028.012091\n",
       "10 -106714.077079               yr_built  106714.077079\n",
       "11    3780.093553           yr_renovated    3780.093553\n",
       "12   15741.598337          sqft_living15   15741.598337\n",
       "13  -15494.792088             sqft_lot15   15494.792088\n",
       "14   26341.439814  waterfront_river_view   26341.439814\n",
       "15  -26341.439814    waterfront_standard   26341.439814"
      ]
     },
     "execution_count": 81,
     "metadata": {},
     "output_type": "execute_result"
    }
   ],
   "source": [
    "coefficients"
   ]
  },
  {
   "cell_type": "code",
   "execution_count": 82,
   "id": "db8edc70",
   "metadata": {},
   "outputs": [
    {
     "data": {
      "text/html": [
       "<div>\n",
       "<style scoped>\n",
       "    .dataframe tbody tr th:only-of-type {\n",
       "        vertical-align: middle;\n",
       "    }\n",
       "\n",
       "    .dataframe tbody tr th {\n",
       "        vertical-align: top;\n",
       "    }\n",
       "\n",
       "    .dataframe thead th {\n",
       "        text-align: right;\n",
       "    }\n",
       "</style>\n",
       "<table border=\"1\" class=\"dataframe\">\n",
       "  <thead>\n",
       "    <tr style=\"text-align: right;\">\n",
       "      <th></th>\n",
       "      <th>coef</th>\n",
       "      <th>feature</th>\n",
       "      <th>abs_coef</th>\n",
       "    </tr>\n",
       "  </thead>\n",
       "  <tbody>\n",
       "    <tr>\n",
       "      <th>7</th>\n",
       "      <td>145101.638950</td>\n",
       "      <td>grade</td>\n",
       "      <td>145101.638950</td>\n",
       "    </tr>\n",
       "    <tr>\n",
       "      <th>10</th>\n",
       "      <td>-106714.077079</td>\n",
       "      <td>yr_built</td>\n",
       "      <td>106714.077079</td>\n",
       "    </tr>\n",
       "    <tr>\n",
       "      <th>2</th>\n",
       "      <td>74077.501739</td>\n",
       "      <td>sqft_living</td>\n",
       "      <td>74077.501739</td>\n",
       "    </tr>\n",
       "  </tbody>\n",
       "</table>\n",
       "</div>"
      ],
      "text/plain": [
       "             coef      feature       abs_coef\n",
       "7   145101.638950        grade  145101.638950\n",
       "10 -106714.077079     yr_built  106714.077079\n",
       "2    74077.501739  sqft_living   74077.501739"
      ]
     },
     "execution_count": 82,
     "metadata": {},
     "output_type": "execute_result"
    }
   ],
   "source": [
    "coefficients.sort_values(by=['abs_coef'], ascending=False)[0:3]"
   ]
  },
  {
   "cell_type": "markdown",
   "id": "a8dde057",
   "metadata": {},
   "source": [
    "### 해석\n",
    "- 종속변수 중 grade, yr_built, sqft_living 변수가 독립변수 price에 대해 가장 높은 계수의 절대값을 갖고 있어 영향도가 높다고 할 수 있음\n",
    "- grade 가 커질 수록 price도 커짐\n",
    "- yr_built 가 커질 수록 price는 작아짐\n",
    "- sqft_living 가 커질 수록 price도 커짐"
   ]
  },
  {
   "cell_type": "code",
   "execution_count": null,
   "id": "9026592a",
   "metadata": {},
   "outputs": [],
   "source": []
  }
 ],
 "metadata": {
  "kernelspec": {
   "display_name": "Python 3 (ipykernel)",
   "language": "python",
   "name": "python3"
  },
  "language_info": {
   "codemirror_mode": {
    "name": "ipython",
    "version": 3
   },
   "file_extension": ".py",
   "mimetype": "text/x-python",
   "name": "python",
   "nbconvert_exporter": "python",
   "pygments_lexer": "ipython3",
   "version": "3.7.11"
  },
  "toc": {
   "base_numbering": 1,
   "nav_menu": {},
   "number_sections": true,
   "sideBar": true,
   "skip_h1_title": false,
   "title_cell": "Table of Contents",
   "title_sidebar": "Contents",
   "toc_cell": true,
   "toc_position": {},
   "toc_section_display": true,
   "toc_window_display": false
  }
 },
 "nbformat": 4,
 "nbformat_minor": 5
}
