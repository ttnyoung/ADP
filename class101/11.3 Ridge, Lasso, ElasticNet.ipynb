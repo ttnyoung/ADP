{
 "cells": [
  {
   "cell_type": "markdown",
   "metadata": {},
   "source": [
    "## Ridge, Lasso, ElasticNet\n",
    "\n",
    "- Ridge, Lasso, ElasticNet 은 모두 alpha값에 영향을 받는다. \n",
    "- alpha 값을 통해 과대적합을 피할 수 있다. \n",
    "- 하지만, alpha 값이 너무 크면 과소적합이 될 수 있으므로 최적의 값을 찾아야 한다. \n",
    "\n"
   ]
  },
  {
   "cell_type": "markdown",
   "metadata": {},
   "source": [
    "### GridSearchCV\n",
    "- 모델에 지정된 매개변수 값에 대해 주어진 목록을 탐색 하여주는 함수이다. \n",
    "\n",
    "> sklearn.model_selection.GridSearchCV(estimator, param_grid, cv=None)\n",
    "\n",
    "예시 ) parameters = {'kernel':('linear', 'rbf'), 'C':[1, 10]}"
   ]
  },
  {
   "cell_type": "markdown",
   "metadata": {},
   "source": [
    "### Ridge"
   ]
  },
  {
   "cell_type": "code",
   "execution_count": null,
   "metadata": {
    "scrolled": true
   },
   "outputs": [],
   "source": [
    "import pandas as pd \n",
    "import numpy as np \n",
    "import mglearn\n",
    "X,y = mglearn.datasets.load_extended_boston()\n",
    "# 훈련, 테스트 셋 분리 \n",
    "from sklearn.model_selection import train_test_split\n",
    "X_train, X_test, y_train, y_test = train_test_split(X,y,test_size=0.3,random_state=0)"
   ]
  },
  {
   "cell_type": "code",
   "execution_count": 3,
   "metadata": {
    "scrolled": false
   },
   "outputs": [
    {
     "name": "stdout",
     "output_type": "stream",
     "text": [
      "사용한 데이터 컬럼 수 : 104\n",
      "훈련 데이터 셋 성능 :  0.8820517790991204\n",
      "테스트 데이터 셋 성능 :  0.78344599767367\n"
     ]
    }
   ],
   "source": [
    "import warnings\n",
    "warnings.filterwarnings(action='ignore')\n",
    "\n",
    "from sklearn.linear_model import Ridge \n",
    "\n",
    "ridge = Ridge() \n",
    "ridge.fit(X_train,y_train)\n",
    "\n",
    "## R2 \n",
    "print(\"사용한 데이터 컬럼 수 :\", np.sum(ridge.coef_!=0))\n",
    "print(\"훈련 데이터 셋 성능 : \", ridge.score(X_train,y_train))\n",
    "print(\"테스트 데이터 셋 성능 : \", ridge.score(X_test,y_test))"
   ]
  },
  {
   "cell_type": "markdown",
   "metadata": {},
   "source": [
    "* alpha = 1로 하였을 때, R2 0.78임을 알 수 있다. \n",
    "* LinearRegression 모델의 0.648 보다는 성능이 좋지만 Ridge의 최적화된 값임은 알 수 없다. "
   ]
  },
  {
   "cell_type": "code",
   "execution_count": 4,
   "metadata": {},
   "outputs": [
    {
     "data": {
      "text/plain": [
       "GridSearchCV(estimator=Ridge(),\n",
       "             param_grid={'alpha': (0.0001, 0.0005, 0.001, 0.005, 0.01, 0.05,\n",
       "                                   0.1, 0.15, 0.2, 0.25, 0.3, 0.5, 1, 2, 3)})"
      ]
     },
     "execution_count": 4,
     "metadata": {},
     "output_type": "execute_result"
    }
   ],
   "source": [
    "from sklearn.model_selection import GridSearchCV\n",
    "\n",
    "ridge = Ridge() \n",
    "param_grid = {'alpha':(0.0001,0.0005,0.001,0.005, 0.01,0.05,0.1, 0.15, 0.2, 0.25, 0.3,0.5,1,2,3)}\n",
    "model = GridSearchCV(ridge, param_grid)\n",
    "model.fit(X_train,y_train)\n"
   ]
  },
  {
   "cell_type": "code",
   "execution_count": 5,
   "metadata": {},
   "outputs": [
    {
     "data": {
      "text/plain": [
       "Ridge(alpha=0.05)"
      ]
     },
     "execution_count": 5,
     "metadata": {},
     "output_type": "execute_result"
    }
   ],
   "source": [
    "model.best_estimator_"
   ]
  },
  {
   "cell_type": "code",
   "execution_count": 6,
   "metadata": {},
   "outputs": [
    {
     "data": {
      "text/plain": [
       "Ridge(alpha=0.05)"
      ]
     },
     "execution_count": 6,
     "metadata": {},
     "output_type": "execute_result"
    }
   ],
   "source": [
    "model = Ridge(alpha=0.05) \n",
    "model.fit(X_train,y_train)"
   ]
  },
  {
   "cell_type": "code",
   "execution_count": 7,
   "metadata": {
    "scrolled": true
   },
   "outputs": [
    {
     "name": "stdout",
     "output_type": "stream",
     "text": [
      "사용한 데이터 컬럼 수 : 104\n",
      "훈련 데이터 셋 성능 :  0.9333679643206894\n",
      "테스트 데이터 셋 성능 :  0.7877067511712833\n"
     ]
    }
   ],
   "source": [
    "## R2 \n",
    "print(\"사용한 데이터 컬럼 수 :\", np.sum(model.coef_!=0))\n",
    "print(\"훈련 데이터 셋 성능 : \", model.score(X_train,y_train))\n",
    "print(\"테스트 데이터 셋 성능 : \", model.score(X_test,y_test))"
   ]
  },
  {
   "cell_type": "markdown",
   "metadata": {},
   "source": [
    "### Lasso"
   ]
  },
  {
   "cell_type": "code",
   "execution_count": 8,
   "metadata": {
    "scrolled": true
   },
   "outputs": [
    {
     "name": "stdout",
     "output_type": "stream",
     "text": [
      "사용한 데이터 컬럼 수 :  3\n",
      "훈련 데이터 셋 성능 :  0.2648948112459243\n",
      "테스트 데이터 셋 성능 :  0.2136447822416102\n"
     ]
    }
   ],
   "source": [
    "from sklearn.linear_model import Lasso\n",
    "\n",
    "lasso = Lasso() \n",
    "lasso.fit(X_train,y_train)\n",
    "\n",
    "## R2 \n",
    "print(\"사용한 데이터 컬럼 수 : \", np.sum(lasso.coef_!=0))\n",
    "print(\"훈련 데이터 셋 성능 : \", lasso.score(X_train,y_train))\n",
    "print(\"테스트 데이터 셋 성능 : \", lasso.score(X_test,y_test))"
   ]
  },
  {
   "cell_type": "markdown",
   "metadata": {},
   "source": [
    "* Lasso의 경우 Ridge와는 다르게 사용하는 데이터 컬럼 자체를 0으로 만들어 변수 선택법과 같이 삭제를 해줄 수 있다. \n",
    "* 위의 결과값의 경우 훈련데이터셋 자체에 성능이 낮으므로 과소적합이 되었음을 알 수 있다. \n",
    "* 과소적합을 해결하기 위해 alpha값을 조정한다. "
   ]
  },
  {
   "cell_type": "code",
   "execution_count": 9,
   "metadata": {},
   "outputs": [
    {
     "name": "stdout",
     "output_type": "stream",
     "text": [
      "best_model:  Lasso(alpha=0.002)\n"
     ]
    }
   ],
   "source": [
    "lasso = Lasso() \n",
    "param_grid = {'alpha':(0.0001,0.0005,0.001,0.002, 0.003, 0.005, 0.01,0.05,0.1, 0.15, 0.2, 0.25, 0.3,0.5,1,2,3)}\n",
    "model_lasso = GridSearchCV(lasso, param_grid)\n",
    "model_lasso = model_lasso.fit(X_train,y_train)\n",
    "\n",
    "\n",
    "print(\"best_model: \", model_lasso.best_estimator_)\n"
   ]
  },
  {
   "cell_type": "code",
   "execution_count": 10,
   "metadata": {},
   "outputs": [
    {
     "name": "stdout",
     "output_type": "stream",
     "text": [
      "사용한 데이터 컬럼 수 :  59\n",
      "훈련 데이터 셋 성능 :  0.9303367526733315\n",
      "테스트 데이터 셋 성능 :  0.7929168170231439\n"
     ]
    }
   ],
   "source": [
    "from sklearn.linear_model import Lasso\n",
    "\n",
    "lasso = Lasso(alpha=0.002) \n",
    "lasso.fit(X_train,y_train)\n",
    "\n",
    "## R2 \n",
    "print(\"사용한 데이터 컬럼 수 : \", np.sum(lasso.coef_!=0))\n",
    "print(\"훈련 데이터 셋 성능 : \", lasso.score(X_train,y_train))\n",
    "print(\"테스트 데이터 셋 성능 : \", lasso.score(X_test,y_test))"
   ]
  },
  {
   "cell_type": "markdown",
   "metadata": {},
   "source": [
    "* 59개의 데이터를 사용하고 패널티를 적용하였을 때, Lasso의 경우 0.79의 설명력을 가짐을 알 수 있다. "
   ]
  },
  {
   "cell_type": "markdown",
   "metadata": {},
   "source": [
    "### ElasticNet"
   ]
  },
  {
   "cell_type": "code",
   "execution_count": 11,
   "metadata": {},
   "outputs": [
    {
     "name": "stdout",
     "output_type": "stream",
     "text": [
      "훈련 데이터 셋 성능 :  0.3096253527541134\n",
      "테스트 데이터 셋 성능 :  0.2561599717003974\n"
     ]
    }
   ],
   "source": [
    "from sklearn.linear_model import ElasticNet\n",
    "\n",
    "elastic = ElasticNet()\n",
    "elastic.fit(X_train,y_train)\n",
    "\n",
    "## R2 \n",
    "print(\"훈련 데이터 셋 성능 : \", elastic.score(X_train,y_train))\n",
    "print(\"테스트 데이터 셋 성능 : \", elastic.score(X_test,y_test))"
   ]
  },
  {
   "cell_type": "code",
   "execution_count": 12,
   "metadata": {},
   "outputs": [
    {
     "name": "stdout",
     "output_type": "stream",
     "text": [
      "best_model:  ElasticNet(alpha=0.0005, l1_ratio=0.2)\n",
      "훈련 데이터 셋 성능 :  0.9231617946389866\n",
      "테스트 데이터 셋 성능 :  0.8045378750963654\n"
     ]
    }
   ],
   "source": [
    "elastic = ElasticNet() \n",
    "param_grid = {'alpha':(0.0001,0.0005,0.001,0.005, 0.01,0.05,0.1, 0.15, 0.2, 0.25, 0.3,0.5,1,2,3), \n",
    "              'l1_ratio' : [0.1,0.2,0.3,0.4,0.5,0.6,0.7,0.8, 0.9]}\n",
    "model_elastic = GridSearchCV(elastic, param_grid)\n",
    "model_elastic.fit(X_train,y_train)\n",
    "\n",
    "print(\"best_model: \", model_elastic.best_estimator_)\n",
    "print(\"훈련 데이터 셋 성능 : \", model_elastic.score(X_train,y_train))\n",
    "print(\"테스트 데이터 셋 성능 : \", model_elastic.score(X_test,y_test))"
   ]
  },
  {
   "cell_type": "code",
   "execution_count": 13,
   "metadata": {},
   "outputs": [
    {
     "data": {
      "text/plain": [
       "ElasticNet(alpha=0.0005, l1_ratio=0.2)"
      ]
     },
     "execution_count": 13,
     "metadata": {},
     "output_type": "execute_result"
    }
   ],
   "source": [
    "model_elastic =  ElasticNet(alpha=0.0005, l1_ratio=0.2)\n",
    "model_elastic.fit(X_train,y_train)\n"
   ]
  },
  {
   "cell_type": "code",
   "execution_count": 14,
   "metadata": {},
   "outputs": [
    {
     "name": "stdout",
     "output_type": "stream",
     "text": [
      "사용한 데이터 컬럼 수 :  100\n",
      "훈련 데이터 셋 성능 :  0.9231617946389866\n",
      "테스트 데이터 셋 성능 :  0.8045378750963654\n"
     ]
    }
   ],
   "source": [
    "print(\"사용한 데이터 컬럼 수 : \", np.sum(model_elastic.coef_!=0))\n",
    "print(\"훈련 데이터 셋 성능 : \", model_elastic.score(X_train,y_train))\n",
    "print(\"테스트 데이터 셋 성능 : \", model_elastic.score(X_test,y_test))"
   ]
  },
  {
   "cell_type": "markdown",
   "metadata": {},
   "source": [
    "100개의 데이터 컬럼을 사용하고 패널티를 적용하였을 때, Elastic의 경우 0.80의 설명력을 가짐을 알 수 있다."
   ]
  },
  {
   "cell_type": "code",
   "execution_count": 16,
   "metadata": {},
   "outputs": [
    {
     "data": {
      "text/plain": [
       "array([ -2.33849549,  -3.62982675,  -2.83691459,   0.        ,\n",
       "         3.34284624,  16.04925785,   5.13667101, -11.54273102,\n",
       "        12.44636614,  -1.04609453,  -0.29518919,   5.41442121,\n",
       "        -2.06165762,   5.24992843,   0.        ,  -1.21304457,\n",
       "         3.0841446 ,  -2.58634775,   0.26703777,  -2.90016483,\n",
       "         0.15880151,  -3.32720733,  -2.60708691,  -2.44516335,\n",
       "         0.11268821,  -1.81018985,   2.38802307,  -3.66609785,\n",
       "         2.74312292,  -2.2078981 ,   8.1939636 ,  -3.55752882,\n",
       "         0.57861372,   0.61029713,   1.74175884,   1.77612306,\n",
       "        -2.60255806,  -6.19562821,   5.20189945,   1.73036241,\n",
       "         8.75422258,   0.54851109,   6.9708351 ,  -3.45956274,\n",
       "         4.72375302,   4.42921655,  -8.12514644,  -1.50973875,\n",
       "       -13.32452568,   0.        , -14.14670369, -14.28266065,\n",
       "         5.9148633 ,  -0.2272377 ,   6.26478033,   3.70465625,\n",
       "         1.15072035,   7.8451777 ,  -7.61359622,  -1.391521  ,\n",
       "        -3.94072295,  -5.89538494,  -0.        ,  -4.31829472,\n",
       "        -2.94189133,  -4.89115292,  -0.45156608,   0.96442606,\n",
       "        20.66211708,  -6.99632849,   5.13429837, -14.26997902,\n",
       "       -14.50553345, -15.47383937,  13.95142219,  -8.0058423 ,\n",
       "         0.37681939,   0.25773927,   7.70643925,  -4.14779322,\n",
       "        -0.96895956,  -3.86680805, -11.42460159,   7.41228739,\n",
       "         0.28306504,   0.35912324,  -0.38588821,  -7.78361983,\n",
       "         2.62355224,  -5.74608712,   2.14739227,   4.15405789,\n",
       "        -1.19849271, -11.50716215,   2.82809824,   9.40462888,\n",
       "        -1.86588675, -12.19716287,   3.98213363,  -2.25462089,\n",
       "         4.36991294,   2.52240693,  -6.38425757,  22.79770068])"
      ]
     },
     "execution_count": 16,
     "metadata": {},
     "output_type": "execute_result"
    }
   ],
   "source": [
    "model_elastic.coef_"
   ]
  },
  {
   "cell_type": "markdown",
   "metadata": {},
   "source": [
    "* <b>회귀 계수를 해석해야 할 경우, 0인 값을 제외하고 위와같이 패널티가 적용된 회귀계수를 가지고 해석하면 된다. </b>\n"
   ]
  }
 ],
 "metadata": {
  "kernelspec": {
   "display_name": "Python 3 (ipykernel)",
   "language": "python",
   "name": "python3"
  },
  "language_info": {
   "codemirror_mode": {
    "name": "ipython",
    "version": 3
   },
   "file_extension": ".py",
   "mimetype": "text/x-python",
   "name": "python",
   "nbconvert_exporter": "python",
   "pygments_lexer": "ipython3",
   "version": "3.7.11"
  },
  "toc": {
   "base_numbering": "11.3",
   "nav_menu": {},
   "number_sections": true,
   "sideBar": true,
   "skip_h1_title": false,
   "title_cell": "Table of Contents",
   "title_sidebar": "Contents",
   "toc_cell": false,
   "toc_position": {},
   "toc_section_display": true,
   "toc_window_display": false
  }
 },
 "nbformat": 4,
 "nbformat_minor": 4
}
