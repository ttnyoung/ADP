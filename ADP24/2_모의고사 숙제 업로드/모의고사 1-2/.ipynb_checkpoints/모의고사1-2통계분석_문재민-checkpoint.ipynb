{
 "cells": [
  {
   "cell_type": "markdown",
   "metadata": {},
   "source": [
    "# 모의고사 1-2 통계분석 Q1~5"
   ]
  },
  {
   "cell_type": "code",
   "execution_count": 1,
   "metadata": {},
   "outputs": [],
   "source": [
    "#---------------------------------------------------------------------------------------\n",
    "# Q1) FIFA데이터에서 각 선수의 키는 Heghit변수에 피트와 인치로 입력되어 있습니다. \n",
    "#      이를 cm로 변환하여 새로운 변수 Height_cm을 생성하시오. \n",
    "#      ( “ ' ” 앞의 숫자는 피트이며, “ ' ” 뒤의 숫자는 인치, 1피트 = 30cm, 1인치 = 2.5cm)\n",
    "#---------------------------------------------------------------------------------------"
   ]
  },
  {
   "cell_type": "code",
   "execution_count": 2,
   "metadata": {},
   "outputs": [
    {
     "data": {
      "text/html": [
       "<div>\n",
       "<style scoped>\n",
       "    .dataframe tbody tr th:only-of-type {\n",
       "        vertical-align: middle;\n",
       "    }\n",
       "\n",
       "    .dataframe tbody tr th {\n",
       "        vertical-align: top;\n",
       "    }\n",
       "\n",
       "    .dataframe thead th {\n",
       "        text-align: right;\n",
       "    }\n",
       "</style>\n",
       "<table border=\"1\" class=\"dataframe\">\n",
       "  <thead>\n",
       "    <tr style=\"text-align: right;\">\n",
       "      <th></th>\n",
       "      <th>ID</th>\n",
       "      <th>Name</th>\n",
       "      <th>Age</th>\n",
       "      <th>Nationality</th>\n",
       "      <th>Overall</th>\n",
       "      <th>Club</th>\n",
       "      <th>Preferred_Foot</th>\n",
       "      <th>Work_Rate</th>\n",
       "      <th>Position</th>\n",
       "      <th>Jersey_Number</th>\n",
       "      <th>Contract_Valid_Until</th>\n",
       "      <th>Height</th>\n",
       "      <th>Weight_lb</th>\n",
       "      <th>Release_Clause</th>\n",
       "      <th>Value</th>\n",
       "      <th>Wage</th>\n",
       "    </tr>\n",
       "  </thead>\n",
       "  <tbody>\n",
       "    <tr>\n",
       "      <th>0</th>\n",
       "      <td>158023</td>\n",
       "      <td>L. Messi</td>\n",
       "      <td>31</td>\n",
       "      <td>Argentina</td>\n",
       "      <td>94</td>\n",
       "      <td>FC Barcelona</td>\n",
       "      <td>Left</td>\n",
       "      <td>Medium/ Medium</td>\n",
       "      <td>RF</td>\n",
       "      <td>10</td>\n",
       "      <td>2021</td>\n",
       "      <td>5'7</td>\n",
       "      <td>159</td>\n",
       "      <td>226500</td>\n",
       "      <td>110500</td>\n",
       "      <td>565</td>\n",
       "    </tr>\n",
       "    <tr>\n",
       "      <th>1</th>\n",
       "      <td>20801</td>\n",
       "      <td>Cristiano Ronaldo</td>\n",
       "      <td>33</td>\n",
       "      <td>Portugal</td>\n",
       "      <td>94</td>\n",
       "      <td>Juventus</td>\n",
       "      <td>Right</td>\n",
       "      <td>High/ Low</td>\n",
       "      <td>ST</td>\n",
       "      <td>7</td>\n",
       "      <td>2022</td>\n",
       "      <td>6'2</td>\n",
       "      <td>183</td>\n",
       "      <td>127100</td>\n",
       "      <td>77000</td>\n",
       "      <td>405</td>\n",
       "    </tr>\n",
       "    <tr>\n",
       "      <th>2</th>\n",
       "      <td>190871</td>\n",
       "      <td>Neymar Jr</td>\n",
       "      <td>26</td>\n",
       "      <td>Brazil</td>\n",
       "      <td>92</td>\n",
       "      <td>Paris Saint-Germain</td>\n",
       "      <td>Right</td>\n",
       "      <td>High/ Medium</td>\n",
       "      <td>LW</td>\n",
       "      <td>10</td>\n",
       "      <td>2022</td>\n",
       "      <td>5'9</td>\n",
       "      <td>150</td>\n",
       "      <td>228100</td>\n",
       "      <td>118500</td>\n",
       "      <td>290</td>\n",
       "    </tr>\n",
       "    <tr>\n",
       "      <th>3</th>\n",
       "      <td>193080</td>\n",
       "      <td>De Gea</td>\n",
       "      <td>27</td>\n",
       "      <td>Spain</td>\n",
       "      <td>91</td>\n",
       "      <td>Manchester United</td>\n",
       "      <td>Right</td>\n",
       "      <td>Medium/ Medium</td>\n",
       "      <td>GK</td>\n",
       "      <td>1</td>\n",
       "      <td>2020</td>\n",
       "      <td>6'4</td>\n",
       "      <td>168</td>\n",
       "      <td>138600</td>\n",
       "      <td>72000</td>\n",
       "      <td>260</td>\n",
       "    </tr>\n",
       "    <tr>\n",
       "      <th>4</th>\n",
       "      <td>192985</td>\n",
       "      <td>K. De Bruyne</td>\n",
       "      <td>27</td>\n",
       "      <td>Belgium</td>\n",
       "      <td>91</td>\n",
       "      <td>Manchester City</td>\n",
       "      <td>Right</td>\n",
       "      <td>High/ High</td>\n",
       "      <td>RCM</td>\n",
       "      <td>7</td>\n",
       "      <td>2023</td>\n",
       "      <td>5'11</td>\n",
       "      <td>154</td>\n",
       "      <td>196400</td>\n",
       "      <td>102000</td>\n",
       "      <td>355</td>\n",
       "    </tr>\n",
       "    <tr>\n",
       "      <th>...</th>\n",
       "      <td>...</td>\n",
       "      <td>...</td>\n",
       "      <td>...</td>\n",
       "      <td>...</td>\n",
       "      <td>...</td>\n",
       "      <td>...</td>\n",
       "      <td>...</td>\n",
       "      <td>...</td>\n",
       "      <td>...</td>\n",
       "      <td>...</td>\n",
       "      <td>...</td>\n",
       "      <td>...</td>\n",
       "      <td>...</td>\n",
       "      <td>...</td>\n",
       "      <td>...</td>\n",
       "      <td>...</td>\n",
       "    </tr>\n",
       "    <tr>\n",
       "      <th>16637</th>\n",
       "      <td>238813</td>\n",
       "      <td>J. Lundstram</td>\n",
       "      <td>19</td>\n",
       "      <td>England</td>\n",
       "      <td>47</td>\n",
       "      <td>Crewe Alexandra</td>\n",
       "      <td>Right</td>\n",
       "      <td>Medium/ Medium</td>\n",
       "      <td>CM</td>\n",
       "      <td>22</td>\n",
       "      <td>2019</td>\n",
       "      <td>5'9</td>\n",
       "      <td>134</td>\n",
       "      <td>143</td>\n",
       "      <td>60</td>\n",
       "      <td>1</td>\n",
       "    </tr>\n",
       "    <tr>\n",
       "      <th>16638</th>\n",
       "      <td>243165</td>\n",
       "      <td>N. Christoffersson</td>\n",
       "      <td>19</td>\n",
       "      <td>Sweden</td>\n",
       "      <td>47</td>\n",
       "      <td>Trelleborgs FF</td>\n",
       "      <td>Right</td>\n",
       "      <td>Medium/ Medium</td>\n",
       "      <td>ST</td>\n",
       "      <td>21</td>\n",
       "      <td>2020</td>\n",
       "      <td>6'3</td>\n",
       "      <td>170</td>\n",
       "      <td>113</td>\n",
       "      <td>60</td>\n",
       "      <td>1</td>\n",
       "    </tr>\n",
       "    <tr>\n",
       "      <th>16639</th>\n",
       "      <td>241638</td>\n",
       "      <td>B. Worman</td>\n",
       "      <td>16</td>\n",
       "      <td>England</td>\n",
       "      <td>47</td>\n",
       "      <td>Cambridge United</td>\n",
       "      <td>Right</td>\n",
       "      <td>Medium/ Medium</td>\n",
       "      <td>ST</td>\n",
       "      <td>33</td>\n",
       "      <td>2021</td>\n",
       "      <td>5'8</td>\n",
       "      <td>148</td>\n",
       "      <td>165</td>\n",
       "      <td>60</td>\n",
       "      <td>1</td>\n",
       "    </tr>\n",
       "    <tr>\n",
       "      <th>16640</th>\n",
       "      <td>246268</td>\n",
       "      <td>D. Walker-Rice</td>\n",
       "      <td>17</td>\n",
       "      <td>England</td>\n",
       "      <td>47</td>\n",
       "      <td>Tranmere Rovers</td>\n",
       "      <td>Right</td>\n",
       "      <td>Medium/ Medium</td>\n",
       "      <td>RW</td>\n",
       "      <td>34</td>\n",
       "      <td>2019</td>\n",
       "      <td>5'10</td>\n",
       "      <td>154</td>\n",
       "      <td>143</td>\n",
       "      <td>60</td>\n",
       "      <td>1</td>\n",
       "    </tr>\n",
       "    <tr>\n",
       "      <th>16641</th>\n",
       "      <td>246269</td>\n",
       "      <td>G. Nugent</td>\n",
       "      <td>16</td>\n",
       "      <td>England</td>\n",
       "      <td>46</td>\n",
       "      <td>Tranmere Rovers</td>\n",
       "      <td>Right</td>\n",
       "      <td>Medium/ Medium</td>\n",
       "      <td>CM</td>\n",
       "      <td>33</td>\n",
       "      <td>2019</td>\n",
       "      <td>5'10</td>\n",
       "      <td>176</td>\n",
       "      <td>165</td>\n",
       "      <td>60</td>\n",
       "      <td>1</td>\n",
       "    </tr>\n",
       "  </tbody>\n",
       "</table>\n",
       "<p>16642 rows × 16 columns</p>\n",
       "</div>"
      ],
      "text/plain": [
       "           ID                Name  Age Nationality  Overall  \\\n",
       "0      158023            L. Messi   31   Argentina       94   \n",
       "1       20801   Cristiano Ronaldo   33    Portugal       94   \n",
       "2      190871           Neymar Jr   26      Brazil       92   \n",
       "3      193080              De Gea   27       Spain       91   \n",
       "4      192985        K. De Bruyne   27     Belgium       91   \n",
       "...       ...                 ...  ...         ...      ...   \n",
       "16637  238813        J. Lundstram   19     England       47   \n",
       "16638  243165  N. Christoffersson   19      Sweden       47   \n",
       "16639  241638           B. Worman   16     England       47   \n",
       "16640  246268      D. Walker-Rice   17     England       47   \n",
       "16641  246269           G. Nugent   16     England       46   \n",
       "\n",
       "                      Club Preferred_Foot       Work_Rate Position  \\\n",
       "0             FC Barcelona           Left  Medium/ Medium       RF   \n",
       "1                 Juventus          Right       High/ Low       ST   \n",
       "2      Paris Saint-Germain          Right    High/ Medium       LW   \n",
       "3        Manchester United          Right  Medium/ Medium       GK   \n",
       "4          Manchester City          Right      High/ High      RCM   \n",
       "...                    ...            ...             ...      ...   \n",
       "16637      Crewe Alexandra          Right  Medium/ Medium       CM   \n",
       "16638       Trelleborgs FF          Right  Medium/ Medium       ST   \n",
       "16639     Cambridge United          Right  Medium/ Medium       ST   \n",
       "16640      Tranmere Rovers          Right  Medium/ Medium       RW   \n",
       "16641      Tranmere Rovers          Right  Medium/ Medium       CM   \n",
       "\n",
       "       Jersey_Number  Contract_Valid_Until Height  Weight_lb  Release_Clause  \\\n",
       "0                 10                  2021    5'7        159          226500   \n",
       "1                  7                  2022    6'2        183          127100   \n",
       "2                 10                  2022    5'9        150          228100   \n",
       "3                  1                  2020    6'4        168          138600   \n",
       "4                  7                  2023   5'11        154          196400   \n",
       "...              ...                   ...    ...        ...             ...   \n",
       "16637             22                  2019    5'9        134             143   \n",
       "16638             21                  2020    6'3        170             113   \n",
       "16639             33                  2021    5'8        148             165   \n",
       "16640             34                  2019   5'10        154             143   \n",
       "16641             33                  2019   5'10        176             165   \n",
       "\n",
       "        Value  Wage  \n",
       "0      110500   565  \n",
       "1       77000   405  \n",
       "2      118500   290  \n",
       "3       72000   260  \n",
       "4      102000   355  \n",
       "...       ...   ...  \n",
       "16637      60     1  \n",
       "16638      60     1  \n",
       "16639      60     1  \n",
       "16640      60     1  \n",
       "16641      60     1  \n",
       "\n",
       "[16642 rows x 16 columns]"
      ]
     },
     "execution_count": 2,
     "metadata": {},
     "output_type": "execute_result"
    }
   ],
   "source": [
    "import pandas as pd\n",
    "import numpy as np\n",
    "df_fifa = pd.read_csv(\"FIFA.csv\", encoding=\"cp949\")\n",
    "df_fifa"
   ]
  },
  {
   "cell_type": "code",
   "execution_count": 3,
   "metadata": {},
   "outputs": [
    {
     "name": "stdout",
     "output_type": "stream",
     "text": [
      "<class 'pandas.core.frame.DataFrame'>\n",
      "RangeIndex: 16642 entries, 0 to 16641\n",
      "Data columns (total 16 columns):\n",
      " #   Column                Non-Null Count  Dtype \n",
      "---  ------                --------------  ----- \n",
      " 0   ID                    16642 non-null  int64 \n",
      " 1   Name                  16642 non-null  object\n",
      " 2   Age                   16642 non-null  int64 \n",
      " 3   Nationality           16642 non-null  object\n",
      " 4   Overall               16642 non-null  int64 \n",
      " 5   Club                  16642 non-null  object\n",
      " 6   Preferred_Foot        16642 non-null  object\n",
      " 7   Work_Rate             16642 non-null  object\n",
      " 8   Position              16642 non-null  object\n",
      " 9   Jersey_Number         16642 non-null  int64 \n",
      " 10  Contract_Valid_Until  16642 non-null  int64 \n",
      " 11  Height                16642 non-null  object\n",
      " 12  Weight_lb             16642 non-null  int64 \n",
      " 13  Release_Clause        16642 non-null  int64 \n",
      " 14  Value                 16642 non-null  int64 \n",
      " 15  Wage                  16642 non-null  int64 \n",
      "dtypes: int64(9), object(7)\n",
      "memory usage: 2.0+ MB\n"
     ]
    }
   ],
   "source": [
    "df_fifa.info()"
   ]
  },
  {
   "cell_type": "code",
   "execution_count": 4,
   "metadata": {},
   "outputs": [],
   "source": [
    "df_fifa[\"Height_cm\"] = df_fifa[\"Height\"]"
   ]
  },
  {
   "cell_type": "code",
   "execution_count": 5,
   "metadata": {},
   "outputs": [
    {
     "data": {
      "text/plain": [
       "0        167.5\n",
       "1        185.0\n",
       "2        172.5\n",
       "3        190.0\n",
       "4        177.5\n",
       "         ...  \n",
       "16637    172.5\n",
       "16638    187.5\n",
       "16639    170.0\n",
       "16640    175.0\n",
       "16641    175.0\n",
       "Name: Height_cm, Length: 16642, dtype: float64"
      ]
     },
     "execution_count": 5,
     "metadata": {},
     "output_type": "execute_result"
    }
   ],
   "source": [
    "df_fifa[\"Height_cm\"] = df_fifa[\"Height_cm\"].map(lambda x: int(x.split(\"'\")[0])*30 + int(x.split(\"'\")[1])*2.5)\n",
    "df_fifa[\"Height_cm\"]"
   ]
  },
  {
   "cell_type": "markdown",
   "metadata": {},
   "source": [
    "# Q1 끝"
   ]
  },
  {
   "cell_type": "code",
   "execution_count": 6,
   "metadata": {},
   "outputs": [],
   "source": [
    "#---------------------------------------------------------------------------------------\n",
    "# Q2) 포지션을 의미하는 Position변수를 아래 표를 참고하여 “Forward”, “Midfielder”, \n",
    "#      “Defender”, “GoalKeeper”로 재범주화하고, factor형으로 변환하여 Position_Class \n",
    "#       라는 변수를 생성하고 저장하시오.\n",
    "#---------------------------------------------------------------------------------------"
   ]
  },
  {
   "cell_type": "code",
   "execution_count": 7,
   "metadata": {},
   "outputs": [
    {
     "data": {
      "text/plain": [
       "ST     1924\n",
       "GK     1900\n",
       "CB     1646\n",
       "CM     1276\n",
       "LB     1223\n",
       "RB     1199\n",
       "RM     1022\n",
       "LM     1012\n",
       "CAM     876\n",
       "CDM     873\n",
       "RCB     615\n",
       "LCB     595\n",
       "RCM     355\n",
       "LCM     353\n",
       "LW      338\n",
       "RW      325\n",
       "RDM     228\n",
       "LDM     224\n",
       "LS      184\n",
       "RS      179\n",
       "RWB      84\n",
       "LWB      76\n",
       "CF       66\n",
       "RAM      21\n",
       "LAM      20\n",
       "LF       15\n",
       "RF       13\n",
       "Name: Position, dtype: int64"
      ]
     },
     "execution_count": 7,
     "metadata": {},
     "output_type": "execute_result"
    }
   ],
   "source": [
    "df_fifa[\"Position\"].value_counts()"
   ]
  },
  {
   "cell_type": "code",
   "execution_count": 8,
   "metadata": {},
   "outputs": [],
   "source": [
    "Forward = [\"LS\",\"ST\",\"RS\",\"LW\",\"LF\",\"CF\",\"RF\",\"RW\"]\n",
    "Midfielder = [\"LAM\",\"CAM\",\"RAM\",\"LM\",\"LCM\",\"CM\",\"RCM\",\"RM\"]\n",
    "Defender = [\"LWB\",\"LDM\",\"CDM\",\"RDM\",\"RWB\",\"LB\",\"LCB\",\"CB\",\"RCB\",\"RB\"]\n",
    "Goalkeeper = [\"GK\"]"
   ]
  },
  {
   "cell_type": "code",
   "execution_count": 9,
   "metadata": {},
   "outputs": [],
   "source": [
    "df_fifa.loc[df_fifa[\"Position\"].isin(Forward),\"Position_Class\"] = \"Forward\"\n",
    "df_fifa.loc[df_fifa[\"Position\"].isin(Midfielder),\"Position_Class\"] = \"Midfielder\"\n",
    "df_fifa.loc[df_fifa[\"Position\"].isin(Defender),\"Position_Class\"] = \"Defender\"\n",
    "df_fifa.loc[df_fifa[\"Position\"].isin(Goalkeeper),\"Position_Class\"] = \"Goalkeeper\""
   ]
  },
  {
   "cell_type": "code",
   "execution_count": 18,
   "metadata": {},
   "outputs": [
    {
     "data": {
      "text/plain": [
       "Defender      6763\n",
       "Midfielder    4935\n",
       "Forward       3044\n",
       "Goalkeeper    1900\n",
       "Name: Position_Class, dtype: int64"
      ]
     },
     "execution_count": 18,
     "metadata": {},
     "output_type": "execute_result"
    }
   ],
   "source": [
    "df_fifa[\"Position_Class\"].value_counts()"
   ]
  },
  {
   "cell_type": "markdown",
   "metadata": {},
   "source": [
    "## Q2 끝"
   ]
  },
  {
   "cell_type": "code",
   "execution_count": 14,
   "metadata": {},
   "outputs": [],
   "source": [
    "#---------------------------------------------------------------------------------------\n",
    "# Q3) 새로 생성한 Position_Class 변수의 각 범주에 따른 Value(선수의 시장가치)의 \n",
    "#      평균값의 차이를 비교하는 일원배치 분산분석을 수행하고 결과를 해석하시오. \n",
    "#      그리고 평균값의 차이가 통계적으로 유의하다면 사후검정을 수행하고 설명하시오.\n",
    "#---------------------------------------------------------------------------------------"
   ]
  },
  {
   "cell_type": "code",
   "execution_count": 17,
   "metadata": {},
   "outputs": [
    {
     "data": {
      "text/html": [
       "<div>\n",
       "<style scoped>\n",
       "    .dataframe tbody tr th:only-of-type {\n",
       "        vertical-align: middle;\n",
       "    }\n",
       "\n",
       "    .dataframe tbody tr th {\n",
       "        vertical-align: top;\n",
       "    }\n",
       "\n",
       "    .dataframe thead th {\n",
       "        text-align: right;\n",
       "    }\n",
       "</style>\n",
       "<table border=\"1\" class=\"dataframe\">\n",
       "  <thead>\n",
       "    <tr style=\"text-align: right;\">\n",
       "      <th></th>\n",
       "      <th>df</th>\n",
       "      <th>sum_sq</th>\n",
       "      <th>mean_sq</th>\n",
       "      <th>F</th>\n",
       "      <th>PR(&gt;F)</th>\n",
       "    </tr>\n",
       "  </thead>\n",
       "  <tbody>\n",
       "    <tr>\n",
       "      <th>C(Position_Class)</th>\n",
       "      <td>3.0</td>\n",
       "      <td>4.081181e+09</td>\n",
       "      <td>1.360394e+09</td>\n",
       "      <td>41.873906</td>\n",
       "      <td>5.988667e-27</td>\n",
       "    </tr>\n",
       "    <tr>\n",
       "      <th>Residual</th>\n",
       "      <td>16638.0</td>\n",
       "      <td>5.405330e+11</td>\n",
       "      <td>3.248786e+07</td>\n",
       "      <td>NaN</td>\n",
       "      <td>NaN</td>\n",
       "    </tr>\n",
       "  </tbody>\n",
       "</table>\n",
       "</div>"
      ],
      "text/plain": [
       "                        df        sum_sq       mean_sq          F  \\\n",
       "C(Position_Class)      3.0  4.081181e+09  1.360394e+09  41.873906   \n",
       "Residual           16638.0  5.405330e+11  3.248786e+07        NaN   \n",
       "\n",
       "                         PR(>F)  \n",
       "C(Position_Class)  5.988667e-27  \n",
       "Residual                    NaN  "
      ]
     },
     "execution_count": 17,
     "metadata": {},
     "output_type": "execute_result"
    }
   ],
   "source": [
    "from statsmodels.stats.anova import anova_lm\n",
    "from statsmodels.formula.api import ols\n",
    "\n",
    "anova_lm(ols(\"Value ~ C(Position_Class)\", data = df_fifa).fit())"
   ]
  },
  {
   "cell_type": "markdown",
   "metadata": {},
   "source": [
    "## Q3-1\n",
    "Value 값을 Position_Class를 요인으로 ANOVA 분석 결과,\n",
    "\n",
    "F 통계값에 대한 P-value가 유의수준 0.05에 비해 현저히 낮으므로\n",
    "\n",
    "귀무가설인 mean(Position_Class == Forward) = mean(Position_Class == Midfielder) = ... = mean(Position_Class == GoalKeeper)를 기각하여,\n",
    "\n",
    "Position_Class 요인에 따라 적어도 한 쌍은 평균이 통계적으로 다르다라고 말할 수 있다."
   ]
  },
  {
   "cell_type": "code",
   "execution_count": 20,
   "metadata": {},
   "outputs": [
    {
     "data": {
      "text/html": [
       "<table class=\"simpletable\">\n",
       "<caption>Multiple Comparison of Means - Tukey HSD, FWER=0.05</caption>\n",
       "<tr>\n",
       "    <th>group1</th>     <th>group2</th>    <th>meandiff</th>   <th>p-adj</th>    <th>lower</th>      <th>upper</th>   <th>reject</th>\n",
       "</tr>\n",
       "<tr>\n",
       "   <td>Defender</td>    <td>Forward</td>    <td>930.373</td>   <td>0.001</td>  <td>610.7429</td>   <td>1250.0031</td>  <td>True</td> \n",
       "</tr>\n",
       "<tr>\n",
       "   <td>Defender</td>  <td>Goalkeeper</td>  <td>-507.3848</td> <td>0.0034</td>  <td>-887.6261</td>  <td>-127.1436</td>  <td>True</td> \n",
       "</tr>\n",
       "<tr>\n",
       "   <td>Defender</td>  <td>Midfielder</td>  <td>760.8787</td>   <td>0.001</td>  <td>486.7123</td>   <td>1035.045</td>   <td>True</td> \n",
       "</tr>\n",
       "<tr>\n",
       "    <td>Forward</td>  <td>Goalkeeper</td> <td>-1437.7579</td>  <td>0.001</td> <td>-1865.9234</td> <td>-1009.5923</td>  <td>True</td> \n",
       "</tr>\n",
       "<tr>\n",
       "    <td>Forward</td>  <td>Midfielder</td>  <td>-169.4944</td> <td>0.5609</td>  <td>-506.9991</td>  <td>168.0104</td>   <td>False</td>\n",
       "</tr>\n",
       "<tr>\n",
       "  <td>Goalkeeper</td> <td>Midfielder</td>  <td>1268.2635</td>  <td>0.001</td>  <td>872.8782</td>   <td>1663.6488</td>  <td>True</td> \n",
       "</tr>\n",
       "</table>"
      ],
      "text/plain": [
       "<class 'statsmodels.iolib.table.SimpleTable'>"
      ]
     },
     "execution_count": 20,
     "metadata": {},
     "output_type": "execute_result"
    }
   ],
   "source": [
    "from statsmodels.stats.multicomp import pairwise_tukeyhsd\n",
    "pairwise_tukeyhsd(df_fifa[\"Value\"], df_fifa[\"Position_Class\"]).summary()"
   ]
  },
  {
   "cell_type": "markdown",
   "metadata": {},
   "source": [
    "## Q3-2\n",
    "Tukey HSD로 요인 Position_Class 에 대한 쌍검정을 했을때,\n",
    "\n",
    "Forward - Midfeilder 쌍을 제외하고, 모두 meandiff 값이 HSD 범위를 벗어났으므로, Value 평균이 0.05의 유의수준에 대해 다르다고 말할 수 있다.\n",
    "\n",
    "Forward - Midfeilder 쌍은 meandiff 값이 HSD 범위 내에 있으므로, Value 평균이 다르다고 말할 수 없다."
   ]
  },
  {
   "cell_type": "code",
   "execution_count": 21,
   "metadata": {},
   "outputs": [],
   "source": [
    "#---------------------------------------------------------------------------------------\n",
    "# Q4) Preferred Foot(주로 사용하는 발)과 Position_Class(재범주화 된 포지션)변수에 \n",
    "#      따라 Value(이적료)의 차이가 있는지를 알아보기 위해 이원배치분산분석을 \n",
    "#      수행하고 결과를 해석하시오.\n",
    "#--------------------------------------------------------------------------------------"
   ]
  },
  {
   "cell_type": "code",
   "execution_count": 22,
   "metadata": {},
   "outputs": [
    {
     "data": {
      "text/html": [
       "<div>\n",
       "<style scoped>\n",
       "    .dataframe tbody tr th:only-of-type {\n",
       "        vertical-align: middle;\n",
       "    }\n",
       "\n",
       "    .dataframe tbody tr th {\n",
       "        vertical-align: top;\n",
       "    }\n",
       "\n",
       "    .dataframe thead th {\n",
       "        text-align: right;\n",
       "    }\n",
       "</style>\n",
       "<table border=\"1\" class=\"dataframe\">\n",
       "  <thead>\n",
       "    <tr style=\"text-align: right;\">\n",
       "      <th></th>\n",
       "      <th>df</th>\n",
       "      <th>sum_sq</th>\n",
       "      <th>mean_sq</th>\n",
       "      <th>F</th>\n",
       "      <th>PR(&gt;F)</th>\n",
       "    </tr>\n",
       "  </thead>\n",
       "  <tbody>\n",
       "    <tr>\n",
       "      <th>Preferred_Foot</th>\n",
       "      <td>1.0</td>\n",
       "      <td>1.460850e+08</td>\n",
       "      <td>1.460850e+08</td>\n",
       "      <td>4.500734</td>\n",
       "      <td>3.389505e-02</td>\n",
       "    </tr>\n",
       "    <tr>\n",
       "      <th>Position_Class</th>\n",
       "      <td>3.0</td>\n",
       "      <td>4.087367e+09</td>\n",
       "      <td>1.362456e+09</td>\n",
       "      <td>41.975902</td>\n",
       "      <td>5.151392e-27</td>\n",
       "    </tr>\n",
       "    <tr>\n",
       "      <th>Preferred_Foot:Position_Class</th>\n",
       "      <td>3.0</td>\n",
       "      <td>4.736156e+08</td>\n",
       "      <td>1.578719e+08</td>\n",
       "      <td>4.863874</td>\n",
       "      <td>2.207249e-03</td>\n",
       "    </tr>\n",
       "    <tr>\n",
       "      <th>Residual</th>\n",
       "      <td>16634.0</td>\n",
       "      <td>5.399071e+11</td>\n",
       "      <td>3.245805e+07</td>\n",
       "      <td>NaN</td>\n",
       "      <td>NaN</td>\n",
       "    </tr>\n",
       "  </tbody>\n",
       "</table>\n",
       "</div>"
      ],
      "text/plain": [
       "                                    df        sum_sq       mean_sq          F  \\\n",
       "Preferred_Foot                     1.0  1.460850e+08  1.460850e+08   4.500734   \n",
       "Position_Class                     3.0  4.087367e+09  1.362456e+09  41.975902   \n",
       "Preferred_Foot:Position_Class      3.0  4.736156e+08  1.578719e+08   4.863874   \n",
       "Residual                       16634.0  5.399071e+11  3.245805e+07        NaN   \n",
       "\n",
       "                                     PR(>F)  \n",
       "Preferred_Foot                 3.389505e-02  \n",
       "Position_Class                 5.151392e-27  \n",
       "Preferred_Foot:Position_Class  2.207249e-03  \n",
       "Residual                                NaN  "
      ]
     },
     "execution_count": 22,
     "metadata": {},
     "output_type": "execute_result"
    }
   ],
   "source": [
    "anova_lm(ols(\"Value ~ Preferred_Foot * Position_Class\", data = df_fifa).fit())"
   ]
  },
  {
   "cell_type": "markdown",
   "metadata": {},
   "source": [
    "## Q4-1\n",
    "주 요인인, Preferred_Foot, Position_Class 에 대해 F 값에 대한 P-value가 유의수준 0.05에 대해 현저히 낮으므로,\n",
    "\n",
    "귀무가설을 기각하여, 주 요인에 따라 Value 평균이 다르다고 말할 수 있다.\n",
    "\n",
    "또한 교호작용 요인인, Preferred_Foot * Position_Class 에 대해서도 F값에 대한 P-value가 유의수준 0.05에 비해 낮기 때문에,\n",
    "\n",
    "귀무가설을 기각하여, 두 요인의 교호작용에 대해서도 Value 평균이 달라진다고 말할 수 있다."
   ]
  },
  {
   "cell_type": "code",
   "execution_count": 25,
   "metadata": {},
   "outputs": [
    {
     "data": {
      "text/plain": [
       "Right_Defender      4838\n",
       "Right_Midfielder    3747\n",
       "Right_Forward       2530\n",
       "Left_Defender       1925\n",
       "Right_Goalkeeper    1707\n",
       "Left_Midfielder     1188\n",
       "Left_Forward         514\n",
       "Left_Goalkeeper      193\n",
       "Name: Preferred_Foot_Position_Class, dtype: int64"
      ]
     },
     "execution_count": 25,
     "metadata": {},
     "output_type": "execute_result"
    }
   ],
   "source": [
    "df_fifa[\"Preferred_Foot_Position_Class\"] = df_fifa[\"Preferred_Foot\"] + \"_\" + df_fifa[\"Position_Class\"]\n",
    "df_fifa[\"Preferred_Foot_Position_Class\"].value_counts()"
   ]
  },
  {
   "cell_type": "code",
   "execution_count": 26,
   "metadata": {},
   "outputs": [
    {
     "data": {
      "text/html": [
       "<table class=\"simpletable\">\n",
       "<caption>Multiple Comparison of Means - Tukey HSD, FWER=0.05</caption>\n",
       "<tr>\n",
       "       <th>group1</th>           <th>group2</th>       <th>meandiff</th>   <th>p-adj</th>    <th>lower</th>     <th>upper</th>   <th>reject</th>\n",
       "</tr>\n",
       "<tr>\n",
       "    <td>Left_Defender</td>    <td>Left_Forward</td>    <td>1713.4347</td>  <td>0.001</td>  <td>856.0187</td>  <td>2570.8508</td>  <td>True</td> \n",
       "</tr>\n",
       "<tr>\n",
       "    <td>Left_Defender</td>   <td>Left_Goalkeeper</td>  <td>574.0484</td>  <td>0.8816</td>  <td>-729.8736</td> <td>1877.9703</td>  <td>False</td>\n",
       "</tr>\n",
       "<tr>\n",
       "    <td>Left_Defender</td>   <td>Left_Midfielder</td>  <td>1107.086</td>   <td>0.001</td>  <td>469.9258</td>  <td>1744.2461</td>  <td>True</td> \n",
       "</tr>\n",
       "<tr>\n",
       "    <td>Left_Defender</td>   <td>Right_Defender</td>   <td>131.8539</td>    <td>0.9</td>   <td>-333.5222</td> <td>597.2299</td>   <td>False</td>\n",
       "</tr>\n",
       "<tr>\n",
       "    <td>Left_Defender</td>    <td>Right_Forward</td>   <td>884.7709</td>   <td>0.001</td>  <td>362.4579</td>  <td>1407.084</td>   <td>True</td> \n",
       "</tr>\n",
       "<tr>\n",
       "    <td>Left_Defender</td>  <td>Right_Goalkeeper</td>  <td>-524.6679</td> <td>0.1026</td> <td>-1098.8153</td>  <td>49.4796</td>   <td>False</td>\n",
       "</tr>\n",
       "<tr>\n",
       "    <td>Left_Defender</td>  <td>Right_Midfielder</td>  <td>775.3413</td>   <td>0.001</td>  <td>291.0647</td>  <td>1259.618</td>   <td>True</td> \n",
       "</tr>\n",
       "<tr>\n",
       "    <td>Left_Forward</td>    <td>Left_Goalkeeper</td> <td>-1139.3864</td> <td>0.2567</td> <td>-2597.3011</td> <td>318.5284</td>   <td>False</td>\n",
       "</tr>\n",
       "<tr>\n",
       "    <td>Left_Forward</td>    <td>Left_Midfielder</td>  <td>-606.3488</td> <td>0.4727</td> <td>-1518.0922</td> <td>305.3947</td>   <td>False</td>\n",
       "</tr>\n",
       "<tr>\n",
       "    <td>Left_Forward</td>    <td>Right_Defender</td>  <td>-1581.5808</td>  <td>0.001</td> <td>-2382.7537</td> <td>-780.408</td>   <td>True</td> \n",
       "</tr>\n",
       "<tr>\n",
       "    <td>Left_Forward</td>     <td>Right_Forward</td>   <td>-828.6638</td> <td>0.0538</td> <td>-1664.1959</td>  <td>6.8683</td>    <td>False</td>\n",
       "</tr>\n",
       "<tr>\n",
       "    <td>Left_Forward</td>   <td>Right_Goalkeeper</td> <td>-2238.1026</td>  <td>0.001</td> <td>-3106.9802</td> <td>-1369.225</td>  <td>True</td> \n",
       "</tr>\n",
       "<tr>\n",
       "    <td>Left_Forward</td>   <td>Right_Midfielder</td>  <td>-938.0934</td>  <td>0.011</td> <td>-1750.3907</td> <td>-125.7961</td>  <td>True</td> \n",
       "</tr>\n",
       "<tr>\n",
       "   <td>Left_Goalkeeper</td>  <td>Left_Midfielder</td>  <td>533.0376</td>    <td>0.9</td>   <td>-807.2334</td> <td>1873.3085</td>  <td>False</td>\n",
       "</tr>\n",
       "<tr>\n",
       "   <td>Left_Goalkeeper</td>  <td>Right_Defender</td>   <td>-442.1945</td>   <td>0.9</td>  <td>-1709.8411</td> <td>825.4522</td>   <td>False</td>\n",
       "</tr>\n",
       "<tr>\n",
       "   <td>Left_Goalkeeper</td>   <td>Right_Forward</td>   <td>310.7226</td>    <td>0.9</td>   <td>-978.9146</td> <td>1600.3597</td>  <td>False</td>\n",
       "</tr>\n",
       "<tr>\n",
       "   <td>Left_Goalkeeper</td> <td>Right_Goalkeeper</td> <td>-1098.7163</td> <td>0.1787</td> <td>-2410.2034</td> <td>212.7709</td>   <td>False</td>\n",
       "</tr>\n",
       "<tr>\n",
       "   <td>Left_Goalkeeper</td> <td>Right_Midfielder</td>   <td>201.293</td>    <td>0.9</td>  <td>-1073.4137</td> <td>1475.9996</td>  <td>False</td>\n",
       "</tr>\n",
       "<tr>\n",
       "   <td>Left_Midfielder</td>  <td>Right_Defender</td>   <td>-975.2321</td>  <td>0.001</td> <td>-1534.4178</td> <td>-416.0464</td>  <td>True</td> \n",
       "</tr>\n",
       "<tr>\n",
       "   <td>Left_Midfielder</td>   <td>Right_Forward</td>   <td>-222.315</td>    <td>0.9</td>   <td>-829.7067</td> <td>385.0767</td>   <td>False</td>\n",
       "</tr>\n",
       "<tr>\n",
       "   <td>Left_Midfielder</td> <td>Right_Goalkeeper</td> <td>-1631.7538</td>  <td>0.001</td>  <td>-2284.256</td> <td>-979.2517</td>  <td>True</td> \n",
       "</tr>\n",
       "<tr>\n",
       "   <td>Left_Midfielder</td> <td>Right_Midfielder</td>  <td>-331.7446</td> <td>0.6339</td>  <td>-906.7556</td> <td>243.2664</td>   <td>False</td>\n",
       "</tr>\n",
       "<tr>\n",
       "   <td>Right_Defender</td>    <td>Right_Forward</td>    <td>752.917</td>   <td>0.001</td>  <td>329.2114</td>  <td>1176.6227</td>  <td>True</td> \n",
       "</tr>\n",
       "<tr>\n",
       "   <td>Right_Defender</td>  <td>Right_Goalkeeper</td>  <td>-656.5218</td> <td>0.0011</td> <td>-1142.6913</td> <td>-170.3522</td>  <td>True</td> \n",
       "</tr>\n",
       "<tr>\n",
       "   <td>Right_Defender</td>  <td>Right_Midfielder</td>  <td>643.4875</td>   <td>0.001</td>  <td>267.6691</td>  <td>1019.3058</td>  <td>True</td> \n",
       "</tr>\n",
       "<tr>\n",
       "    <td>Right_Forward</td>  <td>Right_Goalkeeper</td> <td>-1409.4388</td>  <td>0.001</td> <td>-1950.3611</td> <td>-868.5165</td>  <td>True</td> \n",
       "</tr>\n",
       "<tr>\n",
       "    <td>Right_Forward</td>  <td>Right_Midfielder</td>  <td>-109.4296</td>   <td>0.9</td>   <td>-553.8117</td> <td>334.9526</td>   <td>False</td>\n",
       "</tr>\n",
       "<tr>\n",
       "  <td>Right_Goalkeeper</td> <td>Right_Midfielder</td>  <td>1300.0092</td>  <td>0.001</td>  <td>795.7178</td>  <td>1804.3007</td>  <td>True</td> \n",
       "</tr>\n",
       "</table>"
      ],
      "text/plain": [
       "<class 'statsmodels.iolib.table.SimpleTable'>"
      ]
     },
     "execution_count": 26,
     "metadata": {},
     "output_type": "execute_result"
    }
   ],
   "source": [
    "pairwise_tukeyhsd(df_fifa[\"Value\"], df_fifa[\"Preferred_Foot_Position_Class\"]).summary()"
   ]
  },
  {
   "cell_type": "markdown",
   "metadata": {},
   "source": [
    "## Q4-2\n",
    "두 요인의 조합인 Preferred_Foot * Position_Class 에 대해 Tukey HSD 구간 검정을 했을때,\n",
    "\n",
    "reject가 True인 쌍은 서로 value 평균이 다르다고 말할 수 있고 (유의수준 0.05)\n",
    "\n",
    "reject가 False인 쌍은 서로 value 평균이 다르다고 말할 수 없다 (유의수준 0.05)"
   ]
  },
  {
   "cell_type": "code",
   "execution_count": 27,
   "metadata": {},
   "outputs": [],
   "source": [
    "#---------------------------------------------------------------------------------------\n",
    "# Q5)Age, Overall, Wage, Height_cm, Weight_lb 가 Value에 영향을 미치는지 \n",
    "#     알아보는 회귀분석을 단계적 선택법을 사용하여 수행하고 결과를 해석하시오. \n",
    "#---------------------------------------------------------------------------------------"
   ]
  },
  {
   "cell_type": "code",
   "execution_count": 47,
   "metadata": {},
   "outputs": [
    {
     "name": "stdout",
     "output_type": "stream",
     "text": [
      "335205.1558283197\n",
      "335117.3444646266\n",
      "326827.08244640735\n",
      "312652.15076842374\n",
      "335214.8160892864\n",
      "335182.4193721193\n"
     ]
    }
   ],
   "source": [
    "# 1, 상수항\n",
    "model = ols(\"Value ~ 1\", data = df_fifa)\n",
    "print(model.fit().bic)\n",
    "model = ols(\"Value ~ Age\", data = df_fifa)\n",
    "print(model.fit().bic)\n",
    "model = ols(\"Value ~ Overall\", data = df_fifa)\n",
    "print(model.fit().bic)\n",
    "model = ols(\"Value ~ Wage\", data = df_fifa)\n",
    "print(model.fit().bic)\n",
    "model = ols(\"Value ~ Height_cm\", data = df_fifa)\n",
    "print(model.fit().bic)\n",
    "model = ols(\"Value ~ Weight_lb\", data = df_fifa)\n",
    "print(model.fit().bic)"
   ]
  },
  {
   "cell_type": "code",
   "execution_count": 50,
   "metadata": {},
   "outputs": [
    {
     "name": "stdout",
     "output_type": "stream",
     "text": [
      "312652.15076842374\n",
      "335205.1558283197\n",
      "312485.4822709994\n",
      "310815.57190793526\n",
      "312646.37395881966\n",
      "312652.42481762206\n"
     ]
    }
   ],
   "source": [
    "# 2, Wage 추가\n",
    "model = ols(\"Value ~ Wage\", data = df_fifa)\n",
    "print(model.fit().bic)\n",
    "model = ols(\"Value ~ 1\", data = df_fifa)\n",
    "print(model.fit().bic)\n",
    "model = ols(\"Value ~ Wage + Age\", data = df_fifa)\n",
    "print(model.fit().bic)\n",
    "model = ols(\"Value ~ Wage + Overall\", data = df_fifa)\n",
    "print(model.fit().bic)\n",
    "model = ols(\"Value ~ Wage + Height_cm\", data = df_fifa)\n",
    "print(model.fit().bic)\n",
    "model = ols(\"Value ~ Wage + Weight_lb\", data = df_fifa)\n",
    "print(model.fit().bic)"
   ]
  },
  {
   "cell_type": "code",
   "execution_count": 53,
   "metadata": {},
   "outputs": [
    {
     "name": "stdout",
     "output_type": "stream",
     "text": [
      "310815.57190793526\n",
      "312652.15076842374\n",
      "326827.08244640735\n",
      "309204.04792635\n",
      "310793.6671959044\n",
      "310731.5756807156\n"
     ]
    }
   ],
   "source": [
    "# 3, Wage + Overall\n",
    "model = ols(\"Value ~ Wage + Overall\", data = df_fifa)\n",
    "print(model.fit().bic)\n",
    "model = ols(\"Value ~ Wage\", data = df_fifa)\n",
    "print(model.fit().bic)\n",
    "model = ols(\"Value ~ Overall\", data = df_fifa)\n",
    "print(model.fit().bic)\n",
    "model = ols(\"Value ~ Wage + Overall + Age\", data = df_fifa)\n",
    "print(model.fit().bic)\n",
    "model = ols(\"Value ~ Wage + Overall + Height_cm\", data = df_fifa)\n",
    "print(model.fit().bic)\n",
    "model = ols(\"Value ~ Wage + Overall + Weight_lb\", data = df_fifa)\n",
    "print(model.fit().bic)"
   ]
  },
  {
   "cell_type": "code",
   "execution_count": 55,
   "metadata": {},
   "outputs": [
    {
     "name": "stdout",
     "output_type": "stream",
     "text": [
      "309204.04792635\n",
      "325109.2977464062\n",
      "312485.4822709994\n",
      "310815.57190793526\n",
      "309206.2599529369\n",
      "309206.4746432461\n"
     ]
    }
   ],
   "source": [
    "# 4, Wage + Overal + Age\n",
    "model = ols(\"Value ~ Wage + Overall + Age\", data = df_fifa)\n",
    "print(model.fit().bic)\n",
    "model = ols(\"Value ~ Overall + Age\", data = df_fifa)\n",
    "print(model.fit().bic)\n",
    "model = ols(\"Value ~ Wage + Age\", data = df_fifa)\n",
    "print(model.fit().bic)\n",
    "model = ols(\"Value ~ Wage + Overall\", data = df_fifa)\n",
    "print(model.fit().bic)\n",
    "model = ols(\"Value ~ Wage + Overall + Age + Height_cm\", data = df_fifa)\n",
    "print(model.fit().bic)\n",
    "model = ols(\"Value ~ Wage + Overall + Age + Weight_lb\", data = df_fifa)\n",
    "print(model.fit().bic)"
   ]
  },
  {
   "cell_type": "code",
   "execution_count": 62,
   "metadata": {},
   "outputs": [
    {
     "data": {
      "text/html": [
       "<table class=\"simpletable\">\n",
       "<caption>OLS Regression Results</caption>\n",
       "<tr>\n",
       "  <th>Dep. Variable:</th>          <td>Value</td>      <th>  R-squared:         </th>  <td>   0.791</td>  \n",
       "</tr>\n",
       "<tr>\n",
       "  <th>Model:</th>                   <td>OLS</td>       <th>  Adj. R-squared:    </th>  <td>   0.791</td>  \n",
       "</tr>\n",
       "<tr>\n",
       "  <th>Method:</th>             <td>Least Squares</td>  <th>  F-statistic:       </th>  <td>2.096e+04</td> \n",
       "</tr>\n",
       "<tr>\n",
       "  <th>Date:</th>             <td>Sat, 18 Dec 2021</td> <th>  Prob (F-statistic):</th>   <td>  0.00</td>   \n",
       "</tr>\n",
       "<tr>\n",
       "  <th>Time:</th>                 <td>13:00:19</td>     <th>  Log-Likelihood:    </th> <td>-1.5458e+05</td>\n",
       "</tr>\n",
       "<tr>\n",
       "  <th>No. Observations:</th>      <td> 16642</td>      <th>  AIC:               </th>  <td>3.092e+05</td> \n",
       "</tr>\n",
       "<tr>\n",
       "  <th>Df Residuals:</th>          <td> 16638</td>      <th>  BIC:               </th>  <td>3.092e+05</td> \n",
       "</tr>\n",
       "<tr>\n",
       "  <th>Df Model:</th>              <td>     3</td>      <th>                     </th>      <td> </td>     \n",
       "</tr>\n",
       "<tr>\n",
       "  <th>Covariance Type:</th>      <td>nonrobust</td>    <th>                     </th>      <td> </td>     \n",
       "</tr>\n",
       "</table>\n",
       "<table class=\"simpletable\">\n",
       "<tr>\n",
       "      <td></td>         <th>coef</th>     <th>std err</th>      <th>t</th>      <th>P>|t|</th>  <th>[0.025</th>    <th>0.975]</th>  \n",
       "</tr>\n",
       "<tr>\n",
       "  <th>Intercept</th> <td>-1.018e+04</td> <td>  228.843</td> <td>  -44.466</td> <td> 0.000</td> <td>-1.06e+04</td> <td>-9727.191</td>\n",
       "</tr>\n",
       "<tr>\n",
       "  <th>Wage</th>      <td>  184.1522</td> <td>    1.128</td> <td>  163.265</td> <td> 0.000</td> <td>  181.941</td> <td>  186.363</td>\n",
       "</tr>\n",
       "<tr>\n",
       "  <th>Overall</th>   <td>  241.4204</td> <td>    4.002</td> <td>   60.318</td> <td> 0.000</td> <td>  233.575</td> <td>  249.266</td>\n",
       "</tr>\n",
       "<tr>\n",
       "  <th>Age</th>       <td> -203.1997</td> <td>    4.925</td> <td>  -41.261</td> <td> 0.000</td> <td> -212.853</td> <td> -193.547</td>\n",
       "</tr>\n",
       "</table>\n",
       "<table class=\"simpletable\">\n",
       "<tr>\n",
       "  <th>Omnibus:</th>       <td>17093.962</td> <th>  Durbin-Watson:     </th>  <td>   1.409</td>  \n",
       "</tr>\n",
       "<tr>\n",
       "  <th>Prob(Omnibus):</th>  <td> 0.000</td>   <th>  Jarque-Bera (JB):  </th> <td>3530710.483</td>\n",
       "</tr>\n",
       "<tr>\n",
       "  <th>Skew:</th>           <td> 4.667</td>   <th>  Prob(JB):          </th>  <td>    0.00</td>  \n",
       "</tr>\n",
       "<tr>\n",
       "  <th>Kurtosis:</th>       <td>73.743</td>   <th>  Cond. No.          </th>  <td>    813.</td>  \n",
       "</tr>\n",
       "</table><br/><br/>Warnings:<br/>[1] Standard Errors assume that the covariance matrix of the errors is correctly specified."
      ],
      "text/plain": [
       "<class 'statsmodels.iolib.summary.Summary'>\n",
       "\"\"\"\n",
       "                            OLS Regression Results                            \n",
       "==============================================================================\n",
       "Dep. Variable:                  Value   R-squared:                       0.791\n",
       "Model:                            OLS   Adj. R-squared:                  0.791\n",
       "Method:                 Least Squares   F-statistic:                 2.096e+04\n",
       "Date:                Sat, 18 Dec 2021   Prob (F-statistic):               0.00\n",
       "Time:                        13:00:19   Log-Likelihood:            -1.5458e+05\n",
       "No. Observations:               16642   AIC:                         3.092e+05\n",
       "Df Residuals:                   16638   BIC:                         3.092e+05\n",
       "Df Model:                           3                                         \n",
       "Covariance Type:            nonrobust                                         \n",
       "==============================================================================\n",
       "                 coef    std err          t      P>|t|      [0.025      0.975]\n",
       "------------------------------------------------------------------------------\n",
       "Intercept  -1.018e+04    228.843    -44.466      0.000   -1.06e+04   -9727.191\n",
       "Wage         184.1522      1.128    163.265      0.000     181.941     186.363\n",
       "Overall      241.4204      4.002     60.318      0.000     233.575     249.266\n",
       "Age         -203.1997      4.925    -41.261      0.000    -212.853    -193.547\n",
       "==============================================================================\n",
       "Omnibus:                    17093.962   Durbin-Watson:                   1.409\n",
       "Prob(Omnibus):                  0.000   Jarque-Bera (JB):          3530710.483\n",
       "Skew:                           4.667   Prob(JB):                         0.00\n",
       "Kurtosis:                      73.743   Cond. No.                         813.\n",
       "==============================================================================\n",
       "\n",
       "Warnings:\n",
       "[1] Standard Errors assume that the covariance matrix of the errors is correctly specified.\n",
       "\"\"\""
      ]
     },
     "execution_count": 62,
     "metadata": {},
     "output_type": "execute_result"
    }
   ],
   "source": [
    "# 5, Wage + Overal + Age 의 BIC 값보다 작아지는 벌점이 없으므로, 변수 추가 또는 삭제 종료\n",
    "# 최종 모델은 Value ~ Wage + Overal + Age\n",
    "\n",
    "model = ols(\"Value ~ Wage + Overall + Age\", data = df_fifa)\n",
    "model.fit().summary()"
   ]
  },
  {
   "cell_type": "markdown",
   "metadata": {},
   "source": [
    "## Q5\n",
    "최종 모델은 Value =  -1.018e+04 + 184.1522 * Wage + 241.4204 * Overall + -203.1997 * Age 이며,\n",
    "\n",
    "수정된 R2 결정계수는 0.791로 모델이 약 79%를 설명한다고 할 수 있다.\n",
    "\n",
    "각각의 coef는 P value가 유의수준보다 낮으므로 (0.05) 통계적으로 유의하다.\n",
    "\n",
    "Wage 가 증가할 때 value 가 증가하며, Overall 이 증가할 때도 value 는 증가한다.\n",
    "\n",
    "Age 가 증가할 때는 value 는 감소한다.\n",
    "\n",
    "또한 coef 절대값이 Overall 이 가장 크므로, value에 대한 영향력이 가장 크다고 할 수 있다."
   ]
  },
  {
   "cell_type": "code",
   "execution_count": null,
   "metadata": {},
   "outputs": [],
   "source": []
  }
 ],
 "metadata": {
  "environment": {
   "kernel": "python3",
   "name": "common-cpu.m87",
   "type": "gcloud",
   "uri": "gcr.io/deeplearning-platform-release/base-cpu:m87"
  },
  "kernelspec": {
   "display_name": "Python 3",
   "language": "python",
   "name": "python3"
  },
  "language_info": {
   "codemirror_mode": {
    "name": "ipython",
    "version": 3
   },
   "file_extension": ".py",
   "mimetype": "text/x-python",
   "name": "python",
   "nbconvert_exporter": "python",
   "pygments_lexer": "ipython3",
   "version": "3.7.6"
  }
 },
 "nbformat": 4,
 "nbformat_minor": 5
}
