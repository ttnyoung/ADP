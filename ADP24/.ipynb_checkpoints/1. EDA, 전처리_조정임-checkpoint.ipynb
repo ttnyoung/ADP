{
 "cells": [
  {
   "cell_type": "code",
   "execution_count": null,
   "metadata": {
    "id": "variable-portsmouth"
   },
   "outputs": [],
   "source": [
    "from pandas import read_csv\n",
    "df=read_csv(\"./data/heart.csv\")"
   ]
  },
  {
   "cell_type": "markdown",
   "metadata": {
    "id": "middle-graham"
   },
   "source": [
    "# 1-1. EDA\n",
    "## 행수, 열수, 데이터타입, 기초통계량, 범주 카운트 (최빈값), 왜도, 첨도"
   ]
  },
  {
   "cell_type": "code",
   "execution_count": null,
   "metadata": {
    "id": "serious-garlic",
    "outputId": "3daa8c67-a995-4276-e4cf-b2647cd36740"
   },
   "outputs": [
    {
     "data": {
      "text/html": [
       "<div>\n",
       "<style scoped>\n",
       "    .dataframe tbody tr th:only-of-type {\n",
       "        vertical-align: middle;\n",
       "    }\n",
       "\n",
       "    .dataframe tbody tr th {\n",
       "        vertical-align: top;\n",
       "    }\n",
       "\n",
       "    .dataframe thead th {\n",
       "        text-align: right;\n",
       "    }\n",
       "</style>\n",
       "<table border=\"1\" class=\"dataframe\">\n",
       "  <thead>\n",
       "    <tr style=\"text-align: right;\">\n",
       "      <th></th>\n",
       "      <th>Age</th>\n",
       "      <th>Sex</th>\n",
       "      <th>ChestPainType</th>\n",
       "      <th>RestingBP</th>\n",
       "      <th>Cholesterol</th>\n",
       "      <th>FastingBS</th>\n",
       "      <th>RestingECG</th>\n",
       "      <th>MaxHR</th>\n",
       "      <th>ExerciseAngina</th>\n",
       "      <th>Oldpeak</th>\n",
       "      <th>ST_Slope</th>\n",
       "      <th>HeartDisease</th>\n",
       "    </tr>\n",
       "  </thead>\n",
       "  <tbody>\n",
       "    <tr>\n",
       "      <th>0</th>\n",
       "      <td>40</td>\n",
       "      <td>M</td>\n",
       "      <td>ATA</td>\n",
       "      <td>140</td>\n",
       "      <td>289</td>\n",
       "      <td>0</td>\n",
       "      <td>Normal</td>\n",
       "      <td>172</td>\n",
       "      <td>N</td>\n",
       "      <td>0.0</td>\n",
       "      <td>Up</td>\n",
       "      <td>0</td>\n",
       "    </tr>\n",
       "    <tr>\n",
       "      <th>1</th>\n",
       "      <td>49</td>\n",
       "      <td>F</td>\n",
       "      <td>NAP</td>\n",
       "      <td>160</td>\n",
       "      <td>180</td>\n",
       "      <td>0</td>\n",
       "      <td>Normal</td>\n",
       "      <td>156</td>\n",
       "      <td>N</td>\n",
       "      <td>1.0</td>\n",
       "      <td>Flat</td>\n",
       "      <td>1</td>\n",
       "    </tr>\n",
       "    <tr>\n",
       "      <th>2</th>\n",
       "      <td>37</td>\n",
       "      <td>M</td>\n",
       "      <td>ATA</td>\n",
       "      <td>130</td>\n",
       "      <td>283</td>\n",
       "      <td>0</td>\n",
       "      <td>ST</td>\n",
       "      <td>98</td>\n",
       "      <td>N</td>\n",
       "      <td>0.0</td>\n",
       "      <td>Up</td>\n",
       "      <td>0</td>\n",
       "    </tr>\n",
       "  </tbody>\n",
       "</table>\n",
       "</div>"
      ],
      "text/plain": [
       "   Age Sex ChestPainType  RestingBP  Cholesterol  FastingBS RestingECG  MaxHR  \\\n",
       "0   40   M           ATA        140          289          0     Normal    172   \n",
       "1   49   F           NAP        160          180          0     Normal    156   \n",
       "2   37   M           ATA        130          283          0         ST     98   \n",
       "\n",
       "  ExerciseAngina  Oldpeak ST_Slope  HeartDisease  \n",
       "0              N      0.0       Up             0  \n",
       "1              N      1.0     Flat             1  \n",
       "2              N      0.0       Up             0  "
      ]
     },
     "execution_count": 38,
     "metadata": {},
     "output_type": "execute_result"
    }
   ],
   "source": [
    "df.head(3)"
   ]
  },
  {
   "cell_type": "code",
   "execution_count": null,
   "metadata": {
    "id": "massive-offense",
    "outputId": "1d2d3738-710f-4b88-a404-a851aebbe5fe"
   },
   "outputs": [
    {
     "name": "stdout",
     "output_type": "stream",
     "text": [
      "<class 'pandas.core.frame.DataFrame'>\n",
      "RangeIndex: 918 entries, 0 to 917\n",
      "Data columns (total 12 columns):\n",
      " #   Column          Non-Null Count  Dtype  \n",
      "---  ------          --------------  -----  \n",
      " 0   Age             918 non-null    int64  \n",
      " 1   Sex             918 non-null    object \n",
      " 2   ChestPainType   918 non-null    object \n",
      " 3   RestingBP       918 non-null    int64  \n",
      " 4   Cholesterol     918 non-null    int64  \n",
      " 5   FastingBS       918 non-null    int64  \n",
      " 6   RestingECG      918 non-null    object \n",
      " 7   MaxHR           918 non-null    int64  \n",
      " 8   ExerciseAngina  918 non-null    object \n",
      " 9   Oldpeak         918 non-null    float64\n",
      " 10  ST_Slope        918 non-null    object \n",
      " 11  HeartDisease    918 non-null    int64  \n",
      "dtypes: float64(1), int64(6), object(5)\n",
      "memory usage: 86.2+ KB\n"
     ]
    }
   ],
   "source": [
    "df.info() #df.dtype"
   ]
  },
  {
   "cell_type": "code",
   "execution_count": null,
   "metadata": {
    "id": "simplified-celebration",
    "outputId": "6f647906-360f-49db-a8a8-a3310277f077"
   },
   "outputs": [
    {
     "data": {
      "text/plain": [
       "(918, 12)"
      ]
     },
     "execution_count": 40,
     "metadata": {},
     "output_type": "execute_result"
    }
   ],
   "source": [
    "df.shape"
   ]
  },
  {
   "cell_type": "code",
   "execution_count": null,
   "metadata": {
    "id": "general-challenge",
    "outputId": "762514d4-9a78-442a-a0c4-c6c13129a0b6"
   },
   "outputs": [
    {
     "data": {
      "text/plain": [
       "Index(['Age', 'Sex', 'ChestPainType', 'RestingBP', 'Cholesterol', 'FastingBS',\n",
       "       'RestingECG', 'MaxHR', 'ExerciseAngina', 'Oldpeak', 'ST_Slope',\n",
       "       'HeartDisease'],\n",
       "      dtype='object')"
      ]
     },
     "execution_count": 41,
     "metadata": {},
     "output_type": "execute_result"
    }
   ],
   "source": [
    "df.columns"
   ]
  },
  {
   "cell_type": "code",
   "execution_count": null,
   "metadata": {
    "id": "emotional-huntington",
    "outputId": "c22cdba4-0a0a-4ee3-c446-aa7cdccf4c73"
   },
   "outputs": [
    {
     "data": {
      "text/html": [
       "<div>\n",
       "<style scoped>\n",
       "    .dataframe tbody tr th:only-of-type {\n",
       "        vertical-align: middle;\n",
       "    }\n",
       "\n",
       "    .dataframe tbody tr th {\n",
       "        vertical-align: top;\n",
       "    }\n",
       "\n",
       "    .dataframe thead th {\n",
       "        text-align: right;\n",
       "    }\n",
       "</style>\n",
       "<table border=\"1\" class=\"dataframe\">\n",
       "  <thead>\n",
       "    <tr style=\"text-align: right;\">\n",
       "      <th></th>\n",
       "      <th>Age</th>\n",
       "      <th>RestingBP</th>\n",
       "      <th>Cholesterol</th>\n",
       "      <th>FastingBS</th>\n",
       "      <th>MaxHR</th>\n",
       "      <th>Oldpeak</th>\n",
       "      <th>HeartDisease</th>\n",
       "    </tr>\n",
       "  </thead>\n",
       "  <tbody>\n",
       "    <tr>\n",
       "      <th>count</th>\n",
       "      <td>918.000000</td>\n",
       "      <td>918.000000</td>\n",
       "      <td>918.000000</td>\n",
       "      <td>918.000000</td>\n",
       "      <td>918.000000</td>\n",
       "      <td>918.000000</td>\n",
       "      <td>918.000000</td>\n",
       "    </tr>\n",
       "    <tr>\n",
       "      <th>mean</th>\n",
       "      <td>53.510893</td>\n",
       "      <td>132.396514</td>\n",
       "      <td>198.799564</td>\n",
       "      <td>0.233115</td>\n",
       "      <td>136.809368</td>\n",
       "      <td>0.887364</td>\n",
       "      <td>0.553377</td>\n",
       "    </tr>\n",
       "    <tr>\n",
       "      <th>std</th>\n",
       "      <td>9.432617</td>\n",
       "      <td>18.514154</td>\n",
       "      <td>109.384145</td>\n",
       "      <td>0.423046</td>\n",
       "      <td>25.460334</td>\n",
       "      <td>1.066570</td>\n",
       "      <td>0.497414</td>\n",
       "    </tr>\n",
       "    <tr>\n",
       "      <th>min</th>\n",
       "      <td>28.000000</td>\n",
       "      <td>0.000000</td>\n",
       "      <td>0.000000</td>\n",
       "      <td>0.000000</td>\n",
       "      <td>60.000000</td>\n",
       "      <td>-2.600000</td>\n",
       "      <td>0.000000</td>\n",
       "    </tr>\n",
       "    <tr>\n",
       "      <th>25%</th>\n",
       "      <td>47.000000</td>\n",
       "      <td>120.000000</td>\n",
       "      <td>173.250000</td>\n",
       "      <td>0.000000</td>\n",
       "      <td>120.000000</td>\n",
       "      <td>0.000000</td>\n",
       "      <td>0.000000</td>\n",
       "    </tr>\n",
       "    <tr>\n",
       "      <th>50%</th>\n",
       "      <td>54.000000</td>\n",
       "      <td>130.000000</td>\n",
       "      <td>223.000000</td>\n",
       "      <td>0.000000</td>\n",
       "      <td>138.000000</td>\n",
       "      <td>0.600000</td>\n",
       "      <td>1.000000</td>\n",
       "    </tr>\n",
       "    <tr>\n",
       "      <th>75%</th>\n",
       "      <td>60.000000</td>\n",
       "      <td>140.000000</td>\n",
       "      <td>267.000000</td>\n",
       "      <td>0.000000</td>\n",
       "      <td>156.000000</td>\n",
       "      <td>1.500000</td>\n",
       "      <td>1.000000</td>\n",
       "    </tr>\n",
       "    <tr>\n",
       "      <th>max</th>\n",
       "      <td>77.000000</td>\n",
       "      <td>200.000000</td>\n",
       "      <td>603.000000</td>\n",
       "      <td>1.000000</td>\n",
       "      <td>202.000000</td>\n",
       "      <td>6.200000</td>\n",
       "      <td>1.000000</td>\n",
       "    </tr>\n",
       "  </tbody>\n",
       "</table>\n",
       "</div>"
      ],
      "text/plain": [
       "              Age   RestingBP  Cholesterol   FastingBS       MaxHR  \\\n",
       "count  918.000000  918.000000   918.000000  918.000000  918.000000   \n",
       "mean    53.510893  132.396514   198.799564    0.233115  136.809368   \n",
       "std      9.432617   18.514154   109.384145    0.423046   25.460334   \n",
       "min     28.000000    0.000000     0.000000    0.000000   60.000000   \n",
       "25%     47.000000  120.000000   173.250000    0.000000  120.000000   \n",
       "50%     54.000000  130.000000   223.000000    0.000000  138.000000   \n",
       "75%     60.000000  140.000000   267.000000    0.000000  156.000000   \n",
       "max     77.000000  200.000000   603.000000    1.000000  202.000000   \n",
       "\n",
       "          Oldpeak  HeartDisease  \n",
       "count  918.000000    918.000000  \n",
       "mean     0.887364      0.553377  \n",
       "std      1.066570      0.497414  \n",
       "min     -2.600000      0.000000  \n",
       "25%      0.000000      0.000000  \n",
       "50%      0.600000      1.000000  \n",
       "75%      1.500000      1.000000  \n",
       "max      6.200000      1.000000  "
      ]
     },
     "execution_count": 68,
     "metadata": {},
     "output_type": "execute_result"
    }
   ],
   "source": [
    "df.describe()"
   ]
  },
  {
   "cell_type": "code",
   "execution_count": null,
   "metadata": {
    "id": "every-obligation",
    "outputId": "66260158-5b10-40cb-c0ec-e0360def039c"
   },
   "outputs": [
    {
     "data": {
      "text/html": [
       "<div>\n",
       "<style scoped>\n",
       "    .dataframe tbody tr th:only-of-type {\n",
       "        vertical-align: middle;\n",
       "    }\n",
       "\n",
       "    .dataframe tbody tr th {\n",
       "        vertical-align: top;\n",
       "    }\n",
       "\n",
       "    .dataframe thead th {\n",
       "        text-align: right;\n",
       "    }\n",
       "</style>\n",
       "<table border=\"1\" class=\"dataframe\">\n",
       "  <thead>\n",
       "    <tr style=\"text-align: right;\">\n",
       "      <th></th>\n",
       "      <th>Age</th>\n",
       "      <th>RestingBP</th>\n",
       "      <th>Cholesterol</th>\n",
       "      <th>FastingBS</th>\n",
       "      <th>MaxHR</th>\n",
       "      <th>Oldpeak</th>\n",
       "      <th>HeartDisease</th>\n",
       "    </tr>\n",
       "  </thead>\n",
       "  <tbody>\n",
       "    <tr>\n",
       "      <th>mean</th>\n",
       "      <td>53.510893</td>\n",
       "      <td>132.396514</td>\n",
       "      <td>198.799564</td>\n",
       "      <td>0.233115</td>\n",
       "      <td>136.809368</td>\n",
       "      <td>0.887364</td>\n",
       "      <td>0.553377</td>\n",
       "    </tr>\n",
       "    <tr>\n",
       "      <th>std</th>\n",
       "      <td>9.432617</td>\n",
       "      <td>18.514154</td>\n",
       "      <td>109.384145</td>\n",
       "      <td>0.423046</td>\n",
       "      <td>25.460334</td>\n",
       "      <td>1.066570</td>\n",
       "      <td>0.497414</td>\n",
       "    </tr>\n",
       "    <tr>\n",
       "      <th>CV</th>\n",
       "      <td>0.176275</td>\n",
       "      <td>0.139839</td>\n",
       "      <td>0.550223</td>\n",
       "      <td>1.814747</td>\n",
       "      <td>0.186101</td>\n",
       "      <td>1.201954</td>\n",
       "      <td>0.898870</td>\n",
       "    </tr>\n",
       "  </tbody>\n",
       "</table>\n",
       "</div>"
      ],
      "text/plain": [
       "            Age   RestingBP  Cholesterol  FastingBS       MaxHR   Oldpeak  \\\n",
       "mean  53.510893  132.396514   198.799564   0.233115  136.809368  0.887364   \n",
       "std    9.432617   18.514154   109.384145   0.423046   25.460334  1.066570   \n",
       "CV     0.176275    0.139839     0.550223   1.814747    0.186101  1.201954   \n",
       "\n",
       "      HeartDisease  \n",
       "mean      0.553377  \n",
       "std       0.497414  \n",
       "CV        0.898870  "
      ]
     },
     "execution_count": 110,
     "metadata": {},
     "output_type": "execute_result"
    }
   ],
   "source": [
    "# 변동계수 (CV, 상대표준편차) = 표준편차 / 산술평균 \n",
    "cvdf=df.describe().iloc[1:3, :]\n",
    "cvdf.loc['CV'] = cvdf.loc['std'] / cvdf.loc['mean']\n",
    "cvdf"
   ]
  },
  {
   "cell_type": "code",
   "execution_count": null,
   "metadata": {
    "id": "first-landing",
    "outputId": "d0349dce-e28f-4bef-f2c3-12b409c07cab"
   },
   "outputs": [
    {
     "data": {
      "text/plain": [
       "ASY    496\n",
       "NAP    203\n",
       "ATA    173\n",
       "TA      46\n",
       "Name: ChestPainType, dtype: int64"
      ]
     },
     "execution_count": 46,
     "metadata": {},
     "output_type": "execute_result"
    }
   ],
   "source": [
    "df['ChestPainType'].value_counts()#.reset_index().sort_values(by='rating', ascending=False)"
   ]
  },
  {
   "cell_type": "markdown",
   "metadata": {
    "id": "outstanding-fourth"
   },
   "source": [
    "# 히스토그램(+왜도, 첨도), 박스플롯, 줄기잎그림"
   ]
  },
  {
   "cell_type": "code",
   "execution_count": null,
   "metadata": {
    "id": "irish-morrison",
    "outputId": "29b50fc8-d187-47c6-b3e3-c119f7d468d5"
   },
   "outputs": [
    {
     "data": {
      "image/png": "[encoded data removed]",
      "text/plain": [
       "<Figure size 360x360 with 1 Axes>"
      ]
     },
     "metadata": {
      "needs_background": "light"
     },
     "output_type": "display_data"
    }
   ],
   "source": [
    "import seaborn as sns\n",
    "sns.histplot(df['Age'], kde=True) # gaussian kernel density estimate\n",
    "plt.show()"
   ]
  },
  {
   "cell_type": "code",
   "execution_count": null,
   "metadata": {
    "id": "supported-supplier",
    "outputId": "cb0c8c89-6869-432a-9d3e-4cf6149015b3"
   },
   "outputs": [
    {
     "name": "stdout",
     "output_type": "stream",
     "text": [
      "왜도: -0.19561273124487544\n",
      "첨도: -0.3905684960842244\n"
     ]
    }
   ],
   "source": [
    "from scipy.stats import skew, kurtosis\n",
    "#정규분포의 왜도는 0, 왜도가 양수이면 오른쪽 긴꼬리, 왜도가 음수이면 왼쪽 긴꼬리\n",
    "print(\"왜도:\", skew(df['Age']))\n",
    "\n",
    "#정규분포의 첨도는 0 (피어슨은 첨도 3 기준), 첨도가 양수이면 위로 뾰족, 첨도가 음수이면 아래로 뾰족\n",
    "#피어슨 기준으로 할 경우, 파라미터에 Fisher=False\n",
    "print(\"첨도:\", kurtosis(df['Age']))"
   ]
  },
  {
   "cell_type": "code",
   "execution_count": null,
   "metadata": {
    "id": "ancient-psychiatry",
    "outputId": "780289a6-f2a8-4ee5-8a5e-52e4329cf659"
   },
   "outputs": [
    {
     "data": {
      "image/png": "[encoded data removed]",
      "text/plain": [
       "<Figure size 720x360 with 2 Axes>"
      ]
     },
     "metadata": {
      "needs_background": "light"
     },
     "output_type": "display_data"
    }
   ],
   "source": [
    "from matplotlib import pyplot as plt\n",
    "fig, ax = plt.subplots(1,2)\n",
    "plt.rcParams[\"figure.figsize\"] = (10, 5)\n",
    "plt.rcParams[\"font.family\"] = 'AppleGothic'\n",
    "plt.rcParams[\"font.size\"] = 12\n",
    "plt.rcParams['axes.unicode_minus'] = False\n",
    "ax[0].boxplot(df['Age'], labels=['Age'])\n",
    "ax[1].boxplot(df['Age'], labels=['Age'], vert=False)s\n",
    "plt.show()"
   ]
  },
  {
   "cell_type": "code",
   "execution_count": null,
   "metadata": {
    "id": "announced-cleanup",
    "outputId": "172171c7-b3b6-452e-b95f-e1dfc8780fb1"
   },
   "outputs": [
    {
     "data": {
      "image/png": "[encoded data removed]",
      "text/plain": [
       "<Figure size 540x954 with 1 Axes>"
      ]
     },
     "metadata": {
      "needs_background": "light"
     },
     "output_type": "display_data"
    }
   ],
   "source": [
    "import stemgraphic\n",
    "stemgraphic.stem_graphic(df['Age'])\n",
    "plt.show()"
   ]
  },
  {
   "cell_type": "code",
   "execution_count": null,
   "metadata": {
    "id": "backed-amber",
    "outputId": "6af105d0-ba4f-4526-a6ed-bc946ee13dc7"
   },
   "outputs": [
    {
     "data": {
      "image/png": "[encoded data removed]",
      "text/plain": [
       "<Figure size 360x360 with 1 Axes>"
      ]
     },
     "metadata": {},
     "output_type": "display_data"
    }
   ],
   "source": [
    "plt.pie(df['ChestPainType'].value_counts(), \n",
    "        startangle=90, ## 시작점을 90도(degree)로 지정\n",
    "       counterclock=False, ## 시계 방향\n",
    "       autopct=lambda p : '{:.2f}%'.format(p), ## 퍼센티지\n",
    "       wedgeprops=dict(width=0.5), ## 중간의 반지름 0.5만큼 구멍\n",
    "        labels=df['ChestPainType'].value_counts().index ) \n",
    "plt.show()"
   ]
  },
  {
   "cell_type": "markdown",
   "metadata": {
    "id": "electrical-liberia"
   },
   "source": [
    "# 1-2. 전처리"
   ]
  },
  {
   "cell_type": "markdown",
   "metadata": {
    "id": "dated-jason"
   },
   "source": [
    "## 결측치 처리 방법들\n",
    "- 결측값인 채로 처리하기: GBDT모델은 그대로 쓸 수 있음, Scikit Learn RF모델은 결측값으로 -9999를 대입\n",
    "- Zero Imputation: 0으로 대치\n",
    "- Constant Imputation: 지정한 상수값으로 대치\n",
    "- 대표값으로 채우기: 평균값, 중앙값, 로그 변환을 통해 치우침이 적은 분포로 만든 뒤 평균값으로 채움, 결측값이 랜덤하게 발생하는 경우가 아니라면 적절한 방법은 아님 (해당 범주의 평균값, 데이터 전체의 평균값, 결측값 자체를 하나의 새로운 범줏값으로 대치), 가장 빈번히 나온 값으로 대치\n",
    "- 단순확률대치법(Single Stochastic Imputation): Hot-Deck imputation(관련된 비슷한 데이터 셋에서 랜덤하게 선택)\n",
    "- 다른 변수들로부터 모델을 만들어서 결측값 예측 (KNN, DNN, Stochastic regression, Extrapolation&Interpolation)\n",
    "- 결측값으로 새로운 특징 만들기: 결측 여부를 0, 1 혹은 행마다 결측값이 있는 변수의 수 카운팅\n",
    "- 데이터의 결측값 인식: -1이나 9999, 공백, NA 등으로 저장되는 결측값 확인해야 함\n",
    "### 결측치로 지정하기: na_values, np.nan"
   ]
  },
  {
   "cell_type": "code",
   "execution_count": null,
   "metadata": {
    "id": "loving-neighbor",
    "outputId": "728a6f3b-11af-4387-ae86-b88c7d5f20f5"
   },
   "outputs": [
    {
     "name": "stdout",
     "output_type": "stream",
     "text": [
      "(688, 5) (230, 5)\n"
     ]
    }
   ],
   "source": [
    "from pandas import read_csv\n",
    "df=read_csv(\"./data/heart.csv\", na_values=['', 'NA', -1, 9999]) #결측치로 지정\n",
    "df2=read_csv(\"./data/heart.csv\")\n",
    "\n",
    "# 수치형 데이터 sdf를 분할하여 준비\n",
    "sdf = df2.filter(['Age', 'RestingBP', 'Cholesterol', 'MaxHR', 'Oldpeak'])\n",
    "from sklearn.model_selection import train_test_split\n",
    "X_train, X_test, y_train, y_test = train_test_split(sdf, df2.HeartDisease, random_state=1)\n",
    "\n",
    "print(X_train.shape, X_test.shape)\n",
    "\n",
    "# 범주형 데이터 cdf를 준비\n",
    "cdf = df2.filter(['Sex', 'ChestPainType', 'RestingECG', 'ExerciseAngina', 'ST_Slope'])"
   ]
  },
  {
   "cell_type": "code",
   "execution_count": null,
   "metadata": {
    "id": "spoken-marble",
    "outputId": "1dcc0d59-480f-477e-d598-04ec7f77d7ee"
   },
   "outputs": [
    {
     "data": {
      "text/html": [
       "<div>\n",
       "<style scoped>\n",
       "    .dataframe tbody tr th:only-of-type {\n",
       "        vertical-align: middle;\n",
       "    }\n",
       "\n",
       "    .dataframe tbody tr th {\n",
       "        vertical-align: top;\n",
       "    }\n",
       "\n",
       "    .dataframe thead th {\n",
       "        text-align: right;\n",
       "    }\n",
       "</style>\n",
       "<table border=\"1\" class=\"dataframe\">\n",
       "  <thead>\n",
       "    <tr style=\"text-align: right;\">\n",
       "      <th></th>\n",
       "      <th>col1</th>\n",
       "      <th>col2</th>\n",
       "    </tr>\n",
       "  </thead>\n",
       "  <tbody>\n",
       "    <tr>\n",
       "      <th>0</th>\n",
       "      <td>1</td>\n",
       "      <td>a</td>\n",
       "    </tr>\n",
       "    <tr>\n",
       "      <th>1</th>\n",
       "      <td>2</td>\n",
       "      <td>b</td>\n",
       "    </tr>\n",
       "    <tr>\n",
       "      <th>2</th>\n",
       "      <td>3</td>\n",
       "      <td>c</td>\n",
       "    </tr>\n",
       "    <tr>\n",
       "      <th>3</th>\n",
       "      <td>4</td>\n",
       "      <td>d</td>\n",
       "    </tr>\n",
       "    <tr>\n",
       "      <th>4</th>\n",
       "      <td>1</td>\n",
       "      <td>e</td>\n",
       "    </tr>\n",
       "  </tbody>\n",
       "</table>\n",
       "</div>"
      ],
      "text/plain": [
       "   col1 col2\n",
       "0     1    a\n",
       "1     2    b\n",
       "2     3    c\n",
       "3     4    d\n",
       "4     1    e"
      ]
     },
     "execution_count": 4,
     "metadata": {},
     "output_type": "execute_result"
    }
   ],
   "source": [
    "import numpy as np\n",
    "from pandas import DataFrame\n",
    "exdf=DataFrame({'col1':[1,2,3,4,1], 'col2':['a', 'b', 'c', 'd', 'e']})\n",
    "exdf"
   ]
  },
  {
   "cell_type": "code",
   "execution_count": null,
   "metadata": {
    "id": "inside-brunei",
    "outputId": "e31a9c50-c4d2-41ea-d330-ffc56902c8b0"
   },
   "outputs": [
    {
     "data": {
      "text/html": [
       "<div>\n",
       "<style scoped>\n",
       "    .dataframe tbody tr th:only-of-type {\n",
       "        vertical-align: middle;\n",
       "    }\n",
       "\n",
       "    .dataframe tbody tr th {\n",
       "        vertical-align: top;\n",
       "    }\n",
       "\n",
       "    .dataframe thead th {\n",
       "        text-align: right;\n",
       "    }\n",
       "</style>\n",
       "<table border=\"1\" class=\"dataframe\">\n",
       "  <thead>\n",
       "    <tr style=\"text-align: right;\">\n",
       "      <th></th>\n",
       "      <th>col1</th>\n",
       "      <th>col2</th>\n",
       "    </tr>\n",
       "  </thead>\n",
       "  <tbody>\n",
       "    <tr>\n",
       "      <th>0</th>\n",
       "      <td>NaN</td>\n",
       "      <td>a</td>\n",
       "    </tr>\n",
       "    <tr>\n",
       "      <th>1</th>\n",
       "      <td>2.0</td>\n",
       "      <td>b</td>\n",
       "    </tr>\n",
       "    <tr>\n",
       "      <th>2</th>\n",
       "      <td>3.0</td>\n",
       "      <td>c</td>\n",
       "    </tr>\n",
       "    <tr>\n",
       "      <th>3</th>\n",
       "      <td>4.0</td>\n",
       "      <td>d</td>\n",
       "    </tr>\n",
       "    <tr>\n",
       "      <th>4</th>\n",
       "      <td>NaN</td>\n",
       "      <td>e</td>\n",
       "    </tr>\n",
       "  </tbody>\n",
       "</table>\n",
       "</div>"
      ],
      "text/plain": [
       "   col1 col2\n",
       "0   NaN    a\n",
       "1   2.0    b\n",
       "2   3.0    c\n",
       "3   4.0    d\n",
       "4   NaN    e"
      ]
     },
     "execution_count": 5,
     "metadata": {},
     "output_type": "execute_result"
    }
   ],
   "source": [
    "exdf['col1'] = exdf['col1'].replace(1, np.nan)\n",
    "exdf"
   ]
  },
  {
   "cell_type": "markdown",
   "metadata": {
    "id": "northern-warren"
   },
   "source": [
    "### 결측치 확인: isna().sum()"
   ]
  },
  {
   "cell_type": "code",
   "execution_count": null,
   "metadata": {
    "id": "hearing-portrait",
    "outputId": "a6178a21-8950-45e3-ef5b-dd2572f54805"
   },
   "outputs": [
    {
     "data": {
      "text/plain": [
       "Age               0\n",
       "Sex               0\n",
       "ChestPainType     0\n",
       "RestingBP         0\n",
       "Cholesterol       0\n",
       "FastingBS         0\n",
       "RestingECG        0\n",
       "MaxHR             0\n",
       "ExerciseAngina    0\n",
       "Oldpeak           2\n",
       "ST_Slope          0\n",
       "HeartDisease      0\n",
       "dtype: int64"
      ]
     },
     "execution_count": 6,
     "metadata": {},
     "output_type": "execute_result"
    }
   ],
   "source": [
    "df.isna().sum()"
   ]
  },
  {
   "cell_type": "code",
   "execution_count": null,
   "metadata": {
    "id": "forced-update",
    "outputId": "228c571a-4aa1-45d4-c455-ee795ba65041"
   },
   "outputs": [
    {
     "data": {
      "text/plain": [
       "Age               0\n",
       "Sex               0\n",
       "ChestPainType     0\n",
       "RestingBP         0\n",
       "Cholesterol       0\n",
       "FastingBS         0\n",
       "RestingECG        0\n",
       "MaxHR             0\n",
       "ExerciseAngina    0\n",
       "Oldpeak           0\n",
       "ST_Slope          0\n",
       "HeartDisease      0\n",
       "dtype: int64"
      ]
     },
     "execution_count": 7,
     "metadata": {},
     "output_type": "execute_result"
    }
   ],
   "source": [
    "df2.isna().sum()"
   ]
  },
  {
   "cell_type": "code",
   "execution_count": null,
   "metadata": {
    "id": "driving-consideration",
    "outputId": "6da0eb50-6902-4e72-fca3-521a2ea67fee"
   },
   "outputs": [
    {
     "data": {
      "text/html": [
       "<div>\n",
       "<style scoped>\n",
       "    .dataframe tbody tr th:only-of-type {\n",
       "        vertical-align: middle;\n",
       "    }\n",
       "\n",
       "    .dataframe tbody tr th {\n",
       "        vertical-align: top;\n",
       "    }\n",
       "\n",
       "    .dataframe thead th {\n",
       "        text-align: right;\n",
       "    }\n",
       "</style>\n",
       "<table border=\"1\" class=\"dataframe\">\n",
       "  <thead>\n",
       "    <tr style=\"text-align: right;\">\n",
       "      <th></th>\n",
       "      <th>Oldpeak</th>\n",
       "    </tr>\n",
       "  </thead>\n",
       "  <tbody>\n",
       "    <tr>\n",
       "      <th>331</th>\n",
       "      <td>True</td>\n",
       "    </tr>\n",
       "    <tr>\n",
       "      <th>352</th>\n",
       "      <td>True</td>\n",
       "    </tr>\n",
       "  </tbody>\n",
       "</table>\n",
       "</div>"
      ],
      "text/plain": [
       "     Oldpeak\n",
       "331     True\n",
       "352     True"
      ]
     },
     "execution_count": 8,
     "metadata": {},
     "output_type": "execute_result"
    }
   ],
   "source": [
    "from pandas import DataFrame\n",
    "DataFrame(df['Oldpeak'].isna()).query(\"Oldpeak==True\")"
   ]
  },
  {
   "cell_type": "code",
   "execution_count": null,
   "metadata": {
    "id": "romantic-liverpool",
    "outputId": "62a63d5a-1ce0-441e-e6f0-18774149ead4"
   },
   "outputs": [
    {
     "data": {
      "text/plain": [
       "nan"
      ]
     },
     "execution_count": 9,
     "metadata": {},
     "output_type": "execute_result"
    }
   ],
   "source": [
    "df['Oldpeak'].loc[331] # -1을 결측치로 지정한 경우"
   ]
  },
  {
   "cell_type": "markdown",
   "metadata": {
    "id": "interested-country"
   },
   "source": [
    "### 결측치 있는 행 혹은 열을 삭제"
   ]
  },
  {
   "cell_type": "code",
   "execution_count": null,
   "metadata": {
    "id": "focused-silicon",
    "outputId": "92ddbb8f-b25b-42bb-f99f-25769fc37023"
   },
   "outputs": [
    {
     "name": "stderr",
     "output_type": "stream",
     "text": [
      "<ipython-input-11-dd5d0a7de1e9>:5: SettingWithCopyWarning: \n",
      "A value is trying to be set on a copy of a slice from a DataFrame\n",
      "\n",
      "See the caveats in the documentation: https://pandas.pydata.org/pandas-docs/stable/user_guide/indexing.html#returning-a-view-versus-a-copy\n",
      "  m_df[col][0] = np.nan\n",
      "/Library/Frameworks/Python.framework/Versions/3.8/lib/python3.8/site-packages/pandas/core/indexing.py:1637: SettingWithCopyWarning: \n",
      "A value is trying to be set on a copy of a slice from a DataFrame\n",
      "\n",
      "See the caveats in the documentation: https://pandas.pydata.org/pandas-docs/stable/user_guide/indexing.html#returning-a-view-versus-a-copy\n",
      "  self._setitem_single_block(indexer, value, name)\n"
     ]
    },
    {
     "data": {
      "text/plain": [
       "Age            0\n",
       "RestingBP      1\n",
       "Cholesterol    1\n",
       "MaxHR          1\n",
       "Oldpeak        1\n",
       "dtype: int64"
      ]
     },
     "execution_count": 11,
     "metadata": {},
     "output_type": "execute_result"
    }
   ],
   "source": [
    "m_df = sdf.copy()\n",
    "for col in m_df.columns:\n",
    "    if col == 'Age':\n",
    "        continue\n",
    "    m_df[col][0] = np.nan\n",
    "m_df.isna().sum()"
   ]
  },
  {
   "cell_type": "code",
   "execution_count": 1,
   "metadata": {
    "colab": {
     "base_uri": "https://localhost:8080/",
     "height": 171
    },
    "executionInfo": {
     "elapsed": 1105,
     "status": "error",
     "timestamp": 1639285330893,
     "user": {
      "displayName": "ADP실기스터디",
      "photoUrl": "https://lh3.googleusercontent.com/a-/AOh14Gj4CPB1PkT8c7jB9JUoOoYrMkATUieM4v_tVGRr=s64",
      "userId": "01349653381423008370"
     },
     "user_tz": -540
    },
    "id": "governing-worship",
    "outputId": "52bec416-8b7c-4419-b5dd-9bc73d29b730"
   },
   "outputs": [
    {
     "ename": "NameError",
     "evalue": "ignored",
     "output_type": "error",
     "traceback": [
      "\u001b[0;31m---------------------------------------------------------------------------\u001b[0m",
      "\u001b[0;31mNameError\u001b[0m                                 Traceback (most recent call last)",
      "\u001b[0;32m<ipython-input-1-2512af3c08df>\u001b[0m in \u001b[0;36m<module>\u001b[0;34m()\u001b[0m\n\u001b[0;32m----> 1\u001b[0;31m \u001b[0mdf2\u001b[0m\u001b[0;34m[\u001b[0m\u001b[0;34m'Oldpeak'\u001b[0m\u001b[0;34m]\u001b[0m\u001b[0;34m.\u001b[0m\u001b[0mloc\u001b[0m\u001b[0;34m[\u001b[0m\u001b[0;36m331\u001b[0m\u001b[0;34m]\u001b[0m \u001b[0;31m# -1을 결측치로 지정하지 않은 경우 --> 이게 적합\u001b[0m\u001b[0;34m\u001b[0m\u001b[0;34m\u001b[0m\u001b[0m\n\u001b[0m",
      "\u001b[0;31mNameError\u001b[0m: name 'df2' is not defined"
     ]
    }
   ],
   "source": [
    "df2['Oldpeak'].loc[331] # -1을 결측치로 지정하지 않은 경우 --> 이게 적합"
   ]
  },
  {
   "cell_type": "code",
   "execution_count": null,
   "metadata": {
    "id": "successful-atlanta",
    "outputId": "ff50be5b-c543-4261-9064-f5ef8ddc9e18"
   },
   "outputs": [
    {
     "data": {
      "text/html": [
       "<div>\n",
       "<style scoped>\n",
       "    .dataframe tbody tr th:only-of-type {\n",
       "        vertical-align: middle;\n",
       "    }\n",
       "\n",
       "    .dataframe tbody tr th {\n",
       "        vertical-align: top;\n",
       "    }\n",
       "\n",
       "    .dataframe thead th {\n",
       "        text-align: right;\n",
       "    }\n",
       "</style>\n",
       "<table border=\"1\" class=\"dataframe\">\n",
       "  <thead>\n",
       "    <tr style=\"text-align: right;\">\n",
       "      <th></th>\n",
       "      <th>Age</th>\n",
       "      <th>RestingBP</th>\n",
       "      <th>Cholesterol</th>\n",
       "      <th>MaxHR</th>\n",
       "      <th>Oldpeak</th>\n",
       "    </tr>\n",
       "  </thead>\n",
       "  <tbody>\n",
       "    <tr>\n",
       "      <th>0</th>\n",
       "      <td>40</td>\n",
       "      <td>NaN</td>\n",
       "      <td>NaN</td>\n",
       "      <td>NaN</td>\n",
       "      <td>NaN</td>\n",
       "    </tr>\n",
       "    <tr>\n",
       "      <th>1</th>\n",
       "      <td>49</td>\n",
       "      <td>160.0</td>\n",
       "      <td>180.0</td>\n",
       "      <td>156.0</td>\n",
       "      <td>1.0</td>\n",
       "    </tr>\n",
       "    <tr>\n",
       "      <th>2</th>\n",
       "      <td>37</td>\n",
       "      <td>130.0</td>\n",
       "      <td>283.0</td>\n",
       "      <td>98.0</td>\n",
       "      <td>0.0</td>\n",
       "    </tr>\n",
       "    <tr>\n",
       "      <th>3</th>\n",
       "      <td>48</td>\n",
       "      <td>138.0</td>\n",
       "      <td>214.0</td>\n",
       "      <td>108.0</td>\n",
       "      <td>1.5</td>\n",
       "    </tr>\n",
       "    <tr>\n",
       "      <th>4</th>\n",
       "      <td>54</td>\n",
       "      <td>150.0</td>\n",
       "      <td>195.0</td>\n",
       "      <td>122.0</td>\n",
       "      <td>0.0</td>\n",
       "    </tr>\n",
       "    <tr>\n",
       "      <th>...</th>\n",
       "      <td>...</td>\n",
       "      <td>...</td>\n",
       "      <td>...</td>\n",
       "      <td>...</td>\n",
       "      <td>...</td>\n",
       "    </tr>\n",
       "    <tr>\n",
       "      <th>913</th>\n",
       "      <td>45</td>\n",
       "      <td>110.0</td>\n",
       "      <td>264.0</td>\n",
       "      <td>132.0</td>\n",
       "      <td>1.2</td>\n",
       "    </tr>\n",
       "    <tr>\n",
       "      <th>914</th>\n",
       "      <td>68</td>\n",
       "      <td>144.0</td>\n",
       "      <td>193.0</td>\n",
       "      <td>141.0</td>\n",
       "      <td>3.4</td>\n",
       "    </tr>\n",
       "    <tr>\n",
       "      <th>915</th>\n",
       "      <td>57</td>\n",
       "      <td>130.0</td>\n",
       "      <td>131.0</td>\n",
       "      <td>115.0</td>\n",
       "      <td>1.2</td>\n",
       "    </tr>\n",
       "    <tr>\n",
       "      <th>916</th>\n",
       "      <td>57</td>\n",
       "      <td>130.0</td>\n",
       "      <td>236.0</td>\n",
       "      <td>174.0</td>\n",
       "      <td>0.0</td>\n",
       "    </tr>\n",
       "    <tr>\n",
       "      <th>917</th>\n",
       "      <td>38</td>\n",
       "      <td>138.0</td>\n",
       "      <td>175.0</td>\n",
       "      <td>173.0</td>\n",
       "      <td>0.0</td>\n",
       "    </tr>\n",
       "  </tbody>\n",
       "</table>\n",
       "<p>918 rows × 5 columns</p>\n",
       "</div>"
      ],
      "text/plain": [
       "     Age  RestingBP  Cholesterol  MaxHR  Oldpeak\n",
       "0     40        NaN          NaN    NaN      NaN\n",
       "1     49      160.0        180.0  156.0      1.0\n",
       "2     37      130.0        283.0   98.0      0.0\n",
       "3     48      138.0        214.0  108.0      1.5\n",
       "4     54      150.0        195.0  122.0      0.0\n",
       "..   ...        ...          ...    ...      ...\n",
       "913   45      110.0        264.0  132.0      1.2\n",
       "914   68      144.0        193.0  141.0      3.4\n",
       "915   57      130.0        131.0  115.0      1.2\n",
       "916   57      130.0        236.0  174.0      0.0\n",
       "917   38      138.0        175.0  173.0      0.0\n",
       "\n",
       "[918 rows x 5 columns]"
      ]
     },
     "execution_count": 12,
     "metadata": {},
     "output_type": "execute_result"
    }
   ],
   "source": [
    "m_df"
   ]
  },
  {
   "cell_type": "code",
   "execution_count": null,
   "metadata": {
    "id": "operational-folder",
    "outputId": "1854b4f2-c27c-444c-d993-4398e8b0710d"
   },
   "outputs": [
    {
     "name": "stdout",
     "output_type": "stream",
     "text": [
      "Age            0\n",
      "RestingBP      0\n",
      "Cholesterol    0\n",
      "MaxHR          0\n",
      "Oldpeak        0\n",
      "dtype: int64\n"
     ]
    },
    {
     "data": {
      "text/html": [
       "<div>\n",
       "<style scoped>\n",
       "    .dataframe tbody tr th:only-of-type {\n",
       "        vertical-align: middle;\n",
       "    }\n",
       "\n",
       "    .dataframe tbody tr th {\n",
       "        vertical-align: top;\n",
       "    }\n",
       "\n",
       "    .dataframe thead th {\n",
       "        text-align: right;\n",
       "    }\n",
       "</style>\n",
       "<table border=\"1\" class=\"dataframe\">\n",
       "  <thead>\n",
       "    <tr style=\"text-align: right;\">\n",
       "      <th></th>\n",
       "      <th>Age</th>\n",
       "      <th>RestingBP</th>\n",
       "      <th>Cholesterol</th>\n",
       "      <th>MaxHR</th>\n",
       "      <th>Oldpeak</th>\n",
       "    </tr>\n",
       "  </thead>\n",
       "  <tbody>\n",
       "    <tr>\n",
       "      <th>1</th>\n",
       "      <td>49</td>\n",
       "      <td>160.0</td>\n",
       "      <td>180.0</td>\n",
       "      <td>156.0</td>\n",
       "      <td>1.0</td>\n",
       "    </tr>\n",
       "    <tr>\n",
       "      <th>2</th>\n",
       "      <td>37</td>\n",
       "      <td>130.0</td>\n",
       "      <td>283.0</td>\n",
       "      <td>98.0</td>\n",
       "      <td>0.0</td>\n",
       "    </tr>\n",
       "    <tr>\n",
       "      <th>3</th>\n",
       "      <td>48</td>\n",
       "      <td>138.0</td>\n",
       "      <td>214.0</td>\n",
       "      <td>108.0</td>\n",
       "      <td>1.5</td>\n",
       "    </tr>\n",
       "    <tr>\n",
       "      <th>4</th>\n",
       "      <td>54</td>\n",
       "      <td>150.0</td>\n",
       "      <td>195.0</td>\n",
       "      <td>122.0</td>\n",
       "      <td>0.0</td>\n",
       "    </tr>\n",
       "    <tr>\n",
       "      <th>5</th>\n",
       "      <td>39</td>\n",
       "      <td>120.0</td>\n",
       "      <td>339.0</td>\n",
       "      <td>170.0</td>\n",
       "      <td>0.0</td>\n",
       "    </tr>\n",
       "    <tr>\n",
       "      <th>...</th>\n",
       "      <td>...</td>\n",
       "      <td>...</td>\n",
       "      <td>...</td>\n",
       "      <td>...</td>\n",
       "      <td>...</td>\n",
       "    </tr>\n",
       "    <tr>\n",
       "      <th>913</th>\n",
       "      <td>45</td>\n",
       "      <td>110.0</td>\n",
       "      <td>264.0</td>\n",
       "      <td>132.0</td>\n",
       "      <td>1.2</td>\n",
       "    </tr>\n",
       "    <tr>\n",
       "      <th>914</th>\n",
       "      <td>68</td>\n",
       "      <td>144.0</td>\n",
       "      <td>193.0</td>\n",
       "      <td>141.0</td>\n",
       "      <td>3.4</td>\n",
       "    </tr>\n",
       "    <tr>\n",
       "      <th>915</th>\n",
       "      <td>57</td>\n",
       "      <td>130.0</td>\n",
       "      <td>131.0</td>\n",
       "      <td>115.0</td>\n",
       "      <td>1.2</td>\n",
       "    </tr>\n",
       "    <tr>\n",
       "      <th>916</th>\n",
       "      <td>57</td>\n",
       "      <td>130.0</td>\n",
       "      <td>236.0</td>\n",
       "      <td>174.0</td>\n",
       "      <td>0.0</td>\n",
       "    </tr>\n",
       "    <tr>\n",
       "      <th>917</th>\n",
       "      <td>38</td>\n",
       "      <td>138.0</td>\n",
       "      <td>175.0</td>\n",
       "      <td>173.0</td>\n",
       "      <td>0.0</td>\n",
       "    </tr>\n",
       "  </tbody>\n",
       "</table>\n",
       "<p>917 rows × 5 columns</p>\n",
       "</div>"
      ],
      "text/plain": [
       "     Age  RestingBP  Cholesterol  MaxHR  Oldpeak\n",
       "1     49      160.0        180.0  156.0      1.0\n",
       "2     37      130.0        283.0   98.0      0.0\n",
       "3     48      138.0        214.0  108.0      1.5\n",
       "4     54      150.0        195.0  122.0      0.0\n",
       "5     39      120.0        339.0  170.0      0.0\n",
       "..   ...        ...          ...    ...      ...\n",
       "913   45      110.0        264.0  132.0      1.2\n",
       "914   68      144.0        193.0  141.0      3.4\n",
       "915   57      130.0        131.0  115.0      1.2\n",
       "916   57      130.0        236.0  174.0      0.0\n",
       "917   38      138.0        175.0  173.0      0.0\n",
       "\n",
       "[917 rows x 5 columns]"
      ]
     },
     "execution_count": 13,
     "metadata": {},
     "output_type": "execute_result"
    }
   ],
   "source": [
    "mm_df = m_df.dropna(axis=0) #행\n",
    "print(mm_df.isna().sum())\n",
    "mm_df"
   ]
  },
  {
   "cell_type": "code",
   "execution_count": null,
   "metadata": {
    "id": "covered-occasions",
    "outputId": "b08ef2ac-26d5-4055-e643-5d10ef6d00eb"
   },
   "outputs": [
    {
     "data": {
      "text/html": [
       "<div>\n",
       "<style scoped>\n",
       "    .dataframe tbody tr th:only-of-type {\n",
       "        vertical-align: middle;\n",
       "    }\n",
       "\n",
       "    .dataframe tbody tr th {\n",
       "        vertical-align: top;\n",
       "    }\n",
       "\n",
       "    .dataframe thead th {\n",
       "        text-align: right;\n",
       "    }\n",
       "</style>\n",
       "<table border=\"1\" class=\"dataframe\">\n",
       "  <thead>\n",
       "    <tr style=\"text-align: right;\">\n",
       "      <th></th>\n",
       "      <th>Age</th>\n",
       "    </tr>\n",
       "  </thead>\n",
       "  <tbody>\n",
       "    <tr>\n",
       "      <th>0</th>\n",
       "      <td>40</td>\n",
       "    </tr>\n",
       "    <tr>\n",
       "      <th>1</th>\n",
       "      <td>49</td>\n",
       "    </tr>\n",
       "    <tr>\n",
       "      <th>2</th>\n",
       "      <td>37</td>\n",
       "    </tr>\n",
       "    <tr>\n",
       "      <th>3</th>\n",
       "      <td>48</td>\n",
       "    </tr>\n",
       "    <tr>\n",
       "      <th>4</th>\n",
       "      <td>54</td>\n",
       "    </tr>\n",
       "    <tr>\n",
       "      <th>...</th>\n",
       "      <td>...</td>\n",
       "    </tr>\n",
       "    <tr>\n",
       "      <th>913</th>\n",
       "      <td>45</td>\n",
       "    </tr>\n",
       "    <tr>\n",
       "      <th>914</th>\n",
       "      <td>68</td>\n",
       "    </tr>\n",
       "    <tr>\n",
       "      <th>915</th>\n",
       "      <td>57</td>\n",
       "    </tr>\n",
       "    <tr>\n",
       "      <th>916</th>\n",
       "      <td>57</td>\n",
       "    </tr>\n",
       "    <tr>\n",
       "      <th>917</th>\n",
       "      <td>38</td>\n",
       "    </tr>\n",
       "  </tbody>\n",
       "</table>\n",
       "<p>918 rows × 1 columns</p>\n",
       "</div>"
      ],
      "text/plain": [
       "     Age\n",
       "0     40\n",
       "1     49\n",
       "2     37\n",
       "3     48\n",
       "4     54\n",
       "..   ...\n",
       "913   45\n",
       "914   68\n",
       "915   57\n",
       "916   57\n",
       "917   38\n",
       "\n",
       "[918 rows x 1 columns]"
      ]
     },
     "execution_count": 14,
     "metadata": {},
     "output_type": "execute_result"
    }
   ],
   "source": [
    "m_df.dropna(axis=1) #열"
   ]
  },
  {
   "cell_type": "markdown",
   "metadata": {
    "id": "micro-jamaica"
   },
   "source": [
    "### SimpleImputer (Univariate feature imputation)\n",
    "> Mean/Median Imputation\n",
    "- 한 컬럼에 있는 결측치를 결측되지 않은 다른 값들의 평균이나 중앙값으로 대치. 다른 feature는 고려되지 않음. 숫자형 데이터에만 사용 가능.\n",
    "- 쉽고 빠르고 작은 크기의 숫자형 데이터셋에 잘 동작함. 반면, 다른 feature 간의 상관관계가 고려되지 않음. 단순히 결측치가 존재하는 컬럼만 고려됨. 인코딩된 범주형 feature에 대해 안 좋은 결과를 제공함. (범주형 feature에 사용할 수 없음). 정확하지 않고, 불확실성에 반대됨.\n",
    "\n",
    "> Most Frequent Value Imputation\n",
    "- 가장 빈번히 나온 값으로 대치\n",
    "- 쉽고 빠르며 범주형 피처에 잘 동작함. 반면, 다른 feature 간의 상관관계가 고려되지 않음. 데이터에 bias생길 수 있음\n",
    "\n",
    "> 특정값으로 입력: df.fillna(value=대표값)"
   ]
  },
  {
   "cell_type": "code",
   "execution_count": null,
   "metadata": {
    "id": "whole-sleeve",
    "outputId": "07fb9aa3-127c-45f4-a880-b364e5ef1663"
   },
   "outputs": [
    {
     "data": {
      "text/plain": [
       "array([[ 40.        , 132.38822246, 198.70119956, 136.77099237,\n",
       "          0.88833152],\n",
       "       [ 49.        , 160.        , 180.        , 156.        ,\n",
       "          1.        ],\n",
       "       [ 37.        , 130.        , 283.        ,  98.        ,\n",
       "          0.        ],\n",
       "       ...,\n",
       "       [ 57.        , 130.        , 131.        , 115.        ,\n",
       "          1.2       ],\n",
       "       [ 57.        , 130.        , 236.        , 174.        ,\n",
       "          0.        ],\n",
       "       [ 38.        , 138.        , 175.        , 173.        ,\n",
       "          0.        ]])"
      ]
     },
     "execution_count": 15,
     "metadata": {},
     "output_type": "execute_result"
    }
   ],
   "source": [
    "from sklearn.impute import SimpleImputer\n",
    "SI_mean = SimpleImputer(missing_values=np.nan, strategy='mean') # 'median' or 'most_frequent' \n",
    "SI_mean.fit(m_df)\n",
    "mm_df2 = SI_mean.transform(m_df)\n",
    "mm_df2"
   ]
  },
  {
   "cell_type": "markdown",
   "metadata": {
    "id": "convertible-toner"
   },
   "source": [
    "### IterativeImputer (Multivariate feature imputation)"
   ]
  },
  {
   "cell_type": "code",
   "execution_count": null,
   "metadata": {
    "id": "through-egyptian",
    "outputId": "56f1063f-88eb-495d-bead-8fae6c66e727"
   },
   "outputs": [
    {
     "data": {
      "text/plain": [
       "array([[ 40.        , 125.76654753, 212.32417917, 150.40973949,\n",
       "          0.52339276],\n",
       "       [ 49.        , 160.        , 180.        , 156.        ,\n",
       "          1.        ],\n",
       "       [ 37.        , 130.        , 283.        ,  98.        ,\n",
       "          0.        ],\n",
       "       ...,\n",
       "       [ 57.        , 130.        , 131.        , 115.        ,\n",
       "          1.2       ],\n",
       "       [ 57.        , 130.        , 236.        , 174.        ,\n",
       "          0.        ],\n",
       "       [ 38.        , 138.        , 175.        , 173.        ,\n",
       "          0.        ]])"
      ]
     },
     "execution_count": 16,
     "metadata": {},
     "output_type": "execute_result"
    }
   ],
   "source": [
    "#아래 imputer를 import하기 위해서 선행 import 필요\n",
    "from sklearn.experimental import enable_iterative_imputer \n",
    "from sklearn.impute import IterativeImputer\n",
    "imputer = IterativeImputer(random_state=0)\n",
    "imputer.fit(m_df)\n",
    "mm_df3=imputer.transform(m_df)\n",
    "mm_df3"
   ]
  },
  {
   "cell_type": "markdown",
   "metadata": {
    "id": "killing-thompson"
   },
   "source": [
    "### KNN Imputation\n",
    "- mean, median, most frequent보다 정확할 때가 많지만, 전체 데이터셋을 메모리에 올려야 해서 메모리가 많이 필요하고, 이상치에 민감함"
   ]
  },
  {
   "cell_type": "code",
   "execution_count": null,
   "metadata": {
    "id": "infectious-screening",
    "outputId": "25871160-c086-4490-ef45-d2af0908b188"
   },
   "outputs": [
    {
     "data": {
      "text/plain": [
       "array([[ 40. , 116.2, 171.4, 132.8,   0.4],\n",
       "       [ 49. , 160. , 180. , 156. ,   1. ],\n",
       "       [ 37. , 130. , 283. ,  98. ,   0. ],\n",
       "       ...,\n",
       "       [ 57. , 130. , 131. , 115. ,   1.2],\n",
       "       [ 57. , 130. , 236. , 174. ,   0. ],\n",
       "       [ 38. , 138. , 175. , 173. ,   0. ]])"
      ]
     },
     "execution_count": 17,
     "metadata": {},
     "output_type": "execute_result"
    }
   ],
   "source": [
    "from sklearn.impute import KNNImputer\n",
    "imputer=KNNImputer(n_neighbors=5)\n",
    "mm_df4 = imputer.fit_transform(m_df)\n",
    "mm_df4"
   ]
  },
  {
   "cell_type": "code",
   "execution_count": null,
   "metadata": {
    "id": "adolescent-protest",
    "outputId": "966e0059-29a4-4889-b68c-66b76c5cda04"
   },
   "outputs": [
    {
     "data": {
      "text/html": [
       "<div>\n",
       "<style scoped>\n",
       "    .dataframe tbody tr th:only-of-type {\n",
       "        vertical-align: middle;\n",
       "    }\n",
       "\n",
       "    .dataframe tbody tr th {\n",
       "        vertical-align: top;\n",
       "    }\n",
       "\n",
       "    .dataframe thead th {\n",
       "        text-align: right;\n",
       "    }\n",
       "</style>\n",
       "<table border=\"1\" class=\"dataframe\">\n",
       "  <thead>\n",
       "    <tr style=\"text-align: right;\">\n",
       "      <th></th>\n",
       "      <th>원본</th>\n",
       "      <th>평균대치</th>\n",
       "      <th>Iterative</th>\n",
       "      <th>KNN</th>\n",
       "    </tr>\n",
       "  </thead>\n",
       "  <tbody>\n",
       "    <tr>\n",
       "      <th>0</th>\n",
       "      <td>40.0</td>\n",
       "      <td>40.000000</td>\n",
       "      <td>40.000000</td>\n",
       "      <td>40.0</td>\n",
       "    </tr>\n",
       "    <tr>\n",
       "      <th>1</th>\n",
       "      <td>140.0</td>\n",
       "      <td>132.388222</td>\n",
       "      <td>125.766548</td>\n",
       "      <td>116.2</td>\n",
       "    </tr>\n",
       "    <tr>\n",
       "      <th>2</th>\n",
       "      <td>289.0</td>\n",
       "      <td>198.701200</td>\n",
       "      <td>212.324179</td>\n",
       "      <td>171.4</td>\n",
       "    </tr>\n",
       "    <tr>\n",
       "      <th>3</th>\n",
       "      <td>172.0</td>\n",
       "      <td>136.770992</td>\n",
       "      <td>150.409739</td>\n",
       "      <td>132.8</td>\n",
       "    </tr>\n",
       "    <tr>\n",
       "      <th>4</th>\n",
       "      <td>0.0</td>\n",
       "      <td>0.888332</td>\n",
       "      <td>0.523393</td>\n",
       "      <td>0.4</td>\n",
       "    </tr>\n",
       "  </tbody>\n",
       "</table>\n",
       "</div>"
      ],
      "text/plain": [
       "      원본        평균대치   Iterative    KNN\n",
       "0   40.0   40.000000   40.000000   40.0\n",
       "1  140.0  132.388222  125.766548  116.2\n",
       "2  289.0  198.701200  212.324179  171.4\n",
       "3  172.0  136.770992  150.409739  132.8\n",
       "4    0.0    0.888332    0.523393    0.4"
      ]
     },
     "execution_count": 18,
     "metadata": {},
     "output_type": "execute_result"
    }
   ],
   "source": [
    "DataFrame({\"원본\":list(sdf.loc[0, :]), \"평균대치\": list(mm_df2[0]), \"Iterative\": list(mm_df3[0]), \"KNN\":list(mm_df4[0])})"
   ]
  },
  {
   "cell_type": "markdown",
   "metadata": {
    "id": "experimental-hindu"
   },
   "source": [
    "## 이상값: 극단값 절단, 조정, 클리핑"
   ]
  },
  {
   "cell_type": "markdown",
   "metadata": {
    "id": "banned-tracy"
   },
   "source": [
    "이상값 진단:\n",
    "- ESD(Extreme Studentized Deviation): 평균으로부터 3 표준편차 떨어진 값\n",
    "- 기하평균-2.5*표준편차 < data < 기하평균 + 2.5*표준편차\n",
    "- Q1-1.5(Q3-Q1) < data < Q3+1.5(Q3-Q1)"
   ]
  },
  {
   "cell_type": "markdown",
   "metadata": {
    "id": "conventional-somerset"
   },
   "source": [
    "### 이상치 확인: Boxplot, DBSCAN"
   ]
  },
  {
   "cell_type": "code",
   "execution_count": null,
   "metadata": {
    "id": "gentle-multiple",
    "outputId": "9d3bce6d-2da0-4b1d-ebc5-0edef78828bc"
   },
   "outputs": [
    {
     "data": {
      "image/png": "[encoded data removed]",
      "text/plain": [
       "<Figure size 432x288 with 1 Axes>"
      ]
     },
     "metadata": {
      "needs_background": "light"
     },
     "output_type": "display_data"
    }
   ],
   "source": [
    "from matplotlib import pyplot as plt\n",
    "sdf.boxplot()\n",
    "plt.show()"
   ]
  },
  {
   "cell_type": "code",
   "execution_count": null,
   "metadata": {
    "id": "welsh-chuck",
    "outputId": "afda97d1-9574-45fe-9560-75f6f51afce1",
    "tags": []
   },
   "outputs": [
    {
     "name": "stdout",
     "output_type": "stream",
     "text": [
      " 0    667\n",
      " 3    172\n",
      "-1     53\n",
      " 1     16\n",
      " 2     10\n",
      "dtype: int64\n",
      "outlier    -1\n",
      "Chol       85\n",
      "dtype: int64\n",
      "outlier     -1\n",
      "Chol       603\n",
      "dtype: int64\n"
     ]
    },
    {
     "data": {
      "image/png": "[encoded data removed]",
      "text/plain": [
       "<Figure size 432x288 with 1 Axes>"
      ]
     },
     "metadata": {
      "needs_background": "light"
     },
     "output_type": "display_data"
    }
   ],
   "source": [
    "import numpy as np\n",
    "import pandas as pd\n",
    "import seaborn as sns \n",
    "from sklearn.cluster import DBSCAN\n",
    "\n",
    "dbscan = DBSCAN(eps=3, min_samples=10).fit(DataFrame(sdf['Cholesterol']))\n",
    "db_label=pd.Series(dbscan.labels_)\n",
    "print(db_label.value_counts()) #-1이 이상치\n",
    "dbdf = DataFrame({'outlier':db_label, 'Chol':sdf['Cholesterol']})\n",
    "\n",
    "print(dbdf.query(\"outlier==-1\").min())\n",
    "print(dbdf.query(\"outlier==-1\").max())\n",
    "\n",
    "for outlier, Chol in dbdf.values:\n",
    "    if outlier == -1:\n",
    "        plt.plot(0, Chol, 'o', color='red')\n",
    "    else:\n",
    "        plt.plot(0, Chol, 'o', color='black')"
   ]
  },
  {
   "cell_type": "markdown",
   "metadata": {
    "id": "figured-olive"
   },
   "source": [
    "### 절단(trim or Truncation): 경계값 너머의 값을 제거"
   ]
  },
  {
   "cell_type": "code",
   "execution_count": null,
   "metadata": {
    "id": "brazilian-closure",
    "outputId": "2c04b5a1-bed2-435c-c737-a27c185b4b0e",
    "tags": []
   },
   "outputs": [
    {
     "name": "stdout",
     "output_type": "stream",
     "text": [
      "32.625 407.625 183\n"
     ]
    },
    {
     "data": {
      "image/png": "[encoded data removed]",
      "text/plain": [
       "<Figure size 432x288 with 2 Axes>"
      ]
     },
     "metadata": {
      "needs_background": "light"
     },
     "output_type": "display_data"
    }
   ],
   "source": [
    "IQR = sdf['Cholesterol'].quantile(0.75)- sdf['Cholesterol'].quantile(0.25)\n",
    "\n",
    "line_down= sdf['Cholesterol'].quantile(0.25) - IQR*1.5\n",
    "line_up= sdf['Cholesterol'].quantile(0.75) + IQR*1.5\n",
    "\n",
    "out_index=sdf[['Cholesterol']].query(\"Cholesterol<=@line_down or Cholesterol>=@line_up\").index\n",
    "print(line_down, line_up, len(out_index))\n",
    "\n",
    "trimmed = sdf['Cholesterol'].drop(index=out_index, axis=1)\n",
    "\n",
    "fig, ax = plt.subplots(1,2)\n",
    "ax[0].boxplot(sdf['Cholesterol'], labels=['Cholesterol'])\n",
    "ax[0].set_title(\"Before (%s)\"%sdf['Cholesterol'].shape)\n",
    "ax[0].set_ylim(-20,650)\n",
    "ax[0].axhline(line_up, linestyle=\"--\", color='red')\n",
    "ax[0].axhline(line_down, linestyle=\"--\", color='red')\n",
    "\n",
    "ax[1].boxplot(trimmed, labels=['Cholesterol'])\n",
    "ax[1].set_title(\"After (%s)\"%trimmed.shape)\n",
    "ax[1].set_ylim(-20,650)\n",
    "ax[1].axhline(line_up, linestyle=\"--\", color='red')\n",
    "ax[1].axhline(line_down, linestyle=\"--\", color='red')\n",
    "\n",
    "plt.show()"
   ]
  },
  {
   "cell_type": "markdown",
   "metadata": {
    "id": "cooperative-district"
   },
   "source": [
    "### 조정(winsorizing): 경계값 너머의 값을 경계값으로 보정"
   ]
  },
  {
   "cell_type": "code",
   "execution_count": null,
   "metadata": {
    "id": "powerful-malta",
    "outputId": "9a144e41-da1b-4333-babf-660c25198c0b"
   },
   "outputs": [
    {
     "data": {
      "image/png": "[encoded data removed]",
      "text/plain": [
       "<Figure size 432x288 with 2 Axes>"
      ]
     },
     "metadata": {
      "needs_background": "light"
     },
     "output_type": "display_data"
    }
   ],
   "source": [
    "IQR = sdf['Cholesterol'].quantile(0.75)- sdf['Cholesterol'].quantile(0.25)\n",
    "line_down= sdf['Cholesterol'].quantile(0.25) - IQR*1.5\n",
    "line_up= sdf['Cholesterol'].quantile(0.75) + IQR*1.5\n",
    "\n",
    "winsorized = sdf['Cholesterol'].clip(line_down, line_up)\n",
    "\n",
    "fig, ax = plt.subplots(1,2)\n",
    "ax[0].boxplot(sdf['Cholesterol'], labels=['Cholesterol'])\n",
    "ax[0].set_title(\"Before (%s)\"%sdf['Cholesterol'].shape)\n",
    "ax[1].boxplot(winsorized, labels=['Cholesterol'])\n",
    "ax[1].set_title(\"After (%s)\"%winsorized.shape)\n",
    "\n",
    "plt.show()"
   ]
  },
  {
   "cell_type": "markdown",
   "metadata": {
    "id": "preceding-bread"
   },
   "source": [
    "### 클리핑: 상한과 하한을 설정해서 해당 범위를 벗어나는 값을 상한값과 하한값으로 치환"
   ]
  },
  {
   "cell_type": "code",
   "execution_count": null,
   "metadata": {
    "id": "relevant-blood",
    "outputId": "43c90a14-4d02-42e4-eb4d-e2c018afd599",
    "tags": []
   },
   "outputs": [
    {
     "data": {
      "image/png": "[encoded data removed]",
      "text/plain": [
       "<Figure size 432x288 with 2 Axes>"
      ]
     },
     "metadata": {
      "needs_background": "light"
     },
     "output_type": "display_data"
    }
   ],
   "source": [
    "p05 = X_train['Oldpeak'].quantile(0.05)\n",
    "p95 = X_train['Oldpeak'].quantile(0.95)\n",
    "clip_X_train = X_train['Oldpeak'].clip(p05, p95)\n",
    "\n",
    "fig, ax = plt.subplots(1,2)\n",
    "ax[0].hist(DataFrame(X_train['Oldpeak']))\n",
    "ax[0].set_title(\"Before\")\n",
    "ax[1].hist(DataFrame(clip_X_train))\n",
    "ax[1].set_title(\"After\")\n",
    "\n",
    "plt.show()"
   ]
  },
  {
   "cell_type": "code",
   "execution_count": null,
   "metadata": {
    "id": "noticed-reduction",
    "outputId": "55590687-32d1-4796-dc83-0f438fb955d4"
   },
   "outputs": [
    {
     "data": {
      "text/plain": [
       "41     54\n",
       "891    66\n",
       "265    54\n",
       "177    59\n",
       "241    54\n",
       "185    58\n",
       "368    57\n",
       "519    63\n",
       "623    60\n",
       "428    62\n",
       "Name: Age, dtype: int64"
      ]
     },
     "execution_count": 26,
     "metadata": {},
     "output_type": "execute_result"
    }
   ],
   "source": [
    "X_train['Age'].head(10)"
   ]
  },
  {
   "cell_type": "markdown",
   "metadata": {
    "id": "sensitive-proposal"
   },
   "source": [
    "## 클래스 불균형: \n",
    "### 오버샘플링 (Random over sampling, SMOTE, Borderline SMOTE, Adasyn), 언더샘플링\n",
    "- 머신러닝 분류 중 이진 분류의 경우 0 또는 1로 분류하게 됨. 현실 세계에서 클래스 불균형이 매우 심함. 적은 수의 클래스의 분포를 제대로 학습하지 못해서 많은 수의 클래스의 분포에 과대적합되어 어떤 데이터가 들어오더라도 Major class로 분류하는 문제가 발생함(0으로 분류해야 하는데 Major인 1로 분류하는 경우)\n",
    "- 이 때문에 오버샘플링/언더샘플링을 통한 클래스 불균형 조정이 필요함.\n",
    "- 실제로는 대체적으로 Minority의 수가 매우 적기 때문에 언더 샘플링보다는 오버 샘플링을 하게 됨\n",
    "- https://imbalanced-learn.org/stable/references/over_sampling.html"
   ]
  },
  {
   "cell_type": "markdown",
   "metadata": {
    "id": "efficient-combination"
   },
   "source": [
    "### random over sampling\n",
    "- Random Over Sampling: 기존에 존재하는 소수의 클래스를 단순 복제하여 비율을 맞춰주는 것. 단순 복제하여 분포는 변화하지 않지만 숫자가 늘어나기 때문에 더 많은 가중치를 받게 됨. 실험적으로 종종 유효할 때가 있지만, 똑같은 데이터의 증식이기 때문에 오버피팅의 위험이 있음."
   ]
  },
  {
   "cell_type": "code",
   "execution_count": null,
   "metadata": {
    "id": "different-completion",
    "outputId": "0c857801-fae9-46b9-def7-5dfd06aaec15"
   },
   "outputs": [
    {
     "name": "stdout",
     "output_type": "stream",
     "text": [
      "Original dataset shape Counter({1: 90, 0: 10})\n",
      "Resampled dataset shape Counter({1: 90, 0: 90})\n"
     ]
    }
   ],
   "source": [
    "from collections import Counter\n",
    "from sklearn.datasets import make_classification\n",
    "from imblearn.over_sampling import RandomOverSampler \n",
    "X, y = make_classification(n_classes=2, class_sep=2,\n",
    "weights=[0.1, 0.9], n_informative=3, n_redundant=1, flip_y=0,\n",
    "n_features=5, n_clusters_per_class=1, n_samples=100, random_state=10)\n",
    "print('Original dataset shape %s' % Counter(y))\n",
    "\n",
    "ros = RandomOverSampler(random_state=42)\n",
    "X_ros, y_ros = ros.fit_resample(X, y)\n",
    "print('Resampled dataset shape %s' % Counter(y_ros))"
   ]
  },
  {
   "cell_type": "markdown",
   "metadata": {
    "id": "private-opposition"
   },
   "source": [
    "### SMOTE(Synthetic Minority Over Sampling Technique)\n",
    "- 임의의 소수 클래스 데이터로부터 인근 소수 클래스 사이에 새로운 데이터를 생성하는 것\n",
    "- 임의의 소수 클래스에 해당하는 x를 잡고 그로부터 가장 가까운 k개의 이웃을 찾음. 이 k개의 이웃과 x 사이에 임의의 새로운 데이터 x'를 생성"
   ]
  },
  {
   "cell_type": "code",
   "execution_count": null,
   "metadata": {
    "id": "hungry-sally",
    "outputId": "605ba4e7-6c82-40c9-eddf-a0713391eda1"
   },
   "outputs": [
    {
     "name": "stdout",
     "output_type": "stream",
     "text": [
      "Original dataset shape Counter({1: 90, 0: 10})\n",
      "Resampled dataset shape Counter({1: 90, 0: 90})\n"
     ]
    }
   ],
   "source": [
    "from imblearn.over_sampling import SMOTE\n",
    "smote = SMOTE(random_state=42, k_neighbors=3)\n",
    "X_smote, y_smote = smote.fit_resample(X, y)\n",
    "print('Original dataset shape %s' % Counter(y))\n",
    "print('Resampled dataset shape %s' % Counter(y_smote))"
   ]
  },
  {
   "cell_type": "markdown",
   "metadata": {
    "id": "bound-construction"
   },
   "source": [
    "### Borderline-SMOTE\n",
    "- 다수의 클래스와 소수의 클래스를 구분하는 구분선을 그을 때 서로 인접해 있는 경계선에 있는 소수 클래스의 데이터에 대해서 SMOTE를 적용하는 것. \n",
    "- 임의의 소수 클래스 데이터 X를 찾고 가장 근접한 K개의 데이터를 찾음. 근접한 K개의 클래스 수에 따라서 Danger, Safe, Noise 3개로 구분을 하고 SMOTE를 실시함.\n",
    "- X에 근접한 K의 클래스가 전부 major일 때는 noise -> SMOTE 적용하지 않음\n",
    "- 절반 이상이 minor일 때는 safe -> SMOTE 적용하지 않음\n",
    "- 절반 이상이 major일 때는 danger -> SMOTE 적용!\n",
    "- -> 완전히 홀로 고립된 데이터를 제외하고 수적 열세에 놓인 데이터의 주변에 원군을 만들어주는 것"
   ]
  },
  {
   "cell_type": "code",
   "execution_count": null,
   "metadata": {
    "id": "whole-trouble",
    "outputId": "a9e3ccc8-d652-4427-ca11-ae87e53e908a"
   },
   "outputs": [
    {
     "name": "stdout",
     "output_type": "stream",
     "text": [
      "Original dataset shape Counter({1: 90, 0: 10})\n",
      "Resampled dataset shape Counter({1: 90, 0: 10})\n"
     ]
    }
   ],
   "source": [
    "from imblearn.over_sampling import BorderlineSMOTE\n",
    "bsmote = BorderlineSMOTE(random_state=42, k_neighbors=3)\n",
    "X_bsmote, y_bsmote = bsmote.fit_resample(X, y)\n",
    "print('Original dataset shape %s' % Counter(y))\n",
    "print('Resampled dataset shape %s' % Counter(y_bsmote))"
   ]
  },
  {
   "cell_type": "markdown",
   "metadata": {
    "id": "awful-musical"
   },
   "source": [
    "### ADASYN (Adaptive Synthetic Sampling)\n",
    "- 보더라인 스무트가 보더라인 인근에서 3개의 경우로 판단해 SMOTE를 진행했다면, ADASYN은 가중치를 통해 SMOTE를 적용시키는 방식\n",
    "- 인접한 major 클래스의 비율에 따라 생성할 샘플의 수가 다르게 SMOTE를 적용"
   ]
  },
  {
   "cell_type": "code",
   "execution_count": null,
   "metadata": {
    "id": "compact-brave",
    "outputId": "00019218-b4ac-4935-b799-0e18f954a929"
   },
   "outputs": [
    {
     "name": "stdout",
     "output_type": "stream",
     "text": [
      "Original dataset shape Counter({1: 90, 0: 10})\n",
      "Resampled dataset shape Counter({1: 90, 0: 90})\n"
     ]
    }
   ],
   "source": [
    "from imblearn.over_sampling import ADASYN\n",
    "ads = ADASYN(random_state=42, n_neighbors=5)\n",
    "X_ads, y_ads = ads.fit_resample(X, y)\n",
    "print('Original dataset shape %s' % Counter(y))\n",
    "print('Resampled dataset shape %s' % Counter(y_ads))"
   ]
  },
  {
   "cell_type": "code",
   "execution_count": null,
   "metadata": {
    "id": "angry-charleston",
    "outputId": "5025b7e9-a04d-4d60-d956-67ee4115b237"
   },
   "outputs": [
    {
     "data": {
      "image/png": "[encoded data removed]",
      "text/plain": [
       "<Figure size 432x288 with 1 Axes>"
      ]
     },
     "metadata": {
      "needs_background": "light"
     },
     "output_type": "display_data"
    },
    {
     "data": {
      "image/png": "[encoded data removed]",
      "text/plain": [
       "<Figure size 432x288 with 4 Axes>"
      ]
     },
     "metadata": {
      "needs_background": "light"
     },
     "output_type": "display_data"
    }
   ],
   "source": [
    "plt.plot(X, \".\")\n",
    "\n",
    "fig, ax = plt.subplots(2,2)\n",
    "ax[0][0].plot(X_ros, \".\")\n",
    "ax[0][1].plot(X_smote, \".\")\n",
    "ax[1][0].plot(X_bsmote, \".\")\n",
    "ax[1][1].plot(X_ads, \".\")\n",
    "\n",
    "plt.show()"
   ]
  },
  {
   "cell_type": "markdown",
   "metadata": {
    "id": "welcome-feeding"
   },
   "source": [
    "## 변수변환 (Feature Scaling): \n",
    "- 피처의 스케일을 바꿈, 피처 정규화\n",
    "- 입력피쳐들의 스케일이 서로 크게 다른 상황에서 유용\n",
    "- 어떤 수치형 피쳐들은 무한히 증가함. 선형 회귀나 로지스틱 회귀 등과 같이 입력에 대한 평활 함수인 모델은 입력의 스케일에 영향을 받음. 반면 트리 기반 모델은 입력의 스케일에 그다지 신경 쓰지 않아도 됨. 모델이 입력 피처의 스케일에 민감하다면 피처 스케일링이 도움이 될 수 있음. 피처 스케일링은 일반적으로 각 피처에 대해 개별적으로 수행됨. 피처의 값을 다양한 분포로 변환하는 여러가지 유형의 피처 스케일링이 있음\n",
    "> ## 수치형 변수변환:\n",
    ">> ### - 비선형변환: 로그변환, PowerTransformer거듭제곱변환(Box-cox, Yeo-Johnson), Normalizer정규화(L1, L2, Max)\n",
    ">> ### - 선형변환: MinMaxScaler,StandardScaler표준화, RobustScaler, QuantileTransformer(균등분포, RankGauss)\n",
    ">> ### - 기타 변환: 구간분할, 순위로 변환, 날짜 및 변수 변환"
   ]
  },
  {
   "cell_type": "markdown",
   "metadata": {
    "id": "extra-cursor"
   },
   "source": [
    "### 로그변환(log(x+1)변환, 절대값 로그변환): np.log10(data +1) *데이터는 0초과\n",
    "- 로그함수는 지수함수의 역함수임. log(x)는 [1,10]의 범위를 [0,1] 범위로, [10,100] 범위를 [1,2] 범위로 매핑함. 즉 로그함수는 큰 수의 범위를 압축하고 작은 수의 범위를 확장함. x가 커질수록 log(x)의 증가는 느려짐 (가로축에서 100-1000까지의 x 값은 세로축 y에서 2-3사이의 좁은 범위로 압축되지만, x값이 100보다 작은 매우 좁은 구간은 세로축에서 넓은 범위에 매핑됨)\n",
    "- 로그변환은 두꺼운 꼬리 분포(heavy-tailed distribution)를 갖는 양수로 된 데이터를 다루는 강력한 도구임. 가우시안 분포보다 꼬리 범위에 더 많은 확률 질량을 가짐.\n",
    "- 분포에서 값이 높은 쪽에 있는 긴 꼬리를 짧게 압축하고, 낮은 값 쪽의 머리가 길어지게 함\n",
    "- box-cox 변환의 매개변수 람다가 0일때가 로그 변환임"
   ]
  },
  {
   "cell_type": "code",
   "execution_count": null,
   "metadata": {
    "id": "operational-mounting",
    "outputId": "248a8787-ddd3-4a55-fb4a-ee110fbddde8"
   },
   "outputs": [
    {
     "data": {
      "text/html": [
       "<div>\n",
       "<style scoped>\n",
       "    .dataframe tbody tr th:only-of-type {\n",
       "        vertical-align: middle;\n",
       "    }\n",
       "\n",
       "    .dataframe tbody tr th {\n",
       "        vertical-align: top;\n",
       "    }\n",
       "\n",
       "    .dataframe thead th {\n",
       "        text-align: right;\n",
       "    }\n",
       "</style>\n",
       "<table border=\"1\" class=\"dataframe\">\n",
       "  <thead>\n",
       "    <tr style=\"text-align: right;\">\n",
       "      <th></th>\n",
       "      <th>Age</th>\n",
       "    </tr>\n",
       "  </thead>\n",
       "  <tbody>\n",
       "    <tr>\n",
       "      <th>41</th>\n",
       "      <td>1.740363</td>\n",
       "    </tr>\n",
       "    <tr>\n",
       "      <th>891</th>\n",
       "      <td>1.826075</td>\n",
       "    </tr>\n",
       "    <tr>\n",
       "      <th>265</th>\n",
       "      <td>1.740363</td>\n",
       "    </tr>\n",
       "    <tr>\n",
       "      <th>177</th>\n",
       "      <td>1.778151</td>\n",
       "    </tr>\n",
       "    <tr>\n",
       "      <th>241</th>\n",
       "      <td>1.740363</td>\n",
       "    </tr>\n",
       "    <tr>\n",
       "      <th>...</th>\n",
       "      <td>...</td>\n",
       "    </tr>\n",
       "    <tr>\n",
       "      <th>767</th>\n",
       "      <td>1.740363</td>\n",
       "    </tr>\n",
       "    <tr>\n",
       "      <th>72</th>\n",
       "      <td>1.724276</td>\n",
       "    </tr>\n",
       "    <tr>\n",
       "      <th>908</th>\n",
       "      <td>1.806180</td>\n",
       "    </tr>\n",
       "    <tr>\n",
       "      <th>235</th>\n",
       "      <td>1.602060</td>\n",
       "    </tr>\n",
       "    <tr>\n",
       "      <th>37</th>\n",
       "      <td>1.623249</td>\n",
       "    </tr>\n",
       "  </tbody>\n",
       "</table>\n",
       "<p>688 rows × 1 columns</p>\n",
       "</div>"
      ],
      "text/plain": [
       "          Age\n",
       "41   1.740363\n",
       "891  1.826075\n",
       "265  1.740363\n",
       "177  1.778151\n",
       "241  1.740363\n",
       "..        ...\n",
       "767  1.740363\n",
       "72   1.724276\n",
       "908  1.806180\n",
       "235  1.602060\n",
       "37   1.623249\n",
       "\n",
       "[688 rows x 1 columns]"
      ]
     },
     "execution_count": 241,
     "metadata": {},
     "output_type": "execute_result"
    }
   ],
   "source": [
    "import numpy as np\n",
    "#상용로그+1\n",
    "X_train_log = np.log10(X_train.filter(['Age'])+1) #리뷰카운트가 0인경우 음의 무한대가 되는 것을 방지하기 위해 +1\n",
    "X_train_log"
   ]
  },
  {
   "cell_type": "code",
   "execution_count": null,
   "metadata": {
    "id": "recent-religion"
   },
   "outputs": [],
   "source": [
    "X_train_log2 = np.log(X_train.filter(['Age'])) #자연로그 #box-cox lamda=0#\n",
    "X_train_log3 = np.log1p(X_train.filter(['Age'])) #자연로그+1\n",
    "#절대값자연로그에 원래 부호붙임 (마이너스인 경우도 사용 가능)\n",
    "X_train_log4 = np.sign(X_train.filter(['Age']))*np.log(np.abs(X_train.filter(['Age']))) ##box-cox lamda=0"
   ]
  },
  {
   "cell_type": "code",
   "execution_count": null,
   "metadata": {
    "id": "armed-heavy",
    "outputId": "503f3f3c-ad80-4796-ad10-41163aa48869"
   },
   "outputs": [
    {
     "data": {
      "image/png": "[encoded data removed]",
      "text/plain": [
       "<Figure size 720x360 with 4 Axes>"
      ]
     },
     "metadata": {
      "needs_background": "light"
     },
     "output_type": "display_data"
    }
   ],
   "source": [
    "from matplotlib import pyplot as plt\n",
    "plt.rcParams[\"figure.figsize\"] = (10, 5)\n",
    "fig, ax = plt.subplots(2,2)\n",
    "ax[0][0].hist(DataFrame(X_train_log))\n",
    "ax[0][1].hist(DataFrame(X_train_log2)) \n",
    "ax[1][0].hist(DataFrame(X_train_log3))\n",
    "ax[1][1].hist(DataFrame(X_train_log4))\n",
    "plt.show()"
   ]
  },
  {
   "cell_type": "markdown",
   "metadata": {
    "id": "atlantic-arbor"
   },
   "source": [
    "### PowerTransfomer(거듭제곱변환): 'Box-cox', 'Yeo-Johnson'\n",
    "- 로그변환을 일반화함. 분산 안정화 변환. 푸아송 분포는 평균과 분산이 동일한 값을 갖는 두꺼운 꼬리 분포로서 질량 중심이 커질 수록 분산도 커지고 꼬리도 굵어짐. 거듭제곱변환은 분산이 더이상 평균에 의존하지 않도록 변수의 분포를 바꿈. 분포의 평균을 나타내는 람다가 증가할수록 분포의 최빈값이 오른쪽으로 이동할 뿐만 아니라 질량이 점점 퍼지면서 분산도 커짐.\n",
    "- method 매개변수에 'yeo-johnson', 'box-cox' 알고리즘을 지정할 수 있음, 기본은 'yeo-johnson'\n",
    "- Box-cox: 주된 용도는 데이터를 정규분포에 가깝게 만들거나 데이터의 분산을 안정화하는 것으로, 정규성을 가정하는 분석법이나 정상성을 요구하는 분석법을 사용하기에 앞서 데이터의 전처리에 사용. 변환을 위해서는 데이터가 모두 양수여야함. 보통은 그냥 데이터의 최소값이 양수가 되도록 어떤 값을 더해서 밀어주는 식으로 해결 (shift). 최대우도법이나 베이지안 기법을 통해 최적의 파라미터 람다의 값을 정할 수 있음. \n",
    "> 람다가 0이면 x람다제곱 = logx, 0이 아니면 x람다제곱 = (x람다제곱-1)/람다 (x, 데이터는 양수)\n",
    "\n",
    "- Yeo-Johnson: Box-cox의 shift 방법이 적절치 못하거나 마음에 들지 않는다면 실수 전체에 대해 일반화된 여-존슨 변환 Yeo-Johnson Transformation 을 고려해볼 수 있음, 데이터가 양수, 음수 다 됨"
   ]
  },
  {
   "cell_type": "code",
   "execution_count": null,
   "metadata": {
    "id": "italic-transcription",
    "outputId": "feffaca7-5cc6-4dc7-8074-7ff1910466b8",
    "tags": []
   },
   "outputs": [
    {
     "data": {
      "text/plain": [
       "1.455190714056056"
      ]
     },
     "execution_count": 253,
     "metadata": {},
     "output_type": "execute_result"
    }
   ],
   "source": [
    "from scipy.stats import boxcox\n",
    "result, params = boxcox(X_train['Age']) #lmbda 파라미터 넣을 수 있음\n",
    "params # 최적의 파라미터 찾아줌"
   ]
  },
  {
   "cell_type": "code",
   "execution_count": null,
   "metadata": {
    "collapsed": true,
    "id": "exposed-geology",
    "jupyter": {
     "outputs_hidden": true
    },
    "outputId": "1ffbb110-118a-4edd-bba8-db973c7b40c8",
    "tags": []
   },
   "outputs": [
    {
     "data": {
      "text/plain": [
       "array([3.98898405, 4.18965474, 3.98898405, 4.07753744, 3.98898405,\n",
       "       4.06044301, 4.04305127, 4.14313473, 4.09434456, 4.12713439,\n",
       "       4.00733319, 3.8918203 , 4.2341065 , 3.76120012, 4.11087386,\n",
       "       4.26267988, 3.63758616, 4.06044301, 3.63758616, 3.71357207,\n",
       "       3.95124372, 4.02535169, 3.80666249, 3.8918203 , 3.98898405,\n",
       "       4.09434456, 4.12713439, 4.11087386, 3.61091791, 3.76120012,\n",
       "       4.06044301, 3.78418963, 4.2341065 , 3.8501476 , 4.15888308,\n",
       "       3.61091791, 4.00733319, 4.00733319, 4.09434456, 3.68887945,\n",
       "       4.11087386, 3.80666249, 3.63758616, 4.20469262, 3.95124372,\n",
       "       4.21950771, 3.8918203 , 3.91202301, 4.04305127, 3.98898405,\n",
       "       3.58351894, 3.8918203 , 4.18965474, 4.06044301, 4.02535169,\n",
       "       4.07753744, 4.17438727, 4.14313473, 3.87120101, 4.12713439,\n",
       "       3.87120101, 4.31748811, 3.95124372, 3.8918203 , 4.11087386,\n",
       "       3.4657359 , 4.06044301, 3.97029191, 4.02535169, 4.18965474,\n",
       "       4.06044301, 3.98898405, 3.58351894, 3.98898405, 4.00733319,\n",
       "       3.97029191, 3.98898405, 4.00733319, 4.11087386, 4.07753744,\n",
       "       3.95124372, 4.04305127, 3.76120012, 4.00733319, 3.55534806,\n",
       "       3.8501476 , 3.95124372, 4.30406509, 3.8918203 , 4.02535169,\n",
       "       3.66356165, 4.30406509, 3.73766962, 4.14313473, 3.98898405,\n",
       "       4.07753744, 3.76120012, 4.00733319, 3.97029191, 3.98898405,\n",
       "       3.68887945, 4.04305127, 3.66356165, 4.07753744, 4.09434456,\n",
       "       4.00733319, 3.97029191, 3.8286414 , 4.06044301, 3.8501476 ,\n",
       "       3.8286414 , 3.87120101, 3.76120012, 3.8501476 , 4.00733319,\n",
       "       3.78418963, 4.15888308, 4.00733319, 4.07753744, 4.07753744,\n",
       "       4.21950771, 3.8918203 , 4.06044301, 3.97029191, 3.93182563,\n",
       "       4.02535169, 4.11087386, 4.04305127, 3.73766962, 3.93182563,\n",
       "       4.15888308, 3.71357207, 3.63758616, 4.17438727, 4.02535169,\n",
       "       4.06044301, 4.18965474, 4.15888308, 4.2341065 , 3.68887945,\n",
       "       4.07753744, 3.68887945, 3.80666249, 4.02535169, 4.04305127,\n",
       "       3.98898405, 3.66356165, 3.78418963, 4.2341065 , 3.95124372,\n",
       "       4.07753744, 4.20469262, 4.09434456, 3.93182563, 3.95124372,\n",
       "       4.21950771, 4.09434456, 3.8918203 , 3.73766962, 3.93182563,\n",
       "       4.11087386, 3.71357207, 4.26267988, 3.80666249, 3.97029191,\n",
       "       3.98898405, 3.8286414 , 3.73766962, 4.00733319, 3.63758616,\n",
       "       4.06044301, 4.17438727, 4.00733319, 4.12713439, 3.87120101,\n",
       "       4.07753744, 3.97029191, 3.87120101, 3.8286414 , 3.95124372,\n",
       "       4.15888308, 4.14313473, 3.8501476 , 4.17438727, 4.02535169,\n",
       "       3.66356165, 3.73766962, 3.93182563, 4.11087386, 4.14313473,\n",
       "       3.87120101, 3.98898405, 4.06044301, 3.8286414 , 4.2341065 ,\n",
       "       4.24849524, 3.87120101, 3.63758616, 4.2341065 , 3.93182563,\n",
       "       4.31748811, 4.09434456, 3.8501476 , 3.4657359 , 4.06044301,\n",
       "       3.87120101, 3.98898405, 3.71357207, 4.02535169, 3.95124372,\n",
       "       4.09434456, 4.12713439, 4.09434456, 3.76120012, 3.71357207,\n",
       "       4.17438727, 3.80666249, 3.71357207, 4.07753744, 3.78418963,\n",
       "       4.11087386, 3.52636052, 4.09434456, 3.93182563, 4.09434456,\n",
       "       4.06044301, 4.17438727, 3.76120012, 4.33073334, 3.78418963,\n",
       "       4.11087386, 4.04305127, 3.93182563, 4.02535169, 3.93182563,\n",
       "       3.93182563, 3.66356165, 4.06044301, 4.09434456, 4.04305127,\n",
       "       4.14313473, 3.98898405, 4.11087386, 3.97029191, 3.8286414 ,\n",
       "       4.17438727, 3.68887945, 4.00733319, 4.12713439, 3.8286414 ,\n",
       "       3.93182563, 3.8501476 , 4.04305127, 4.06044301, 4.07753744,\n",
       "       3.80666249, 3.95124372, 3.71357207, 3.93182563, 4.06044301,\n",
       "       3.73766962, 3.55534806, 4.17438727, 4.02535169, 3.98898405,\n",
       "       4.11087386, 3.71357207, 4.06044301, 3.80666249, 4.18965474,\n",
       "       4.00733319, 3.78418963, 3.8286414 , 4.12713439, 3.61091791,\n",
       "       3.87120101, 3.8286414 , 4.27666612, 4.07753744, 3.98898405,\n",
       "       4.14313473, 3.87120101, 4.24849524, 4.33073334, 4.00733319,\n",
       "       4.00733319, 3.98898405, 4.17438727, 4.20469262, 3.8286414 ,\n",
       "       4.20469262, 3.66356165, 3.98898405, 3.91202301, 3.4339872 ,\n",
       "       3.95124372, 3.93182563, 4.11087386, 3.87120101, 3.8501476 ,\n",
       "       4.17438727, 4.00733319, 3.91202301, 3.63758616, 3.93182563,\n",
       "       4.02535169, 4.12713439, 3.55534806, 4.14313473, 3.93182563,\n",
       "       3.98898405, 4.12713439, 4.09434456, 3.78418963, 3.91202301,\n",
       "       4.09434456, 4.06044301, 3.97029191, 3.95124372, 4.06044301,\n",
       "       4.12713439, 3.95124372, 3.97029191, 4.12713439, 3.87120101,\n",
       "       4.02535169, 4.14313473, 4.09434456, 4.18965474, 3.49650756,\n",
       "       3.78418963, 4.04305127, 3.8501476 , 4.17438727, 4.04305127,\n",
       "       4.02535169, 4.15888308, 4.2341065 , 4.11087386, 3.76120012,\n",
       "       4.04305127, 3.8918203 , 3.76120012, 3.71357207, 4.04305127,\n",
       "       3.97029191, 3.95124372, 4.24849524, 3.95124372, 3.93182563,\n",
       "       3.95124372, 3.87120101, 4.11087386, 4.04305127, 4.12713439,\n",
       "       4.12713439, 4.09434456, 4.06044301, 3.87120101, 3.8286414 ,\n",
       "       3.8918203 , 4.04305127, 4.04305127, 4.06044301, 4.04305127,\n",
       "       4.12713439, 3.68887945, 3.78418963, 3.71357207, 4.04305127,\n",
       "       3.91202301, 4.09434456, 4.30406509, 3.8501476 , 4.00733319,\n",
       "       3.73766962, 4.14313473, 4.11087386, 3.66356165, 3.63758616,\n",
       "       4.31748811, 4.04305127, 3.97029191, 3.97029191, 4.17438727,\n",
       "       4.20469262, 4.00733319, 3.91202301, 3.33220451, 3.95124372,\n",
       "       3.8286414 , 4.09434456, 3.95124372, 4.14313473, 3.80666249,\n",
       "       4.12713439, 3.87120101, 4.06044301, 3.98898405, 3.8501476 ,\n",
       "       4.14313473, 4.07753744, 3.95124372, 4.11087386, 4.00733319,\n",
       "       3.95124372, 4.04305127, 4.09434456, 4.12713439, 4.00733319,\n",
       "       3.61091791, 3.80666249, 4.11087386, 3.73766962, 3.73766962,\n",
       "       3.87120101, 3.66356165, 3.55534806, 4.17438727, 3.91202301,\n",
       "       3.8286414 , 3.55534806, 4.06044301, 4.02535169, 3.8918203 ,\n",
       "       3.98898405, 3.71357207, 3.98898405, 3.61091791, 3.98898405,\n",
       "       4.17438727, 3.87120101, 4.02535169, 4.26267988, 3.71357207,\n",
       "       4.24849524, 3.97029191, 4.04305127, 3.95124372, 3.87120101,\n",
       "       4.12713439, 4.07753744, 3.71357207, 3.4657359 , 3.76120012,\n",
       "       3.63758616, 3.68887945, 3.91202301, 4.17438727, 4.06044301,\n",
       "       4.06044301, 3.66356165, 4.04305127, 4.15888308, 3.98898405,\n",
       "       4.12713439, 3.66356165, 3.76120012, 4.09434456, 3.87120101,\n",
       "       3.97029191, 3.97029191, 3.93182563, 4.06044301, 3.87120101,\n",
       "       4.06044301, 3.58351894, 4.14313473, 4.00733319, 3.93182563,\n",
       "       3.87120101, 4.11087386, 4.11087386, 3.8286414 , 4.02535169,\n",
       "       3.98898405, 4.06044301, 3.63758616, 4.15888308, 3.71357207,\n",
       "       3.98898405, 4.12713439, 4.02535169, 4.07753744, 4.09434456,\n",
       "       3.55534806, 4.12713439, 4.06044301, 4.20469262, 3.36729583,\n",
       "       3.73766962, 3.91202301, 3.78418963, 4.18965474, 3.73766962,\n",
       "       4.04305127, 3.95124372, 3.66356165, 4.12713439, 3.55534806,\n",
       "       3.8918203 , 4.18965474, 4.11087386, 4.02535169, 4.20469262,\n",
       "       3.93182563, 4.14313473, 4.00733319, 4.14313473, 3.68887945,\n",
       "       3.55534806, 3.73766962, 3.63758616, 4.02535169, 3.8286414 ,\n",
       "       4.2341065 , 3.80666249, 3.73766962, 3.8286414 , 3.97029191,\n",
       "       4.14313473, 4.04305127, 4.26267988, 3.76120012, 3.36729583,\n",
       "       3.93182563, 4.12713439, 3.71357207, 3.98898405, 4.07753744,\n",
       "       4.11087386, 3.97029191, 3.97029191, 3.80666249, 4.02535169,\n",
       "       3.95124372, 4.24849524, 4.02535169, 3.8918203 , 3.63758616,\n",
       "       4.14313473, 3.91202301, 3.98898405, 4.15888308, 4.12713439,\n",
       "       3.80666249, 3.95124372, 4.14313473, 4.06044301, 3.93182563,\n",
       "       3.91202301, 3.68887945, 4.07753744, 3.61091791, 3.8501476 ,\n",
       "       3.76120012, 3.87120101, 4.02535169, 4.02535169, 4.00733319,\n",
       "       3.63758616, 4.18965474, 3.78418963, 4.00733319, 4.12713439,\n",
       "       3.63758616, 3.8286414 , 4.06044301, 3.55534806, 4.07753744,\n",
       "       4.07753744, 3.98898405, 3.97029191, 3.76120012, 3.95124372,\n",
       "       4.02535169, 4.04305127, 4.18965474, 4.14313473, 4.12713439,\n",
       "       4.00733319, 4.14313473, 4.14313473, 4.06044301, 3.87120101,\n",
       "       4.15888308, 3.97029191, 3.8286414 , 3.97029191, 4.2341065 ,\n",
       "       3.76120012, 4.20469262, 3.97029191, 4.20469262, 3.68887945,\n",
       "       4.17438727, 4.06044301, 4.09434456, 3.87120101, 4.07753744,\n",
       "       3.91202301, 4.09434456, 4.17438727, 4.02535169, 3.8286414 ,\n",
       "       3.91202301, 3.98898405, 3.52636052, 3.98898405, 4.00733319,\n",
       "       3.8918203 , 4.20469262, 3.73766962, 3.93182563, 4.21950771,\n",
       "       4.17438727, 4.21950771, 3.58351894, 3.8918203 , 3.91202301,\n",
       "       3.98898405, 4.00733319, 4.04305127, 4.02535169, 4.27666612,\n",
       "       3.95124372, 3.97029191, 4.20469262, 3.95124372, 4.11087386,\n",
       "       3.8286414 , 4.14313473, 3.8918203 , 3.98898405, 4.06044301,\n",
       "       3.97029191, 3.78418963, 3.98898405, 4.11087386, 4.15888308,\n",
       "       4.12713439, 3.78418963, 3.73766962, 3.98898405, 3.8501476 ,\n",
       "       3.98898405, 4.04305127, 4.12713439, 3.52636052, 4.07753744,\n",
       "       3.36729583, 4.21950771, 3.98898405, 3.63758616, 3.91202301,\n",
       "       4.17438727, 4.09434456, 4.04305127, 3.93182563, 3.52636052,\n",
       "       3.40119738, 3.93182563, 4.07753744, 3.95124372, 4.14313473,\n",
       "       4.27666612, 4.11087386, 4.12713439, 3.97029191, 4.00733319,\n",
       "       3.93182563, 3.61091791, 3.8918203 , 3.93182563, 4.20469262,\n",
       "       3.98898405, 4.2341065 , 3.73766962, 4.02535169, 3.80666249,\n",
       "       4.04305127, 3.78418963, 4.20469262, 3.98898405, 3.95124372,\n",
       "       4.14313473, 3.66356165, 3.71357207])"
      ]
     },
     "execution_count": 254,
     "metadata": {},
     "output_type": "execute_result"
    }
   ],
   "source": [
    "result2 = boxcox(X_train['Age'], lmbda=0) #X_train_log2, 4와 동일\n",
    "result2"
   ]
  },
  {
   "cell_type": "code",
   "execution_count": null,
   "metadata": {
    "id": "cheap-sitting",
    "outputId": "c6011d85-4d39-4f77-b215-47ac3b520c2f"
   },
   "outputs": [
    {
     "data": {
      "image/png": "[encoded data removed]",
      "text/plain": [
       "<Figure size 432x288 with 1 Axes>"
      ]
     },
     "metadata": {
      "needs_background": "light"
     },
     "output_type": "display_data"
    }
   ],
   "source": [
    "DataFrame(result, columns=['Age']).hist()\n",
    "plt.show()"
   ]
  },
  {
   "cell_type": "code",
   "execution_count": null,
   "metadata": {
    "id": "intellectual-thanks"
   },
   "outputs": [],
   "source": [
    "from sklearn.preprocessing import PowerTransformer\n",
    "PTB = PowerTransformer(method='box-cox')\n",
    "PTY = PowerTransformer(method='yeo-johnson')\n",
    "\n",
    "X_train_PTB = PTB.fit_transform(X_train.filter(['Age', 'RestingBP'])) #양수 데이터\n",
    "X_train_PTY = PTY.fit_transform(X_train)"
   ]
  },
  {
   "cell_type": "code",
   "execution_count": null,
   "metadata": {
    "id": "advised-livestock",
    "outputId": "e25feab2-a0a2-4ed1-cd90-496143c05bcd"
   },
   "outputs": [
    {
     "data": {
      "image/png": "[encoded data removed]",
      "text/plain": [
       "<Figure size 432x288 with 2 Axes>"
      ]
     },
     "metadata": {
      "needs_background": "light"
     },
     "output_type": "display_data"
    }
   ],
   "source": [
    "DataFrame(X_train_PTB, columns=['Age', 'RestingBP']).hist()\n",
    "plt.show()"
   ]
  },
  {
   "cell_type": "code",
   "execution_count": null,
   "metadata": {
    "id": "roman-manchester",
    "outputId": "597a014e-8fda-4078-c617-6e7daf7390d4"
   },
   "outputs": [
    {
     "data": {
      "image/png": "[encoded data removed]",
      "text/plain": [
       "<Figure size 432x288 with 6 Axes>"
      ]
     },
     "metadata": {
      "needs_background": "light"
     },
     "output_type": "display_data"
    }
   ],
   "source": [
    "DataFrame(X_train_PTY, columns=X_train.columns).hist()\n",
    "plt.subplots_adjust(hspace=1)\n",
    "plt.show()"
   ]
  },
  {
   "cell_type": "markdown",
   "metadata": {
    "id": "alternate-probability"
   },
   "source": [
    "### MinMaxScaler\n",
    "- MinMaxScaler는 모든 특성이 정확하게 0과 1 사이에 위치하도록 데이터를 변경함. 2차원 데이터셋일 경우, 모든 데이터가 x축의 0과 1, y축의 0과 1 사이의 사각 영역에 담기게 됨. (데이터값-최소값)/(최대값-최소값)\n",
    "- 변환 후의 평균이 정확히 0이 되지 않고 이상치의 악영향을 받기 더 쉽다는 단점이 있어서 표준화 방법이 더 자주 쓰임. 한편, 이미지 데이터의 픽셀값과 같이 처음부터 0~255로 범위가 정해진 변수는 최소-최대 스케일링을 이용하는게 자연스러울 수 있음.\n",
    "- 희소 데이터(sparse data)에 대해서는 min-max 스케일링이나 표준화 수행 시 주의해야 함. 대부분의 값이 0인 희소 피처 벡터를 조밀(dense) 피쳐로 바꿀 수 있음. 이는 계산하는데 따른 부담을 분류기에 줄 수 있음."
   ]
  },
  {
   "cell_type": "code",
   "execution_count": null,
   "metadata": {
    "id": "speaking-heather"
   },
   "outputs": [],
   "source": [
    "from sklearn.preprocessing import MinMaxScaler\n",
    "mmS=MinMaxScaler()\n",
    "mmS.fit(X_train) #훈련세트에 있는 특성마다 최소값과 최대값을 계산\n",
    "X_train_scaled =mmS.transform(X_train) #훈련 데이터의 스케일 조정\n",
    "# or mms.fit_transform(X_train)"
   ]
  },
  {
   "cell_type": "code",
   "execution_count": null,
   "metadata": {
    "id": "congressional-absence",
    "outputId": "17faf2d4-4d64-46b3-f40d-fcd9dc3d6cd6"
   },
   "outputs": [
    {
     "data": {
      "text/html": [
       "<div>\n",
       "<style scoped>\n",
       "    .dataframe tbody tr th:only-of-type {\n",
       "        vertical-align: middle;\n",
       "    }\n",
       "\n",
       "    .dataframe tbody tr th {\n",
       "        vertical-align: top;\n",
       "    }\n",
       "\n",
       "    .dataframe thead th {\n",
       "        text-align: right;\n",
       "    }\n",
       "</style>\n",
       "<table border=\"1\" class=\"dataframe\">\n",
       "  <thead>\n",
       "    <tr style=\"text-align: right;\">\n",
       "      <th></th>\n",
       "      <th>Age</th>\n",
       "      <th>RestingBP</th>\n",
       "      <th>Cholesterol</th>\n",
       "      <th>FastingBS</th>\n",
       "      <th>MaxHR</th>\n",
       "      <th>Oldpeak</th>\n",
       "    </tr>\n",
       "  </thead>\n",
       "  <tbody>\n",
       "    <tr>\n",
       "      <th>41</th>\n",
       "      <td>54</td>\n",
       "      <td>130</td>\n",
       "      <td>294</td>\n",
       "      <td>0</td>\n",
       "      <td>100</td>\n",
       "      <td>0.0</td>\n",
       "    </tr>\n",
       "    <tr>\n",
       "      <th>891</th>\n",
       "      <td>66</td>\n",
       "      <td>146</td>\n",
       "      <td>278</td>\n",
       "      <td>0</td>\n",
       "      <td>152</td>\n",
       "      <td>0.0</td>\n",
       "    </tr>\n",
       "    <tr>\n",
       "      <th>265</th>\n",
       "      <td>54</td>\n",
       "      <td>160</td>\n",
       "      <td>305</td>\n",
       "      <td>0</td>\n",
       "      <td>175</td>\n",
       "      <td>0.0</td>\n",
       "    </tr>\n",
       "    <tr>\n",
       "      <th>177</th>\n",
       "      <td>59</td>\n",
       "      <td>140</td>\n",
       "      <td>287</td>\n",
       "      <td>0</td>\n",
       "      <td>150</td>\n",
       "      <td>0.0</td>\n",
       "    </tr>\n",
       "    <tr>\n",
       "      <th>241</th>\n",
       "      <td>54</td>\n",
       "      <td>200</td>\n",
       "      <td>198</td>\n",
       "      <td>0</td>\n",
       "      <td>142</td>\n",
       "      <td>2.0</td>\n",
       "    </tr>\n",
       "    <tr>\n",
       "      <th>...</th>\n",
       "      <td>...</td>\n",
       "      <td>...</td>\n",
       "      <td>...</td>\n",
       "      <td>...</td>\n",
       "      <td>...</td>\n",
       "      <td>...</td>\n",
       "    </tr>\n",
       "    <tr>\n",
       "      <th>767</th>\n",
       "      <td>54</td>\n",
       "      <td>108</td>\n",
       "      <td>267</td>\n",
       "      <td>0</td>\n",
       "      <td>167</td>\n",
       "      <td>0.0</td>\n",
       "    </tr>\n",
       "    <tr>\n",
       "      <th>72</th>\n",
       "      <td>52</td>\n",
       "      <td>120</td>\n",
       "      <td>182</td>\n",
       "      <td>0</td>\n",
       "      <td>150</td>\n",
       "      <td>0.0</td>\n",
       "    </tr>\n",
       "    <tr>\n",
       "      <th>908</th>\n",
       "      <td>63</td>\n",
       "      <td>140</td>\n",
       "      <td>187</td>\n",
       "      <td>0</td>\n",
       "      <td>144</td>\n",
       "      <td>4.0</td>\n",
       "    </tr>\n",
       "    <tr>\n",
       "      <th>235</th>\n",
       "      <td>39</td>\n",
       "      <td>120</td>\n",
       "      <td>200</td>\n",
       "      <td>0</td>\n",
       "      <td>160</td>\n",
       "      <td>1.0</td>\n",
       "    </tr>\n",
       "    <tr>\n",
       "      <th>37</th>\n",
       "      <td>41</td>\n",
       "      <td>110</td>\n",
       "      <td>250</td>\n",
       "      <td>0</td>\n",
       "      <td>142</td>\n",
       "      <td>0.0</td>\n",
       "    </tr>\n",
       "  </tbody>\n",
       "</table>\n",
       "<p>688 rows × 6 columns</p>\n",
       "</div>"
      ],
      "text/plain": [
       "     Age  RestingBP  Cholesterol  FastingBS  MaxHR  Oldpeak\n",
       "41    54        130          294          0    100      0.0\n",
       "891   66        146          278          0    152      0.0\n",
       "265   54        160          305          0    175      0.0\n",
       "177   59        140          287          0    150      0.0\n",
       "241   54        200          198          0    142      2.0\n",
       "..   ...        ...          ...        ...    ...      ...\n",
       "767   54        108          267          0    167      0.0\n",
       "72    52        120          182          0    150      0.0\n",
       "908   63        140          187          0    144      4.0\n",
       "235   39        120          200          0    160      1.0\n",
       "37    41        110          250          0    142      0.0\n",
       "\n",
       "[688 rows x 6 columns]"
      ]
     },
     "execution_count": 94,
     "metadata": {},
     "output_type": "execute_result"
    }
   ],
   "source": [
    "X_train"
   ]
  },
  {
   "cell_type": "code",
   "execution_count": null,
   "metadata": {
    "id": "cardiovascular-cookie",
    "outputId": "d888c5b1-28b2-4ff4-9ed6-d06e1c612cd0"
   },
   "outputs": [
    {
     "data": {
      "text/html": [
       "<div>\n",
       "<style scoped>\n",
       "    .dataframe tbody tr th:only-of-type {\n",
       "        vertical-align: middle;\n",
       "    }\n",
       "\n",
       "    .dataframe tbody tr th {\n",
       "        vertical-align: top;\n",
       "    }\n",
       "\n",
       "    .dataframe thead th {\n",
       "        text-align: right;\n",
       "    }\n",
       "</style>\n",
       "<table border=\"1\" class=\"dataframe\">\n",
       "  <thead>\n",
       "    <tr style=\"text-align: right;\">\n",
       "      <th></th>\n",
       "      <th>0</th>\n",
       "      <th>1</th>\n",
       "      <th>2</th>\n",
       "      <th>3</th>\n",
       "      <th>4</th>\n",
       "      <th>5</th>\n",
       "    </tr>\n",
       "  </thead>\n",
       "  <tbody>\n",
       "    <tr>\n",
       "      <th>0</th>\n",
       "      <td>0.541667</td>\n",
       "      <td>0.416667</td>\n",
       "      <td>0.487562</td>\n",
       "      <td>0.0</td>\n",
       "      <td>0.281690</td>\n",
       "      <td>0.295455</td>\n",
       "    </tr>\n",
       "    <tr>\n",
       "      <th>1</th>\n",
       "      <td>0.791667</td>\n",
       "      <td>0.550000</td>\n",
       "      <td>0.461028</td>\n",
       "      <td>0.0</td>\n",
       "      <td>0.647887</td>\n",
       "      <td>0.295455</td>\n",
       "    </tr>\n",
       "    <tr>\n",
       "      <th>2</th>\n",
       "      <td>0.541667</td>\n",
       "      <td>0.666667</td>\n",
       "      <td>0.505804</td>\n",
       "      <td>0.0</td>\n",
       "      <td>0.809859</td>\n",
       "      <td>0.295455</td>\n",
       "    </tr>\n",
       "    <tr>\n",
       "      <th>3</th>\n",
       "      <td>0.645833</td>\n",
       "      <td>0.500000</td>\n",
       "      <td>0.475954</td>\n",
       "      <td>0.0</td>\n",
       "      <td>0.633803</td>\n",
       "      <td>0.295455</td>\n",
       "    </tr>\n",
       "    <tr>\n",
       "      <th>4</th>\n",
       "      <td>0.541667</td>\n",
       "      <td>1.000000</td>\n",
       "      <td>0.328358</td>\n",
       "      <td>0.0</td>\n",
       "      <td>0.577465</td>\n",
       "      <td>0.522727</td>\n",
       "    </tr>\n",
       "    <tr>\n",
       "      <th>...</th>\n",
       "      <td>...</td>\n",
       "      <td>...</td>\n",
       "      <td>...</td>\n",
       "      <td>...</td>\n",
       "      <td>...</td>\n",
       "      <td>...</td>\n",
       "    </tr>\n",
       "    <tr>\n",
       "      <th>683</th>\n",
       "      <td>0.541667</td>\n",
       "      <td>0.233333</td>\n",
       "      <td>0.442786</td>\n",
       "      <td>0.0</td>\n",
       "      <td>0.753521</td>\n",
       "      <td>0.295455</td>\n",
       "    </tr>\n",
       "    <tr>\n",
       "      <th>684</th>\n",
       "      <td>0.500000</td>\n",
       "      <td>0.333333</td>\n",
       "      <td>0.301824</td>\n",
       "      <td>0.0</td>\n",
       "      <td>0.633803</td>\n",
       "      <td>0.295455</td>\n",
       "    </tr>\n",
       "    <tr>\n",
       "      <th>685</th>\n",
       "      <td>0.729167</td>\n",
       "      <td>0.500000</td>\n",
       "      <td>0.310116</td>\n",
       "      <td>0.0</td>\n",
       "      <td>0.591549</td>\n",
       "      <td>0.750000</td>\n",
       "    </tr>\n",
       "    <tr>\n",
       "      <th>686</th>\n",
       "      <td>0.229167</td>\n",
       "      <td>0.333333</td>\n",
       "      <td>0.331675</td>\n",
       "      <td>0.0</td>\n",
       "      <td>0.704225</td>\n",
       "      <td>0.409091</td>\n",
       "    </tr>\n",
       "    <tr>\n",
       "      <th>687</th>\n",
       "      <td>0.270833</td>\n",
       "      <td>0.250000</td>\n",
       "      <td>0.414594</td>\n",
       "      <td>0.0</td>\n",
       "      <td>0.577465</td>\n",
       "      <td>0.295455</td>\n",
       "    </tr>\n",
       "  </tbody>\n",
       "</table>\n",
       "<p>688 rows × 6 columns</p>\n",
       "</div>"
      ],
      "text/plain": [
       "            0         1         2    3         4         5\n",
       "0    0.541667  0.416667  0.487562  0.0  0.281690  0.295455\n",
       "1    0.791667  0.550000  0.461028  0.0  0.647887  0.295455\n",
       "2    0.541667  0.666667  0.505804  0.0  0.809859  0.295455\n",
       "3    0.645833  0.500000  0.475954  0.0  0.633803  0.295455\n",
       "4    0.541667  1.000000  0.328358  0.0  0.577465  0.522727\n",
       "..        ...       ...       ...  ...       ...       ...\n",
       "683  0.541667  0.233333  0.442786  0.0  0.753521  0.295455\n",
       "684  0.500000  0.333333  0.301824  0.0  0.633803  0.295455\n",
       "685  0.729167  0.500000  0.310116  0.0  0.591549  0.750000\n",
       "686  0.229167  0.333333  0.331675  0.0  0.704225  0.409091\n",
       "687  0.270833  0.250000  0.414594  0.0  0.577465  0.295455\n",
       "\n",
       "[688 rows x 6 columns]"
      ]
     },
     "execution_count": 107,
     "metadata": {},
     "output_type": "execute_result"
    }
   ],
   "source": [
    "DataFrame(X_train_scaled)"
   ]
  },
  {
   "cell_type": "code",
   "execution_count": null,
   "metadata": {
    "id": "attached-lewis",
    "outputId": "7b8e0e9b-474b-4c10-ad9e-0c112472d107"
   },
   "outputs": [
    {
     "name": "stdout",
     "output_type": "stream",
     "text": [
      "(688, 6) (688, 6) \n",
      "\n",
      "Age            28.0\n",
      "RestingBP      80.0\n",
      "Cholesterol     0.0\n",
      "FastingBS       0.0\n",
      "MaxHR          60.0\n",
      "Oldpeak        -2.6\n",
      "dtype: float64 \n",
      "\n",
      " Age             76.0\n",
      "RestingBP      200.0\n",
      "Cholesterol    603.0\n",
      "FastingBS        1.0\n",
      "MaxHR          202.0\n",
      "Oldpeak          6.2\n",
      "dtype: float64 \n",
      "\n",
      " [0. 0. 0. 0. 0. 0.] \n",
      "\n",
      " [1. 1. 1. 1. 1. 1.]\n"
     ]
    }
   ],
   "source": [
    "#스케일링 전후 데이터 shape 비교\n",
    "print(X_train.shape, X_train_scaled.shape, \"\\n\")\n",
    "\n",
    "#스케일링 전 각 열의 min&max vs 스케일링 후 각 열의 min&max\n",
    "#스케일링 후 각 열의 값은 0과 1 사이가 되었음\n",
    "print(X_train.min(axis=0), \"\\n\\n\", X_train.max(axis=0), \"\\n\\n\", X_train_scaled.min(axis=0), \"\\n\\n\", X_train_scaled.max(axis=0))"
   ]
  },
  {
   "cell_type": "code",
   "execution_count": null,
   "metadata": {
    "id": "thirty-arabic",
    "outputId": "d520396e-a9b1-4f74-8e6a-5b403f046797"
   },
   "outputs": [
    {
     "name": "stdout",
     "output_type": "stream",
     "text": [
      "[ 0.0625     -0.66666667  0.          0.          0.06338028  0.18181818] [1.02083333 0.91666667 0.75953566 1.         0.91549296 0.79545455]\n"
     ]
    }
   ],
   "source": [
    "# 테스트 데이터 변환\n",
    "X_test_scaled =mmS.transform(X_test)\n",
    "print(X_test_scaled.min(axis=0), X_test_scaled.max(axis=0))\n",
    "# MinMaxScaler 및 다른 모든 스케일 모델들은 항상 훈련세트와 테스트 세트에 같은 변환을 적용해야 함. 그렇기 때문에 일부 특성은 0~1 범위를 벗어나게 됨. transform 메서드는 테스트 세트의 최소값과 범위를 사용하지 않고, 훈련 세트의 최소값을 빼고 훈련 세트의 범위로 나눔"
   ]
  },
  {
   "cell_type": "markdown",
   "metadata": {
    "id": "black-pearl"
   },
   "source": [
    "### StandardScaler (표준화 Standardization)\n",
    "- variance scaling이라고 부르기도 함. 원본 피처가 가우시안 분포를 갖는 경우 스케일링된 피처도 가우시안 분포를 가짐\n",
    "- 곱셈과 덧셈만으로 변환하는 선형변환을 통해 각 특성의 평균을 0, 분산을 1로 변경하여 모든 특성이 같은 크기를 가지게 함. 그러나 이 방법은 특성의 최소값과 최대값 크기를 제한하지는 않음. (데이터값-평균)/표준편차, 표준점수 z-점수라고 함\n",
    "- 선형 회귀나 로지스틱 회귀 등의 선형모델에서는 값의 범위가 큰 변수일수록 회귀계수가 작아지므로 표준화하지 않으면 그런 변수의 정규화가 어려워짐. 신경망에서도 변수들 간의 값의 범위가 크게 차이나는 상태로는 학습이 잘 진행되지 않을때가 많음.\n",
    "- 0과 1 이진변수에 대해서는 표준화를 실시하지 않아도 됨.\n",
    "- 학습데이터로 fit하여 변환하고, 그 기준으로 테스트데이터도 변환하거나, 학습데이터+테스트데이터로 fit하여 변환해야 함. (학습데이터 fit 변환, 테스트데이터 fit 변환은 안됨)"
   ]
  },
  {
   "cell_type": "code",
   "execution_count": null,
   "metadata": {
    "id": "physical-fantasy",
    "outputId": "55b39e06-2c1e-4834-e6eb-99fc0405cc45"
   },
   "outputs": [
    {
     "data": {
      "image/png": "[encoded data removed]",
      "text/plain": [
       "<Figure size 432x288 with 6 Axes>"
      ]
     },
     "metadata": {
      "needs_background": "light"
     },
     "output_type": "display_data"
    }
   ],
   "source": [
    "from sklearn.preprocessing import StandardScaler\n",
    "ss=StandardScaler()\n",
    "X_train_ss = ss.fit_transform(X_train)\n",
    "DataFrame(X_train_ss, columns=X_train.columns).hist()\n",
    "plt.subplots_adjust(hspace=1)\n",
    "plt.show()"
   ]
  },
  {
   "cell_type": "markdown",
   "metadata": {
    "id": "collected-choir"
   },
   "source": [
    "## RobustScaler\n",
    "- RobustScaler: 특성들이 같은 스케일을 같게 된다는 통계적 측면에서는 StandardScaler와 비슷하지만 평균과 분산 대신 median과 quantile을 사용함. 이 때문에 RobustScaler는 이상치(예: 측정 에러)의 영향을 받지 않음. (데이터값-중간값)/(3사분위값-1사분위값)"
   ]
  },
  {
   "cell_type": "code",
   "execution_count": null,
   "metadata": {
    "id": "regulation-builder",
    "outputId": "2fde9de2-b03a-4b33-d548-96a4a15f41e5"
   },
   "outputs": [
    {
     "data": {
      "text/plain": [
       "array([[ 0.        ,  0.        ,  0.74805195,  0.        , -1.11111111,\n",
       "        -0.33333333],\n",
       "       [ 0.92307692,  0.8       ,  0.58181818,  0.        ,  0.33333333,\n",
       "        -0.33333333],\n",
       "       [ 0.        ,  1.5       ,  0.86233766,  0.        ,  0.97222222,\n",
       "        -0.33333333],\n",
       "       ...,\n",
       "       [ 0.69230769,  0.5       , -0.36363636,  0.        ,  0.11111111,\n",
       "         2.33333333],\n",
       "       [-1.15384615, -0.5       , -0.22857143,  0.        ,  0.55555556,\n",
       "         0.33333333],\n",
       "       [-1.        , -1.        ,  0.29090909,  0.        ,  0.05555556,\n",
       "        -0.33333333]])"
      ]
     },
     "execution_count": 146,
     "metadata": {},
     "output_type": "execute_result"
    }
   ],
   "source": [
    "from sklearn.preprocessing import RobustScaler\n",
    "\n",
    "RS = RobustScaler()\n",
    "X_train_RS=RS.fit_transform(X_train)\n",
    "X_train_RS"
   ]
  },
  {
   "cell_type": "code",
   "execution_count": null,
   "metadata": {
    "id": "cross-draft",
    "outputId": "ab5656af-373c-4f0c-deef-3059b37fa09d",
    "tags": []
   },
   "outputs": [
    {
     "data": {
      "image/png": "[encoded data removed]",
      "text/plain": [
       "<Figure size 432x288 with 6 Axes>"
      ]
     },
     "metadata": {
      "needs_background": "light"
     },
     "output_type": "display_data"
    }
   ],
   "source": [
    "DataFrame(X_train_RS, columns=X_train.columns).hist()\n",
    "plt.subplots_adjust(hspace=1)\n",
    "plt.show()"
   ]
  },
  {
   "cell_type": "markdown",
   "metadata": {
    "id": "italian-yeast"
   },
   "source": [
    "### Quantile Transformer (균등분포, RankGauss)\n",
    "- 1000개의 분위를 사용하여 데이터를 균등하게 배포시킴. RobustScaler와 비슷하게 이상치에 민감하지 않으며 전체 데이터를 0과 1사이로 압축.\n",
    "- 분위 수는 n_quantiles 매개변수에서 설정할 수 있으며 기본값은 1,000임. scaler 객체의 quantiles_ 속성에는 특성별로 계산된 분위값이 들어 있음. (n_quantiles, n_features)\n",
    "- RankGauss: 수치형 변수를 순위로 변환한 뒤 순서를 유지한 채 반강제로 정규분포가 되도록 변환하는 방법. 신경망에서 모델을 구축할 때의 변환으로서 일반적인 표준화보다 좋은 성능을 나타낸다고 함. QuantileTransformer 클래스에서 n_quantiles를 충분히 크게 한 뒤 output_distribution='normal'로 지정해서 변환함\n",
    "- 균등분포: output_distribution='uniform'으로 변환."
   ]
  },
  {
   "cell_type": "code",
   "execution_count": null,
   "metadata": {
    "id": "illegal-arrival",
    "outputId": "34f1b89d-7b32-4ff8-c127-c03ca957d2aa"
   },
   "outputs": [
    {
     "data": {
      "text/plain": [
       "array([[0.48689956, 0.4657933 , 0.86754003, 0.        , 0.07860262,\n",
       "        0.21906841],\n",
       "       [0.92212518, 0.81586608, 0.81368268, 0.        , 0.70524017,\n",
       "        0.21906841],\n",
       "       [0.48689956, 0.9294032 , 0.89810771, 0.        , 0.94032023,\n",
       "        0.21906841],\n",
       "       ...,\n",
       "       [0.85298399, 0.70669578, 0.30131004, 0.        , 0.58588064,\n",
       "        0.99272198],\n",
       "       [0.07860262, 0.23799127, 0.35371179, 0.        , 0.79767103,\n",
       "        0.6069869 ],\n",
       "       [0.11426492, 0.09243086, 0.66739447, 0.        , 0.55749636,\n",
       "        0.21906841]])"
      ]
     },
     "execution_count": 129,
     "metadata": {},
     "output_type": "execute_result"
    }
   ],
   "source": [
    "from sklearn.preprocessing import QuantileTransformer\n",
    "\n",
    "##균등분포\n",
    "QT = QuantileTransformer(n_quantiles=688) #분위수의 기본값은 1000\n",
    "#UserWarning: n_quantiles (1000) is greater than the total number of samples (688). n_quantiles is set to n_samples.\n",
    "\n",
    "X_train_QT = QT.fit_transform(X_train)\n",
    "X_train_QT "
   ]
  },
  {
   "cell_type": "code",
   "execution_count": null,
   "metadata": {
    "id": "bacterial-report",
    "outputId": "b61f787f-b485-4fac-eccb-a350a12ed5d2"
   },
   "outputs": [
    {
     "data": {
      "image/png": "[encoded data removed]",
      "text/plain": [
       "<Figure size 432x288 with 6 Axes>"
      ]
     },
     "metadata": {
      "needs_background": "light"
     },
     "output_type": "display_data"
    }
   ],
   "source": [
    "# raw data\n",
    "X_train.hist()\n",
    "plt.subplots_adjust(hspace=1)\n",
    "plt.show()"
   ]
  },
  {
   "cell_type": "code",
   "execution_count": null,
   "metadata": {
    "id": "rotary-morris",
    "outputId": "71c720f5-13ab-4161-dc3f-c9d9c4b8135d"
   },
   "outputs": [
    {
     "data": {
      "image/png": "[encoded data removed]",
      "text/plain": [
       "<Figure size 432x288 with 6 Axes>"
      ]
     },
     "metadata": {
      "needs_background": "light"
     },
     "output_type": "display_data"
    }
   ],
   "source": [
    "# QuantileTransformer (균등분포): 0~1 사이\n",
    "DataFrame(X_train_QT, columns=X_train.columns).hist()\n",
    "plt.subplots_adjust(hspace=1)\n",
    "plt.show()"
   ]
  },
  {
   "cell_type": "code",
   "execution_count": null,
   "metadata": {
    "id": "informal-watts",
    "outputId": "289c8987-88c3-4cf4-fbfe-29b349483625"
   },
   "outputs": [
    {
     "data": {
      "text/plain": [
       "array([[-0.03284383, -0.08584881,  1.11483778, -5.19933758, -1.41453377,\n",
       "        -0.7753433 ],\n",
       "       [ 1.41951257,  0.89972272,  0.89154914, -5.19933758,  0.53953225,\n",
       "        -0.7753433 ],\n",
       "       [-0.03284383,  1.4713607 ,  1.27084282, -5.19933758,  1.55746749,\n",
       "        -0.7753433 ],\n",
       "       ...,\n",
       "       [ 1.04931748,  0.54375738, -0.5206364 , -5.19933758,  0.21696102,\n",
       "         2.44324032],\n",
       "       [-1.41453377, -0.71277898, -0.37531854, -5.19933758,  0.83333126,\n",
       "         0.27147438],\n",
       "       [-1.20415457, -1.32593352,  0.43272982, -5.19933758,  0.14462459,\n",
       "        -0.7753433 ]])"
      ]
     },
     "execution_count": 136,
     "metadata": {},
     "output_type": "execute_result"
    }
   ],
   "source": [
    "# QuantileTransformer (정규분포): -5~5 사이\n",
    "QT2 = QuantileTransformer(output_distribution='normal', n_quantiles=688) #분위수의 기본값은 1000\n",
    "#UserWarning: n_quantiles (1000) is greater than the total number of samples (688). n_quantiles is set to n_samples.\n",
    "\n",
    "X_train_QT2 = QT2.fit_transform(X_train)\n",
    "X_train_QT2 "
   ]
  },
  {
   "cell_type": "code",
   "execution_count": null,
   "metadata": {
    "id": "absolute-engineering",
    "outputId": "b2f6c83d-22f3-4ccd-e088-5653653d34d7"
   },
   "outputs": [
    {
     "data": {
      "image/png": "[encoded data removed]",
      "text/plain": [
       "<Figure size 432x288 with 6 Axes>"
      ]
     },
     "metadata": {
      "needs_background": "light"
     },
     "output_type": "display_data"
    }
   ],
   "source": [
    "DataFrame(X_train_QT2, columns=X_train.columns).hist()\n",
    "plt.subplots_adjust(hspace=1)\n",
    "plt.show()"
   ]
  },
  {
   "cell_type": "markdown",
   "metadata": {
    "id": "identical-burton"
   },
   "source": [
    "### 정규화 (Normalizer)\n",
    "- Normalizing, Regularization: 머신러닝에서 overfitting을 방지하는 중요한 기법 중 하나. 모델을 구성하는 coefficient들이 학습 데이터에 overfitting되지 않도록 정규화 요소를 더해주는 것임\n",
    "- Norm 계산의 결과로 나오는 수치는 원점에서 벡터 좌표까지의 거리며 이를 magnitude라고 부름. L1, L2 정규화는 이같은 L1, L2 norm을 사용한 값들을 더해주는 것임. 따라서 overfitting이 심하게 발생 할 수 있는 가능성이 큰 수치에 penalty를 부여함. L2는 각 vector에 대해 unique한 값이 출력되는 반면 L1은 경우에 따라 특정 feature없이도 같은 값을 낼 수 있음. 이에 따라 L1 norm은 feature selection에 사용 가능하며 특정 feature들을 0으로 처리해버리는 것이 가능하여 해당 coefficient들이 sparse한 형태를 가질 수 있게 됨. \n",
    "- ||x||1 = L1 norm: 벡터 간의 거리를 절대값으로 구함 -> 맨해튼 거리\n",
    "- ||x||2 = L2 norm: 벡터 간의 거리 -> 유클리드 거리\n",
    "- L1 loss: 타겟값과 예측값의 차를 절대값으로 구한 것\n",
    "- L2 loss: 타겟값과 예측값의 차의 제곱\n",
    "- 선형 회귀 모델에서 L1 규제를 주는 것이 lasso regression(릿지회귀와 동일하지만 𝐿1 norm을 제약한다는 점이 다름), 선형 회귀 모델에서 L2 규제를 주는 것이 Ridge regression(평균제곱오차를 최소화하면서 회귀계수 벡터 β의 𝐿2 norm을 제한하는 기법)\n",
    "- 미래 데이터에 대한 오차의 기대값은 Bias와 Variance로 분해할 수 있는데 정규화는 variance를 감소시켜 일반화 성능을 높이는 기법임. 이 과정에서 bias가 증가할 수는 있음."
   ]
  },
  {
   "cell_type": "markdown",
   "metadata": {
    "id": "incoming-obligation"
   },
   "source": [
    "### sklearn.preprocessing.normalize()\n",
    "- 일반적으로 2차원 행렬과 함께 사용되며 L1, L2 정규화 옵션 제공\n",
    "- norm 매개변수는 L1, L2, Max 세가지 옵션을 제공하며 유클리디안 거리를 의미하는 L2가 기본 값임. StandardScaler, MinMaxScaler, RobustScaler는 열의 통계치를 이용하지만, Normalizer는 행마다 각기 정규화됨"
   ]
  },
  {
   "cell_type": "code",
   "execution_count": null,
   "metadata": {
    "id": "musical-namibia",
    "outputId": "f89b3fbb-dd83-4208-8a22-e506336e10ed"
   },
   "outputs": [
    {
     "data": {
      "text/plain": [
       "array([[0.        ],\n",
       "       [0.01293584],\n",
       "       [0.03880753],\n",
       "       [0.07761505],\n",
       "       [0.10348674],\n",
       "       [0.11642258],\n",
       "       [0.14229426],\n",
       "       [0.19403763],\n",
       "       [0.245781  ],\n",
       "       [0.25871684],\n",
       "       [0.03880753],\n",
       "       [0.06467921],\n",
       "       [0.77615053],\n",
       "       [0.38807526],\n",
       "       [0.15523011]])"
      ]
     },
     "execution_count": 616,
     "metadata": {},
     "output_type": "execute_result"
    }
   ],
   "source": [
    "from sklearn.preprocessing import normalize\n",
    "sk_normalized = normalize(sdf, axis=0, norm='l2')\n",
    "#axis=0: normalize each feature, 1: normalize each sample independently\n",
    "#norm= l1, l2, max\n",
    "normalize(DataFrame(vector), axis=0)"
   ]
  },
  {
   "cell_type": "markdown",
   "metadata": {
    "id": "electoral-knock"
   },
   "source": [
    "### 구간분할 (binning) = 이산화\n",
    "- 수치형 변수를 구간별로 나누어 범주형 변수로 변환하는 방법.\n",
    "- 구간분할을 하면 순서가 있는 범주형 변수가 되므로 순서를 그대로 수치화할 수도 있고 범주형 변수로서 원-핫 인코딩 등을 적용할 수도 있음. 구간의 범주마다 다른 변숫값을 집계할 수 있는 범주형 변수로 사용할 수 있음.\n",
    "- 같은 간격으로 분할하는 방법, 분위점을 이용하여 분할하는 방법, 구간 구분을 지정하여 분할하는 방법 등"
   ]
  },
  {
   "cell_type": "code",
   "execution_count": null,
   "metadata": {
    "id": "fantastic-proportion",
    "outputId": "a9d7f2d9-9bee-4b2c-9a2f-a0b613b8875e"
   },
   "outputs": [
    {
     "data": {
      "text/plain": [
       "(47.2, 56.8]      234\n",
       "(56.8, 66.4]      227\n",
       "(37.6, 47.2]      144\n",
       "(66.4, 76.0]       49\n",
       "(27.952, 37.6]     34\n",
       "Name: Age, dtype: int64"
      ]
     },
     "execution_count": 283,
     "metadata": {},
     "output_type": "execute_result"
    }
   ],
   "source": [
    "from pandas import cut\n",
    "#bin수 지정\n",
    "binned = cut(X_train['Age'], 5)\n",
    "binned.value_counts()"
   ]
  },
  {
   "cell_type": "code",
   "execution_count": null,
   "metadata": {
    "id": "alert-assignment",
    "outputId": "8846d16a-bc17-4723-9987-5feaa46f450b"
   },
   "outputs": [
    {
     "data": {
      "text/plain": [
       "(39.0, 59.0]    437\n",
       "(59.0, inf]     190\n",
       "(19.0, 39.0]     61\n",
       "(0.0, 19.0]       0\n",
       "Name: Age, dtype: int64"
      ]
     },
     "execution_count": 286,
     "metadata": {},
     "output_type": "execute_result"
    }
   ],
   "source": [
    "#bin의 범위를 지정\n",
    "bin_edges = [0, 19, 39, 59, float('inf')]\n",
    "#0초과~19이하, 19초과~39이하, 39초과 59이하, 59 초과 \n",
    "binned2 = cut(X_train['Age'], bin_edges)\n",
    "binned2.value_counts()"
   ]
  },
  {
   "cell_type": "code",
   "execution_count": null,
   "metadata": {
    "id": "working-bearing",
    "outputId": "9501c382-561f-47a9-fafb-24595b898720"
   },
   "outputs": [
    {
     "data": {
      "text/plain": [
       "41     (39.0, 59.0]\n",
       "891     (59.0, inf]\n",
       "265    (39.0, 59.0]\n",
       "177    (39.0, 59.0]\n",
       "241    (39.0, 59.0]\n",
       "185    (39.0, 59.0]\n",
       "368    (39.0, 59.0]\n",
       "519     (59.0, inf]\n",
       "623     (59.0, inf]\n",
       "428     (59.0, inf]\n",
       "Name: Age, dtype: category\n",
       "Categories (4, interval[float64]): [(0.0, 19.0] < (19.0, 39.0] < (39.0, 59.0] < (59.0, inf]]"
      ]
     },
     "execution_count": 301,
     "metadata": {},
     "output_type": "execute_result"
    }
   ],
   "source": [
    "binned2.head(10)"
   ]
  },
  {
   "cell_type": "markdown",
   "metadata": {
    "id": "registered-pennsylvania"
   },
   "source": [
    "### KBinsDiscretizer\n",
    "- transform 메서드로 각 데이터 포인트를 해당되는 구간으로 인코딩 할 수 있음. \n",
    "- 구간에 원핫인코딩을 적용함. 구간마다 하나의 새로운 특성이 생기므로 희소 행렬을 만듦."
   ]
  },
  {
   "cell_type": "code",
   "execution_count": null,
   "metadata": {
    "id": "hydraulic-prior",
    "outputId": "ffa97207-8755-43f1-92c5-47a09d78ed8b",
    "tags": []
   },
   "outputs": [
    {
     "name": "stdout",
     "output_type": "stream",
     "text": [
      "[array([28. , 37.6, 47.2, 56.8, 66.4, 76. ])]\n"
     ]
    }
   ],
   "source": [
    "from sklearn.preprocessing import KBinsDiscretizer\n",
    "kb=KBinsDiscretizer(n_bins=5, strategy='uniform')\n",
    "kb.fit(np.array(X_train['Age']).reshape(-1,1))\n",
    "print(kb.bin_edges_)"
   ]
  },
  {
   "cell_type": "code",
   "execution_count": null,
   "metadata": {
    "id": "partial-brunswick",
    "outputId": "4db254ac-6022-44f8-f127-37a3e5b28cae"
   },
   "outputs": [
    {
     "data": {
      "text/plain": [
       "41     54\n",
       "891    66\n",
       "265    54\n",
       "Name: Age, dtype: int64"
      ]
     },
     "execution_count": 367,
     "metadata": {},
     "output_type": "execute_result"
    }
   ],
   "source": [
    "X_train['Age'].head(3)"
   ]
  },
  {
   "cell_type": "code",
   "execution_count": null,
   "metadata": {
    "id": "danish-airplane",
    "outputId": "5fc3d95e-7120-4d7c-eb71-bd44367801ff"
   },
   "outputs": [
    {
     "data": {
      "text/plain": [
       "array([[0., 0., 1., 0., 0.],\n",
       "       [0., 0., 0., 1., 0.],\n",
       "       [0., 0., 1., 0., 0.],\n",
       "       ...,\n",
       "       [0., 0., 0., 1., 0.],\n",
       "       [0., 1., 0., 0., 0.],\n",
       "       [0., 1., 0., 0., 0.]])"
      ]
     },
     "execution_count": 366,
     "metadata": {},
     "output_type": "execute_result"
    }
   ],
   "source": [
    "kbinned = kb.transform(np.array(X_train['Age']).reshape(-1,1))\n",
    "kbinned.toarray()"
   ]
  },
  {
   "cell_type": "markdown",
   "metadata": {
    "id": "executive-moderator"
   },
   "source": [
    "### 순위로 변환\n",
    "- 수치형 변수를 대소 관계에 따른 순위로 변환하는 방법. 단순히 술위로 바꾸는 것 외에, 순위를 행 데이터의 수로 나누면 0부터 1의 범위에 들어가고, 값의 범위가 행 데이터의 수에 의존하지 않으므로 다루기 쉬움, 수치의 크기나 간격 정보를 버리고 대소 관계만을 얻어내는 방법."
   ]
  },
  {
   "cell_type": "code",
   "execution_count": null,
   "metadata": {
    "id": "differential-stroke",
    "outputId": "be548fd9-4449-4470-86ed-9f31601997fa"
   },
   "outputs": [
    {
     "data": {
      "text/plain": [
       "0    2.0\n",
       "1    3.0\n",
       "2    4.0\n",
       "3    1.0\n",
       "4    5.5\n",
       "5    5.5\n",
       "dtype: float64"
      ]
     },
     "execution_count": 305,
     "metadata": {},
     "output_type": "execute_result"
    }
   ],
   "source": [
    "x = [10, 20, 30, 0, 40, 40]\n",
    "import pandas as pd\n",
    "pd.Series(x).rank() # 랭크 시작은 1, 같은 순위가 있을 경우 평균 순위가 됨 (5+6의 평균)"
   ]
  },
  {
   "cell_type": "markdown",
   "metadata": {
    "id": "twelve-merchandise"
   },
   "source": [
    "> ## 범주형 변수 변환: \n",
    "- 범주형 특성(categorical feature), 이산형 특성(discrete feature). \n",
    "- 특성 공학 (feature engineering): 특정 애프리케이션에 가장 적합한 데이터 표현을 찾는 것. 올바른 데이터 표현은 지도 학습 모델에서 적절한 매개변수를 선택하는 것보다 성능에 더 큰 영향을 미침\n",
    "- GBDT와 같이 결정트리에 기반을 두는 모델에서는 레이블 인코딩으로 범주형 변수를 변환하는 게 가장 편리하지만, 타겟 인코딩이 더 효과적일 때도 많음. 다만 타겟 인코딩을 데이터 정보 누출의 위험이 있음. 원핫인코딩이 가장 전통적인 방식이고, 신경망의 경우에는 임베딩 계층을 변수별로 구성하는게 조금 번거롭지만 유효함\n",
    "> ### 원핫인코딩 & 더미코딩, 이펙트코딩, 숫자로 표현된 범주형 특성, 레이블인코딩, 특징해싱"
   ]
  },
  {
   "cell_type": "markdown",
   "metadata": {
    "id": "administrative-guest"
   },
   "source": [
    "### 원핫인코딩 One-hot-encoding & 더미코딩 dummy coding\n",
    "- 원핫인코딩: one-out-of-N encoding, 가변수(dummy variable)라고도 함.\n",
    "- 범주형 변수를 0 또는 1 값을 가진 하나 이상의 새로운 특성으로 바꾼 것. 0과 1로 표현된 변수는 선형 이진 분류 공식에 적용할 수 있어서 개수에 상관없이 범주마다 하나의 특성으로 표현함.\n",
    "- 원핫인코딩은 통계학의 dummy coding과 비슷하지만 완전히 같지는 않음. 간편하게 하려고 각 범주를 각기 다른 이진 특성으로 바꾸었음. 분석의 편리성 때문임. (데이터 행렬의 랭크 부족현상을 피하기 위해서임) \n",
    "- 더미코딩: get_dummies에서 파라미터 drop_first=True를 설정함.\n",
    "- 훈련데이터와 테스트 데이터를 모두 포함하는 df를 사용해 get_dummies함수를 호출하든지, 또는 각각 get_dummies를 호출한 후에 훈련 세트와 테스트 세트의 열 이름을 비교해서 같은 속성인지를 확인해야 함\n",
    "- 특징의 개수가 범주형 변수의 레벨 개수에 따라 증가하기 때문에 정보가 적은 특징이 대량 생성돼서 학습에 필요한 계산 시간이나 메모리가 급증함\n",
    "- 범주형 변수의 레벨이 너무 많을 때는 다른 인코딩 방법을 검토하거나, 범주형 변수의 레벨 개수를 줄이거나, 빈도가 낮은 범주를 기타 범주로 모아 정리하는 방법을 씀\n",
    "- 범주형 변수의 레벨이 n개일 때 가변수를 해당 레벨 개수만큼 만들어버리면 다중공선성이 생기므로, 이를 방지하려면 n-1개의 가변수를 만드는 방법을 쓸 수 있음 (더미코딩)\n",
    "- 구현이 쉽고, 가장 정확하며 온라인 학습이 가능한 반면, 계산 측면에서 비효율적이고 범주 수가 증가하는 경우에 적합하지 않고, 선형 모델 외에는 적합하지 않고, 대규모 데이터셋일 경우 대규모 분산 최적화가 필요함"
   ]
  },
  {
   "cell_type": "code",
   "execution_count": null,
   "metadata": {
    "id": "enhanced-transsexual",
    "outputId": "c0db7b6a-5d78-45c4-af9d-9ad00e02f20e"
   },
   "outputs": [
    {
     "name": "stdout",
     "output_type": "stream",
     "text": [
      "['Age', 'Sex', 'ChestPainType', 'RestingBP', 'Cholesterol', 'FastingBS', 'RestingECG', 'MaxHR', 'ExerciseAngina', 'Oldpeak', 'ST_Slope', 'HeartDisease'] (918, 12)\n",
      "['Age', 'RestingBP', 'Cholesterol', 'FastingBS', 'MaxHR', 'Oldpeak', 'HeartDisease', 'Sex_F', 'Sex_M', 'ChestPainType_ASY', 'ChestPainType_ATA', 'ChestPainType_NAP', 'ChestPainType_TA', 'RestingECG_LVH', 'RestingECG_Normal', 'RestingECG_ST', 'ExerciseAngina_N', 'ExerciseAngina_Y', 'ST_Slope_Down', 'ST_Slope_Flat', 'ST_Slope_Up'] (918, 21)\n"
     ]
    }
   ],
   "source": [
    "dummies= pd.get_dummies(df2)\n",
    "print(list(df2.columns), df2.shape)\n",
    "print(list(dummies.columns), dummies.shape) #각 범주형 특성의 값마다 새로운 특성이 됨"
   ]
  },
  {
   "cell_type": "code",
   "execution_count": null,
   "metadata": {
    "id": "diagnostic-probability",
    "outputId": "abd12dcb-511b-4794-8bc7-359de2cfdc51"
   },
   "outputs": [
    {
     "data": {
      "text/plain": [
       "array([[ 40., 140., 289., ...,   0.,   0.,   1.],\n",
       "       [ 49., 160., 180., ...,   0.,   1.,   0.],\n",
       "       [ 37., 130., 283., ...,   0.,   0.,   1.],\n",
       "       ...,\n",
       "       [ 57., 130., 131., ...,   0.,   1.,   0.],\n",
       "       [ 57., 130., 236., ...,   0.,   1.,   0.],\n",
       "       [ 38., 138., 175., ...,   0.,   0.,   1.]])"
      ]
     },
     "execution_count": 317,
     "metadata": {},
     "output_type": "execute_result"
    }
   ],
   "source": [
    "dummies.values"
   ]
  },
  {
   "cell_type": "code",
   "execution_count": null,
   "metadata": {
    "id": "downtown-england",
    "outputId": "c07eb0fc-00fb-4863-c8fe-dbdb27b63682"
   },
   "outputs": [
    {
     "data": {
      "text/html": [
       "<div>\n",
       "<style scoped>\n",
       "    .dataframe tbody tr th:only-of-type {\n",
       "        vertical-align: middle;\n",
       "    }\n",
       "\n",
       "    .dataframe tbody tr th {\n",
       "        vertical-align: top;\n",
       "    }\n",
       "\n",
       "    .dataframe thead th {\n",
       "        text-align: right;\n",
       "    }\n",
       "</style>\n",
       "<table border=\"1\" class=\"dataframe\">\n",
       "  <thead>\n",
       "    <tr style=\"text-align: right;\">\n",
       "      <th></th>\n",
       "      <th>Sex_F</th>\n",
       "      <th>Sex_M</th>\n",
       "      <th>ChestPainType_ASY</th>\n",
       "      <th>ChestPainType_ATA</th>\n",
       "      <th>ChestPainType_NAP</th>\n",
       "      <th>ChestPainType_TA</th>\n",
       "      <th>RestingECG_LVH</th>\n",
       "      <th>RestingECG_Normal</th>\n",
       "      <th>RestingECG_ST</th>\n",
       "      <th>ExerciseAngina_N</th>\n",
       "      <th>ExerciseAngina_Y</th>\n",
       "      <th>ST_Slope_Down</th>\n",
       "      <th>ST_Slope_Flat</th>\n",
       "      <th>ST_Slope_Up</th>\n",
       "    </tr>\n",
       "  </thead>\n",
       "  <tbody>\n",
       "    <tr>\n",
       "      <th>0</th>\n",
       "      <td>0</td>\n",
       "      <td>1</td>\n",
       "      <td>0</td>\n",
       "      <td>1</td>\n",
       "      <td>0</td>\n",
       "      <td>0</td>\n",
       "      <td>0</td>\n",
       "      <td>1</td>\n",
       "      <td>0</td>\n",
       "      <td>1</td>\n",
       "      <td>0</td>\n",
       "      <td>0</td>\n",
       "      <td>0</td>\n",
       "      <td>1</td>\n",
       "    </tr>\n",
       "    <tr>\n",
       "      <th>1</th>\n",
       "      <td>1</td>\n",
       "      <td>0</td>\n",
       "      <td>0</td>\n",
       "      <td>0</td>\n",
       "      <td>1</td>\n",
       "      <td>0</td>\n",
       "      <td>0</td>\n",
       "      <td>1</td>\n",
       "      <td>0</td>\n",
       "      <td>1</td>\n",
       "      <td>0</td>\n",
       "      <td>0</td>\n",
       "      <td>1</td>\n",
       "      <td>0</td>\n",
       "    </tr>\n",
       "    <tr>\n",
       "      <th>2</th>\n",
       "      <td>0</td>\n",
       "      <td>1</td>\n",
       "      <td>0</td>\n",
       "      <td>1</td>\n",
       "      <td>0</td>\n",
       "      <td>0</td>\n",
       "      <td>0</td>\n",
       "      <td>0</td>\n",
       "      <td>1</td>\n",
       "      <td>1</td>\n",
       "      <td>0</td>\n",
       "      <td>0</td>\n",
       "      <td>0</td>\n",
       "      <td>1</td>\n",
       "    </tr>\n",
       "    <tr>\n",
       "      <th>3</th>\n",
       "      <td>1</td>\n",
       "      <td>0</td>\n",
       "      <td>1</td>\n",
       "      <td>0</td>\n",
       "      <td>0</td>\n",
       "      <td>0</td>\n",
       "      <td>0</td>\n",
       "      <td>1</td>\n",
       "      <td>0</td>\n",
       "      <td>0</td>\n",
       "      <td>1</td>\n",
       "      <td>0</td>\n",
       "      <td>1</td>\n",
       "      <td>0</td>\n",
       "    </tr>\n",
       "    <tr>\n",
       "      <th>4</th>\n",
       "      <td>0</td>\n",
       "      <td>1</td>\n",
       "      <td>0</td>\n",
       "      <td>0</td>\n",
       "      <td>1</td>\n",
       "      <td>0</td>\n",
       "      <td>0</td>\n",
       "      <td>1</td>\n",
       "      <td>0</td>\n",
       "      <td>1</td>\n",
       "      <td>0</td>\n",
       "      <td>0</td>\n",
       "      <td>0</td>\n",
       "      <td>1</td>\n",
       "    </tr>\n",
       "    <tr>\n",
       "      <th>...</th>\n",
       "      <td>...</td>\n",
       "      <td>...</td>\n",
       "      <td>...</td>\n",
       "      <td>...</td>\n",
       "      <td>...</td>\n",
       "      <td>...</td>\n",
       "      <td>...</td>\n",
       "      <td>...</td>\n",
       "      <td>...</td>\n",
       "      <td>...</td>\n",
       "      <td>...</td>\n",
       "      <td>...</td>\n",
       "      <td>...</td>\n",
       "      <td>...</td>\n",
       "    </tr>\n",
       "    <tr>\n",
       "      <th>913</th>\n",
       "      <td>0</td>\n",
       "      <td>1</td>\n",
       "      <td>0</td>\n",
       "      <td>0</td>\n",
       "      <td>0</td>\n",
       "      <td>1</td>\n",
       "      <td>0</td>\n",
       "      <td>1</td>\n",
       "      <td>0</td>\n",
       "      <td>1</td>\n",
       "      <td>0</td>\n",
       "      <td>0</td>\n",
       "      <td>1</td>\n",
       "      <td>0</td>\n",
       "    </tr>\n",
       "    <tr>\n",
       "      <th>914</th>\n",
       "      <td>0</td>\n",
       "      <td>1</td>\n",
       "      <td>1</td>\n",
       "      <td>0</td>\n",
       "      <td>0</td>\n",
       "      <td>0</td>\n",
       "      <td>0</td>\n",
       "      <td>1</td>\n",
       "      <td>0</td>\n",
       "      <td>1</td>\n",
       "      <td>0</td>\n",
       "      <td>0</td>\n",
       "      <td>1</td>\n",
       "      <td>0</td>\n",
       "    </tr>\n",
       "    <tr>\n",
       "      <th>915</th>\n",
       "      <td>0</td>\n",
       "      <td>1</td>\n",
       "      <td>1</td>\n",
       "      <td>0</td>\n",
       "      <td>0</td>\n",
       "      <td>0</td>\n",
       "      <td>0</td>\n",
       "      <td>1</td>\n",
       "      <td>0</td>\n",
       "      <td>0</td>\n",
       "      <td>1</td>\n",
       "      <td>0</td>\n",
       "      <td>1</td>\n",
       "      <td>0</td>\n",
       "    </tr>\n",
       "    <tr>\n",
       "      <th>916</th>\n",
       "      <td>1</td>\n",
       "      <td>0</td>\n",
       "      <td>0</td>\n",
       "      <td>1</td>\n",
       "      <td>0</td>\n",
       "      <td>0</td>\n",
       "      <td>1</td>\n",
       "      <td>0</td>\n",
       "      <td>0</td>\n",
       "      <td>1</td>\n",
       "      <td>0</td>\n",
       "      <td>0</td>\n",
       "      <td>1</td>\n",
       "      <td>0</td>\n",
       "    </tr>\n",
       "    <tr>\n",
       "      <th>917</th>\n",
       "      <td>0</td>\n",
       "      <td>1</td>\n",
       "      <td>0</td>\n",
       "      <td>0</td>\n",
       "      <td>1</td>\n",
       "      <td>0</td>\n",
       "      <td>0</td>\n",
       "      <td>1</td>\n",
       "      <td>0</td>\n",
       "      <td>1</td>\n",
       "      <td>0</td>\n",
       "      <td>0</td>\n",
       "      <td>0</td>\n",
       "      <td>1</td>\n",
       "    </tr>\n",
       "  </tbody>\n",
       "</table>\n",
       "<p>918 rows × 14 columns</p>\n",
       "</div>"
      ],
      "text/plain": [
       "     Sex_F  Sex_M  ChestPainType_ASY  ChestPainType_ATA  ChestPainType_NAP  \\\n",
       "0        0      1                  0                  1                  0   \n",
       "1        1      0                  0                  0                  1   \n",
       "2        0      1                  0                  1                  0   \n",
       "3        1      0                  1                  0                  0   \n",
       "4        0      1                  0                  0                  1   \n",
       "..     ...    ...                ...                ...                ...   \n",
       "913      0      1                  0                  0                  0   \n",
       "914      0      1                  1                  0                  0   \n",
       "915      0      1                  1                  0                  0   \n",
       "916      1      0                  0                  1                  0   \n",
       "917      0      1                  0                  0                  1   \n",
       "\n",
       "     ChestPainType_TA  RestingECG_LVH  RestingECG_Normal  RestingECG_ST  \\\n",
       "0                   0               0                  1              0   \n",
       "1                   0               0                  1              0   \n",
       "2                   0               0                  0              1   \n",
       "3                   0               0                  1              0   \n",
       "4                   0               0                  1              0   \n",
       "..                ...             ...                ...            ...   \n",
       "913                 1               0                  1              0   \n",
       "914                 0               0                  1              0   \n",
       "915                 0               0                  1              0   \n",
       "916                 0               1                  0              0   \n",
       "917                 0               0                  1              0   \n",
       "\n",
       "     ExerciseAngina_N  ExerciseAngina_Y  ST_Slope_Down  ST_Slope_Flat  \\\n",
       "0                   1                 0              0              0   \n",
       "1                   1                 0              0              1   \n",
       "2                   1                 0              0              0   \n",
       "3                   0                 1              0              1   \n",
       "4                   1                 0              0              0   \n",
       "..                ...               ...            ...            ...   \n",
       "913                 1                 0              0              1   \n",
       "914                 1                 0              0              1   \n",
       "915                 0                 1              0              1   \n",
       "916                 1                 0              0              1   \n",
       "917                 1                 0              0              0   \n",
       "\n",
       "     ST_Slope_Up  \n",
       "0              1  \n",
       "1              0  \n",
       "2              1  \n",
       "3              0  \n",
       "4              1  \n",
       "..           ...  \n",
       "913            0  \n",
       "914            0  \n",
       "915            0  \n",
       "916            0  \n",
       "917            1  \n",
       "\n",
       "[918 rows x 14 columns]"
      ]
     },
     "execution_count": 405,
     "metadata": {},
     "output_type": "execute_result"
    }
   ],
   "source": [
    "pd.get_dummies(cdf)"
   ]
  },
  {
   "cell_type": "code",
   "execution_count": null,
   "metadata": {
    "id": "heavy-announcement",
    "outputId": "f1fdd89a-0885-48c5-8fbc-43a80e508a3d"
   },
   "outputs": [
    {
     "data": {
      "text/html": [
       "<div>\n",
       "<style scoped>\n",
       "    .dataframe tbody tr th:only-of-type {\n",
       "        vertical-align: middle;\n",
       "    }\n",
       "\n",
       "    .dataframe tbody tr th {\n",
       "        vertical-align: top;\n",
       "    }\n",
       "\n",
       "    .dataframe thead th {\n",
       "        text-align: right;\n",
       "    }\n",
       "</style>\n",
       "<table border=\"1\" class=\"dataframe\">\n",
       "  <thead>\n",
       "    <tr style=\"text-align: right;\">\n",
       "      <th></th>\n",
       "      <th>Sex_M</th>\n",
       "      <th>ChestPainType_ATA</th>\n",
       "      <th>ChestPainType_NAP</th>\n",
       "      <th>ChestPainType_TA</th>\n",
       "      <th>RestingECG_Normal</th>\n",
       "      <th>RestingECG_ST</th>\n",
       "      <th>ExerciseAngina_Y</th>\n",
       "      <th>ST_Slope_Flat</th>\n",
       "      <th>ST_Slope_Up</th>\n",
       "    </tr>\n",
       "  </thead>\n",
       "  <tbody>\n",
       "    <tr>\n",
       "      <th>0</th>\n",
       "      <td>1</td>\n",
       "      <td>1</td>\n",
       "      <td>0</td>\n",
       "      <td>0</td>\n",
       "      <td>1</td>\n",
       "      <td>0</td>\n",
       "      <td>0</td>\n",
       "      <td>0</td>\n",
       "      <td>1</td>\n",
       "    </tr>\n",
       "    <tr>\n",
       "      <th>1</th>\n",
       "      <td>0</td>\n",
       "      <td>0</td>\n",
       "      <td>1</td>\n",
       "      <td>0</td>\n",
       "      <td>1</td>\n",
       "      <td>0</td>\n",
       "      <td>0</td>\n",
       "      <td>1</td>\n",
       "      <td>0</td>\n",
       "    </tr>\n",
       "    <tr>\n",
       "      <th>2</th>\n",
       "      <td>1</td>\n",
       "      <td>1</td>\n",
       "      <td>0</td>\n",
       "      <td>0</td>\n",
       "      <td>0</td>\n",
       "      <td>1</td>\n",
       "      <td>0</td>\n",
       "      <td>0</td>\n",
       "      <td>1</td>\n",
       "    </tr>\n",
       "    <tr>\n",
       "      <th>3</th>\n",
       "      <td>0</td>\n",
       "      <td>0</td>\n",
       "      <td>0</td>\n",
       "      <td>0</td>\n",
       "      <td>1</td>\n",
       "      <td>0</td>\n",
       "      <td>1</td>\n",
       "      <td>1</td>\n",
       "      <td>0</td>\n",
       "    </tr>\n",
       "    <tr>\n",
       "      <th>4</th>\n",
       "      <td>1</td>\n",
       "      <td>0</td>\n",
       "      <td>1</td>\n",
       "      <td>0</td>\n",
       "      <td>1</td>\n",
       "      <td>0</td>\n",
       "      <td>0</td>\n",
       "      <td>0</td>\n",
       "      <td>1</td>\n",
       "    </tr>\n",
       "    <tr>\n",
       "      <th>...</th>\n",
       "      <td>...</td>\n",
       "      <td>...</td>\n",
       "      <td>...</td>\n",
       "      <td>...</td>\n",
       "      <td>...</td>\n",
       "      <td>...</td>\n",
       "      <td>...</td>\n",
       "      <td>...</td>\n",
       "      <td>...</td>\n",
       "    </tr>\n",
       "    <tr>\n",
       "      <th>913</th>\n",
       "      <td>1</td>\n",
       "      <td>0</td>\n",
       "      <td>0</td>\n",
       "      <td>1</td>\n",
       "      <td>1</td>\n",
       "      <td>0</td>\n",
       "      <td>0</td>\n",
       "      <td>1</td>\n",
       "      <td>0</td>\n",
       "    </tr>\n",
       "    <tr>\n",
       "      <th>914</th>\n",
       "      <td>1</td>\n",
       "      <td>0</td>\n",
       "      <td>0</td>\n",
       "      <td>0</td>\n",
       "      <td>1</td>\n",
       "      <td>0</td>\n",
       "      <td>0</td>\n",
       "      <td>1</td>\n",
       "      <td>0</td>\n",
       "    </tr>\n",
       "    <tr>\n",
       "      <th>915</th>\n",
       "      <td>1</td>\n",
       "      <td>0</td>\n",
       "      <td>0</td>\n",
       "      <td>0</td>\n",
       "      <td>1</td>\n",
       "      <td>0</td>\n",
       "      <td>1</td>\n",
       "      <td>1</td>\n",
       "      <td>0</td>\n",
       "    </tr>\n",
       "    <tr>\n",
       "      <th>916</th>\n",
       "      <td>0</td>\n",
       "      <td>1</td>\n",
       "      <td>0</td>\n",
       "      <td>0</td>\n",
       "      <td>0</td>\n",
       "      <td>0</td>\n",
       "      <td>0</td>\n",
       "      <td>1</td>\n",
       "      <td>0</td>\n",
       "    </tr>\n",
       "    <tr>\n",
       "      <th>917</th>\n",
       "      <td>1</td>\n",
       "      <td>0</td>\n",
       "      <td>1</td>\n",
       "      <td>0</td>\n",
       "      <td>1</td>\n",
       "      <td>0</td>\n",
       "      <td>0</td>\n",
       "      <td>0</td>\n",
       "      <td>1</td>\n",
       "    </tr>\n",
       "  </tbody>\n",
       "</table>\n",
       "<p>918 rows × 9 columns</p>\n",
       "</div>"
      ],
      "text/plain": [
       "     Sex_M  ChestPainType_ATA  ChestPainType_NAP  ChestPainType_TA  \\\n",
       "0        1                  1                  0                 0   \n",
       "1        0                  0                  1                 0   \n",
       "2        1                  1                  0                 0   \n",
       "3        0                  0                  0                 0   \n",
       "4        1                  0                  1                 0   \n",
       "..     ...                ...                ...               ...   \n",
       "913      1                  0                  0                 1   \n",
       "914      1                  0                  0                 0   \n",
       "915      1                  0                  0                 0   \n",
       "916      0                  1                  0                 0   \n",
       "917      1                  0                  1                 0   \n",
       "\n",
       "     RestingECG_Normal  RestingECG_ST  ExerciseAngina_Y  ST_Slope_Flat  \\\n",
       "0                    1              0                 0              0   \n",
       "1                    1              0                 0              1   \n",
       "2                    0              1                 0              0   \n",
       "3                    1              0                 1              1   \n",
       "4                    1              0                 0              0   \n",
       "..                 ...            ...               ...            ...   \n",
       "913                  1              0                 0              1   \n",
       "914                  1              0                 0              1   \n",
       "915                  1              0                 1              1   \n",
       "916                  0              0                 0              1   \n",
       "917                  1              0                 0              0   \n",
       "\n",
       "     ST_Slope_Up  \n",
       "0              1  \n",
       "1              0  \n",
       "2              1  \n",
       "3              0  \n",
       "4              1  \n",
       "..           ...  \n",
       "913            0  \n",
       "914            0  \n",
       "915            0  \n",
       "916            0  \n",
       "917            1  \n",
       "\n",
       "[918 rows x 9 columns]"
      ]
     },
     "execution_count": 406,
     "metadata": {},
     "output_type": "execute_result"
    }
   ],
   "source": [
    "pd.get_dummies(cdf, drop_first=True)"
   ]
  },
  {
   "cell_type": "code",
   "execution_count": null,
   "metadata": {
    "id": "dedicated-forum",
    "outputId": "71701305-01de-43cd-f5d5-047e0066123a"
   },
   "outputs": [
    {
     "data": {
      "text/plain": [
       "array([[ 40., 140., 289., ...,   0.,   0.,   1.],\n",
       "       [ 49., 160., 180., ...,   0.,   1.,   0.],\n",
       "       [ 37., 130., 283., ...,   0.,   0.,   1.],\n",
       "       ...,\n",
       "       [ 57., 130., 131., ...,   1.,   1.,   0.],\n",
       "       [ 57., 130., 236., ...,   0.,   1.,   0.],\n",
       "       [ 38., 138., 175., ...,   0.,   0.,   1.]])"
      ]
     },
     "execution_count": 402,
     "metadata": {},
     "output_type": "execute_result"
    }
   ],
   "source": [
    "dummycoding.values"
   ]
  },
  {
   "cell_type": "markdown",
   "metadata": {
    "id": "tutorial-prague"
   },
   "source": [
    "- OneHotEncoder: 모든 특성을 범주형이라고 가정함. 모든 열에 인코딩을 수행함. 즉 문자열 특성과 정수 특성이 모두 변환됨.\n",
    "- ColumnTransformer: 범주형 변수에는 원핫 인코딩, 수치형 변수에는 스케일링 적용할 수 있음"
   ]
  },
  {
   "cell_type": "code",
   "execution_count": null,
   "metadata": {
    "collapsed": true,
    "id": "passive-observation",
    "jupyter": {
     "outputs_hidden": true
    },
    "outputId": "d4d1f89b-72de-4862-df5a-b45dd36949a2",
    "tags": []
   },
   "outputs": [
    {
     "name": "stdout",
     "output_type": "stream",
     "text": [
      "[[0. 0. 0. ... 1. 1. 0.]\n",
      " [0. 0. 0. ... 0. 0. 1.]\n",
      " [0. 0. 0. ... 1. 1. 0.]\n",
      " ...\n",
      " [0. 0. 0. ... 0. 0. 1.]\n",
      " [0. 0. 0. ... 0. 0. 1.]\n",
      " [0. 0. 0. ... 1. 1. 0.]]\n",
      "['x0_28' 'x0_29' 'x0_30' 'x0_31' 'x0_32' 'x0_33' 'x0_34' 'x0_35' 'x0_36'\n",
      " 'x0_37' 'x0_38' 'x0_39' 'x0_40' 'x0_41' 'x0_42' 'x0_43' 'x0_44' 'x0_45'\n",
      " 'x0_46' 'x0_47' 'x0_48' 'x0_49' 'x0_50' 'x0_51' 'x0_52' 'x0_53' 'x0_54'\n",
      " 'x0_55' 'x0_56' 'x0_57' 'x0_58' 'x0_59' 'x0_60' 'x0_61' 'x0_62' 'x0_63'\n",
      " 'x0_64' 'x0_65' 'x0_66' 'x0_67' 'x0_68' 'x0_69' 'x0_70' 'x0_71' 'x0_72'\n",
      " 'x0_73' 'x0_74' 'x0_75' 'x0_76' 'x0_77' 'x1_F' 'x1_M' 'x2_ASY' 'x2_ATA'\n",
      " 'x2_NAP' 'x2_TA' 'x3_0' 'x3_80' 'x3_92' 'x3_94' 'x3_95' 'x3_96' 'x3_98'\n",
      " 'x3_100' 'x3_101' 'x3_102' 'x3_104' 'x3_105' 'x3_106' 'x3_108' 'x3_110'\n",
      " 'x3_112' 'x3_113' 'x3_114' 'x3_115' 'x3_116' 'x3_117' 'x3_118' 'x3_120'\n",
      " 'x3_122' 'x3_123' 'x3_124' 'x3_125' 'x3_126' 'x3_127' 'x3_128' 'x3_129'\n",
      " 'x3_130' 'x3_131' 'x3_132' 'x3_133' 'x3_134' 'x3_135' 'x3_136' 'x3_137'\n",
      " 'x3_138' 'x3_139' 'x3_140' 'x3_141' 'x3_142' 'x3_143' 'x3_144' 'x3_145'\n",
      " 'x3_146' 'x3_148' 'x3_150' 'x3_152' 'x3_154' 'x3_155' 'x3_156' 'x3_158'\n",
      " 'x3_160' 'x3_164' 'x3_165' 'x3_170' 'x3_172' 'x3_174' 'x3_178' 'x3_180'\n",
      " 'x3_185' 'x3_190' 'x3_192' 'x3_200' 'x4_0' 'x4_85' 'x4_100' 'x4_110'\n",
      " 'x4_113' 'x4_117' 'x4_123' 'x4_126' 'x4_129' 'x4_131' 'x4_132' 'x4_139'\n",
      " 'x4_141' 'x4_142' 'x4_147' 'x4_149' 'x4_152' 'x4_153' 'x4_156' 'x4_157'\n",
      " 'x4_159' 'x4_160' 'x4_161' 'x4_163' 'x4_164' 'x4_165' 'x4_166' 'x4_167'\n",
      " 'x4_168' 'x4_169' 'x4_170' 'x4_171' 'x4_172' 'x4_173' 'x4_174' 'x4_175'\n",
      " 'x4_176' 'x4_177' 'x4_178' 'x4_179' 'x4_180' 'x4_181' 'x4_182' 'x4_183'\n",
      " 'x4_184' 'x4_185' 'x4_186' 'x4_187' 'x4_188' 'x4_190' 'x4_192' 'x4_193'\n",
      " 'x4_194' 'x4_195' 'x4_196' 'x4_197' 'x4_198' 'x4_199' 'x4_200' 'x4_201'\n",
      " 'x4_202' 'x4_203' 'x4_204' 'x4_205' 'x4_206' 'x4_207' 'x4_208' 'x4_209'\n",
      " 'x4_210' 'x4_211' 'x4_212' 'x4_213' 'x4_214' 'x4_215' 'x4_216' 'x4_217'\n",
      " 'x4_218' 'x4_219' 'x4_220' 'x4_221' 'x4_222' 'x4_223' 'x4_224' 'x4_225'\n",
      " 'x4_226' 'x4_227' 'x4_228' 'x4_229' 'x4_230' 'x4_231' 'x4_232' 'x4_233'\n",
      " 'x4_234' 'x4_235' 'x4_236' 'x4_237' 'x4_238' 'x4_239' 'x4_240' 'x4_241'\n",
      " 'x4_242' 'x4_243' 'x4_244' 'x4_245' 'x4_246' 'x4_247' 'x4_248' 'x4_249'\n",
      " 'x4_250' 'x4_251' 'x4_252' 'x4_253' 'x4_254' 'x4_255' 'x4_256' 'x4_257'\n",
      " 'x4_258' 'x4_259' 'x4_260' 'x4_261' 'x4_262' 'x4_263' 'x4_264' 'x4_265'\n",
      " 'x4_266' 'x4_267' 'x4_268' 'x4_269' 'x4_270' 'x4_271' 'x4_272' 'x4_273'\n",
      " 'x4_274' 'x4_275' 'x4_276' 'x4_277' 'x4_278' 'x4_279' 'x4_280' 'x4_281'\n",
      " 'x4_282' 'x4_283' 'x4_284' 'x4_285' 'x4_286' 'x4_287' 'x4_288' 'x4_289'\n",
      " 'x4_290' 'x4_291' 'x4_292' 'x4_293' 'x4_294' 'x4_295' 'x4_297' 'x4_298'\n",
      " 'x4_299' 'x4_300' 'x4_302' 'x4_303' 'x4_304' 'x4_305' 'x4_306' 'x4_307'\n",
      " 'x4_308' 'x4_309' 'x4_310' 'x4_311' 'x4_312' 'x4_313' 'x4_315' 'x4_316'\n",
      " 'x4_318' 'x4_319' 'x4_320' 'x4_321' 'x4_322' 'x4_325' 'x4_326' 'x4_327'\n",
      " 'x4_328' 'x4_329' 'x4_330' 'x4_331' 'x4_333' 'x4_335' 'x4_336' 'x4_337'\n",
      " 'x4_338' 'x4_339' 'x4_340' 'x4_341' 'x4_342' 'x4_344' 'x4_347' 'x4_349'\n",
      " 'x4_353' 'x4_354' 'x4_355' 'x4_358' 'x4_360' 'x4_365' 'x4_369' 'x4_384'\n",
      " 'x4_385' 'x4_388' 'x4_392' 'x4_393' 'x4_394' 'x4_404' 'x4_407' 'x4_409'\n",
      " 'x4_412' 'x4_417' 'x4_458' 'x4_466' 'x4_468' 'x4_491' 'x4_518' 'x4_529'\n",
      " 'x4_564' 'x4_603' 'x5_0' 'x5_1' 'x6_LVH' 'x6_Normal' 'x6_ST' 'x7_60'\n",
      " 'x7_63' 'x7_67' 'x7_69' 'x7_70' 'x7_71' 'x7_72' 'x7_73' 'x7_77' 'x7_78'\n",
      " 'x7_80' 'x7_82' 'x7_83' 'x7_84' 'x7_86' 'x7_87' 'x7_88' 'x7_90' 'x7_91'\n",
      " 'x7_92' 'x7_93' 'x7_94' 'x7_95' 'x7_96' 'x7_97' 'x7_98' 'x7_99' 'x7_100'\n",
      " 'x7_102' 'x7_103' 'x7_104' 'x7_105' 'x7_106' 'x7_107' 'x7_108' 'x7_109'\n",
      " 'x7_110' 'x7_111' 'x7_112' 'x7_113' 'x7_114' 'x7_115' 'x7_116' 'x7_117'\n",
      " 'x7_118' 'x7_119' 'x7_120' 'x7_121' 'x7_122' 'x7_123' 'x7_124' 'x7_125'\n",
      " 'x7_126' 'x7_127' 'x7_128' 'x7_129' 'x7_130' 'x7_131' 'x7_132' 'x7_133'\n",
      " 'x7_134' 'x7_135' 'x7_136' 'x7_137' 'x7_138' 'x7_139' 'x7_140' 'x7_141'\n",
      " 'x7_142' 'x7_143' 'x7_144' 'x7_145' 'x7_146' 'x7_147' 'x7_148' 'x7_149'\n",
      " 'x7_150' 'x7_151' 'x7_152' 'x7_153' 'x7_154' 'x7_155' 'x7_156' 'x7_157'\n",
      " 'x7_158' 'x7_159' 'x7_160' 'x7_161' 'x7_162' 'x7_163' 'x7_164' 'x7_165'\n",
      " 'x7_166' 'x7_167' 'x7_168' 'x7_169' 'x7_170' 'x7_171' 'x7_172' 'x7_173'\n",
      " 'x7_174' 'x7_175' 'x7_176' 'x7_177' 'x7_178' 'x7_179' 'x7_180' 'x7_181'\n",
      " 'x7_182' 'x7_184' 'x7_185' 'x7_186' 'x7_187' 'x7_188' 'x7_190' 'x7_192'\n",
      " 'x7_194' 'x7_195' 'x7_202' 'x8_N' 'x8_Y' 'x9_-2.6' 'x9_-2.0' 'x9_-1.5'\n",
      " 'x9_-1.1' 'x9_-1.0' 'x9_-0.9' 'x9_-0.8' 'x9_-0.7' 'x9_-0.5' 'x9_-0.1'\n",
      " 'x9_0.0' 'x9_0.1' 'x9_0.2' 'x9_0.3' 'x9_0.4' 'x9_0.5' 'x9_0.6' 'x9_0.7'\n",
      " 'x9_0.8' 'x9_0.9' 'x9_1.0' 'x9_1.1' 'x9_1.2' 'x9_1.3' 'x9_1.4' 'x9_1.5'\n",
      " 'x9_1.6' 'x9_1.7' 'x9_1.8' 'x9_1.9' 'x9_2.0' 'x9_2.1' 'x9_2.2' 'x9_2.3'\n",
      " 'x9_2.4' 'x9_2.5' 'x9_2.6' 'x9_2.8' 'x9_2.9' 'x9_3.0' 'x9_3.1' 'x9_3.2'\n",
      " 'x9_3.4' 'x9_3.5' 'x9_3.6' 'x9_3.7' 'x9_3.8' 'x9_4.0' 'x9_4.2' 'x9_4.4'\n",
      " 'x9_5.0' 'x9_5.6' 'x9_6.2' 'x10_Down' 'x10_Flat' 'x10_Up' 'x11_0' 'x11_1']\n"
     ]
    }
   ],
   "source": [
    "from sklearn.preprocessing import OneHotEncoder\n",
    "ohe = OneHotEncoder(sparse=False)\n",
    "print(ohe.fit_transform(ddf)) #수치형/범주형 열 전체에 인코딩\n",
    "print(ohe.get_feature_names())"
   ]
  },
  {
   "cell_type": "code",
   "execution_count": null,
   "metadata": {
    "id": "waiting-chess",
    "outputId": "c0189348-502e-445f-caa8-b85f55cfd378"
   },
   "outputs": [
    {
     "name": "stdout",
     "output_type": "stream",
     "text": [
      "(918, 22)\n"
     ]
    }
   ],
   "source": [
    "from sklearn.compose import ColumnTransformer\n",
    "from sklearn.preprocessing import StandardScaler\n",
    "ct = ColumnTransformer([\n",
    "    ('scaling', StandardScaler(), ['Age', 'RestingBP', 'Cholesterol', 'FastingBS', 'MaxHR', 'Oldpeak']),\n",
    "    ('onehot', OneHotEncoder(sparse=False), ['Sex', 'ChestPainType', 'RestingECG', 'ExerciseAngina', 'ST_Slope', 'HeartDisease'])\n",
    "        ])\n",
    "OC =ct.fit_transform(ddf)\n",
    "print(OC.shape)"
   ]
  },
  {
   "cell_type": "markdown",
   "metadata": {
    "id": "communist-caution"
   },
   "source": [
    "### 이펙트 코딩\n",
    "- 통계학에서 나온 범주형 변수에 대한 또 다른 변형. 더미코딩과 유사하지만 기준 범주가 모두 -1의 벡터로 표현된다는 것이 차이점임.\n",
    "- 선형 회귀 모델의 결과를 해석하기가 더 쉬움. 이펙트 코딩에서는 기준 범주를 나타내는 단일 피처가 없기 때문에 기준 범주의 효과는 다른 모든 범주의 계수의 음수 합계로서 별도로 계산해야 함.\n",
    "- 여러개의 범주형 변수를 모델에서 다룬다면 이펙트 코딩이든 더미 코딩이든 큰 차이가 없지만, 두 개의 범주형 변수가 상호작용이 있는 경우에는 이펙트 코딩이 더 이점을 가짐. 이펙트 코딩으로 합리적인 주효과와 상호작용의 추정치를 얻을 수 있음. 더미코딩의 경우, 상호작용 추정치는 괜찮지만 주효과는 진짜 주효과가 아니라 simple effect에 더 가까움."
   ]
  },
  {
   "cell_type": "markdown",
   "metadata": {
    "id": "sitting-moses"
   },
   "source": [
    "### 숫자로 표현된 범주형 특성\n",
    "- 데이터 취합 방식에 따라 범주형 변수인데 숫자로 인코딩된 경우가 많음. 문자열이 아닌 답안 순서대로 0~8까지의 숫자로 채워지는 경우를 예로 들 수 있음. 이 값은 이산적이므로 연속형 변수로 다루면 안됨.\n",
    "- 숫자특성도 가변수로 만들고 싶다면 get_dummies의 매개변수 columns에 인코딩하고 싶은 열을 명시해야 함. 혹은 해당 특성을 str 속성으로 변경해준 뒤 get_dummies 하면 됨. 그러면 두 특성을 모두 범주형으로 간주함"
   ]
  },
  {
   "cell_type": "code",
   "execution_count": null,
   "metadata": {
    "id": "medieval-vulnerability",
    "outputId": "3ffd516f-75b2-4ef2-99b9-271f04e40567"
   },
   "outputs": [
    {
     "name": "stdout",
     "output_type": "stream",
     "text": [
      "['Age', 'RestingBP', 'Cholesterol', 'FastingBS', 'MaxHR', 'Oldpeak', 'Sex_F', 'Sex_M', 'ChestPainType_ASY', 'ChestPainType_ATA', 'ChestPainType_NAP', 'ChestPainType_TA', 'RestingECG_LVH', 'RestingECG_Normal', 'RestingECG_ST', 'ExerciseAngina_N', 'ExerciseAngina_Y', 'ST_Slope_Down', 'ST_Slope_Flat', 'ST_Slope_Up', 'HeartDisease_0', 'HeartDisease_1'] (918, 22)\n"
     ]
    }
   ],
   "source": [
    "ddf = df2.copy()\n",
    "ddf['HeartDisease'] = ddf['HeartDisease'].astype(str)\n",
    "dummies2=pd.get_dummies(ddf)\n",
    "print(list(dummies2.columns), dummies2.shape) "
   ]
  },
  {
   "cell_type": "markdown",
   "metadata": {
    "id": "inside-bleeding"
   },
   "source": [
    "### 레이블 인코딩(=Ordinal encoding): 각 레벨을 단순히 정수로 변환. \n",
    "- 5개의 레벨이 있는 범주형 변수는 각 레벨이 0~4까지의 수치로 바뀜\n",
    "- 사전 순으로 나열했을 때의 인덱스 수치는 대부분 본질적인 의미가 없음. 따라서 결정 트리 모델에 기반을 둔 방법이 아닐 경우 레이블 인코딩으로 변환한 특징을 학습에 직접 이용하는 건 그다지 적절하지 않음. \n",
    "- 결정 트리에서는 범주형 변수의 특정 레벨만 목적변수에 영향을 줄 때도 분기를 반복함으로써 예측값에 반영할 수 있으므로 학습에 활용할 수 있음.\n",
    "- GBDT 모델에서 레이블 인코딩은 범주형 변수를 변환하는 기본적인 방법임"
   ]
  },
  {
   "cell_type": "code",
   "execution_count": null,
   "metadata": {
    "id": "grateful-spider"
   },
   "outputs": [],
   "source": [
    "from sklearn.preprocessing import LabelEncoder\n",
    "LEdf=cdf.copy()\n",
    "for col in cdf.columns:\n",
    "    le = LabelEncoder()\n",
    "    le.fit(cdf[col])\n",
    "    LEdf[col]=le.transform(cdf[col])"
   ]
  },
  {
   "cell_type": "code",
   "execution_count": null,
   "metadata": {
    "id": "destroyed-cleaner",
    "outputId": "abfbecfe-cfb5-4593-dba3-f436d724f764"
   },
   "outputs": [
    {
     "data": {
      "text/html": [
       "<div>\n",
       "<style scoped>\n",
       "    .dataframe tbody tr th:only-of-type {\n",
       "        vertical-align: middle;\n",
       "    }\n",
       "\n",
       "    .dataframe tbody tr th {\n",
       "        vertical-align: top;\n",
       "    }\n",
       "\n",
       "    .dataframe thead th {\n",
       "        text-align: right;\n",
       "    }\n",
       "</style>\n",
       "<table border=\"1\" class=\"dataframe\">\n",
       "  <thead>\n",
       "    <tr style=\"text-align: right;\">\n",
       "      <th></th>\n",
       "      <th>Sex</th>\n",
       "      <th>ChestPainType</th>\n",
       "      <th>RestingECG</th>\n",
       "      <th>ExerciseAngina</th>\n",
       "      <th>ST_Slope</th>\n",
       "    </tr>\n",
       "  </thead>\n",
       "  <tbody>\n",
       "    <tr>\n",
       "      <th>0</th>\n",
       "      <td>1</td>\n",
       "      <td>1</td>\n",
       "      <td>1</td>\n",
       "      <td>0</td>\n",
       "      <td>2</td>\n",
       "    </tr>\n",
       "    <tr>\n",
       "      <th>1</th>\n",
       "      <td>0</td>\n",
       "      <td>2</td>\n",
       "      <td>1</td>\n",
       "      <td>0</td>\n",
       "      <td>1</td>\n",
       "    </tr>\n",
       "    <tr>\n",
       "      <th>2</th>\n",
       "      <td>1</td>\n",
       "      <td>1</td>\n",
       "      <td>2</td>\n",
       "      <td>0</td>\n",
       "      <td>2</td>\n",
       "    </tr>\n",
       "    <tr>\n",
       "      <th>3</th>\n",
       "      <td>0</td>\n",
       "      <td>0</td>\n",
       "      <td>1</td>\n",
       "      <td>1</td>\n",
       "      <td>1</td>\n",
       "    </tr>\n",
       "    <tr>\n",
       "      <th>4</th>\n",
       "      <td>1</td>\n",
       "      <td>2</td>\n",
       "      <td>1</td>\n",
       "      <td>0</td>\n",
       "      <td>2</td>\n",
       "    </tr>\n",
       "    <tr>\n",
       "      <th>...</th>\n",
       "      <td>...</td>\n",
       "      <td>...</td>\n",
       "      <td>...</td>\n",
       "      <td>...</td>\n",
       "      <td>...</td>\n",
       "    </tr>\n",
       "    <tr>\n",
       "      <th>913</th>\n",
       "      <td>1</td>\n",
       "      <td>3</td>\n",
       "      <td>1</td>\n",
       "      <td>0</td>\n",
       "      <td>1</td>\n",
       "    </tr>\n",
       "    <tr>\n",
       "      <th>914</th>\n",
       "      <td>1</td>\n",
       "      <td>0</td>\n",
       "      <td>1</td>\n",
       "      <td>0</td>\n",
       "      <td>1</td>\n",
       "    </tr>\n",
       "    <tr>\n",
       "      <th>915</th>\n",
       "      <td>1</td>\n",
       "      <td>0</td>\n",
       "      <td>1</td>\n",
       "      <td>1</td>\n",
       "      <td>1</td>\n",
       "    </tr>\n",
       "    <tr>\n",
       "      <th>916</th>\n",
       "      <td>0</td>\n",
       "      <td>1</td>\n",
       "      <td>0</td>\n",
       "      <td>0</td>\n",
       "      <td>1</td>\n",
       "    </tr>\n",
       "    <tr>\n",
       "      <th>917</th>\n",
       "      <td>1</td>\n",
       "      <td>2</td>\n",
       "      <td>1</td>\n",
       "      <td>0</td>\n",
       "      <td>2</td>\n",
       "    </tr>\n",
       "  </tbody>\n",
       "</table>\n",
       "<p>918 rows × 5 columns</p>\n",
       "</div>"
      ],
      "text/plain": [
       "     Sex  ChestPainType  RestingECG  ExerciseAngina  ST_Slope\n",
       "0      1              1           1               0         2\n",
       "1      0              2           1               0         1\n",
       "2      1              1           2               0         2\n",
       "3      0              0           1               1         1\n",
       "4      1              2           1               0         2\n",
       "..   ...            ...         ...             ...       ...\n",
       "913    1              3           1               0         1\n",
       "914    1              0           1               0         1\n",
       "915    1              0           1               1         1\n",
       "916    0              1           0               0         1\n",
       "917    1              2           1               0         2\n",
       "\n",
       "[918 rows x 5 columns]"
      ]
     },
     "execution_count": 373,
     "metadata": {},
     "output_type": "execute_result"
    }
   ],
   "source": [
    "LEdf"
   ]
  },
  {
   "cell_type": "code",
   "execution_count": null,
   "metadata": {
    "id": "inside-holmes",
    "outputId": "099cebd3-48bc-46fe-c14d-29a4652a01b2"
   },
   "outputs": [
    {
     "data": {
      "text/html": [
       "<div>\n",
       "<style scoped>\n",
       "    .dataframe tbody tr th:only-of-type {\n",
       "        vertical-align: middle;\n",
       "    }\n",
       "\n",
       "    .dataframe tbody tr th {\n",
       "        vertical-align: top;\n",
       "    }\n",
       "\n",
       "    .dataframe thead th {\n",
       "        text-align: right;\n",
       "    }\n",
       "</style>\n",
       "<table border=\"1\" class=\"dataframe\">\n",
       "  <thead>\n",
       "    <tr style=\"text-align: right;\">\n",
       "      <th></th>\n",
       "      <th>Sex</th>\n",
       "      <th>ChestPainType</th>\n",
       "      <th>RestingECG</th>\n",
       "      <th>ExerciseAngina</th>\n",
       "      <th>ST_Slope</th>\n",
       "    </tr>\n",
       "  </thead>\n",
       "  <tbody>\n",
       "    <tr>\n",
       "      <th>0</th>\n",
       "      <td>M</td>\n",
       "      <td>ATA</td>\n",
       "      <td>Normal</td>\n",
       "      <td>N</td>\n",
       "      <td>Up</td>\n",
       "    </tr>\n",
       "    <tr>\n",
       "      <th>1</th>\n",
       "      <td>F</td>\n",
       "      <td>NAP</td>\n",
       "      <td>Normal</td>\n",
       "      <td>N</td>\n",
       "      <td>Flat</td>\n",
       "    </tr>\n",
       "    <tr>\n",
       "      <th>2</th>\n",
       "      <td>M</td>\n",
       "      <td>ATA</td>\n",
       "      <td>ST</td>\n",
       "      <td>N</td>\n",
       "      <td>Up</td>\n",
       "    </tr>\n",
       "    <tr>\n",
       "      <th>3</th>\n",
       "      <td>F</td>\n",
       "      <td>ASY</td>\n",
       "      <td>Normal</td>\n",
       "      <td>Y</td>\n",
       "      <td>Flat</td>\n",
       "    </tr>\n",
       "    <tr>\n",
       "      <th>4</th>\n",
       "      <td>M</td>\n",
       "      <td>NAP</td>\n",
       "      <td>Normal</td>\n",
       "      <td>N</td>\n",
       "      <td>Up</td>\n",
       "    </tr>\n",
       "    <tr>\n",
       "      <th>...</th>\n",
       "      <td>...</td>\n",
       "      <td>...</td>\n",
       "      <td>...</td>\n",
       "      <td>...</td>\n",
       "      <td>...</td>\n",
       "    </tr>\n",
       "    <tr>\n",
       "      <th>913</th>\n",
       "      <td>M</td>\n",
       "      <td>TA</td>\n",
       "      <td>Normal</td>\n",
       "      <td>N</td>\n",
       "      <td>Flat</td>\n",
       "    </tr>\n",
       "    <tr>\n",
       "      <th>914</th>\n",
       "      <td>M</td>\n",
       "      <td>ASY</td>\n",
       "      <td>Normal</td>\n",
       "      <td>N</td>\n",
       "      <td>Flat</td>\n",
       "    </tr>\n",
       "    <tr>\n",
       "      <th>915</th>\n",
       "      <td>M</td>\n",
       "      <td>ASY</td>\n",
       "      <td>Normal</td>\n",
       "      <td>Y</td>\n",
       "      <td>Flat</td>\n",
       "    </tr>\n",
       "    <tr>\n",
       "      <th>916</th>\n",
       "      <td>F</td>\n",
       "      <td>ATA</td>\n",
       "      <td>LVH</td>\n",
       "      <td>N</td>\n",
       "      <td>Flat</td>\n",
       "    </tr>\n",
       "    <tr>\n",
       "      <th>917</th>\n",
       "      <td>M</td>\n",
       "      <td>NAP</td>\n",
       "      <td>Normal</td>\n",
       "      <td>N</td>\n",
       "      <td>Up</td>\n",
       "    </tr>\n",
       "  </tbody>\n",
       "</table>\n",
       "<p>918 rows × 5 columns</p>\n",
       "</div>"
      ],
      "text/plain": [
       "    Sex ChestPainType RestingECG ExerciseAngina ST_Slope\n",
       "0     M           ATA     Normal              N       Up\n",
       "1     F           NAP     Normal              N     Flat\n",
       "2     M           ATA         ST              N       Up\n",
       "3     F           ASY     Normal              Y     Flat\n",
       "4     M           NAP     Normal              N       Up\n",
       "..   ..           ...        ...            ...      ...\n",
       "913   M            TA     Normal              N     Flat\n",
       "914   M           ASY     Normal              N     Flat\n",
       "915   M           ASY     Normal              Y     Flat\n",
       "916   F           ATA        LVH              N     Flat\n",
       "917   M           NAP     Normal              N       Up\n",
       "\n",
       "[918 rows x 5 columns]"
      ]
     },
     "execution_count": 374,
     "metadata": {},
     "output_type": "execute_result"
    }
   ],
   "source": [
    "cdf"
   ]
  },
  {
   "cell_type": "markdown",
   "metadata": {
    "id": "forced-beverage"
   },
   "source": [
    "### 특징 해싱 (feature hashing)\n",
    "- 원핫인코딩으로 변환한 뒤 특징의 수는 범주의 레벨 수와 같아지는데 특징 해싱은 그 수를 줄이는 변환임\n",
    "- 변환 후의 특징 수를 먼저 정해두고, 해시 함수를 이용하여 레벨별로 플래그를 표시할 위치를 결정함\n",
    "- 원핫 인코딩에서는 레벨마다 서로 다른 위치에 플래그를 표시하지만 특징 해싱에서는 변환 후에 정해진 특징 수가 범주의 레벨 수보다 적으므로 해시 함수에 따른 계산에 의해 다른 레벨에서도 같은 위치에 플래그를 표시할 수 있음\n",
    "- 희소행렬로 반환됨\n",
    "- 구현하기 쉽고, 모델 학습에 비용이 적게 들며, 새로운 범주 추가가 쉽고, 희귀 범주 처리가 쉽고, 온라인 학습이 가능함. 반면, 선형 또는 커널 모델에만 적합하고 해시된 피처는 해석이 불가하며 정확도에 대해 엇갈린 보고가 있음."
   ]
  },
  {
   "cell_type": "code",
   "execution_count": null,
   "metadata": {
    "id": "conventional-lecture",
    "outputId": "5ee4710d-efbf-46b6-87c9-9181d6473a1d"
   },
   "outputs": [
    {
     "data": {
      "text/html": [
       "<div>\n",
       "<style scoped>\n",
       "    .dataframe tbody tr th:only-of-type {\n",
       "        vertical-align: middle;\n",
       "    }\n",
       "\n",
       "    .dataframe tbody tr th {\n",
       "        vertical-align: top;\n",
       "    }\n",
       "\n",
       "    .dataframe thead th {\n",
       "        text-align: right;\n",
       "    }\n",
       "</style>\n",
       "<table border=\"1\" class=\"dataframe\">\n",
       "  <thead>\n",
       "    <tr style=\"text-align: right;\">\n",
       "      <th></th>\n",
       "      <th>Sex_0</th>\n",
       "      <th>Sex_1</th>\n",
       "      <th>Sex_2</th>\n",
       "      <th>ChestPainType_0</th>\n",
       "      <th>ChestPainType_1</th>\n",
       "      <th>ChestPainType_2</th>\n",
       "      <th>RestingECG_0</th>\n",
       "      <th>RestingECG_1</th>\n",
       "      <th>RestingECG_2</th>\n",
       "      <th>ExerciseAngina_0</th>\n",
       "      <th>ExerciseAngina_1</th>\n",
       "      <th>ExerciseAngina_2</th>\n",
       "      <th>ST_Slope_0</th>\n",
       "      <th>ST_Slope_1</th>\n",
       "      <th>ST_Slope_2</th>\n",
       "    </tr>\n",
       "  </thead>\n",
       "  <tbody>\n",
       "    <tr>\n",
       "      <th>0</th>\n",
       "      <td>0.0</td>\n",
       "      <td>1.0</td>\n",
       "      <td>0.0</td>\n",
       "      <td>0.0</td>\n",
       "      <td>0.0</td>\n",
       "      <td>1.0</td>\n",
       "      <td>1.0</td>\n",
       "      <td>0.0</td>\n",
       "      <td>0.0</td>\n",
       "      <td>0.0</td>\n",
       "      <td>0.0</td>\n",
       "      <td>-1.0</td>\n",
       "      <td>0.0</td>\n",
       "      <td>1.0</td>\n",
       "      <td>0.0</td>\n",
       "    </tr>\n",
       "    <tr>\n",
       "      <th>1</th>\n",
       "      <td>0.0</td>\n",
       "      <td>0.0</td>\n",
       "      <td>-1.0</td>\n",
       "      <td>-1.0</td>\n",
       "      <td>0.0</td>\n",
       "      <td>0.0</td>\n",
       "      <td>1.0</td>\n",
       "      <td>0.0</td>\n",
       "      <td>0.0</td>\n",
       "      <td>0.0</td>\n",
       "      <td>0.0</td>\n",
       "      <td>-1.0</td>\n",
       "      <td>0.0</td>\n",
       "      <td>0.0</td>\n",
       "      <td>1.0</td>\n",
       "    </tr>\n",
       "    <tr>\n",
       "      <th>2</th>\n",
       "      <td>0.0</td>\n",
       "      <td>1.0</td>\n",
       "      <td>0.0</td>\n",
       "      <td>0.0</td>\n",
       "      <td>0.0</td>\n",
       "      <td>1.0</td>\n",
       "      <td>0.0</td>\n",
       "      <td>1.0</td>\n",
       "      <td>0.0</td>\n",
       "      <td>0.0</td>\n",
       "      <td>0.0</td>\n",
       "      <td>-1.0</td>\n",
       "      <td>0.0</td>\n",
       "      <td>1.0</td>\n",
       "      <td>0.0</td>\n",
       "    </tr>\n",
       "    <tr>\n",
       "      <th>3</th>\n",
       "      <td>0.0</td>\n",
       "      <td>0.0</td>\n",
       "      <td>-1.0</td>\n",
       "      <td>0.0</td>\n",
       "      <td>0.0</td>\n",
       "      <td>-1.0</td>\n",
       "      <td>1.0</td>\n",
       "      <td>0.0</td>\n",
       "      <td>0.0</td>\n",
       "      <td>-1.0</td>\n",
       "      <td>0.0</td>\n",
       "      <td>0.0</td>\n",
       "      <td>0.0</td>\n",
       "      <td>0.0</td>\n",
       "      <td>1.0</td>\n",
       "    </tr>\n",
       "    <tr>\n",
       "      <th>4</th>\n",
       "      <td>0.0</td>\n",
       "      <td>1.0</td>\n",
       "      <td>0.0</td>\n",
       "      <td>-1.0</td>\n",
       "      <td>0.0</td>\n",
       "      <td>0.0</td>\n",
       "      <td>1.0</td>\n",
       "      <td>0.0</td>\n",
       "      <td>0.0</td>\n",
       "      <td>0.0</td>\n",
       "      <td>0.0</td>\n",
       "      <td>-1.0</td>\n",
       "      <td>0.0</td>\n",
       "      <td>1.0</td>\n",
       "      <td>0.0</td>\n",
       "    </tr>\n",
       "    <tr>\n",
       "      <th>...</th>\n",
       "      <td>...</td>\n",
       "      <td>...</td>\n",
       "      <td>...</td>\n",
       "      <td>...</td>\n",
       "      <td>...</td>\n",
       "      <td>...</td>\n",
       "      <td>...</td>\n",
       "      <td>...</td>\n",
       "      <td>...</td>\n",
       "      <td>...</td>\n",
       "      <td>...</td>\n",
       "      <td>...</td>\n",
       "      <td>...</td>\n",
       "      <td>...</td>\n",
       "      <td>...</td>\n",
       "    </tr>\n",
       "    <tr>\n",
       "      <th>913</th>\n",
       "      <td>0.0</td>\n",
       "      <td>1.0</td>\n",
       "      <td>0.0</td>\n",
       "      <td>0.0</td>\n",
       "      <td>0.0</td>\n",
       "      <td>-1.0</td>\n",
       "      <td>1.0</td>\n",
       "      <td>0.0</td>\n",
       "      <td>0.0</td>\n",
       "      <td>0.0</td>\n",
       "      <td>0.0</td>\n",
       "      <td>-1.0</td>\n",
       "      <td>0.0</td>\n",
       "      <td>0.0</td>\n",
       "      <td>1.0</td>\n",
       "    </tr>\n",
       "    <tr>\n",
       "      <th>914</th>\n",
       "      <td>0.0</td>\n",
       "      <td>1.0</td>\n",
       "      <td>0.0</td>\n",
       "      <td>0.0</td>\n",
       "      <td>0.0</td>\n",
       "      <td>-1.0</td>\n",
       "      <td>1.0</td>\n",
       "      <td>0.0</td>\n",
       "      <td>0.0</td>\n",
       "      <td>0.0</td>\n",
       "      <td>0.0</td>\n",
       "      <td>-1.0</td>\n",
       "      <td>0.0</td>\n",
       "      <td>0.0</td>\n",
       "      <td>1.0</td>\n",
       "    </tr>\n",
       "    <tr>\n",
       "      <th>915</th>\n",
       "      <td>0.0</td>\n",
       "      <td>1.0</td>\n",
       "      <td>0.0</td>\n",
       "      <td>0.0</td>\n",
       "      <td>0.0</td>\n",
       "      <td>-1.0</td>\n",
       "      <td>1.0</td>\n",
       "      <td>0.0</td>\n",
       "      <td>0.0</td>\n",
       "      <td>-1.0</td>\n",
       "      <td>0.0</td>\n",
       "      <td>0.0</td>\n",
       "      <td>0.0</td>\n",
       "      <td>0.0</td>\n",
       "      <td>1.0</td>\n",
       "    </tr>\n",
       "    <tr>\n",
       "      <th>916</th>\n",
       "      <td>0.0</td>\n",
       "      <td>0.0</td>\n",
       "      <td>-1.0</td>\n",
       "      <td>0.0</td>\n",
       "      <td>0.0</td>\n",
       "      <td>1.0</td>\n",
       "      <td>1.0</td>\n",
       "      <td>0.0</td>\n",
       "      <td>0.0</td>\n",
       "      <td>0.0</td>\n",
       "      <td>0.0</td>\n",
       "      <td>-1.0</td>\n",
       "      <td>0.0</td>\n",
       "      <td>0.0</td>\n",
       "      <td>1.0</td>\n",
       "    </tr>\n",
       "    <tr>\n",
       "      <th>917</th>\n",
       "      <td>0.0</td>\n",
       "      <td>1.0</td>\n",
       "      <td>0.0</td>\n",
       "      <td>-1.0</td>\n",
       "      <td>0.0</td>\n",
       "      <td>0.0</td>\n",
       "      <td>1.0</td>\n",
       "      <td>0.0</td>\n",
       "      <td>0.0</td>\n",
       "      <td>0.0</td>\n",
       "      <td>0.0</td>\n",
       "      <td>-1.0</td>\n",
       "      <td>0.0</td>\n",
       "      <td>1.0</td>\n",
       "      <td>0.0</td>\n",
       "    </tr>\n",
       "  </tbody>\n",
       "</table>\n",
       "<p>918 rows × 15 columns</p>\n",
       "</div>"
      ],
      "text/plain": [
       "     Sex_0  Sex_1  Sex_2  ChestPainType_0  ChestPainType_1  ChestPainType_2  \\\n",
       "0      0.0    1.0    0.0              0.0              0.0              1.0   \n",
       "1      0.0    0.0   -1.0             -1.0              0.0              0.0   \n",
       "2      0.0    1.0    0.0              0.0              0.0              1.0   \n",
       "3      0.0    0.0   -1.0              0.0              0.0             -1.0   \n",
       "4      0.0    1.0    0.0             -1.0              0.0              0.0   \n",
       "..     ...    ...    ...              ...              ...              ...   \n",
       "913    0.0    1.0    0.0              0.0              0.0             -1.0   \n",
       "914    0.0    1.0    0.0              0.0              0.0             -1.0   \n",
       "915    0.0    1.0    0.0              0.0              0.0             -1.0   \n",
       "916    0.0    0.0   -1.0              0.0              0.0              1.0   \n",
       "917    0.0    1.0    0.0             -1.0              0.0              0.0   \n",
       "\n",
       "     RestingECG_0  RestingECG_1  RestingECG_2  ExerciseAngina_0  \\\n",
       "0             1.0           0.0           0.0               0.0   \n",
       "1             1.0           0.0           0.0               0.0   \n",
       "2             0.0           1.0           0.0               0.0   \n",
       "3             1.0           0.0           0.0              -1.0   \n",
       "4             1.0           0.0           0.0               0.0   \n",
       "..            ...           ...           ...               ...   \n",
       "913           1.0           0.0           0.0               0.0   \n",
       "914           1.0           0.0           0.0               0.0   \n",
       "915           1.0           0.0           0.0              -1.0   \n",
       "916           1.0           0.0           0.0               0.0   \n",
       "917           1.0           0.0           0.0               0.0   \n",
       "\n",
       "     ExerciseAngina_1  ExerciseAngina_2  ST_Slope_0  ST_Slope_1  ST_Slope_2  \n",
       "0                 0.0              -1.0         0.0         1.0         0.0  \n",
       "1                 0.0              -1.0         0.0         0.0         1.0  \n",
       "2                 0.0              -1.0         0.0         1.0         0.0  \n",
       "3                 0.0               0.0         0.0         0.0         1.0  \n",
       "4                 0.0              -1.0         0.0         1.0         0.0  \n",
       "..                ...               ...         ...         ...         ...  \n",
       "913               0.0              -1.0         0.0         0.0         1.0  \n",
       "914               0.0              -1.0         0.0         0.0         1.0  \n",
       "915               0.0               0.0         0.0         0.0         1.0  \n",
       "916               0.0              -1.0         0.0         0.0         1.0  \n",
       "917               0.0              -1.0         0.0         1.0         0.0  \n",
       "\n",
       "[918 rows x 15 columns]"
      ]
     },
     "execution_count": 383,
     "metadata": {},
     "output_type": "execute_result"
    }
   ],
   "source": [
    "from sklearn.feature_extraction import FeatureHasher\n",
    "FHdf=DataFrame(None)\n",
    "for col in cdf.columns:\n",
    "    fh = FeatureHasher(n_features=3, input_type='string')\n",
    "    hash_df = fh.transform(cdf[[col]].astype(str).values)\n",
    "    hash_df = DataFrame(hash_df.todense(), columns=[f'{col}_{i}' for i in range(3)])\n",
    "    FHdf = pd.concat([FHdf, hash_df], axis=1)\n",
    "FHdf"
   ]
  },
  {
   "cell_type": "markdown",
   "metadata": {
    "id": "skilled-norman"
   },
   "source": [
    "### Frequency encoding\n",
    "- 각 레벨의 출현 횟수 혹은 출현 빈도로 범주형 변수를 대체하는 방법\n",
    "- 각 레벨의 출현 빈도와 복적변수 간에 관련성이 있을 때 유효함\n",
    "- 레이블 인코딩의 변형으로서 사전순으로 나열한 순서 인덱스가 아닌 출현 빈도순으로 나열하는 인덱스를 만들기 위해 사용할 수도 있음. 동률의 값이 발생할 수 있으니 주의해야 함.\n",
    "- 수치형 변수 스케일링과 마찬가지로 학습데이터와 테스트 데이터를 따로따로 정의하여 변환해버리면 다른 의미의 변수가 되므로 조심해야 함"
   ]
  },
  {
   "cell_type": "code",
   "execution_count": null,
   "metadata": {
    "id": "seven-retro",
    "outputId": "60928f51-cfb1-4a2f-df01-dac76421dbe8"
   },
   "outputs": [
    {
     "data": {
      "text/html": [
       "<div>\n",
       "<style scoped>\n",
       "    .dataframe tbody tr th:only-of-type {\n",
       "        vertical-align: middle;\n",
       "    }\n",
       "\n",
       "    .dataframe tbody tr th {\n",
       "        vertical-align: top;\n",
       "    }\n",
       "\n",
       "    .dataframe thead th {\n",
       "        text-align: right;\n",
       "    }\n",
       "</style>\n",
       "<table border=\"1\" class=\"dataframe\">\n",
       "  <thead>\n",
       "    <tr style=\"text-align: right;\">\n",
       "      <th></th>\n",
       "      <th>Sex</th>\n",
       "      <th>ChestPainType</th>\n",
       "      <th>RestingECG</th>\n",
       "      <th>ExerciseAngina</th>\n",
       "      <th>ST_Slope</th>\n",
       "    </tr>\n",
       "  </thead>\n",
       "  <tbody>\n",
       "    <tr>\n",
       "      <th>0</th>\n",
       "      <td>725</td>\n",
       "      <td>173</td>\n",
       "      <td>552</td>\n",
       "      <td>547</td>\n",
       "      <td>395</td>\n",
       "    </tr>\n",
       "    <tr>\n",
       "      <th>1</th>\n",
       "      <td>193</td>\n",
       "      <td>203</td>\n",
       "      <td>552</td>\n",
       "      <td>547</td>\n",
       "      <td>460</td>\n",
       "    </tr>\n",
       "    <tr>\n",
       "      <th>2</th>\n",
       "      <td>725</td>\n",
       "      <td>173</td>\n",
       "      <td>178</td>\n",
       "      <td>547</td>\n",
       "      <td>395</td>\n",
       "    </tr>\n",
       "    <tr>\n",
       "      <th>3</th>\n",
       "      <td>193</td>\n",
       "      <td>496</td>\n",
       "      <td>552</td>\n",
       "      <td>371</td>\n",
       "      <td>460</td>\n",
       "    </tr>\n",
       "    <tr>\n",
       "      <th>4</th>\n",
       "      <td>725</td>\n",
       "      <td>203</td>\n",
       "      <td>552</td>\n",
       "      <td>547</td>\n",
       "      <td>395</td>\n",
       "    </tr>\n",
       "    <tr>\n",
       "      <th>...</th>\n",
       "      <td>...</td>\n",
       "      <td>...</td>\n",
       "      <td>...</td>\n",
       "      <td>...</td>\n",
       "      <td>...</td>\n",
       "    </tr>\n",
       "    <tr>\n",
       "      <th>913</th>\n",
       "      <td>725</td>\n",
       "      <td>46</td>\n",
       "      <td>552</td>\n",
       "      <td>547</td>\n",
       "      <td>460</td>\n",
       "    </tr>\n",
       "    <tr>\n",
       "      <th>914</th>\n",
       "      <td>725</td>\n",
       "      <td>496</td>\n",
       "      <td>552</td>\n",
       "      <td>547</td>\n",
       "      <td>460</td>\n",
       "    </tr>\n",
       "    <tr>\n",
       "      <th>915</th>\n",
       "      <td>725</td>\n",
       "      <td>496</td>\n",
       "      <td>552</td>\n",
       "      <td>371</td>\n",
       "      <td>460</td>\n",
       "    </tr>\n",
       "    <tr>\n",
       "      <th>916</th>\n",
       "      <td>193</td>\n",
       "      <td>173</td>\n",
       "      <td>188</td>\n",
       "      <td>547</td>\n",
       "      <td>460</td>\n",
       "    </tr>\n",
       "    <tr>\n",
       "      <th>917</th>\n",
       "      <td>725</td>\n",
       "      <td>203</td>\n",
       "      <td>552</td>\n",
       "      <td>547</td>\n",
       "      <td>395</td>\n",
       "    </tr>\n",
       "  </tbody>\n",
       "</table>\n",
       "<p>918 rows × 5 columns</p>\n",
       "</div>"
      ],
      "text/plain": [
       "     Sex  ChestPainType  RestingECG  ExerciseAngina  ST_Slope\n",
       "0    725            173         552             547       395\n",
       "1    193            203         552             547       460\n",
       "2    725            173         178             547       395\n",
       "3    193            496         552             371       460\n",
       "4    725            203         552             547       395\n",
       "..   ...            ...         ...             ...       ...\n",
       "913  725             46         552             547       460\n",
       "914  725            496         552             547       460\n",
       "915  725            496         552             371       460\n",
       "916  193            173         188             547       460\n",
       "917  725            203         552             547       395\n",
       "\n",
       "[918 rows x 5 columns]"
      ]
     },
     "execution_count": 395,
     "metadata": {},
     "output_type": "execute_result"
    }
   ],
   "source": [
    "FEdf = cdf.copy()\n",
    "for col in FEdf.columns:\n",
    "    freq = FEdf[col].value_counts()\n",
    "    FEdf[col] = FEdf[col].map(freq)\n",
    "FEdf"
   ]
  },
  {
   "cell_type": "code",
   "execution_count": null,
   "metadata": {
    "id": "valued-illness",
    "outputId": "0ea32181-a860-477e-c34e-9a5f6f391b80"
   },
   "outputs": [
    {
     "data": {
      "text/plain": [
       "M    725\n",
       "F    193\n",
       "Name: Sex, dtype: int64"
      ]
     },
     "execution_count": 398,
     "metadata": {},
     "output_type": "execute_result"
    }
   ],
   "source": [
    "cdf['Sex'].value_counts()"
   ]
  }
 ],
 "metadata": {
  "colab": {
   "collapsed_sections": [
    "northern-warren",
    "interested-country",
    "micro-jamaica",
    "convertible-toner",
    "cooperative-district",
    "preceding-bread",
    "efficient-combination",
    "private-opposition",
    "bound-construction",
    "awful-musical",
    "extra-cursor",
    "atlantic-arbor",
    "alternate-probability",
    "black-pearl",
    "italian-yeast",
    "identical-burton",
    "incoming-obligation",
    "electoral-knock",
    "registered-pennsylvania",
    "executive-moderator",
    "administrative-guest",
    "communist-caution",
    "sitting-moses",
    "inside-bleeding",
    "forced-beverage",
    "skilled-norman"
   ],
   "name": "1. EDA, 전처리_조정임.ipynb",
   "provenance": []
  },
  "kernelspec": {
   "display_name": "Python 3",
   "language": "python",
   "name": "python3"
  },
  "language_info": {
   "codemirror_mode": {
    "name": "ipython",
    "version": 3
   },
   "file_extension": ".py",
   "mimetype": "text/x-python",
   "name": "python",
   "nbconvert_exporter": "python",
   "pygments_lexer": "ipython3",
   "version": "3.7.6"
  }
 },
 "nbformat": 4,
 "nbformat_minor": 5
}
