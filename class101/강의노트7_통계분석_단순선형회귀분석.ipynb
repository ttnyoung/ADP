{
 "cells": [
  {
   "cell_type": "markdown",
   "metadata": {},
   "source": [
    "# 회귀분석\n",
    "\n",
    "## 변수 유형별 분석 방법 \n",
    "\n",
    "<img src=./변수유형별_분석방법.png width=\"600\">\n",
    "\n",
    "\n",
    "## 회귀분석 개념\n",
    "\n",
    "- 하나 혹은 그 이상의 원인이 종속변수에 미치는 영향을 추적하여 식으로 표현하는 통계기법\n",
    "- 변수들 사이의 인과관계를 밝히고 모형을 적합하여 관심있는 변수를 예측하거나 추론하기 위해 사용하는 분석 방법\n",
    "- 독립변수의 개수가 하나인 경우 <b>단순선형회귀분석</b>, 독립변수의 개수가 두 개 이상이면 <b>다중선형회귀분석</b>으로 분석함\n"
   ]
  },
  {
   "cell_type": "markdown",
   "metadata": {},
   "source": [
    "## 단순선형회귀분석\n",
    "\n",
    "<b>하나의 독립변수</b>가 종속변수에 미치는 영향을 추정할 수 있는 통계기법\n",
    "\n",
    "<img src ='./회귀분석.png' width=\"400\">\n",
    "<br>\n",
    "<br>\n",
    "\n",
    "### 선형회귀분석의 가정\n",
    "\n",
    "- 독립변수와 종속변수 간의 선형성 (선형회귀분석에서 가장 중요한 가정)<br>\n",
    "- 오차의 정규성 : 오차의 분포가 정규분포를 만족해야 함 <b>Q-Q plot</b>, <b>Shapiro-Wilk</b>검정 등을 활용하여 정규성 확인<br>\n",
    "\n",
    "- 오차의 등분산성 : 오차의 분산은 독립변수 값과 무관하게 일정해야 함 <br>   \n",
    "- 오차의 독립성 : 예측값의 변화에 따라 오차항이 특정한 패턴을 가지면 안 됨 <br> \n",
    "  **Durbin-Watson 통계량이 2**에 가까우면 독립성을 만족 <br>\n",
    "  **Durbin-Watson 통계량이 0**에 가까우면 오차항 간에 양의 상관관계가 존재<br> \n",
    "  **Durbin-Watson 통계량이 4**에 가까우면 오차항 간에 음의 상관관계가 존재 <br>\n",
    "<br>\n",
    "\n",
    "<br>\n",
    "\n",
    "<img src=./잔차도_가정.png width=\"600\">\n",
    "\n",
    "\n",
    "### 회귀분석 시 검토사항\n",
    "\n",
    "&emsp;F 통계량 : 모델 또는 모델 성분의 유의성을 검정하는 분산분석(ANOVA) 방식에 대한 검정 통계량\n",
    "\n",
    "\n",
    "\n",
    "- <b>1) 모형이 데이터를 잘 적합하고 있는가</b> : 모형의 잔차를 그리고 <font color='red'>회귀진단</font>을 수행해 판단함<br><br>\n",
    "- <b>2) 회귀모형이 통계적으로 유의한가</b> : \n",
    "    - 회귀분석의 결과로 산출되는 <font color='red'>F-통계량</font>의 p-value가 유의수준(a)보다 작으면 회귀식이 통계적으로 유의하다고 볼 수 있음<br>\n",
    "    - H0 : 회귀모형은 유의하지 않다 (𝛽 = 0)<br>H1 : 회귀모형은 유의하다 ( 𝛽는 0이 아니다)<br><br>\n",
    "- <b>3) 모형은 데이터를 얼마나 설명할 수 있는가</b> : <font color='red'>결정계수</font>R-square)를 확인함\n",
    "    - 결정계수는 0~1의 값을 가짐\n",
    "    - 추정된 회귀식이 전체 데이터에서 설명할 수 있는 데이터의 비율을 의미함 (높을수록 높은 설명력)\n",
    "    - 다변량 회귀분석의 경우 포함된 독립변수의 유의성에 관계없이 독립변수의 수가 많아지면 결정계수가 높아지는 경향을 보임<br>\n",
    "        이를 보완하기 위해 수정된 결정계수(adjusted R square)를 활용하여 모형의 설명력을 판단함<br><br>\n",
    "- <b>4) 모형 내의 회귀계수가 유의한가</b> : 회귀계수에 대한 <font color='red'>t통계량</font>의 p-value가 0.05보다 작으면 회귀계수가 통계적으로 유의하다고 볼 수 있음\n",
    "<br><br>\n"
   ]
  },
  {
   "cell_type": "markdown",
   "metadata": {},
   "source": [
    "#### statsmodels를 이용한 방법\n",
    "\n",
    "> ols('y ~ x',data=df).fit()\n",
    "\n",
    "<br>\n",
    "\n",
    "- 모델.summary() : 적합 결과를 요약하여 제시함\n",
    "- 모델.params : 변수의 회귀계수 (또는 y절편값) \n",
    "- 모델.resid : 잔차\n",
    "- 모델.predict(X) : 새로운 데이터에 대한 예측값 "
   ]
  },
  {
   "cell_type": "markdown",
   "metadata": {},
   "source": [
    "\n",
    "<b>[예제]</b>\n",
    "\n",
    "kc_house_data 데이터의 sqft_living(주거공간의 평방 피트)를 독립변수, price를 종속변수로 설정하여 단순 선형 회귀분석을 실시한 후, 추정된 회귀모형에 대해 해석하라"
   ]
  },
  {
   "cell_type": "code",
   "execution_count": 1,
   "metadata": {},
   "outputs": [],
   "source": [
    "import pandas as pd \n",
    "import numpy as np \n",
    "house = pd.read_csv('./data/kc_house_data.csv')"
   ]
  },
  {
   "cell_type": "code",
   "execution_count": 2,
   "metadata": {},
   "outputs": [],
   "source": [
    "house = house[[\"price\",\"sqft_living\"]]"
   ]
  },
  {
   "cell_type": "code",
   "execution_count": 3,
   "metadata": {},
   "outputs": [
    {
     "data": {
      "text/html": [
       "<div>\n",
       "<style scoped>\n",
       "    .dataframe tbody tr th:only-of-type {\n",
       "        vertical-align: middle;\n",
       "    }\n",
       "\n",
       "    .dataframe tbody tr th {\n",
       "        vertical-align: top;\n",
       "    }\n",
       "\n",
       "    .dataframe thead th {\n",
       "        text-align: right;\n",
       "    }\n",
       "</style>\n",
       "<table border=\"1\" class=\"dataframe\">\n",
       "  <thead>\n",
       "    <tr style=\"text-align: right;\">\n",
       "      <th></th>\n",
       "      <th>price</th>\n",
       "      <th>sqft_living</th>\n",
       "    </tr>\n",
       "  </thead>\n",
       "  <tbody>\n",
       "    <tr>\n",
       "      <th>price</th>\n",
       "      <td>1.000000</td>\n",
       "      <td>0.702035</td>\n",
       "    </tr>\n",
       "    <tr>\n",
       "      <th>sqft_living</th>\n",
       "      <td>0.702035</td>\n",
       "      <td>1.000000</td>\n",
       "    </tr>\n",
       "  </tbody>\n",
       "</table>\n",
       "</div>"
      ],
      "text/plain": [
       "                price  sqft_living\n",
       "price        1.000000     0.702035\n",
       "sqft_living  0.702035     1.000000"
      ]
     },
     "execution_count": 3,
     "metadata": {},
     "output_type": "execute_result"
    }
   ],
   "source": [
    "## 독립변수와 종속변수의 선형 가정 \n",
    "house.corr()"
   ]
  },
  {
   "cell_type": "code",
   "execution_count": 4,
   "metadata": {},
   "outputs": [],
   "source": [
    "y = house['price']\n",
    "X = house[['sqft_living']]"
   ]
  },
  {
   "cell_type": "code",
   "execution_count": 5,
   "metadata": {},
   "outputs": [],
   "source": [
    "#pip install statsmodels\n",
    "from statsmodels.formula.api import ols\n",
    "\n",
    "# 단순선형회귀모형 적합\n",
    "lr = ols('price ~ sqft_living',data=house).fit()\n"
   ]
  },
  {
   "cell_type": "code",
   "execution_count": 6,
   "metadata": {
    "scrolled": true
   },
   "outputs": [
    {
     "data": {
      "text/plain": [
       "Intercept     -43580.743094\n",
       "sqft_living      280.623568\n",
       "dtype: float64"
      ]
     },
     "execution_count": 6,
     "metadata": {},
     "output_type": "execute_result"
    }
   ],
   "source": [
    "# 회귀 계수\n",
    "lr.params"
   ]
  },
  {
   "cell_type": "code",
   "execution_count": 7,
   "metadata": {},
   "outputs": [
    {
     "data": {
      "text/plain": [
       "0        287555.067025\n",
       "1        677621.826402\n",
       "2        172499.404187\n",
       "3        506441.449985\n",
       "4        427866.850973\n",
       "             ...      \n",
       "21608    385773.315789\n",
       "21609    604659.698749\n",
       "21610    242655.296161\n",
       "21611    405416.965541\n",
       "21612    242655.296161\n",
       "Length: 21613, dtype: float64"
      ]
     },
     "execution_count": 7,
     "metadata": {},
     "output_type": "execute_result"
    }
   ],
   "source": [
    "y_pred = lr.predict(X)\n",
    "y_pred"
   ]
  },
  {
   "cell_type": "code",
   "execution_count": 8,
   "metadata": {},
   "outputs": [],
   "source": [
    "resid = y - y_pred"
   ]
  },
  {
   "cell_type": "code",
   "execution_count": 9,
   "metadata": {},
   "outputs": [
    {
     "data": {
      "text/plain": [
       "68351286833.039825"
      ]
     },
     "execution_count": 9,
     "metadata": {},
     "output_type": "execute_result"
    }
   ],
   "source": [
    "#mse \n",
    "(resid**2).sum()/len(y)"
   ]
  },
  {
   "cell_type": "code",
   "execution_count": 10,
   "metadata": {},
   "outputs": [
    {
     "data": {
      "text/plain": [
       "261440.79030067177"
      ]
     },
     "execution_count": 10,
     "metadata": {},
     "output_type": "execute_result"
    }
   ],
   "source": [
    "## rmse \n",
    "np.sqrt((resid**2).sum()/len(y))"
   ]
  },
  {
   "cell_type": "code",
   "execution_count": 11,
   "metadata": {
    "scrolled": false
   },
   "outputs": [
    {
     "data": {
      "text/html": [
       "<table class=\"simpletable\">\n",
       "<caption>OLS Regression Results</caption>\n",
       "<tr>\n",
       "  <th>Dep. Variable:</th>          <td>price</td>      <th>  R-squared:         </th>  <td>   0.493</td>  \n",
       "</tr>\n",
       "<tr>\n",
       "  <th>Model:</th>                   <td>OLS</td>       <th>  Adj. R-squared:    </th>  <td>   0.493</td>  \n",
       "</tr>\n",
       "<tr>\n",
       "  <th>Method:</th>             <td>Least Squares</td>  <th>  F-statistic:       </th>  <td>2.100e+04</td> \n",
       "</tr>\n",
       "<tr>\n",
       "  <th>Date:</th>             <td>Wed, 29 Dec 2021</td> <th>  Prob (F-statistic):</th>   <td>  0.00</td>   \n",
       "</tr>\n",
       "<tr>\n",
       "  <th>Time:</th>                 <td>17:55:56</td>     <th>  Log-Likelihood:    </th> <td>-3.0027e+05</td>\n",
       "</tr>\n",
       "<tr>\n",
       "  <th>No. Observations:</th>      <td> 21613</td>      <th>  AIC:               </th>  <td>6.005e+05</td> \n",
       "</tr>\n",
       "<tr>\n",
       "  <th>Df Residuals:</th>          <td> 21611</td>      <th>  BIC:               </th>  <td>6.006e+05</td> \n",
       "</tr>\n",
       "<tr>\n",
       "  <th>Df Model:</th>              <td>     1</td>      <th>                     </th>      <td> </td>     \n",
       "</tr>\n",
       "<tr>\n",
       "  <th>Covariance Type:</th>      <td>nonrobust</td>    <th>                     </th>      <td> </td>     \n",
       "</tr>\n",
       "</table>\n",
       "<table class=\"simpletable\">\n",
       "<tr>\n",
       "       <td></td>          <th>coef</th>     <th>std err</th>      <th>t</th>      <th>P>|t|</th>  <th>[0.025</th>    <th>0.975]</th>  \n",
       "</tr>\n",
       "<tr>\n",
       "  <th>Intercept</th>   <td>-4.358e+04</td> <td> 4402.690</td> <td>   -9.899</td> <td> 0.000</td> <td>-5.22e+04</td> <td> -3.5e+04</td>\n",
       "</tr>\n",
       "<tr>\n",
       "  <th>sqft_living</th> <td>  280.6236</td> <td>    1.936</td> <td>  144.920</td> <td> 0.000</td> <td>  276.828</td> <td>  284.419</td>\n",
       "</tr>\n",
       "</table>\n",
       "<table class=\"simpletable\">\n",
       "<tr>\n",
       "  <th>Omnibus:</th>       <td>14832.490</td> <th>  Durbin-Watson:     </th>  <td>   1.983</td> \n",
       "</tr>\n",
       "<tr>\n",
       "  <th>Prob(Omnibus):</th>  <td> 0.000</td>   <th>  Jarque-Bera (JB):  </th> <td>546444.713</td>\n",
       "</tr>\n",
       "<tr>\n",
       "  <th>Skew:</th>           <td> 2.824</td>   <th>  Prob(JB):          </th>  <td>    0.00</td> \n",
       "</tr>\n",
       "<tr>\n",
       "  <th>Kurtosis:</th>       <td>26.977</td>   <th>  Cond. No.          </th>  <td>5.63e+03</td> \n",
       "</tr>\n",
       "</table><br/><br/>Notes:<br/>[1] Standard Errors assume that the covariance matrix of the errors is correctly specified.<br/>[2] The condition number is large, 5.63e+03. This might indicate that there are<br/>strong multicollinearity or other numerical problems."
      ],
      "text/plain": [
       "<class 'statsmodels.iolib.summary.Summary'>\n",
       "\"\"\"\n",
       "                            OLS Regression Results                            \n",
       "==============================================================================\n",
       "Dep. Variable:                  price   R-squared:                       0.493\n",
       "Model:                            OLS   Adj. R-squared:                  0.493\n",
       "Method:                 Least Squares   F-statistic:                 2.100e+04\n",
       "Date:                Wed, 29 Dec 2021   Prob (F-statistic):               0.00\n",
       "Time:                        17:55:56   Log-Likelihood:            -3.0027e+05\n",
       "No. Observations:               21613   AIC:                         6.005e+05\n",
       "Df Residuals:                   21611   BIC:                         6.006e+05\n",
       "Df Model:                           1                                         \n",
       "Covariance Type:            nonrobust                                         \n",
       "===============================================================================\n",
       "                  coef    std err          t      P>|t|      [0.025      0.975]\n",
       "-------------------------------------------------------------------------------\n",
       "Intercept   -4.358e+04   4402.690     -9.899      0.000   -5.22e+04    -3.5e+04\n",
       "sqft_living   280.6236      1.936    144.920      0.000     276.828     284.419\n",
       "==============================================================================\n",
       "Omnibus:                    14832.490   Durbin-Watson:                   1.983\n",
       "Prob(Omnibus):                  0.000   Jarque-Bera (JB):           546444.713\n",
       "Skew:                           2.824   Prob(JB):                         0.00\n",
       "Kurtosis:                      26.977   Cond. No.                     5.63e+03\n",
       "==============================================================================\n",
       "\n",
       "Notes:\n",
       "[1] Standard Errors assume that the covariance matrix of the errors is correctly specified.\n",
       "[2] The condition number is large, 5.63e+03. This might indicate that there are\n",
       "strong multicollinearity or other numerical problems.\n",
       "\"\"\""
      ]
     },
     "execution_count": 11,
     "metadata": {},
     "output_type": "execute_result"
    }
   ],
   "source": [
    "lr.summary()"
   ]
  },
  {
   "cell_type": "code",
   "execution_count": 27,
   "metadata": {
    "scrolled": true
   },
   "outputs": [
    {
     "data": {
      "image/png": "[encoded data removed]",
      "text/plain": [
       "<Figure size 432x288 with 1 Axes>"
      ]
     },
     "metadata": {
      "needs_background": "light"
     },
     "output_type": "display_data"
    }
   ],
   "source": [
    "# 회귀모형의 시각화\n",
    "import matplotlib.pyplot as plt\n",
    "plt.scatter(X, y) ## 원 데이터 산포도\n",
    "plt.plot(X, y_pred, color='red') ## 회귀직선 추가\n",
    " \n",
    "plt.xlabel('sqft_living', fontsize=10)\n",
    "plt.ylabel('price',fontsize=10)\n",
    "plt.title('Linear Regression Result')\n",
    "plt.show()"
   ]
  },
  {
   "cell_type": "code",
   "execution_count": 50,
   "metadata": {},
   "outputs": [
    {
     "data": {
      "image/png": "[encoded data removed]",
      "text/plain": [
       "<Figure size 432x288 with 1 Axes>"
      ]
     },
     "metadata": {
      "needs_background": "light"
     },
     "output_type": "display_data"
    }
   ],
   "source": [
    "# Q-Q plot\n",
    "# 잔차가 정규분포를 따르는지 확인\n",
    "\n",
    "import statsmodels.api as sm \n",
    "\n",
    "sm.qqplot(resid, line=\"r\", alpha=0.4) \n",
    "# line은 참조선을 그리는 것으로 '45'(45도 선), 's'(표준화된 라인), 'r'(회귀선), 'q'(사분위수를 통과하는 선) 옵션이 있음\n",
    "plt.show()"
   ]
  },
  {
   "cell_type": "markdown",
   "metadata": {},
   "source": [
    "<b> 모델 설명 </b>\n",
    "\n",
    "1) 독립변수는 sqft_living이고 종속변수는 price이다.<br>\n",
    "\n",
    "2) F-통계량은 2.100e+04이며, F-통계량의 p-value는 0.05보다 매우 작기 때문에 추정된 회귀 모형은 통계적으로 유의하다고 볼 수 있다<br>\n",
    "\n",
    "\n",
    "3) 결정계수는 0.493로, 이 회귀모형의 데이터에 대한 설명력은 49.3% 이다<br>\n",
    "    (QQ plot을 그려봐도 참조선에서 많이 벗어나는 부분이 있기 때문에 현재 단순선형회귀 모델이 적합하지 않을 수 있음)\n",
    "\n",
    "4) 상수항과 독립변수의 회귀계수에 대한 p-value가 각각 0.05보다 작으므로 통계적으로 유의하다고 판단할 수 있다<br>\n",
    "\n",
    "5) 회귀식은 Price = sqft_living * 280.6236 + -43580.743094 와 같이 도출할 수 있다<br>\n",
    "\n",
    "\n",
    "\n"
   ]
  },
  {
   "cell_type": "markdown",
   "metadata": {},
   "source": [
    "<br>\n",
    "\n",
    "scikit-learn 머신러닝을 이용한 방법\n",
    "\n",
    "> sklearn.linear_model.LinearRegression().fit()\n",
    "\n",
    "&emsp;&emsp;&emsp;LinearRegression() : 선형회귀분석 모델을 생성하는 함수<br>\n",
    "&emsp;&emsp;&emsp;fit() : 선형 회귀 모델에 필요한 두 가지 변수(x, y)를 전달\n",
    "\n",
    "<br>\n",
    "\n",
    "- 설명변수의 차원을 조정해야 함\n",
    "- R의 summary()와 같은 기능이 없음\n",
    "- 기울기와 절편을 따로 호출해서 얻을 수 있음\n",
    "\n",
    "- 잔차를 자동으로 계산해주는 기능이 없음"
   ]
  },
  {
   "cell_type": "code",
   "execution_count": 51,
   "metadata": {},
   "outputs": [],
   "source": [
    "# fit 함수가 x 값으로 2차원 array를 받으므로 dataframe으로 저장\n",
    "X = house[['sqft_living']]  \n",
    "y = house['price']"
   ]
  },
  {
   "cell_type": "code",
   "execution_count": 52,
   "metadata": {},
   "outputs": [
    {
     "data": {
      "text/plain": [
       "LinearRegression()"
      ]
     },
     "execution_count": 52,
     "metadata": {},
     "output_type": "execute_result"
    }
   ],
   "source": [
    "#pip install sklearn\n",
    "from sklearn.linear_model import LinearRegression\n",
    "lr = LinearRegression() # 회귀모델 생성\n",
    "lr.fit(X, y) # 회귀모델 학습 "
   ]
  },
  {
   "cell_type": "code",
   "execution_count": 53,
   "metadata": {},
   "outputs": [
    {
     "name": "stdout",
     "output_type": "stream",
     "text": [
      "기울기 : [280.6235679]\n",
      "절편 : -43580.74309447361\n"
     ]
    }
   ],
   "source": [
    "# 기울기와 절편은 따로 호출하여 확인랑 수 있다\n",
    "print('기울기 :', lr.coef_)\n",
    "print('절편 :', lr.intercept_)"
   ]
  },
  {
   "cell_type": "code",
   "execution_count": 54,
   "metadata": {},
   "outputs": [
    {
     "data": {
      "text/plain": [
       "array([287555.06702452, 677621.82640197, 172499.40418656, ...,\n",
       "       242655.29616092, 405416.96554144, 242655.29616092])"
      ]
     },
     "execution_count": 54,
     "metadata": {},
     "output_type": "execute_result"
    }
   ],
   "source": [
    "# 추정된 값을 보기 위해서는 모델.predict(x)를 출력한다\n",
    "\n",
    "y_pred= lr.predict(X)\n",
    "y_pred"
   ]
  },
  {
   "cell_type": "code",
   "execution_count": 55,
   "metadata": {
    "scrolled": false
   },
   "outputs": [
    {
     "data": {
      "image/png": "[encoded data removed]",
      "text/plain": [
       "<Figure size 432x288 with 1 Axes>"
      ]
     },
     "metadata": {
      "needs_background": "light"
     },
     "output_type": "display_data"
    }
   ],
   "source": [
    "# plot로 확인하는 방법\n",
    "\n",
    "plt.plot(X, y, 'o')\n",
    "plt.plot(X, y_pred)\n",
    "plt.show()"
   ]
  },
  {
   "cell_type": "code",
   "execution_count": 56,
   "metadata": {
    "scrolled": false
   },
   "outputs": [
    {
     "name": "stdout",
     "output_type": "stream",
     "text": [
      "잔차 :\n",
      " [ -65655.06702452 -139621.82640197    7500.59581344 ...  159445.70383908\n",
      "   -5416.96554144   82344.70383908]\n"
     ]
    }
   ],
   "source": [
    "# 잔차를 확인하는 방법 : y값과 추정값의 차를 계산\n",
    "resid = y - y_pred\n",
    "print('잔차 :\\n', resid.values)"
   ]
  },
  {
   "cell_type": "code",
   "execution_count": 57,
   "metadata": {},
   "outputs": [
    {
     "data": {
      "text/plain": [
       "0.4928532179037931"
      ]
     },
     "execution_count": 57,
     "metadata": {},
     "output_type": "execute_result"
    }
   ],
   "source": [
    "## R2 \n",
    "lr.score(X,y)"
   ]
  },
  {
   "cell_type": "code",
   "execution_count": 58,
   "metadata": {},
   "outputs": [
    {
     "data": {
      "text/plain": [
       "68351286833.039825"
      ]
     },
     "execution_count": 58,
     "metadata": {},
     "output_type": "execute_result"
    }
   ],
   "source": [
    "#mse \n",
    "(resid**2).sum()/len(y)"
   ]
  },
  {
   "cell_type": "code",
   "execution_count": 59,
   "metadata": {},
   "outputs": [
    {
     "data": {
      "text/plain": [
       "261440.79030067177"
      ]
     },
     "execution_count": 59,
     "metadata": {},
     "output_type": "execute_result"
    }
   ],
   "source": [
    "## rmse \n",
    "np.sqrt((resid**2).sum()/len(y))"
   ]
  },
  {
   "cell_type": "code",
   "execution_count": 60,
   "metadata": {},
   "outputs": [],
   "source": [
    "### 데이터셋이 모델을 잘 적합하는지 검증을 하고 싶다면\n",
    "\n",
    "from sklearn.model_selection import train_test_split\n",
    "\n",
    "X_train,X_test,y_train,y_test = train_test_split(X,y,test_size=0.3,random_state=2021)"
   ]
  },
  {
   "cell_type": "code",
   "execution_count": 62,
   "metadata": {},
   "outputs": [
    {
     "data": {
      "text/plain": [
       "LinearRegression()"
      ]
     },
     "execution_count": 62,
     "metadata": {},
     "output_type": "execute_result"
    }
   ],
   "source": [
    "lr.fit(X_train,y_train)"
   ]
  },
  {
   "cell_type": "code",
   "execution_count": 63,
   "metadata": {},
   "outputs": [],
   "source": [
    "y_pred = lr.predict(X_test)"
   ]
  },
  {
   "cell_type": "code",
   "execution_count": 27,
   "metadata": {
    "scrolled": false
   },
   "outputs": [],
   "source": [
    "resid = y_test - y_pred"
   ]
  },
  {
   "cell_type": "code",
   "execution_count": 28,
   "metadata": {
    "scrolled": true
   },
   "outputs": [
    {
     "data": {
      "text/plain": [
       "0.49761443846972153"
      ]
     },
     "execution_count": 28,
     "metadata": {},
     "output_type": "execute_result"
    }
   ],
   "source": [
    "## R2 \n",
    "lr.score(X_test,y_test)"
   ]
  },
  {
   "cell_type": "code",
   "execution_count": 64,
   "metadata": {},
   "outputs": [
    {
     "data": {
      "text/plain": [
       "227834108933.14154"
      ]
     },
     "execution_count": 64,
     "metadata": {},
     "output_type": "execute_result"
    }
   ],
   "source": [
    "#mse \n",
    "(resid**2).sum()/len(y_test)"
   ]
  },
  {
   "cell_type": "code",
   "execution_count": 66,
   "metadata": {},
   "outputs": [
    {
     "data": {
      "text/plain": [
       "477319.71353919746"
      ]
     },
     "execution_count": 66,
     "metadata": {},
     "output_type": "execute_result"
    }
   ],
   "source": [
    "## rmse \n",
    "np.sqrt((resid**2).sum()/len(y_test))"
   ]
  },
  {
   "cell_type": "code",
   "execution_count": null,
   "metadata": {},
   "outputs": [],
   "source": []
  }
 ],
 "metadata": {
  "kernelspec": {
   "display_name": "Python 3 (ipykernel)",
   "language": "python",
   "name": "python3"
  },
  "language_info": {
   "codemirror_mode": {
    "name": "ipython",
    "version": 3
   },
   "file_extension": ".py",
   "mimetype": "text/x-python",
   "name": "python",
   "nbconvert_exporter": "python",
   "pygments_lexer": "ipython3",
   "version": "3.7.11"
  },
  "toc": {
   "base_numbering": "5",
   "nav_menu": {},
   "number_sections": true,
   "sideBar": true,
   "skip_h1_title": false,
   "title_cell": "Table of Contents",
   "title_sidebar": "Contents",
   "toc_cell": false,
   "toc_position": {},
   "toc_section_display": true,
   "toc_window_display": false
  }
 },
 "nbformat": 4,
 "nbformat_minor": 4
}
