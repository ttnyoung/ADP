{
 "cells": [
  {
   "cell_type": "code",
   "execution_count": 1,
   "id": "da88b5ae",
   "metadata": {
    "scrolled": true
   },
   "outputs": [
    {
     "name": "stdout",
     "output_type": "stream",
     "text": [
      "Collecting absl-py==0.7.1\n",
      "  Using cached absl-py-0.7.1.tar.gz (99 kB)\n",
      "Collecting alabaster==0.7.12\n",
      "  Using cached alabaster-0.7.12-py2.py3-none-any.whl (14 kB)\n",
      "Collecting argon2-cffi==20.1.0\n",
      "  Downloading argon2_cffi-20.1.0-cp37-abi3-macosx_10_6_intel.whl (65 kB)\n",
      "\u001b[K     |████████████████████████████████| 65 kB 7.9 MB/s  eta 0:00:01\n",
      "\u001b[?25hCollecting asn1crypto==0.24.0\n",
      "  Using cached asn1crypto-0.24.0-py2.py3-none-any.whl (101 kB)\n",
      "Collecting astor==0.7.1\n",
      "  Using cached astor-0.7.1-py2.py3-none-any.whl (27 kB)\n",
      "Collecting astroid==2.2.5\n",
      "  Using cached astroid-2.2.5-py3-none-any.whl (193 kB)\n",
      "Collecting astropy==3.1.2\n",
      "  Using cached astropy-3.1.2-cp37-cp37m-macosx_10_6_intel.macosx_10_9_intel.macosx_10_9_x86_64.macosx_10_10_intel.macosx_10_10_x86_64.whl (8.0 MB)\n",
      "Collecting astunparse==1.6.3\n",
      "  Using cached astunparse-1.6.3-py2.py3-none-any.whl (12 kB)\n",
      "Collecting async-generator==1.1\n",
      "  Using cached async_generator-1.1-py3-none-any.whl (11 kB)\n",
      "Collecting atomicwrites==1.3.0\n",
      "  Using cached atomicwrites-1.3.0-py2.py3-none-any.whl (5.9 kB)\n",
      "Collecting attrs==19.1.0\n",
      "  Using cached attrs-19.1.0-py2.py3-none-any.whl (35 kB)\n",
      "Collecting Automat==0.7.0\n",
      "  Using cached Automat-0.7.0-py2.py3-none-any.whl (37 kB)\n",
      "Collecting Babel==2.6.0\n",
      "  Using cached Babel-2.6.0-py2.py3-none-any.whl (8.1 MB)\n",
      "Collecting backcall==0.1.0\n",
      "  Using cached backcall-0.1.0.zip (11 kB)\n",
      "Collecting backports.os==0.1.1\n",
      "  Using cached backports.os-0.1.1-py3-none-any.whl (5.8 kB)\n",
      "Collecting backports.shutil-get-terminal-size==1.0.0\n",
      "  Using cached backports.shutil_get_terminal_size-1.0.0-py2.py3-none-any.whl (6.5 kB)\n",
      "Collecting bayesian-optimization==1.0.1\n",
      "  Using cached bayesian-optimization-1.0.1.tar.gz (12 kB)\n",
      "Collecting beautifulsoup4==4.7.1\n",
      "  Using cached beautifulsoup4-4.7.1-py3-none-any.whl (94 kB)\n",
      "Collecting bitarray==0.8.3\n",
      "  Using cached bitarray-0.8.3.tar.gz (36 kB)\n",
      "Collecting bkcharts==0.2\n",
      "  Using cached bkcharts-0.2.tar.gz (97 kB)\n",
      "Collecting bleach==3.1.0\n",
      "  Using cached bleach-3.1.0-py2.py3-none-any.whl (157 kB)\n",
      "Collecting blis==0.2.4\n",
      "  Using cached blis-0.2.4-cp37-cp37m-macosx_10_6_intel.macosx_10_9_intel.macosx_10_9_x86_64.macosx_10_10_intel.macosx_10_10_x86_64.whl (3.0 MB)\n",
      "Collecting bokeh==1.0.4\n",
      "  Using cached bokeh-1.0.4.tar.gz (16.3 MB)\n",
      "Collecting boto==2.49.0\n",
      "  Using cached boto-2.49.0-py2.py3-none-any.whl (1.4 MB)\n",
      "Collecting boto3==1.9.130\n",
      "  Using cached boto3-1.9.130-py2.py3-none-any.whl (128 kB)\n",
      "Collecting botocore==1.12.130\n",
      "  Using cached botocore-1.12.130-py2.py3-none-any.whl (5.4 MB)\n",
      "Collecting Bottleneck==1.2.1\n",
      "  Using cached Bottleneck-1.2.1.tar.gz (105 kB)\n",
      "Collecting bz2file==0.98\n",
      "  Using cached bz2file-0.98.tar.gz (11 kB)\n",
      "Collecting cached-property==1.5.2\n",
      "  Using cached cached_property-1.5.2-py2.py3-none-any.whl (7.6 kB)\n",
      "Collecting cachetools==4.1.1\n",
      "  Using cached cachetools-4.1.1-py3-none-any.whl (10 kB)\n",
      "Collecting catboost==0.14.0\n",
      "  Using cached catboost-0.14.0-cp37-none-macosx_10_6_intel.macosx_10_9_intel.macosx_10_9_x86_64.macosx_10_10_intel.macosx_10_10_x86_64.whl (8.0 MB)\n",
      "Collecting category-encoders==2.0.0\n",
      "  Using cached category_encoders-2.0.0-py2.py3-none-any.whl (87 kB)\n",
      "Collecting certifi==2019.3.9\n",
      "  Using cached certifi-2019.3.9-py2.py3-none-any.whl (158 kB)\n",
      "Collecting cffi==1.12.2\n",
      "  Using cached cffi-1.12.2-cp37-cp37m-macosx_10_9_x86_64.whl (168 kB)\n",
      "Collecting chardet==3.0.4\n",
      "  Using cached chardet-3.0.4-py2.py3-none-any.whl (133 kB)\n",
      "Collecting Click==7\n",
      "  Using cached Click-7.0-py2.py3-none-any.whl (81 kB)\n",
      "Collecting cloudpickle==0.8.0\n",
      "  Using cached cloudpickle-0.8.0-py2.py3-none-any.whl (16 kB)\n",
      "\u001b[31mERROR: Could not find a version that satisfies the requirement clyent==1.2.2 (from versions: 0.1.0, 0.2.0, 0.2.1, 0.3.0, 0.3.2, 0.3.3, 0.3.4, 1.0.0, 1.0.1, 1.1.0, 1.2.0, 1.2.1)\u001b[0m\n",
      "\u001b[31mERROR: No matching distribution found for clyent==1.2.2\u001b[0m\n",
      "Note: you may need to restart the kernel to use updated packages.\n"
     ]
    }
   ],
   "source": [
    "pip install -r python_package_list_20210912.txt"
   ]
  },
  {
   "cell_type": "code",
   "execution_count": null,
   "id": "8060ce4d",
   "metadata": {},
   "outputs": [],
   "source": []
  }
 ],
 "metadata": {
  "kernelspec": {
   "display_name": "Python 3 (ipykernel)",
   "language": "python",
   "name": "python3"
  },
  "language_info": {
   "codemirror_mode": {
    "name": "ipython",
    "version": 3
   },
   "file_extension": ".py",
   "mimetype": "text/x-python",
   "name": "python",
   "nbconvert_exporter": "python",
   "pygments_lexer": "ipython3",
   "version": "3.7.11"
  }
 },
 "nbformat": 4,
 "nbformat_minor": 5
}
