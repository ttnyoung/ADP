{
 "cells": [
  {
   "cell_type": "markdown",
   "metadata": {},
   "source": [
    "## auto arima\n",
    "\n",
    "자동으로 sarima 분석을 수행할 수 있다."
   ]
  },
  {
   "cell_type": "code",
   "execution_count": 1,
   "metadata": {},
   "outputs": [],
   "source": [
    "import pandas as pd\n",
    "import matplotlib.pyplot as plt\n",
    "\n",
    "data = pd.read_csv('../data/arima_data.csv', names = ['day', 'price'])\n",
    "data['day'] = pd.to_datetime(data['day'],format=\"%Y-%m-%d\")\n",
    "data.set_index('day', inplace=True)\n",
    "s_data = data\n"
   ]
  },
  {
   "cell_type": "code",
   "execution_count": 2,
   "metadata": {},
   "outputs": [],
   "source": [
    "#!pip install pmdarima\n",
    "#!conda install pmdarima -y "
   ]
  },
  {
   "cell_type": "code",
   "execution_count": 3,
   "metadata": {},
   "outputs": [],
   "source": [
    "train_len = int(len(s_data)*0.8)\n",
    "training = s_data[:train_len]\n",
    "test = s_data.drop(training.index)"
   ]
  },
  {
   "cell_type": "code",
   "execution_count": 6,
   "metadata": {
    "scrolled": true
   },
   "outputs": [
    {
     "name": "stdout",
     "output_type": "stream",
     "text": [
      "Performing stepwise search to minimize aic\n",
      " ARIMA(2,0,2)(1,1,1)[12] intercept   : AIC=500.898, Time=0.77 sec\n",
      " ARIMA(0,0,0)(0,1,0)[12] intercept   : AIC=513.245, Time=0.01 sec\n",
      " ARIMA(1,0,0)(1,1,0)[12] intercept   : AIC=496.519, Time=0.13 sec\n",
      " ARIMA(0,0,1)(0,1,1)[12] intercept   : AIC=500.500, Time=0.42 sec\n",
      " ARIMA(0,0,0)(0,1,0)[12]             : AIC=569.050, Time=0.02 sec\n",
      " ARIMA(1,0,0)(0,1,0)[12] intercept   : AIC=495.874, Time=0.22 sec\n",
      " ARIMA(1,0,0)(0,1,1)[12] intercept   : AIC=496.035, Time=0.39 sec\n",
      " ARIMA(1,0,0)(1,1,1)[12] intercept   : AIC=498.479, Time=0.14 sec\n",
      " ARIMA(2,0,0)(0,1,0)[12] intercept   : AIC=497.831, Time=0.19 sec\n",
      " ARIMA(1,0,1)(0,1,0)[12] intercept   : AIC=497.839, Time=0.17 sec\n",
      " ARIMA(0,0,1)(0,1,0)[12] intercept   : AIC=501.105, Time=0.06 sec\n",
      " ARIMA(2,0,1)(0,1,0)[12] intercept   : AIC=499.873, Time=0.17 sec\n",
      " ARIMA(1,0,0)(0,1,0)[12]             : AIC=510.570, Time=0.06 sec\n",
      "\n",
      "Best model:  ARIMA(1,0,0)(0,1,0)[12] intercept\n",
      "Total fit time: 2.771 seconds\n"
     ]
    }
   ],
   "source": [
    "from pmdarima import auto_arima\n",
    "\n",
    "auto_model = auto_arima(training, start_P=1, D=1 , Q=1,\n",
    "                        max_P=5, max_D=5, max_Q=5, m=12,\n",
    "                        seasonal=True, information_criterion='aic',\n",
    "                        trace=True, stepwise=True)"
   ]
  },
  {
   "cell_type": "code",
   "execution_count": 8,
   "metadata": {
    "scrolled": false
   },
   "outputs": [
    {
     "data": {
      "text/html": [
       "<table class=\"simpletable\">\n",
       "<caption>SARIMAX Results</caption>\n",
       "<tr>\n",
       "  <th>Dep. Variable:</th>                  <td>y</td>               <th>  No. Observations:  </th>    <td>48</td>   \n",
       "</tr>\n",
       "<tr>\n",
       "  <th>Model:</th>           <td>SARIMAX(1, 0, 0)x(0, 1, 0, 12)</td> <th>  Log Likelihood     </th> <td>-244.937</td>\n",
       "</tr>\n",
       "<tr>\n",
       "  <th>Date:</th>                   <td>Fri, 10 Dec 2021</td>        <th>  AIC                </th>  <td>495.874</td>\n",
       "</tr>\n",
       "<tr>\n",
       "  <th>Time:</th>                       <td>06:27:40</td>            <th>  BIC                </th>  <td>500.625</td>\n",
       "</tr>\n",
       "<tr>\n",
       "  <th>Sample:</th>                         <td>0</td>               <th>  HQIC               </th>  <td>497.532</td>\n",
       "</tr>\n",
       "<tr>\n",
       "  <th></th>                              <td> - 48</td>             <th>                     </th>     <td> </td>   \n",
       "</tr>\n",
       "<tr>\n",
       "  <th>Covariance Type:</th>               <td>opg</td>              <th>                     </th>     <td> </td>   \n",
       "</tr>\n",
       "</table>\n",
       "<table class=\"simpletable\">\n",
       "<tr>\n",
       "      <td></td>         <th>coef</th>     <th>std err</th>      <th>z</th>      <th>P>|z|</th>  <th>[0.025</th>    <th>0.975]</th>  \n",
       "</tr>\n",
       "<tr>\n",
       "  <th>intercept</th> <td>  239.6144</td> <td>   71.575</td> <td>    3.348</td> <td> 0.001</td> <td>   99.331</td> <td>  379.898</td>\n",
       "</tr>\n",
       "<tr>\n",
       "  <th>ar.L1</th>     <td>    0.5607</td> <td>    0.093</td> <td>    6.009</td> <td> 0.000</td> <td>    0.378</td> <td>    0.744</td>\n",
       "</tr>\n",
       "<tr>\n",
       "  <th>sigma2</th>    <td> 4.342e+04</td> <td> 1.27e+04</td> <td>    3.411</td> <td> 0.001</td> <td> 1.85e+04</td> <td> 6.84e+04</td>\n",
       "</tr>\n",
       "</table>\n",
       "<table class=\"simpletable\">\n",
       "<tr>\n",
       "  <th>Ljung-Box (Q):</th>          <td>27.66</td> <th>  Jarque-Bera (JB):  </th> <td>1.08</td> \n",
       "</tr>\n",
       "<tr>\n",
       "  <th>Prob(Q):</th>                <td>0.81</td>  <th>  Prob(JB):          </th> <td>0.58</td> \n",
       "</tr>\n",
       "<tr>\n",
       "  <th>Heteroskedasticity (H):</th> <td>1.05</td>  <th>  Skew:              </th> <td>-0.09</td>\n",
       "</tr>\n",
       "<tr>\n",
       "  <th>Prob(H) (two-sided):</th>    <td>0.93</td>  <th>  Kurtosis:          </th> <td>2.17</td> \n",
       "</tr>\n",
       "</table><br/><br/>Warnings:<br/>[1] Covariance matrix calculated using the outer product of gradients (complex-step)."
      ],
      "text/plain": [
       "<class 'statsmodels.iolib.summary.Summary'>\n",
       "\"\"\"\n",
       "                                     SARIMAX Results                                      \n",
       "==========================================================================================\n",
       "Dep. Variable:                                  y   No. Observations:                   48\n",
       "Model:             SARIMAX(1, 0, 0)x(0, 1, 0, 12)   Log Likelihood                -244.937\n",
       "Date:                            Fri, 10 Dec 2021   AIC                            495.874\n",
       "Time:                                    06:27:40   BIC                            500.625\n",
       "Sample:                                         0   HQIC                           497.532\n",
       "                                             - 48                                         \n",
       "Covariance Type:                              opg                                         \n",
       "==============================================================================\n",
       "                 coef    std err          z      P>|z|      [0.025      0.975]\n",
       "------------------------------------------------------------------------------\n",
       "intercept    239.6144     71.575      3.348      0.001      99.331     379.898\n",
       "ar.L1          0.5607      0.093      6.009      0.000       0.378       0.744\n",
       "sigma2      4.342e+04   1.27e+04      3.411      0.001    1.85e+04    6.84e+04\n",
       "===================================================================================\n",
       "Ljung-Box (Q):                       27.66   Jarque-Bera (JB):                 1.08\n",
       "Prob(Q):                              0.81   Prob(JB):                         0.58\n",
       "Heteroskedasticity (H):               1.05   Skew:                            -0.09\n",
       "Prob(H) (two-sided):                  0.93   Kurtosis:                         2.17\n",
       "===================================================================================\n",
       "\n",
       "Warnings:\n",
       "[1] Covariance matrix calculated using the outer product of gradients (complex-step).\n",
       "\"\"\""
      ]
     },
     "execution_count": 8,
     "metadata": {},
     "output_type": "execute_result"
    }
   ],
   "source": [
    "auto_model.summary()"
   ]
  },
  {
   "cell_type": "markdown",
   "metadata": {},
   "source": [
    "각 요소의 P-value와  AIC 확인"
   ]
  },
  {
   "cell_type": "code",
   "execution_count": 9,
   "metadata": {
    "scrolled": true
   },
   "outputs": [
    {
     "data": {
      "text/html": [
       "<div>\n",
       "<style scoped>\n",
       "    .dataframe tbody tr th:only-of-type {\n",
       "        vertical-align: middle;\n",
       "    }\n",
       "\n",
       "    .dataframe tbody tr th {\n",
       "        vertical-align: top;\n",
       "    }\n",
       "\n",
       "    .dataframe thead th {\n",
       "        text-align: right;\n",
       "    }\n",
       "</style>\n",
       "<table border=\"1\" class=\"dataframe\">\n",
       "  <thead>\n",
       "    <tr style=\"text-align: right;\">\n",
       "      <th></th>\n",
       "      <th>0</th>\n",
       "    </tr>\n",
       "    <tr>\n",
       "      <th>day</th>\n",
       "      <th></th>\n",
       "    </tr>\n",
       "  </thead>\n",
       "  <tbody>\n",
       "    <tr>\n",
       "      <th>2017-01-01</th>\n",
       "      <td>5654.661643</td>\n",
       "    </tr>\n",
       "    <tr>\n",
       "      <th>2017-02-01</th>\n",
       "      <td>5762.178918</td>\n",
       "    </tr>\n",
       "    <tr>\n",
       "      <th>2017-03-01</th>\n",
       "      <td>7201.238739</td>\n",
       "    </tr>\n",
       "    <tr>\n",
       "      <th>2017-04-01</th>\n",
       "      <td>8260.255501</td>\n",
       "    </tr>\n",
       "    <tr>\n",
       "      <th>2017-05-01</th>\n",
       "      <td>8795.415504</td>\n",
       "    </tr>\n",
       "    <tr>\n",
       "      <th>2017-06-01</th>\n",
       "      <td>9402.019844</td>\n",
       "    </tr>\n",
       "    <tr>\n",
       "      <th>2017-07-01</th>\n",
       "      <td>10306.555324</td>\n",
       "    </tr>\n",
       "    <tr>\n",
       "      <th>2017-08-01</th>\n",
       "      <td>8723.173539</td>\n",
       "    </tr>\n",
       "    <tr>\n",
       "      <th>2017-09-01</th>\n",
       "      <td>8013.398812</td>\n",
       "    </tr>\n",
       "    <tr>\n",
       "      <th>2017-10-01</th>\n",
       "      <td>7776.964445</td>\n",
       "    </tr>\n",
       "    <tr>\n",
       "      <th>2017-11-01</th>\n",
       "      <td>7879.720908</td>\n",
       "    </tr>\n",
       "    <tr>\n",
       "      <th>2017-12-01</th>\n",
       "      <td>6223.584364</td>\n",
       "    </tr>\n",
       "  </tbody>\n",
       "</table>\n",
       "</div>"
      ],
      "text/plain": [
       "                       0\n",
       "day                     \n",
       "2017-01-01   5654.661643\n",
       "2017-02-01   5762.178918\n",
       "2017-03-01   7201.238739\n",
       "2017-04-01   8260.255501\n",
       "2017-05-01   8795.415504\n",
       "2017-06-01   9402.019844\n",
       "2017-07-01  10306.555324\n",
       "2017-08-01   8723.173539\n",
       "2017-09-01   8013.398812\n",
       "2017-10-01   7776.964445\n",
       "2017-11-01   7879.720908\n",
       "2017-12-01   6223.584364"
      ]
     },
     "execution_count": 9,
     "metadata": {},
     "output_type": "execute_result"
    }
   ],
   "source": [
    "# 학습 데이터셋으로부터 test 데이터 길이만큼 예측\n",
    "prediction= pd.DataFrame(auto_model.predict(n_periods=len(test)), \n",
    "                          index=test.index) \n",
    "prediction"
   ]
  },
  {
   "cell_type": "code",
   "execution_count": 10,
   "metadata": {},
   "outputs": [
    {
     "data": {
      "text/html": [
       "<div>\n",
       "<style scoped>\n",
       "    .dataframe tbody tr th:only-of-type {\n",
       "        vertical-align: middle;\n",
       "    }\n",
       "\n",
       "    .dataframe tbody tr th {\n",
       "        vertical-align: top;\n",
       "    }\n",
       "\n",
       "    .dataframe thead th {\n",
       "        text-align: right;\n",
       "    }\n",
       "</style>\n",
       "<table border=\"1\" class=\"dataframe\">\n",
       "  <thead>\n",
       "    <tr style=\"text-align: right;\">\n",
       "      <th></th>\n",
       "      <th>predicted_price</th>\n",
       "    </tr>\n",
       "    <tr>\n",
       "      <th>day</th>\n",
       "      <th></th>\n",
       "    </tr>\n",
       "  </thead>\n",
       "  <tbody>\n",
       "    <tr>\n",
       "      <th>2017-01-01</th>\n",
       "      <td>5654.661643</td>\n",
       "    </tr>\n",
       "    <tr>\n",
       "      <th>2017-02-01</th>\n",
       "      <td>5762.178918</td>\n",
       "    </tr>\n",
       "    <tr>\n",
       "      <th>2017-03-01</th>\n",
       "      <td>7201.238739</td>\n",
       "    </tr>\n",
       "    <tr>\n",
       "      <th>2017-04-01</th>\n",
       "      <td>8260.255501</td>\n",
       "    </tr>\n",
       "    <tr>\n",
       "      <th>2017-05-01</th>\n",
       "      <td>8795.415504</td>\n",
       "    </tr>\n",
       "    <tr>\n",
       "      <th>2017-06-01</th>\n",
       "      <td>9402.019844</td>\n",
       "    </tr>\n",
       "    <tr>\n",
       "      <th>2017-07-01</th>\n",
       "      <td>10306.555324</td>\n",
       "    </tr>\n",
       "    <tr>\n",
       "      <th>2017-08-01</th>\n",
       "      <td>8723.173539</td>\n",
       "    </tr>\n",
       "    <tr>\n",
       "      <th>2017-09-01</th>\n",
       "      <td>8013.398812</td>\n",
       "    </tr>\n",
       "    <tr>\n",
       "      <th>2017-10-01</th>\n",
       "      <td>7776.964445</td>\n",
       "    </tr>\n",
       "    <tr>\n",
       "      <th>2017-11-01</th>\n",
       "      <td>7879.720908</td>\n",
       "    </tr>\n",
       "    <tr>\n",
       "      <th>2017-12-01</th>\n",
       "      <td>6223.584364</td>\n",
       "    </tr>\n",
       "  </tbody>\n",
       "</table>\n",
       "</div>"
      ],
      "text/plain": [
       "            predicted_price\n",
       "day                        \n",
       "2017-01-01      5654.661643\n",
       "2017-02-01      5762.178918\n",
       "2017-03-01      7201.238739\n",
       "2017-04-01      8260.255501\n",
       "2017-05-01      8795.415504\n",
       "2017-06-01      9402.019844\n",
       "2017-07-01     10306.555324\n",
       "2017-08-01      8723.173539\n",
       "2017-09-01      8013.398812\n",
       "2017-10-01      7776.964445\n",
       "2017-11-01      7879.720908\n",
       "2017-12-01      6223.584364"
      ]
     },
     "execution_count": 10,
     "metadata": {},
     "output_type": "execute_result"
    }
   ],
   "source": [
    "prediction.columns = ['predicted_price']\n",
    "prediction"
   ]
  },
  {
   "cell_type": "code",
   "execution_count": 11,
   "metadata": {},
   "outputs": [
    {
     "data": {
      "image/png": "[encoded data removed]",
      "text/plain": [
       "<Figure size 720x432 with 1 Axes>"
      ]
     },
     "metadata": {
      "needs_background": "light"
     },
     "output_type": "display_data"
    }
   ],
   "source": [
    "plt.figure(figsize=(10,6))\n",
    "plt.plot(training, label=\"Train\") # Train 데이터 \n",
    "plt.plot(prediction, label=\"Prediction\") # 모델이 예상한 그래프 \n",
    "plt.plot(test, label=\"Test\") # 실제 가격 그래프 \n",
    "\n",
    "plt.legend(loc='upper left')\n",
    "plt.show()"
   ]
  },
  {
   "cell_type": "code",
   "execution_count": 12,
   "metadata": {
    "scrolled": true
   },
   "outputs": [
    {
     "data": {
      "text/plain": [
       "0.9415943476073537"
      ]
     },
     "execution_count": 12,
     "metadata": {},
     "output_type": "execute_result"
    }
   ],
   "source": [
    "from sklearn.metrics import r2_score,mean_squared_error\n",
    "test['predicted_price'] = prediction\n",
    "r2_score(test['price'], test['predicted_price'])"
   ]
  },
  {
   "cell_type": "code",
   "execution_count": 13,
   "metadata": {},
   "outputs": [
    {
     "data": {
      "text/plain": [
       "342.23949855666933"
      ]
     },
     "execution_count": 13,
     "metadata": {},
     "output_type": "execute_result"
    }
   ],
   "source": [
    "import numpy as np\n",
    "import math\n",
    "rmse = np.sqrt(mean_squared_error(test['price'], test['predicted_price']))\n",
    "rmse "
   ]
  },
  {
   "cell_type": "code",
   "execution_count": 14,
   "metadata": {},
   "outputs": [
    {
     "data": {
      "text/plain": [
       "12"
      ]
     },
     "execution_count": 14,
     "metadata": {},
     "output_type": "execute_result"
    }
   ],
   "source": [
    "len(test['price'])"
   ]
  },
  {
   "cell_type": "markdown",
   "metadata": {},
   "source": [
    "### 결과 해석\n",
    "\n",
    "* 1) 시계열 데이터 분석한 결과 1년 주기의 계절성을 가지고 있음을 확인할 수 있었다. \n",
    "* 2) 또한 우상향하는 추세가 있음을 알 수 있었다. \n",
    "* 3) 추세를 가지고 있으므로 1차 차분을 해줘야 한다. \n",
    "\n",
    "* 계절성을 가지고 있으므로 예측 모형은 SARIMA를 사용하였다. \n",
    "* 최적의 매개변수를 갖는 SARIMAX(1, 0, 0)x(0, 1, 0, 12) 모델의 설명력은 94.1%로 예측의 정확도가 매우 높았다. \n",
    "* 예측값과 실제값의 차이는 평균적으로 342 정도 난다고 할 수 있다.  "
   ]
  },
  {
   "cell_type": "code",
   "execution_count": null,
   "metadata": {},
   "outputs": [],
   "source": []
  }
 ],
 "metadata": {
  "kernelspec": {
   "display_name": "Python 3 (ipykernel)",
   "language": "python",
   "name": "python3"
  },
  "language_info": {
   "codemirror_mode": {
    "name": "ipython",
    "version": 3
   },
   "file_extension": ".py",
   "mimetype": "text/x-python",
   "name": "python",
   "nbconvert_exporter": "python",
   "pygments_lexer": "ipython3",
   "version": "3.7.11"
  },
  "toc": {
   "base_numbering": "9.6",
   "nav_menu": {},
   "number_sections": true,
   "sideBar": true,
   "skip_h1_title": false,
   "title_cell": "Table of Contents",
   "title_sidebar": "Contents",
   "toc_cell": false,
   "toc_position": {},
   "toc_section_display": true,
   "toc_window_display": false
  }
 },
 "nbformat": 4,
 "nbformat_minor": 4
}
