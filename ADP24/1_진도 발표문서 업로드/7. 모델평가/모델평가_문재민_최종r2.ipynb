{
 "cells": [
  {
   "cell_type": "markdown",
   "id": "e9ff0903",
   "metadata": {},
   "source": [
    "# 모델별 평가 방법 요약\n",
    "\n",
    "https://scikit-learn.org/stable/modules/model_evaluation.html\n",
    "\n",
    "## 분류\n",
    "- 로지스틱 분류 / 의사결정나무 / 앙상블 / 인공신경망 / KNN / SVM SVC...   \n",
    "\n",
    "__관련 클래스__\n",
    "- metrics.accuracy_score\n",
    "- metrics.f1_score\n",
    "- metrics.precision_score\n",
    "- metrics.recall_score\n",
    "- metrics.roc_auc_score(multi_class=, weight=)\n",
    "- metrics.classification_report\n",
    "- metircs.confusion_matrix  \n",
    "\n",
    "__이진 분류__  \n",
    "- titanic.survived [0,1]  \n",
    "\n",
    "__멀티 클래스 분류__  \n",
    "- iris.target [0,1,2]\n",
    "\n",
    "\n",
    "\n",
    ">from sklearn.metrics import confusion_matrix, accuracy_score, recall_score, precision_score, f1_score, classification_report\n",
    ">\n",
    "\n",
    "## 회귀\n",
    "- 선형 회귀 / 릿지라쏘 / 의사결정나무 회귀 / 앙상블 회귀 / ...\n",
    "- metrics.mean_squared_error\n",
    "    - RMSE\n",
    "- metrics.r2_score\n",
    "\n",
    "## 비계층적 군집\n",
    "- 비지도 학습 -> 평가를 할 수가 없음\n",
    "- 더 나은 모델을 찾기 위한 (매개변수를 찾기 위한) score\n",
    "- k-means / DBSCAN / ...\n",
    "- 군집 간 응집도 / 군집 내 응집도 -> 높을수록 좋다!\n",
    ">metrics.calinski_harabasz_score(X, labels)  \n",
    "Compute the Calinski and Harabasz score.  \n",
    "The score is defined as ratio between the within-cluster dispersion and the between-cluster dispersion.  \n",
    "모든 클러스터에 대한 클러스터 간 분산과 / 클러스터 내 분산의 합의 비율 (높을수록 높음)\n",
    ">\n",
    ">metrics.silhouette_score(X, labels, *[, ...])  \n",
    "Compute the mean Silhouette Coefficient of all samples.  \n",
    "개별 데이터가 가지는 실루엣 계수는 해당 데이터가 같은 군집 내의 데이터와 얼마나 가깝게 군집화 돼있고, 다른 군집에 있는 데이터와는 어얼마나 멀리 분리돼 있는지를 나타내는 지표이다 . (0~1, 1이 제일 좋음)\n",
    "https://studying-haeung.tistory.com/10\n",
    ">\n",
    ">엘보우기법  \n",
    "클러스터 내 오차제곱합(SSE)을 클러스터 개수마다 비교  \n",
    "클러스터 개수를 늘려나가면서 계산한 SSE를 비교  \n",
    "어느 순간 줄어드는 비율이 급격하게 작아지는 부분과 기울기가 소실되는 구간이 생김 (=팔꿈치, eblow)  \n",
    ">\n",
    "\n"
   ]
  },
  {
   "cell_type": "markdown",
   "id": "d9a15ad4",
   "metadata": {},
   "source": [
    "ROC 커브 그릴때는 확률값임 (prob) __단, 의사결정 나무 등 제외__\n",
    ">In the binary case, it corresponds to an array of shape (n_samples,). **Both probability estimates and non-thresholded decision values can be provided.** The probability estimates correspond to the probability of the class with the greater label, i.e. estimator.classes_[1] and thus estimator.predict_proba(X, y)[:, 1]. The decision values corresponds to the output of estimator.decision_function(X, y). See more information in the User guide;\n",
    "\n",
    ">In the multiclass case, it corresponds to an array of shape (n_samples, n_classes) of **probability estimates provided by the predict_proba method.** The probability estimates must sum to 1 across the possible classes. In addition, the order of the class scores must correspond to the order of labels, if provided, or else to the numerical or lexicographical order of the labels in y_true. See more information in the User guide;\n",
    "\n",
    ">In the multilabel case, it corresponds to an array of shape (n_samples, n_classes). **Probability estimates are provided by the predict_proba method and the non-thresholded decision values by the decision_function method.** The probability estimates correspond to the probability of the class with the greater label for each output of the classifier. See more information in the User guide.\n",
    "\n",
    "\"non-thresholded decision values\" 0 또는 1 값 아님  \n",
    ">You might be confused by the term \"non-thresholded decision-values\" but this does not describe predicted labels (rather decision functions like the ones you can find on support vector classification  \n",
    ">https://stackoverflow.com/questions/65275314/confusion-on-sklearns-roc-auc-score-method\n",
    ">\n",
    "\n"
   ]
  },
  {
   "cell_type": "markdown",
   "id": "fe256210",
   "metadata": {},
   "source": [
    "## 교차검증\n",
    "### 모델 선택을 위한 score 산출 w/ 교차 검증\n",
    "    - cv5_scores = cross_val_score(model, X, y, cv = 5)\n",
    "    - cv5_scores_kfold = cross_val_score(model, X, y, cv = kfold)\n",
    "    - cv5_scores_skfold = cross_val_score(model, X, y, cv = skfold)  \n",
    "\n",
    "### 매개변수 도출을 위한 그리드 서치 w/ 교차 검증\n",
    "    - model_grid_tree = GridSearchCV(DecisionTreeClassifier(), param_grid, cv=5)\n"
   ]
  },
  {
   "cell_type": "markdown",
   "id": "8da260e9",
   "metadata": {},
   "source": [
    "# 평가 방법 실습"
   ]
  },
  {
   "cell_type": "markdown",
   "id": "a0d10fa2",
   "metadata": {},
   "source": [
    "## 분류"
   ]
  },
  {
   "cell_type": "markdown",
   "id": "91bb3b74",
   "metadata": {},
   "source": [
    "### 분류_로지스틱 이진 분류\n",
    "- titanic 데이터 survived"
   ]
  },
  {
   "cell_type": "code",
   "execution_count": 186,
   "id": "c9638720",
   "metadata": {},
   "outputs": [
    {
     "name": "stdout",
     "output_type": "stream",
     "text": [
      "<class 'pandas.core.frame.DataFrame'>\n",
      "Int64Index: 712 entries, 0 to 890\n",
      "Data columns (total 11 columns):\n",
      " #   Column       Non-Null Count  Dtype  \n",
      "---  ------       --------------  -----  \n",
      " 0   survived     712 non-null    int64  \n",
      " 1   pclass       712 non-null    int64  \n",
      " 2   sex          712 non-null    object \n",
      " 3   age          712 non-null    float64\n",
      " 4   sibsp        712 non-null    int64  \n",
      " 5   parch        712 non-null    int64  \n",
      " 6   fare         712 non-null    float64\n",
      " 7   embarked     712 non-null    object \n",
      " 8   class        712 non-null    object \n",
      " 9   adult_male   712 non-null    bool   \n",
      " 10  embark_town  712 non-null    object \n",
      "dtypes: bool(1), float64(2), int64(4), object(4)\n",
      "memory usage: 61.9+ KB\n"
     ]
    }
   ],
   "source": [
    "import pandas as pd\n",
    "import numpy as np\n",
    "\n",
    "titanic = pd.read_csv('./titanic.csv')\n",
    "titanic.dropna(inplace=True)\n",
    "titanic.info()"
   ]
  },
  {
   "cell_type": "code",
   "execution_count": 187,
   "id": "f1c11faa",
   "metadata": {},
   "outputs": [],
   "source": [
    "X= titanic.drop(columns=['survived','pclass','embarked'],axis=1)\n",
    "y= titanic.survived"
   ]
  },
  {
   "cell_type": "code",
   "execution_count": 188,
   "id": "3bf33484",
   "metadata": {},
   "outputs": [
    {
     "data": {
      "text/plain": [
       "0    424\n",
       "1    288\n",
       "Name: survived, dtype: int64"
      ]
     },
     "execution_count": 188,
     "metadata": {},
     "output_type": "execute_result"
    }
   ],
   "source": [
    "y.value_counts()"
   ]
  },
  {
   "cell_type": "code",
   "execution_count": 189,
   "id": "15fa8fa6",
   "metadata": {},
   "outputs": [],
   "source": [
    "X = pd.get_dummies(columns=['sex','class','adult_male','embark_town'], data=X, drop_first=True)"
   ]
  },
  {
   "cell_type": "code",
   "execution_count": 192,
   "id": "aa587800",
   "metadata": {},
   "outputs": [
    {
     "data": {
      "text/html": [
       "<div>\n",
       "<style scoped>\n",
       "    .dataframe tbody tr th:only-of-type {\n",
       "        vertical-align: middle;\n",
       "    }\n",
       "\n",
       "    .dataframe tbody tr th {\n",
       "        vertical-align: top;\n",
       "    }\n",
       "\n",
       "    .dataframe thead th {\n",
       "        text-align: right;\n",
       "    }\n",
       "</style>\n",
       "<table border=\"1\" class=\"dataframe\">\n",
       "  <thead>\n",
       "    <tr style=\"text-align: right;\">\n",
       "      <th></th>\n",
       "      <th>age</th>\n",
       "      <th>sibsp</th>\n",
       "      <th>parch</th>\n",
       "      <th>fare</th>\n",
       "      <th>sex_male</th>\n",
       "      <th>class_Second</th>\n",
       "      <th>class_Third</th>\n",
       "      <th>adult_male_True</th>\n",
       "      <th>embark_town_Queenstown</th>\n",
       "      <th>embark_town_Southampton</th>\n",
       "    </tr>\n",
       "  </thead>\n",
       "  <tbody>\n",
       "    <tr>\n",
       "      <th>0</th>\n",
       "      <td>22.0</td>\n",
       "      <td>1</td>\n",
       "      <td>0</td>\n",
       "      <td>7.2500</td>\n",
       "      <td>1</td>\n",
       "      <td>0</td>\n",
       "      <td>1</td>\n",
       "      <td>1</td>\n",
       "      <td>0</td>\n",
       "      <td>1</td>\n",
       "    </tr>\n",
       "    <tr>\n",
       "      <th>1</th>\n",
       "      <td>38.0</td>\n",
       "      <td>1</td>\n",
       "      <td>0</td>\n",
       "      <td>71.2833</td>\n",
       "      <td>0</td>\n",
       "      <td>0</td>\n",
       "      <td>0</td>\n",
       "      <td>0</td>\n",
       "      <td>0</td>\n",
       "      <td>0</td>\n",
       "    </tr>\n",
       "    <tr>\n",
       "      <th>2</th>\n",
       "      <td>26.0</td>\n",
       "      <td>0</td>\n",
       "      <td>0</td>\n",
       "      <td>7.9250</td>\n",
       "      <td>0</td>\n",
       "      <td>0</td>\n",
       "      <td>1</td>\n",
       "      <td>0</td>\n",
       "      <td>0</td>\n",
       "      <td>1</td>\n",
       "    </tr>\n",
       "    <tr>\n",
       "      <th>3</th>\n",
       "      <td>35.0</td>\n",
       "      <td>1</td>\n",
       "      <td>0</td>\n",
       "      <td>53.1000</td>\n",
       "      <td>0</td>\n",
       "      <td>0</td>\n",
       "      <td>0</td>\n",
       "      <td>0</td>\n",
       "      <td>0</td>\n",
       "      <td>1</td>\n",
       "    </tr>\n",
       "    <tr>\n",
       "      <th>4</th>\n",
       "      <td>35.0</td>\n",
       "      <td>0</td>\n",
       "      <td>0</td>\n",
       "      <td>8.0500</td>\n",
       "      <td>1</td>\n",
       "      <td>0</td>\n",
       "      <td>1</td>\n",
       "      <td>1</td>\n",
       "      <td>0</td>\n",
       "      <td>1</td>\n",
       "    </tr>\n",
       "    <tr>\n",
       "      <th>...</th>\n",
       "      <td>...</td>\n",
       "      <td>...</td>\n",
       "      <td>...</td>\n",
       "      <td>...</td>\n",
       "      <td>...</td>\n",
       "      <td>...</td>\n",
       "      <td>...</td>\n",
       "      <td>...</td>\n",
       "      <td>...</td>\n",
       "      <td>...</td>\n",
       "    </tr>\n",
       "    <tr>\n",
       "      <th>885</th>\n",
       "      <td>39.0</td>\n",
       "      <td>0</td>\n",
       "      <td>5</td>\n",
       "      <td>29.1250</td>\n",
       "      <td>0</td>\n",
       "      <td>0</td>\n",
       "      <td>1</td>\n",
       "      <td>0</td>\n",
       "      <td>1</td>\n",
       "      <td>0</td>\n",
       "    </tr>\n",
       "    <tr>\n",
       "      <th>886</th>\n",
       "      <td>27.0</td>\n",
       "      <td>0</td>\n",
       "      <td>0</td>\n",
       "      <td>13.0000</td>\n",
       "      <td>1</td>\n",
       "      <td>1</td>\n",
       "      <td>0</td>\n",
       "      <td>1</td>\n",
       "      <td>0</td>\n",
       "      <td>1</td>\n",
       "    </tr>\n",
       "    <tr>\n",
       "      <th>887</th>\n",
       "      <td>19.0</td>\n",
       "      <td>0</td>\n",
       "      <td>0</td>\n",
       "      <td>30.0000</td>\n",
       "      <td>0</td>\n",
       "      <td>0</td>\n",
       "      <td>0</td>\n",
       "      <td>0</td>\n",
       "      <td>0</td>\n",
       "      <td>1</td>\n",
       "    </tr>\n",
       "    <tr>\n",
       "      <th>889</th>\n",
       "      <td>26.0</td>\n",
       "      <td>0</td>\n",
       "      <td>0</td>\n",
       "      <td>30.0000</td>\n",
       "      <td>1</td>\n",
       "      <td>0</td>\n",
       "      <td>0</td>\n",
       "      <td>1</td>\n",
       "      <td>0</td>\n",
       "      <td>0</td>\n",
       "    </tr>\n",
       "    <tr>\n",
       "      <th>890</th>\n",
       "      <td>32.0</td>\n",
       "      <td>0</td>\n",
       "      <td>0</td>\n",
       "      <td>7.7500</td>\n",
       "      <td>1</td>\n",
       "      <td>0</td>\n",
       "      <td>1</td>\n",
       "      <td>1</td>\n",
       "      <td>1</td>\n",
       "      <td>0</td>\n",
       "    </tr>\n",
       "  </tbody>\n",
       "</table>\n",
       "<p>712 rows × 10 columns</p>\n",
       "</div>"
      ],
      "text/plain": [
       "      age  sibsp  parch     fare  sex_male  class_Second  class_Third  \\\n",
       "0    22.0      1      0   7.2500         1             0            1   \n",
       "1    38.0      1      0  71.2833         0             0            0   \n",
       "2    26.0      0      0   7.9250         0             0            1   \n",
       "3    35.0      1      0  53.1000         0             0            0   \n",
       "4    35.0      0      0   8.0500         1             0            1   \n",
       "..    ...    ...    ...      ...       ...           ...          ...   \n",
       "885  39.0      0      5  29.1250         0             0            1   \n",
       "886  27.0      0      0  13.0000         1             1            0   \n",
       "887  19.0      0      0  30.0000         0             0            0   \n",
       "889  26.0      0      0  30.0000         1             0            0   \n",
       "890  32.0      0      0   7.7500         1             0            1   \n",
       "\n",
       "     adult_male_True  embark_town_Queenstown  embark_town_Southampton  \n",
       "0                  1                       0                        1  \n",
       "1                  0                       0                        0  \n",
       "2                  0                       0                        1  \n",
       "3                  0                       0                        1  \n",
       "4                  1                       0                        1  \n",
       "..               ...                     ...                      ...  \n",
       "885                0                       1                        0  \n",
       "886                1                       0                        1  \n",
       "887                0                       0                        1  \n",
       "889                1                       0                        0  \n",
       "890                1                       1                        0  \n",
       "\n",
       "[712 rows x 10 columns]"
      ]
     },
     "execution_count": 192,
     "metadata": {},
     "output_type": "execute_result"
    }
   ],
   "source": [
    "X"
   ]
  },
  {
   "cell_type": "code",
   "execution_count": 193,
   "id": "151da84a",
   "metadata": {},
   "outputs": [],
   "source": [
    "from sklearn.model_selection import train_test_split\n",
    "\n",
    "X_train, X_test, y_train, y_test = train_test_split(X, y, stratify=y, train_size=0.7,\n",
    "                                                   test_size = 0.3, random_state=123)"
   ]
  },
  {
   "cell_type": "code",
   "execution_count": 200,
   "id": "a81aa1e0",
   "metadata": {},
   "outputs": [
    {
     "name": "stderr",
     "output_type": "stream",
     "text": [
      "/Users/hmc/opt/anaconda3/envs/ADP_Class/lib/python3.7/site-packages/sklearn/linear_model/_logistic.py:818: ConvergenceWarning: lbfgs failed to converge (status=1):\n",
      "STOP: TOTAL NO. of ITERATIONS REACHED LIMIT.\n",
      "\n",
      "Increase the number of iterations (max_iter) or scale the data as shown in:\n",
      "    https://scikit-learn.org/stable/modules/preprocessing.html\n",
      "Please also refer to the documentation for alternative solver options:\n",
      "    https://scikit-learn.org/stable/modules/linear_model.html#logistic-regression\n",
      "  extra_warning_msg=_LOGISTIC_SOLVER_CONVERGENCE_MSG,\n"
     ]
    }
   ],
   "source": [
    "from sklearn.linear_model import LogisticRegression\n",
    "\n",
    "model = LogisticRegression()\n",
    "result = model.fit(X_train, y_train)"
   ]
  },
  {
   "cell_type": "code",
   "execution_count": 201,
   "id": "a7910d25",
   "metadata": {},
   "outputs": [
    {
     "data": {
      "text/plain": [
       "array([0, 0, 0, 0, 0, 0, 0, 0, 1, 1, 0, 1, 0, 1, 0, 1, 0, 0, 1, 0, 0, 1,\n",
       "       1, 0, 1, 0, 0, 0, 0, 0, 1, 0, 0, 1, 1, 1, 0, 0, 0, 0, 0, 1, 0, 0,\n",
       "       0, 1, 0, 0, 0, 0, 0, 1, 0, 0, 1, 0, 1, 1, 0, 0, 1, 1, 0, 0, 1, 1,\n",
       "       1, 0, 0, 0, 0, 0, 0, 1, 0, 1, 0, 0, 0, 1, 0, 1, 0, 1, 0, 0, 0, 1,\n",
       "       0, 0, 1, 0, 0, 0, 0, 0, 0, 1, 0, 0, 0, 0, 0, 0, 1, 0, 1, 0, 1, 1,\n",
       "       0, 0, 0, 0, 0, 1, 1, 0, 1, 1, 0, 0, 1, 0, 1, 0, 0, 1, 1, 0, 0, 0,\n",
       "       0, 0, 1, 0, 0, 1, 1, 1, 1, 0, 1, 0, 1, 0, 0, 1, 1, 1, 0, 1, 1, 0,\n",
       "       1, 0, 1, 0, 0, 1, 0, 1, 0, 0, 0, 0, 1, 0, 1, 0, 0, 0, 1, 1, 1, 0,\n",
       "       1, 0, 0, 0, 0, 1, 1, 0, 0, 0, 0, 0, 1, 0, 1, 0, 1, 0, 0, 1, 1, 0,\n",
       "       1, 0, 0, 1, 1, 0, 0, 0, 0, 1, 1, 0, 0, 0, 0, 0])"
      ]
     },
     "execution_count": 201,
     "metadata": {},
     "output_type": "execute_result"
    }
   ],
   "source": [
    "y_pred = result.predict(X_test)\n",
    "y_pred"
   ]
  },
  {
   "cell_type": "code",
   "execution_count": 202,
   "id": "a51327d7",
   "metadata": {},
   "outputs": [
    {
     "ename": "AttributeError",
     "evalue": "'LogisticRegression' object has no attribute 'summary'",
     "output_type": "error",
     "traceback": [
      "\u001b[0;31m---------------------------------------------------------------------------\u001b[0m",
      "\u001b[0;31mAttributeError\u001b[0m                            Traceback (most recent call last)",
      "\u001b[0;32m/var/folders/6j/h2vyb9_j0mn_90drfhhgggv00000gn/T/ipykernel_3987/3235888500.py\u001b[0m in \u001b[0;36m<module>\u001b[0;34m\u001b[0m\n\u001b[0;32m----> 1\u001b[0;31m \u001b[0mresult\u001b[0m\u001b[0;34m.\u001b[0m\u001b[0msummary\u001b[0m\u001b[0;34m(\u001b[0m\u001b[0;34m)\u001b[0m\u001b[0;34m\u001b[0m\u001b[0;34m\u001b[0m\u001b[0m\n\u001b[0m",
      "\u001b[0;31mAttributeError\u001b[0m: 'LogisticRegression' object has no attribute 'summary'"
     ]
    }
   ],
   "source": [
    "result.summary()"
   ]
  },
  {
   "cell_type": "code",
   "execution_count": 179,
   "id": "adb9366d",
   "metadata": {
    "scrolled": false
   },
   "outputs": [
    {
     "name": "stdout",
     "output_type": "stream",
     "text": [
      "[[112  15]\n",
      " [ 22  65]]\n",
      "TN, FP\n",
      "FN, TP \n",
      "\n",
      "Acuuracy :  0.8271028037383178\n",
      "옳게 예측한 확률, TP+TN / TOTAL \n",
      "\n",
      "Sensitivity(recall) :  0.7471264367816092\n",
      "True Positive Rate \n",
      "\n",
      "precision_score :  0.8125\n",
      "정밀도, TP / TP + FP\n",
      "\n",
      "f1_score :  0.778443113772455\n",
      "2 * recall * precision / (recall + precision)\n",
      "불균형 데이터라서...f1을 쓰는게 바람직함. survived==0의 갯수가 1에 비해 많음.\n",
      "              precision    recall  f1-score   support\n",
      "\n",
      "           0       0.84      0.88      0.86       127\n",
      "           1       0.81      0.75      0.78        87\n",
      "\n",
      "    accuracy                           0.83       214\n",
      "   macro avg       0.82      0.81      0.82       214\n",
      "weighted avg       0.83      0.83      0.83       214\n",
      "\n"
     ]
    }
   ],
   "source": [
    "from sklearn.metrics import confusion_matrix, accuracy_score, recall_score, precision_score, f1_score, classification_report\n",
    "\n",
    "cm = confusion_matrix(y_test,y_pred)\n",
    "print(cm)\n",
    "print(\"TN, FP\")\n",
    "print(\"FN, TP \\n\")\n",
    "\n",
    "print(\"Acuuracy : \", accuracy_score(y_test, y_pred))\n",
    "print(\"옳게 예측한 확률, TP+TN / TOTAL \\n\")\n",
    "\n",
    "print(\"Sensitivity(recall) : \", recall_score(y_test, y_pred))\n",
    "print(\"True Positive Rate \\n\")\n",
    "\n",
    "print(\"precision_score : \", precision_score(y_test, y_pred))\n",
    "print(\"정밀도, TP / TP + FP\\n\")\n",
    "\n",
    "print(\"f1_score : \", f1_score(y_test, y_pred))\n",
    "print(\"2 * recall * precision / (recall + precision)\")\n",
    "print(\"불균형 데이터라서...f1을 쓰는게 바람직함. survived==0의 갯수가 1에 비해 많음.\")\n",
    "\n",
    "class_report = classification_report(y_test, y_pred)\n",
    "print(class_report)"
   ]
  },
  {
   "cell_type": "code",
   "execution_count": 196,
   "id": "69cc661f",
   "metadata": {},
   "outputs": [
    {
     "name": "stdout",
     "output_type": "stream",
     "text": [
      "[[114  13]\n",
      " [ 22  65]]\n",
      "TN, FP\n",
      "FN, TP \n",
      "\n",
      "Acuuracy :  0.8364485981308412\n",
      "옳게 예측한 확률, TP+TN / TOTAL \n",
      "\n",
      "Sensitivity(recall) :  0.7471264367816092\n",
      "True Positive Rate \n",
      "\n",
      "precision_score :  0.8333333333333334\n",
      "정밀도, TP / TP + FP\n",
      "\n",
      "f1_score :  0.787878787878788\n",
      "2 * recall * precision / (recall + precision)\n",
      "불균형 데이터라서...f1을 쓰는게 바람직함. survived==0의 갯수가 1에 비해 많음.\n",
      "              precision    recall  f1-score   support\n",
      "\n",
      "           0       0.84      0.90      0.87       127\n",
      "           1       0.83      0.75      0.79        87\n",
      "\n",
      "    accuracy                           0.84       214\n",
      "   macro avg       0.84      0.82      0.83       214\n",
      "weighted avg       0.84      0.84      0.83       214\n",
      "\n"
     ]
    }
   ],
   "source": [
    "#####tofhdnsrj\n",
    "from sklearn.metrics import confusion_matrix, accuracy_score, recall_score, precision_score, f1_score, classification_report\n",
    "\n",
    "cm = confusion_matrix(y_test,y_pred)\n",
    "print(cm)\n",
    "print(\"TN, FP\")\n",
    "print(\"FN, TP \\n\")\n",
    "\n",
    "print(\"Acuuracy : \", accuracy_score(y_test, y_pred))\n",
    "print(\"옳게 예측한 확률, TP+TN / TOTAL \\n\")\n",
    "\n",
    "print(\"Sensitivity(recall) : \", recall_score(y_test, y_pred))\n",
    "print(\"True Positive Rate \\n\")\n",
    "\n",
    "print(\"precision_score : \", precision_score(y_test, y_pred))\n",
    "print(\"정밀도, TP / TP + FP\\n\")\n",
    "\n",
    "print(\"f1_score : \", f1_score(y_test, y_pred))\n",
    "print(\"2 * recall * precision / (recall + precision)\")\n",
    "print(\"불균형 데이터라서...f1을 쓰는게 바람직함. survived==0의 갯수가 1에 비해 많음.\")\n",
    "\n",
    "class_report = classification_report(y_test, y_pred)\n",
    "print(class_report)"
   ]
  },
  {
   "cell_type": "code",
   "execution_count": 180,
   "id": "9fd9ef38",
   "metadata": {},
   "outputs": [
    {
     "name": "stdout",
     "output_type": "stream",
     "text": [
      "TP+TN/TOTAL 0.8271028037383178\n",
      "TP/(TP+FP) 0.8125\n"
     ]
    }
   ],
   "source": [
    "print('TP+TN/TOTAL',(65+112)/(112+15+22+65))\n",
    "print('TP/(TP+FP)', 65/(65+15))"
   ]
  },
  {
   "cell_type": "markdown",
   "id": "7980468d",
   "metadata": {},
   "source": [
    "    Thus in binary classification, the count of true negatives is\n",
    "    :math:`C_{0,0}`, false negatives is :math:`C_{1,0}`, true positives is\n",
    "    :math:`C_{1,1}` and false positives is :math:`C_{0,1}`.\n"
   ]
  },
  {
   "cell_type": "markdown",
   "id": "fc2ed83d",
   "metadata": {},
   "source": [
    "__일반적으로 이진 분류에서 각종 score는 y==1 일 때를 기준으로 계산__"
   ]
  },
  {
   "cell_type": "code",
   "execution_count": 181,
   "id": "ab6a6a24",
   "metadata": {
    "scrolled": true
   },
   "outputs": [
    {
     "data": {
      "text/plain": [
       "array([[0.76699497, 0.23300503],\n",
       "       [0.77213527, 0.22786473],\n",
       "       [0.88815987, 0.11184013],\n",
       "       [0.51583161, 0.48416839],\n",
       "       [0.9024172 , 0.0975828 ],\n",
       "       [0.74728314, 0.25271686],\n",
       "       [0.54354885, 0.45645115],\n",
       "       [0.88549427, 0.11450573],\n",
       "       [0.33207919, 0.66792081],\n",
       "       [0.26639825, 0.73360175],\n",
       "       [0.77639335, 0.22360665],\n",
       "       [0.11229196, 0.88770804],\n",
       "       [0.89058727, 0.10941273],\n",
       "       [0.11069948, 0.88930052],\n",
       "       [0.50763813, 0.49236187],\n",
       "       [0.20307625, 0.79692375],\n",
       "       [0.89828294, 0.10171706],\n",
       "       [0.87644356, 0.12355644],\n",
       "       [0.14024785, 0.85975215],\n",
       "       [0.94370823, 0.05629177],\n",
       "       [0.51060064, 0.48939936],\n",
       "       [0.19578929, 0.80421071],\n",
       "       [0.23343808, 0.76656192],\n",
       "       [0.79024112, 0.20975888],\n",
       "       [0.43836456, 0.56163544],\n",
       "       [0.92622605, 0.07377395],\n",
       "       [0.93524373, 0.06475627],\n",
       "       [0.929492  , 0.070508  ],\n",
       "       [0.64541172, 0.35458828],\n",
       "       [0.83447498, 0.16552502],\n",
       "       [0.14680508, 0.85319492],\n",
       "       [0.89281443, 0.10718557],\n",
       "       [0.74225281, 0.25774719],\n",
       "       [0.18435133, 0.81564867],\n",
       "       [0.37050619, 0.62949381],\n",
       "       [0.39787236, 0.60212764],\n",
       "       [0.61961057, 0.38038943],\n",
       "       [0.71733566, 0.28266434],\n",
       "       [0.93631968, 0.06368032],\n",
       "       [0.565972  , 0.434028  ],\n",
       "       [0.69932733, 0.30067267],\n",
       "       [0.37330577, 0.62669423],\n",
       "       [0.95348638, 0.04651362],\n",
       "       [0.93122768, 0.06877232],\n",
       "       [0.69494313, 0.30505687],\n",
       "       [0.20646207, 0.79353793],\n",
       "       [0.54359159, 0.45640841],\n",
       "       [0.8878709 , 0.1121291 ],\n",
       "       [0.81710083, 0.18289917],\n",
       "       [0.9120031 , 0.0879969 ],\n",
       "       [0.61673579, 0.38326421],\n",
       "       [0.35549215, 0.64450785],\n",
       "       [0.76387646, 0.23612354],\n",
       "       [0.90767729, 0.09232271],\n",
       "       [0.17563596, 0.82436404],\n",
       "       [0.60426502, 0.39573498],\n",
       "       [0.17277272, 0.82722728],\n",
       "       [0.04820569, 0.95179431],\n",
       "       [0.66870136, 0.33129864],\n",
       "       [0.58224251, 0.41775749],\n",
       "       [0.03494485, 0.96505515],\n",
       "       [0.0441742 , 0.9558258 ],\n",
       "       [0.88861115, 0.11138885],\n",
       "       [0.88814339, 0.11185661],\n",
       "       [0.31912186, 0.68087814],\n",
       "       [0.39768921, 0.60231079],\n",
       "       [0.42532082, 0.57467918],\n",
       "       [0.91622942, 0.08377058],\n",
       "       [0.74221233, 0.25778767],\n",
       "       [0.88281086, 0.11718914],\n",
       "       [0.81018242, 0.18981758],\n",
       "       [0.74771247, 0.25228753],\n",
       "       [0.9093743 , 0.0906257 ],\n",
       "       [0.32027876, 0.67972124],\n",
       "       [0.79860571, 0.20139429],\n",
       "       [0.24028486, 0.75971514],\n",
       "       [0.89860948, 0.10139052],\n",
       "       [0.8986424 , 0.1013576 ],\n",
       "       [0.80245077, 0.19754923],\n",
       "       [0.05432728, 0.94567272],\n",
       "       [0.93771912, 0.06228088],\n",
       "       [0.04527916, 0.95472084],\n",
       "       [0.88850188, 0.11149812],\n",
       "       [0.12975695, 0.87024305],\n",
       "       [0.75722494, 0.24277506],\n",
       "       [0.97565826, 0.02434174],\n",
       "       [0.75722494, 0.24277506],\n",
       "       [0.23964465, 0.76035535],\n",
       "       [0.53983193, 0.46016807],\n",
       "       [0.8703216 , 0.1296784 ],\n",
       "       [0.08231777, 0.91768223],\n",
       "       [0.92752855, 0.07247145],\n",
       "       [0.89078227, 0.10921773],\n",
       "       [0.74562314, 0.25437686],\n",
       "       [0.93925894, 0.06074106],\n",
       "       [0.84998882, 0.15001118],\n",
       "       [0.91317643, 0.08682357],\n",
       "       [0.36710555, 0.63289445],\n",
       "       [0.89073435, 0.10926565],\n",
       "       [0.78708235, 0.21291765],\n",
       "       [0.82964658, 0.17035342],\n",
       "       [0.64297438, 0.35702562],\n",
       "       [0.90273204, 0.09726796],\n",
       "       [0.51817821, 0.48182179],\n",
       "       [0.04848267, 0.95151733],\n",
       "       [0.75238896, 0.24761104],\n",
       "       [0.1053359 , 0.8946641 ],\n",
       "       [0.94333853, 0.05666147],\n",
       "       [0.48696948, 0.51303052],\n",
       "       [0.28498399, 0.71501601],\n",
       "       [0.55145827, 0.44854173],\n",
       "       [0.56473652, 0.43526348],\n",
       "       [0.49930725, 0.50069275],\n",
       "       [0.66395515, 0.33604485],\n",
       "       [0.72127561, 0.27872439],\n",
       "       [0.13124191, 0.86875809],\n",
       "       [0.03359421, 0.96640579],\n",
       "       [0.73187344, 0.26812656],\n",
       "       [0.31415989, 0.68584011],\n",
       "       [0.09389684, 0.90610316],\n",
       "       [0.88282918, 0.11717082],\n",
       "       [0.69520822, 0.30479178],\n",
       "       [0.14245724, 0.85754276],\n",
       "       [0.62975228, 0.37024772],\n",
       "       [0.11715302, 0.88284698],\n",
       "       [0.50601036, 0.49398964],\n",
       "       [0.728559  , 0.271441  ],\n",
       "       [0.13967392, 0.86032608],\n",
       "       [0.43247186, 0.56752814],\n",
       "       [0.90545122, 0.09454878],\n",
       "       [0.90936888, 0.09063112],\n",
       "       [0.88543265, 0.11456735],\n",
       "       [0.92213523, 0.07786477],\n",
       "       [0.54524364, 0.45475636],\n",
       "       [0.30709492, 0.69290508],\n",
       "       [0.84717474, 0.15282526],\n",
       "       [0.94993695, 0.05006305],\n",
       "       [0.10202262, 0.89797738],\n",
       "       [0.10136993, 0.89863007],\n",
       "       [0.28341507, 0.71658493],\n",
       "       [0.23475378, 0.76524622],\n",
       "       [0.88973908, 0.11026092],\n",
       "       [0.43180824, 0.56819176],\n",
       "       [0.4966849 , 0.5033151 ],\n",
       "       [0.44709708, 0.55290292],\n",
       "       [0.89831278, 0.10168722],\n",
       "       [0.66183769, 0.33816231],\n",
       "       [0.43768145, 0.56231855],\n",
       "       [0.11994963, 0.88005037],\n",
       "       [0.2551083 , 0.7448917 ],\n",
       "       [0.69494313, 0.30505687],\n",
       "       [0.33615642, 0.66384358],\n",
       "       [0.31385656, 0.68614344],\n",
       "       [0.62601748, 0.37398252],\n",
       "       [0.11795128, 0.88204872],\n",
       "       [0.87706093, 0.12293907],\n",
       "       [0.09120832, 0.90879168],\n",
       "       [0.89102305, 0.10897695],\n",
       "       [0.56819565, 0.43180435],\n",
       "       [0.03060551, 0.96939449],\n",
       "       [0.92241768, 0.07758232],\n",
       "       [0.11892502, 0.88107498],\n",
       "       [0.94522211, 0.05477789],\n",
       "       [0.66652906, 0.33347094],\n",
       "       [0.93465005, 0.06534995],\n",
       "       [0.84171323, 0.15828677],\n",
       "       [0.31985001, 0.68014999],\n",
       "       [0.88926571, 0.11073429],\n",
       "       [0.32552938, 0.67447062],\n",
       "       [0.90349575, 0.09650425],\n",
       "       [0.70022425, 0.29977575],\n",
       "       [0.77629879, 0.22370121],\n",
       "       [0.17804413, 0.82195587],\n",
       "       [0.36362233, 0.63637767],\n",
       "       [0.21764458, 0.78235542],\n",
       "       [0.81674311, 0.18325689],\n",
       "       [0.08084164, 0.91915836],\n",
       "       [0.98395095, 0.01604905],\n",
       "       [0.89501265, 0.10498735],\n",
       "       [0.66623517, 0.33376483],\n",
       "       [0.91731415, 0.08268585],\n",
       "       [0.04468795, 0.95531205],\n",
       "       [0.44284369, 0.55715631],\n",
       "       [0.80816053, 0.19183947],\n",
       "       [0.75613081, 0.24386919],\n",
       "       [0.87656439, 0.12343561],\n",
       "       [0.51113287, 0.48886713],\n",
       "       [0.90462173, 0.09537827],\n",
       "       [0.15352263, 0.84647737],\n",
       "       [0.88458222, 0.11541778],\n",
       "       [0.29730576, 0.70269424],\n",
       "       [0.87965313, 0.12034687],\n",
       "       [0.08830212, 0.91169788],\n",
       "       [0.90714624, 0.09285376],\n",
       "       [0.77629879, 0.22370121],\n",
       "       [0.13582268, 0.86417732],\n",
       "       [0.0274273 , 0.9725727 ],\n",
       "       [0.90032167, 0.09967833],\n",
       "       [0.08897175, 0.91102825],\n",
       "       [0.90311113, 0.09688887],\n",
       "       [0.83491069, 0.16508931],\n",
       "       [0.23514601, 0.76485399],\n",
       "       [0.14228885, 0.85771115],\n",
       "       [0.93614292, 0.06385708],\n",
       "       [0.89339906, 0.10660094],\n",
       "       [0.88549427, 0.11450573],\n",
       "       [0.90314991, 0.09685009],\n",
       "       [0.04480585, 0.95519415],\n",
       "       [0.15666949, 0.84333051],\n",
       "       [0.86507432, 0.13492568],\n",
       "       [0.94211851, 0.05788149],\n",
       "       [0.54398793, 0.45601207],\n",
       "       [0.87717772, 0.12282228],\n",
       "       [0.66922177, 0.33077823]])"
      ]
     },
     "execution_count": 181,
     "metadata": {},
     "output_type": "execute_result"
    }
   ],
   "source": [
    "result.predict_proba(X_test)"
   ]
  },
  {
   "cell_type": "code",
   "execution_count": 182,
   "id": "792bf183",
   "metadata": {},
   "outputs": [
    {
     "data": {
      "text/plain": [
       "array([0, 0, 0, 0, 0, 0, 0, 0, 1, 1, 0, 1, 0, 1, 0, 1, 0, 0, 1, 0, 0, 1,\n",
       "       1, 0, 1, 0, 0, 0, 0, 0, 1, 0, 0, 1, 1, 1, 0, 0, 0, 0, 0, 1, 0, 0,\n",
       "       0, 1, 0, 0, 0, 0, 0, 1, 0, 0, 1, 0, 1, 1, 0, 0, 1, 1, 0, 0, 1, 1,\n",
       "       1, 0, 0, 0, 0, 0, 0, 1, 0, 1, 0, 0, 0, 1, 0, 1, 0, 1, 0, 0, 0, 1,\n",
       "       0, 0, 1, 0, 0, 0, 0, 0, 0, 1, 0, 0, 0, 0, 0, 0, 1, 0, 1, 0, 1, 1,\n",
       "       0, 0, 1, 0, 0, 1, 1, 0, 1, 1, 0, 0, 1, 0, 1, 0, 0, 1, 1, 0, 0, 0,\n",
       "       0, 0, 1, 0, 0, 1, 1, 1, 1, 0, 1, 1, 1, 0, 0, 1, 1, 1, 0, 1, 1, 0,\n",
       "       1, 0, 1, 0, 0, 1, 0, 1, 0, 0, 0, 0, 1, 0, 1, 0, 0, 0, 1, 1, 1, 0,\n",
       "       1, 0, 0, 0, 0, 1, 1, 0, 0, 0, 0, 0, 1, 0, 1, 0, 1, 0, 0, 1, 1, 0,\n",
       "       1, 0, 0, 1, 1, 0, 0, 0, 0, 1, 1, 0, 0, 0, 0, 0])"
      ]
     },
     "execution_count": 182,
     "metadata": {},
     "output_type": "execute_result"
    }
   ],
   "source": [
    "result.predict(X_test)"
   ]
  },
  {
   "cell_type": "code",
   "execution_count": 198,
   "id": "c9fb8a4a",
   "metadata": {},
   "outputs": [
    {
     "data": {
      "image/png": "[encoded data removed]",
      "text/plain": [
       "<Figure size 432x288 with 1 Axes>"
      ]
     },
     "metadata": {
      "needs_background": "light"
     },
     "output_type": "display_data"
    },
    {
     "name": "stdout",
     "output_type": "stream",
     "text": [
      "roc_auc_score :  0.8651009141098742\n"
     ]
    }
   ],
   "source": [
    "from sklearn.metrics import roc_curve, auc, roc_auc_score,plot_roc_curve\n",
    "import matplotlib.pyplot as plt\n",
    "\n",
    "#확률값\n",
    "y_pred_proba = result.predict_proba(X_test)[:,1]\n",
    "\n",
    "fpr, tpr, thr = roc_curve(y_test, y_pred_proba)\n",
    "roc_auc = auc(fpr, tpr)\n",
    "\n",
    "plt.plot(fpr, tpr, label = \"ROC curve (area = %0.2f)\" % roc_auc)\n",
    "plt.plot([0, 1], [0, 1], linestyle='--')\n",
    "plt.xlabel(\"False Positive Rate, 1-specificity\")\n",
    "plt.ylabel(\"True Positive Rate, Sensitivity\")\n",
    "plt.show()\n",
    "\n",
    "print(\"roc_auc_score : \", roc_auc_score(y_test, result.predict_proba(X_test)[:,1]))"
   ]
  },
  {
   "cell_type": "code",
   "execution_count": 183,
   "id": "b1e580cf",
   "metadata": {},
   "outputs": [
    {
     "data": {
      "image/png": "[encoded data removed]",
      "text/plain": [
       "<Figure size 432x288 with 1 Axes>"
      ]
     },
     "metadata": {
      "needs_background": "light"
     },
     "output_type": "display_data"
    },
    {
     "name": "stdout",
     "output_type": "stream",
     "text": [
      "roc_auc_score :  0.867816091954023\n"
     ]
    }
   ],
   "source": [
    "from sklearn.metrics import roc_curve, auc, roc_auc_score,plot_roc_curve\n",
    "import matplotlib.pyplot as plt\n",
    "\n",
    "#확률값\n",
    "y_pred_proba = result.predict_proba(X_test)[:,1]\n",
    "\n",
    "fpr, tpr, thr = roc_curve(y_test, y_pred_proba)\n",
    "roc_auc = auc(fpr, tpr)\n",
    "\n",
    "plt.plot(fpr, tpr, label = \"ROC curve (area = %0.2f)\" % roc_auc)\n",
    "plt.plot([0, 1], [0, 1], linestyle='--')\n",
    "plt.xlabel(\"False Positive Rate, 1-specificity\")\n",
    "plt.ylabel(\"True Positive Rate, Sensitivity\")\n",
    "plt.show()\n",
    "\n",
    "print(\"roc_auc_score : \", roc_auc_score(y_test, result.predict_proba(X_test)[:,1]))"
   ]
  },
  {
   "cell_type": "code",
   "execution_count": 184,
   "id": "90f70463",
   "metadata": {},
   "outputs": [
    {
     "name": "stderr",
     "output_type": "stream",
     "text": [
      "/Users/hmc/opt/anaconda3/envs/ADP_Class/lib/python3.7/site-packages/sklearn/utils/deprecation.py:87: FutureWarning: Function plot_roc_curve is deprecated; Function :func:`plot_roc_curve` is deprecated in 1.0 and will be removed in 1.2. Use one of the class methods: :meth:`sklearn.metric.RocCurveDisplay.from_predictions` or :meth:`sklearn.metric.RocCurveDisplay.from_estimator`.\n",
      "  warnings.warn(msg, category=FutureWarning)\n"
     ]
    },
    {
     "data": {
      "text/plain": [
       "<sklearn.metrics._plot.roc_curve.RocCurveDisplay at 0x7fc8dd350a50>"
      ]
     },
     "execution_count": 184,
     "metadata": {},
     "output_type": "execute_result"
    },
    {
     "data": {
      "image/png": "[encoded data removed]",
      "text/plain": [
       "<Figure size 432x288 with 1 Axes>"
      ]
     },
     "metadata": {
      "needs_background": "light"
     },
     "output_type": "display_data"
    }
   ],
   "source": [
    "plot_roc_curve(result, X_test,y_test)"
   ]
  },
  {
   "cell_type": "markdown",
   "id": "d95522f7",
   "metadata": {},
   "source": [
    "### 분류_의사결정나무 이진"
   ]
  },
  {
   "cell_type": "code",
   "execution_count": 95,
   "id": "0689a496",
   "metadata": {},
   "outputs": [
    {
     "data": {
      "text/plain": [
       "array([0, 0, 0, 0, 0, 0, 0, 0, 0, 1, 0, 1, 0, 1, 1, 1, 0, 0, 1, 1, 0, 1,\n",
       "       1, 0, 0, 0, 1, 1, 0, 0, 1, 0, 0, 1, 1, 1, 1, 1, 0, 1, 0, 0, 0, 1,\n",
       "       0, 1, 0, 0, 1, 0, 0, 1, 1, 0, 1, 1, 1, 1, 0, 0, 1, 1, 0, 0, 0, 1,\n",
       "       1, 0, 0, 0, 0, 0, 0, 1, 0, 1, 0, 0, 0, 1, 0, 0, 0, 0, 0, 0, 0, 1,\n",
       "       0, 0, 1, 0, 0, 0, 0, 0, 0, 0, 0, 0, 0, 1, 0, 1, 1, 0, 1, 0, 0, 0,\n",
       "       0, 0, 1, 0, 0, 0, 1, 0, 1, 1, 0, 1, 1, 1, 1, 1, 0, 1, 1, 0, 0, 1,\n",
       "       0, 0, 1, 0, 0, 1, 1, 1, 1, 0, 0, 0, 1, 0, 0, 1, 1, 0, 0, 0, 1, 1,\n",
       "       1, 0, 1, 0, 1, 1, 0, 1, 0, 0, 0, 0, 1, 0, 1, 1, 0, 0, 1, 1, 1, 0,\n",
       "       1, 0, 1, 1, 0, 1, 0, 0, 1, 0, 0, 1, 1, 0, 1, 0, 1, 0, 0, 1, 1, 1,\n",
       "       1, 0, 0, 1, 1, 0, 1, 0, 0, 1, 1, 0, 0, 1, 0, 0])"
      ]
     },
     "execution_count": 95,
     "metadata": {},
     "output_type": "execute_result"
    }
   ],
   "source": [
    "from sklearn.tree import DecisionTreeClassifier\n",
    "# 의사결정나무 모델링\n",
    "dt_clf = DecisionTreeClassifier()\n",
    "## 모델 학습 \n",
    "dt_clf.fit(X_train, y_train)\n",
    "\n",
    "y_pred = dt_clf.predict(X_test)\n",
    "y_pred"
   ]
  },
  {
   "cell_type": "code",
   "execution_count": 15,
   "id": "28557a81",
   "metadata": {},
   "outputs": [
    {
     "name": "stdout",
     "output_type": "stream",
     "text": [
      "[[102  25]\n",
      " [ 28  59]]\n",
      "TN, FP\n",
      "FN, TP \n",
      "\n",
      "Acuuracy :  0.7523364485981309\n",
      "옳게 예측한 확률, TP+TN / TOTAL \n",
      "\n",
      "Sensitivity(recall) :  0.6781609195402298\n",
      "True Positive Rate \n",
      "\n",
      "precision_score :  0.7023809523809523\n",
      "정밀도, TP / TP + FP\n",
      "\n",
      "f1_score :  0.6900584795321637\n",
      "2 * recall * precision / (recall + precision)\n",
      "불균형 데이터라서...f1을 쓰는게 바람직함. survived==0의 갯수가 1에 비해 많음.\n",
      "              precision    recall  f1-score   support\n",
      "\n",
      "           0       0.78      0.80      0.79       127\n",
      "           1       0.70      0.68      0.69        87\n",
      "\n",
      "    accuracy                           0.75       214\n",
      "   macro avg       0.74      0.74      0.74       214\n",
      "weighted avg       0.75      0.75      0.75       214\n",
      "\n"
     ]
    }
   ],
   "source": [
    "from sklearn.metrics import confusion_matrix, accuracy_score, recall_score, precision_score, f1_score, classification_report\n",
    "\n",
    "cm = confusion_matrix(y_test,y_pred)\n",
    "print(cm)\n",
    "print(\"TN, FP\")\n",
    "print(\"FN, TP \\n\")\n",
    "\n",
    "print(\"Acuuracy : \", accuracy_score(y_test, y_pred))\n",
    "print(\"옳게 예측한 확률, TP+TN / TOTAL \\n\")\n",
    "\n",
    "print(\"Sensitivity(recall) : \", recall_score(y_test, y_pred))\n",
    "print(\"True Positive Rate \\n\")\n",
    "\n",
    "print(\"precision_score : \", precision_score(y_test, y_pred))\n",
    "print(\"정밀도, TP / TP + FP\\n\")\n",
    "\n",
    "print(\"f1_score : \", f1_score(y_test, y_pred))\n",
    "print(\"2 * recall * precision / (recall + precision)\")\n",
    "print(\"불균형 데이터라서...f1을 쓰는게 바람직함. survived==0의 갯수가 1에 비해 많음.\")\n",
    "\n",
    "class_report = classification_report(y_test, y_pred)\n",
    "print(class_report)"
   ]
  },
  {
   "cell_type": "code",
   "execution_count": 101,
   "id": "0362ba81",
   "metadata": {},
   "outputs": [
    {
     "data": {
      "text/plain": [
       "array([[1. , 0. ],\n",
       "       [1. , 0. ],\n",
       "       [1. , 0. ],\n",
       "       [1. , 0. ],\n",
       "       [1. , 0. ],\n",
       "       [1. , 0. ],\n",
       "       [1. , 0. ],\n",
       "       [1. , 0. ],\n",
       "       [1. , 0. ],\n",
       "       [0. , 1. ],\n",
       "       [1. , 0. ],\n",
       "       [0. , 1. ],\n",
       "       [1. , 0. ],\n",
       "       [0. , 1. ],\n",
       "       [0. , 1. ],\n",
       "       [0. , 1. ],\n",
       "       [1. , 0. ],\n",
       "       [1. , 0. ],\n",
       "       [0. , 1. ],\n",
       "       [0. , 1. ],\n",
       "       [1. , 0. ],\n",
       "       [0. , 1. ],\n",
       "       [0. , 1. ],\n",
       "       [1. , 0. ],\n",
       "       [1. , 0. ],\n",
       "       [1. , 0. ],\n",
       "       [0. , 1. ],\n",
       "       [0. , 1. ],\n",
       "       [1. , 0. ],\n",
       "       [1. , 0. ],\n",
       "       [0. , 1. ],\n",
       "       [1. , 0. ],\n",
       "       [1. , 0. ],\n",
       "       [0. , 1. ],\n",
       "       [0. , 1. ],\n",
       "       [0. , 1. ],\n",
       "       [0. , 1. ],\n",
       "       [0. , 1. ],\n",
       "       [1. , 0. ],\n",
       "       [0. , 1. ],\n",
       "       [1. , 0. ],\n",
       "       [1. , 0. ],\n",
       "       [1. , 0. ],\n",
       "       [0. , 1. ],\n",
       "       [1. , 0. ],\n",
       "       [0. , 1. ],\n",
       "       [1. , 0. ],\n",
       "       [1. , 0. ],\n",
       "       [0. , 1. ],\n",
       "       [1. , 0. ],\n",
       "       [1. , 0. ],\n",
       "       [0. , 1. ],\n",
       "       [0. , 1. ],\n",
       "       [1. , 0. ],\n",
       "       [0. , 1. ],\n",
       "       [0. , 1. ],\n",
       "       [0. , 1. ],\n",
       "       [0. , 1. ],\n",
       "       [1. , 0. ],\n",
       "       [1. , 0. ],\n",
       "       [0. , 1. ],\n",
       "       [0. , 1. ],\n",
       "       [1. , 0. ],\n",
       "       [1. , 0. ],\n",
       "       [1. , 0. ],\n",
       "       [0. , 1. ],\n",
       "       [0. , 1. ],\n",
       "       [0.5, 0.5],\n",
       "       [1. , 0. ],\n",
       "       [1. , 0. ],\n",
       "       [1. , 0. ],\n",
       "       [1. , 0. ],\n",
       "       [1. , 0. ],\n",
       "       [0. , 1. ],\n",
       "       [1. , 0. ],\n",
       "       [0. , 1. ],\n",
       "       [1. , 0. ],\n",
       "       [1. , 0. ],\n",
       "       [1. , 0. ],\n",
       "       [0. , 1. ],\n",
       "       [1. , 0. ],\n",
       "       [1. , 0. ],\n",
       "       [1. , 0. ],\n",
       "       [1. , 0. ],\n",
       "       [1. , 0. ],\n",
       "       [1. , 0. ],\n",
       "       [1. , 0. ],\n",
       "       [0. , 1. ],\n",
       "       [1. , 0. ],\n",
       "       [1. , 0. ],\n",
       "       [0. , 1. ],\n",
       "       [1. , 0. ],\n",
       "       [1. , 0. ],\n",
       "       [1. , 0. ],\n",
       "       [1. , 0. ],\n",
       "       [1. , 0. ],\n",
       "       [1. , 0. ],\n",
       "       [1. , 0. ],\n",
       "       [1. , 0. ],\n",
       "       [1. , 0. ],\n",
       "       [1. , 0. ],\n",
       "       [0. , 1. ],\n",
       "       [1. , 0. ],\n",
       "       [0. , 1. ],\n",
       "       [0. , 1. ],\n",
       "       [1. , 0. ],\n",
       "       [0. , 1. ],\n",
       "       [1. , 0. ],\n",
       "       [1. , 0. ],\n",
       "       [1. , 0. ],\n",
       "       [1. , 0. ],\n",
       "       [1. , 0. ],\n",
       "       [0. , 1. ],\n",
       "       [1. , 0. ],\n",
       "       [1. , 0. ],\n",
       "       [1. , 0. ],\n",
       "       [0. , 1. ],\n",
       "       [1. , 0. ],\n",
       "       [0. , 1. ],\n",
       "       [0. , 1. ],\n",
       "       [1. , 0. ],\n",
       "       [0. , 1. ],\n",
       "       [0. , 1. ],\n",
       "       [0. , 1. ],\n",
       "       [0. , 1. ],\n",
       "       [0. , 1. ],\n",
       "       [1. , 0. ],\n",
       "       [0. , 1. ],\n",
       "       [0. , 1. ],\n",
       "       [1. , 0. ],\n",
       "       [1. , 0. ],\n",
       "       [0. , 1. ],\n",
       "       [1. , 0. ],\n",
       "       [1. , 0. ],\n",
       "       [0. , 1. ],\n",
       "       [1. , 0. ],\n",
       "       [1. , 0. ],\n",
       "       [0. , 1. ],\n",
       "       [0. , 1. ],\n",
       "       [0. , 1. ],\n",
       "       [0. , 1. ],\n",
       "       [1. , 0. ],\n",
       "       [1. , 0. ],\n",
       "       [1. , 0. ],\n",
       "       [0. , 1. ],\n",
       "       [1. , 0. ],\n",
       "       [1. , 0. ],\n",
       "       [0. , 1. ],\n",
       "       [0. , 1. ],\n",
       "       [1. , 0. ],\n",
       "       [1. , 0. ],\n",
       "       [1. , 0. ],\n",
       "       [0. , 1. ],\n",
       "       [0. , 1. ],\n",
       "       [0. , 1. ],\n",
       "       [1. , 0. ],\n",
       "       [0. , 1. ],\n",
       "       [1. , 0. ],\n",
       "       [0. , 1. ],\n",
       "       [0. , 1. ],\n",
       "       [1. , 0. ],\n",
       "       [0. , 1. ],\n",
       "       [1. , 0. ],\n",
       "       [1. , 0. ],\n",
       "       [1. , 0. ],\n",
       "       [1. , 0. ],\n",
       "       [0. , 1. ],\n",
       "       [1. , 0. ],\n",
       "       [0. , 1. ],\n",
       "       [0. , 1. ],\n",
       "       [1. , 0. ],\n",
       "       [1. , 0. ],\n",
       "       [0. , 1. ],\n",
       "       [0. , 1. ],\n",
       "       [0. , 1. ],\n",
       "       [1. , 0. ],\n",
       "       [0. , 1. ],\n",
       "       [1. , 0. ],\n",
       "       [0. , 1. ],\n",
       "       [0. , 1. ],\n",
       "       [1. , 0. ],\n",
       "       [0. , 1. ],\n",
       "       [1. , 0. ],\n",
       "       [1. , 0. ],\n",
       "       [0. , 1. ],\n",
       "       [1. , 0. ],\n",
       "       [1. , 0. ],\n",
       "       [0. , 1. ],\n",
       "       [0. , 1. ],\n",
       "       [1. , 0. ],\n",
       "       [0. , 1. ],\n",
       "       [1. , 0. ],\n",
       "       [0. , 1. ],\n",
       "       [1. , 0. ],\n",
       "       [1. , 0. ],\n",
       "       [0. , 1. ],\n",
       "       [0. , 1. ],\n",
       "       [0. , 1. ],\n",
       "       [0. , 1. ],\n",
       "       [1. , 0. ],\n",
       "       [1. , 0. ],\n",
       "       [0. , 1. ],\n",
       "       [0. , 1. ],\n",
       "       [1. , 0. ],\n",
       "       [0. , 1. ],\n",
       "       [1. , 0. ],\n",
       "       [1. , 0. ],\n",
       "       [0. , 1. ],\n",
       "       [0. , 1. ],\n",
       "       [1. , 0. ],\n",
       "       [1. , 0. ],\n",
       "       [0. , 1. ],\n",
       "       [1. , 0. ],\n",
       "       [1. , 0. ]])"
      ]
     },
     "execution_count": 101,
     "metadata": {},
     "output_type": "execute_result"
    }
   ],
   "source": [
    "dt_clf.predict_proba(X_test)"
   ]
  },
  {
   "cell_type": "code",
   "execution_count": 102,
   "id": "35d5ec46",
   "metadata": {},
   "outputs": [
    {
     "name": "stderr",
     "output_type": "stream",
     "text": [
      "/Users/hmc/opt/anaconda3/envs/ADP_Class/lib/python3.7/site-packages/sklearn/utils/deprecation.py:87: FutureWarning: Function plot_roc_curve is deprecated; Function :func:`plot_roc_curve` is deprecated in 1.0 and will be removed in 1.2. Use one of the class methods: :meth:`sklearn.metric.RocCurveDisplay.from_predictions` or :meth:`sklearn.metric.RocCurveDisplay.from_estimator`.\n",
      "  warnings.warn(msg, category=FutureWarning)\n"
     ]
    },
    {
     "data": {
      "text/plain": [
       "<sklearn.metrics._plot.roc_curve.RocCurveDisplay at 0x7fc8f522b2d0>"
      ]
     },
     "execution_count": 102,
     "metadata": {},
     "output_type": "execute_result"
    },
    {
     "data": {
      "image/png": "[encoded data removed]",
      "text/plain": [
       "<Figure size 432x288 with 1 Axes>"
      ]
     },
     "metadata": {
      "needs_background": "light"
     },
     "output_type": "display_data"
    }
   ],
   "source": [
    "plot_roc_curve(dt_clf, X_test,y_test)"
   ]
  },
  {
   "cell_type": "code",
   "execution_count": 103,
   "id": "2669ad9e",
   "metadata": {},
   "outputs": [
    {
     "name": "stdout",
     "output_type": "stream",
     "text": [
      "roc_auc_score :  0.7565390533079916\n"
     ]
    }
   ],
   "source": [
    "print(\"roc_auc_score : \", roc_auc_score(y_test, dt_clf.predict_proba(X_test)[:,1]))"
   ]
  },
  {
   "cell_type": "markdown",
   "id": "98def7bc",
   "metadata": {},
   "source": [
    "### 분류_로지스틱 멀티클래스 분류\n",
    "- iris 데이터 target"
   ]
  },
  {
   "cell_type": "code",
   "execution_count": 119,
   "id": "72afed5c",
   "metadata": {},
   "outputs": [],
   "source": [
    "import pandas as pd\n",
    "import numpy as np\n",
    "\n",
    "from sklearn import datasets\n",
    "\n",
    "iris = datasets.load_iris()\n",
    "X = iris.data \n",
    "y = iris.target"
   ]
  },
  {
   "cell_type": "code",
   "execution_count": 120,
   "id": "fa02d438",
   "metadata": {},
   "outputs": [],
   "source": [
    "X = pd.DataFrame(X, columns = ['a','b','c','d'])\n",
    "y = pd.DataFrame(y, columns = ['target'])"
   ]
  },
  {
   "cell_type": "code",
   "execution_count": 121,
   "id": "e521586d",
   "metadata": {},
   "outputs": [
    {
     "data": {
      "text/plain": [
       "target\n",
       "0         50\n",
       "1         50\n",
       "2         50\n",
       "dtype: int64"
      ]
     },
     "execution_count": 121,
     "metadata": {},
     "output_type": "execute_result"
    }
   ],
   "source": [
    "y.value_counts()"
   ]
  },
  {
   "cell_type": "code",
   "execution_count": 122,
   "id": "1323b73f",
   "metadata": {},
   "outputs": [],
   "source": [
    "from sklearn.model_selection import train_test_split\n",
    "\n",
    "X_train, X_test, y_train, y_test = train_test_split(X, y, stratify=y, train_size=0.7,\n",
    "                                                   test_size = 0.3, random_state=123)"
   ]
  },
  {
   "cell_type": "code",
   "execution_count": 123,
   "id": "f372bf31",
   "metadata": {},
   "outputs": [
    {
     "name": "stdout",
     "output_type": "stream",
     "text": [
      "LogisticRegression()\n"
     ]
    },
    {
     "name": "stderr",
     "output_type": "stream",
     "text": [
      "/Users/hmc/opt/anaconda3/envs/ADP_Class/lib/python3.7/site-packages/sklearn/utils/validation.py:993: DataConversionWarning: A column-vector y was passed when a 1d array was expected. Please change the shape of y to (n_samples, ), for example using ravel().\n",
      "  y = column_or_1d(y, warn=True)\n",
      "/Users/hmc/opt/anaconda3/envs/ADP_Class/lib/python3.7/site-packages/sklearn/linear_model/_logistic.py:818: ConvergenceWarning: lbfgs failed to converge (status=1):\n",
      "STOP: TOTAL NO. of ITERATIONS REACHED LIMIT.\n",
      "\n",
      "Increase the number of iterations (max_iter) or scale the data as shown in:\n",
      "    https://scikit-learn.org/stable/modules/preprocessing.html\n",
      "Please also refer to the documentation for alternative solver options:\n",
      "    https://scikit-learn.org/stable/modules/linear_model.html#logistic-regression\n",
      "  extra_warning_msg=_LOGISTIC_SOLVER_CONVERGENCE_MSG,\n"
     ]
    }
   ],
   "source": [
    "from sklearn.linear_model import LogisticRegression\n",
    "\n",
    "model = LogisticRegression()\n",
    "result = model.fit(X_train, y_train)\n",
    "print(model)"
   ]
  },
  {
   "cell_type": "code",
   "execution_count": 124,
   "id": "5b43e76b",
   "metadata": {},
   "outputs": [
    {
     "data": {
      "text/plain": [
       "array([1, 2, 1, 1, 2, 0, 0, 1, 0, 0, 2, 0, 2, 0, 1, 0, 2, 2, 0, 0, 0, 0,\n",
       "       0, 1, 0, 1, 2, 0, 1, 2, 2, 2, 2, 1, 1, 1, 2, 2, 2, 0, 2, 1, 1, 2,\n",
       "       1])"
      ]
     },
     "execution_count": 124,
     "metadata": {},
     "output_type": "execute_result"
    }
   ],
   "source": [
    "from sklearn.metrics import classification_report, confusion_matrix, accuracy_score, roc_auc_score\n",
    "# 테스트셋 예측\n",
    "y_pred = result.predict(X_test)\n",
    "y_pred"
   ]
  },
  {
   "cell_type": "code",
   "execution_count": 125,
   "id": "af0acb88",
   "metadata": {},
   "outputs": [
    {
     "name": "stdout",
     "output_type": "stream",
     "text": [
      "[[15  0  0]\n",
      " [ 0 14  1]\n",
      " [ 0  0 15]]\n",
      "Acuuracy :  0.9777777777777777\n",
      "옳게 예측한 확률, TP+TN / TOTAL \n",
      "\n",
      "              precision    recall  f1-score   support\n",
      "\n",
      "           0       1.00      1.00      1.00        15\n",
      "           1       1.00      0.93      0.97        15\n",
      "           2       0.94      1.00      0.97        15\n",
      "\n",
      "    accuracy                           0.98        45\n",
      "   macro avg       0.98      0.98      0.98        45\n",
      "weighted avg       0.98      0.98      0.98        45\n",
      "\n"
     ]
    }
   ],
   "source": [
    "from sklearn.metrics import confusion_matrix, accuracy_score, recall_score, precision_score, f1_score, classification_report\n",
    "\n",
    "cm = confusion_matrix(y_test,y_pred)\n",
    "print(cm)\n",
    "#print(\"TN, FP\")\n",
    "#print(\"FN, TP \\n\")\n",
    "\n",
    "print(\"Acuuracy : \", accuracy_score(y_test, y_pred))\n",
    "print(\"옳게 예측한 확률, TP+TN / TOTAL \\n\")\n",
    "\n",
    "#print(\"Sensitivity(recall) : \", recall_score(y_test, y_pred))\n",
    "#print(\"True Positive Rate \\n\")\n",
    "\n",
    "#print(\"precision_score : \", precision_score(y_test, y_pred))\n",
    "#print(\"정밀도, TP / TP + FP\\n\")\n",
    "\n",
    "#print(\"f1_score : \", f1_score(y_test, y_pred))\n",
    "#print(\"2 * recall * precision / (recall + precision)\")\n",
    "#print(\"불균형 데이터라서...f1을 쓰는게 바람직함. survived==0의 갯수가 1에 비해 훨씬 많음 = TN, FP 갯수가 높음\")\n",
    "\n",
    "class_report = classification_report(y_test, y_pred)\n",
    "print(class_report)"
   ]
  },
  {
   "cell_type": "code",
   "execution_count": 126,
   "id": "bf1adef0",
   "metadata": {
    "scrolled": true
   },
   "outputs": [
    {
     "data": {
      "text/plain": [
       "0.9985185185185186"
      ]
     },
     "execution_count": 126,
     "metadata": {},
     "output_type": "execute_result"
    }
   ],
   "source": [
    "roc_auc_score(y_test, result.predict_proba(X_test), multi_class='ovr')"
   ]
  },
  {
   "cell_type": "markdown",
   "id": "5e897f0a",
   "metadata": {},
   "source": [
    "#### 교차검증을 통한 스코어 산출 "
   ]
  },
  {
   "cell_type": "markdown",
   "id": "b6d75924",
   "metadata": {},
   "source": [
    "교차 검증  \n",
    "https://m.blog.naver.com/ckdgus1433/221599517834\n",
    "\n",
    "교차 검증을 왜 사용하는가?\n",
    "- Train / Test 으로 나누게 되면 Test 는 모델링에 반영되지 않음\n",
    "- 제공된 모든 데이터를 Train으로 사용하고자 함\n",
    "- Train / Test 으로 한번만 나누지 말고, 동적으로 여러가지 케이스로 나누고, 학습, 검증\n",
    "- 나눠진 Test 케이스가 모든 데이터를 포함할 때까지 반복\n",
    "- 계산량이 많아짐\n",
    "\n",
    "1. 데이터셋\n",
    "![python image2](https://mblogthumb-phinf.pstatic.net/MjAxOTA3MjVfMTg4/MDAxNTY0MDU5OTMyMzMy.xptymihN3pg06c5NgVEw6UHWzxeukdnQjSKHNaE3uosg.PQNoW2yYZuVMeRmzY8Daxp8msWCgrdLlsa1pmiqMxvEg.PNG.ckdgus1433/image.png?type=w800)\n",
    "\n",
    "1. 홀드아웃\n",
    "![python image2](https://mblogthumb-phinf.pstatic.net/MjAxOTA3MjVfMjUw/MDAxNTY0MDY0MjA3NTk1.iOrZkLYld_wuQ51TjJPpdiQcISFG3KeukqD1OuEfSP0g.e4tmacb2eMG19lDbGlIJ91dmukNe1R_3zZLsMfDXuN8g.PNG.ckdgus1433/image.png?type=w800)\n",
    "\n",
    "1. k-fold\n",
    "![python image2](https://mblogthumb-phinf.pstatic.net/MjAxOTA3MjVfMTYz/MDAxNTY0MDY1ODk4NTM0.HiTh5fw3_Fulbq6dv1iLrxS7EmEM4htsWC-5fh-TiGAg.5rbp2nHtWYOZvzoN-Kl4mCKF4nZ4rd5bmO_IDh-sieAg.PNG.ckdgus1433/image.png?type=w800)\n",
    "\n",
    "1. 리브-p-아웃 교차 검증 \n",
    "![python image2](https://mblogthumb-phinf.pstatic.net/MjAxOTA3MjZfNCAg/MDAxNTY0MDY4NzA4MTEy.WMv-qZ490weZMjteert-trU-zIXBeX6wUs19A0Fo5RAg.KqxSpltjlbeYUTjj1d_V-HdPjYlzms_pKUmsJ1PipL0g.PNG.ckdgus1433/image.png?type=w800)\n",
    "\n",
    "1. k-fold + stratify\n",
    "![python image2](https://mblogthumb-phinf.pstatic.net/MjAxOTA3MjlfMiAg/MDAxNTY0NDA5MTY4MTkw.IlCY5_N8e3Qw1lU5DDufL0G1DYzIoWRgBDLlr4BY9JAg.qlE19XgVRk2CcFYTYZ7zHcuKtKjh8eQ-a4WYPhpE7V4g.PNG.ckdgus1433/image.png?type=w800)"
   ]
  },
  {
   "cell_type": "code",
   "execution_count": 130,
   "id": "205ccea9",
   "metadata": {
    "scrolled": false
   },
   "outputs": [
    {
     "name": "stderr",
     "output_type": "stream",
     "text": [
      "/Users/hmc/opt/anaconda3/envs/ADP_Class/lib/python3.7/site-packages/sklearn/utils/validation.py:993: DataConversionWarning: A column-vector y was passed when a 1d array was expected. Please change the shape of y to (n_samples, ), for example using ravel().\n",
      "  y = column_or_1d(y, warn=True)\n",
      "/Users/hmc/opt/anaconda3/envs/ADP_Class/lib/python3.7/site-packages/sklearn/utils/validation.py:993: DataConversionWarning: A column-vector y was passed when a 1d array was expected. Please change the shape of y to (n_samples, ), for example using ravel().\n",
      "  y = column_or_1d(y, warn=True)\n",
      "/Users/hmc/opt/anaconda3/envs/ADP_Class/lib/python3.7/site-packages/sklearn/linear_model/_logistic.py:818: ConvergenceWarning: lbfgs failed to converge (status=1):\n",
      "STOP: TOTAL NO. of ITERATIONS REACHED LIMIT.\n",
      "\n",
      "Increase the number of iterations (max_iter) or scale the data as shown in:\n",
      "    https://scikit-learn.org/stable/modules/preprocessing.html\n",
      "Please also refer to the documentation for alternative solver options:\n",
      "    https://scikit-learn.org/stable/modules/linear_model.html#logistic-regression\n",
      "  extra_warning_msg=_LOGISTIC_SOLVER_CONVERGENCE_MSG,\n",
      "/Users/hmc/opt/anaconda3/envs/ADP_Class/lib/python3.7/site-packages/sklearn/utils/validation.py:993: DataConversionWarning: A column-vector y was passed when a 1d array was expected. Please change the shape of y to (n_samples, ), for example using ravel().\n",
      "  y = column_or_1d(y, warn=True)\n",
      "/Users/hmc/opt/anaconda3/envs/ADP_Class/lib/python3.7/site-packages/sklearn/utils/validation.py:993: DataConversionWarning: A column-vector y was passed when a 1d array was expected. Please change the shape of y to (n_samples, ), for example using ravel().\n",
      "  y = column_or_1d(y, warn=True)\n",
      "/Users/hmc/opt/anaconda3/envs/ADP_Class/lib/python3.7/site-packages/sklearn/utils/validation.py:993: DataConversionWarning: A column-vector y was passed when a 1d array was expected. Please change the shape of y to (n_samples, ), for example using ravel().\n",
      "  y = column_or_1d(y, warn=True)\n",
      "/Users/hmc/opt/anaconda3/envs/ADP_Class/lib/python3.7/site-packages/sklearn/utils/validation.py:993: DataConversionWarning: A column-vector y was passed when a 1d array was expected. Please change the shape of y to (n_samples, ), for example using ravel().\n",
      "  y = column_or_1d(y, warn=True)\n",
      "/Users/hmc/opt/anaconda3/envs/ADP_Class/lib/python3.7/site-packages/sklearn/linear_model/_logistic.py:818: ConvergenceWarning: lbfgs failed to converge (status=1):\n",
      "STOP: TOTAL NO. of ITERATIONS REACHED LIMIT.\n",
      "\n",
      "Increase the number of iterations (max_iter) or scale the data as shown in:\n",
      "    https://scikit-learn.org/stable/modules/preprocessing.html\n",
      "Please also refer to the documentation for alternative solver options:\n",
      "    https://scikit-learn.org/stable/modules/linear_model.html#logistic-regression\n",
      "  extra_warning_msg=_LOGISTIC_SOLVER_CONVERGENCE_MSG,\n",
      "/Users/hmc/opt/anaconda3/envs/ADP_Class/lib/python3.7/site-packages/sklearn/utils/validation.py:993: DataConversionWarning: A column-vector y was passed when a 1d array was expected. Please change the shape of y to (n_samples, ), for example using ravel().\n",
      "  y = column_or_1d(y, warn=True)\n",
      "/Users/hmc/opt/anaconda3/envs/ADP_Class/lib/python3.7/site-packages/sklearn/utils/validation.py:993: DataConversionWarning: A column-vector y was passed when a 1d array was expected. Please change the shape of y to (n_samples, ), for example using ravel().\n",
      "  y = column_or_1d(y, warn=True)\n",
      "/Users/hmc/opt/anaconda3/envs/ADP_Class/lib/python3.7/site-packages/sklearn/utils/validation.py:993: DataConversionWarning: A column-vector y was passed when a 1d array was expected. Please change the shape of y to (n_samples, ), for example using ravel().\n",
      "  y = column_or_1d(y, warn=True)\n",
      "/Users/hmc/opt/anaconda3/envs/ADP_Class/lib/python3.7/site-packages/sklearn/linear_model/_logistic.py:818: ConvergenceWarning: lbfgs failed to converge (status=1):\n",
      "STOP: TOTAL NO. of ITERATIONS REACHED LIMIT.\n",
      "\n",
      "Increase the number of iterations (max_iter) or scale the data as shown in:\n",
      "    https://scikit-learn.org/stable/modules/preprocessing.html\n",
      "Please also refer to the documentation for alternative solver options:\n",
      "    https://scikit-learn.org/stable/modules/linear_model.html#logistic-regression\n",
      "  extra_warning_msg=_LOGISTIC_SOLVER_CONVERGENCE_MSG,\n",
      "/Users/hmc/opt/anaconda3/envs/ADP_Class/lib/python3.7/site-packages/sklearn/utils/validation.py:993: DataConversionWarning: A column-vector y was passed when a 1d array was expected. Please change the shape of y to (n_samples, ), for example using ravel().\n",
      "  y = column_or_1d(y, warn=True)\n",
      "/Users/hmc/opt/anaconda3/envs/ADP_Class/lib/python3.7/site-packages/sklearn/linear_model/_logistic.py:818: ConvergenceWarning: lbfgs failed to converge (status=1):\n",
      "STOP: TOTAL NO. of ITERATIONS REACHED LIMIT.\n",
      "\n",
      "Increase the number of iterations (max_iter) or scale the data as shown in:\n",
      "    https://scikit-learn.org/stable/modules/preprocessing.html\n",
      "Please also refer to the documentation for alternative solver options:\n",
      "    https://scikit-learn.org/stable/modules/linear_model.html#logistic-regression\n",
      "  extra_warning_msg=_LOGISTIC_SOLVER_CONVERGENCE_MSG,\n",
      "/Users/hmc/opt/anaconda3/envs/ADP_Class/lib/python3.7/site-packages/sklearn/utils/validation.py:993: DataConversionWarning: A column-vector y was passed when a 1d array was expected. Please change the shape of y to (n_samples, ), for example using ravel().\n",
      "  y = column_or_1d(y, warn=True)\n",
      "/Users/hmc/opt/anaconda3/envs/ADP_Class/lib/python3.7/site-packages/sklearn/utils/validation.py:993: DataConversionWarning: A column-vector y was passed when a 1d array was expected. Please change the shape of y to (n_samples, ), for example using ravel().\n",
      "  y = column_or_1d(y, warn=True)\n",
      "/Users/hmc/opt/anaconda3/envs/ADP_Class/lib/python3.7/site-packages/sklearn/utils/validation.py:993: DataConversionWarning: A column-vector y was passed when a 1d array was expected. Please change the shape of y to (n_samples, ), for example using ravel().\n",
      "  y = column_or_1d(y, warn=True)\n",
      "/Users/hmc/opt/anaconda3/envs/ADP_Class/lib/python3.7/site-packages/sklearn/utils/validation.py:993: DataConversionWarning: A column-vector y was passed when a 1d array was expected. Please change the shape of y to (n_samples, ), for example using ravel().\n",
      "  y = column_or_1d(y, warn=True)\n",
      "/Users/hmc/opt/anaconda3/envs/ADP_Class/lib/python3.7/site-packages/sklearn/utils/validation.py:993: DataConversionWarning: A column-vector y was passed when a 1d array was expected. Please change the shape of y to (n_samples, ), for example using ravel().\n",
      "  y = column_or_1d(y, warn=True)\n",
      "/Users/hmc/opt/anaconda3/envs/ADP_Class/lib/python3.7/site-packages/sklearn/linear_model/_logistic.py:818: ConvergenceWarning: lbfgs failed to converge (status=1):\n",
      "STOP: TOTAL NO. of ITERATIONS REACHED LIMIT.\n",
      "\n",
      "Increase the number of iterations (max_iter) or scale the data as shown in:\n",
      "    https://scikit-learn.org/stable/modules/preprocessing.html\n",
      "Please also refer to the documentation for alternative solver options:\n",
      "    https://scikit-learn.org/stable/modules/linear_model.html#logistic-regression\n",
      "  extra_warning_msg=_LOGISTIC_SOLVER_CONVERGENCE_MSG,\n",
      "/Users/hmc/opt/anaconda3/envs/ADP_Class/lib/python3.7/site-packages/sklearn/utils/validation.py:993: DataConversionWarning: A column-vector y was passed when a 1d array was expected. Please change the shape of y to (n_samples, ), for example using ravel().\n",
      "  y = column_or_1d(y, warn=True)\n",
      "/Users/hmc/opt/anaconda3/envs/ADP_Class/lib/python3.7/site-packages/sklearn/utils/validation.py:993: DataConversionWarning: A column-vector y was passed when a 1d array was expected. Please change the shape of y to (n_samples, ), for example using ravel().\n",
      "  y = column_or_1d(y, warn=True)\n",
      "/Users/hmc/opt/anaconda3/envs/ADP_Class/lib/python3.7/site-packages/sklearn/utils/validation.py:993: DataConversionWarning: A column-vector y was passed when a 1d array was expected. Please change the shape of y to (n_samples, ), for example using ravel().\n",
      "  y = column_or_1d(y, warn=True)\n"
     ]
    },
    {
     "name": "stdout",
     "output_type": "stream",
     "text": [
      "기본 교차 검증 점수 :  [0.96666667 1.         0.93333333 0.96666667 1.        ]\n",
      "기본 교차 검증 평균 점수 :  0.9733333333333334\n",
      "5-겹 교차 검증 평균 점수 :  0.9733333333333333\n",
      "KFold_5-겹 교차 검증 평균 점수 :  0.9266666666666665\n",
      "S-KFold_5-겹 교차 검증 평균 점수 :  0.9733333333333334\n"
     ]
    }
   ],
   "source": [
    "from sklearn.model_selection import cross_val_score\n",
    "from sklearn.model_selection import KFold\n",
    "from sklearn.model_selection import StratifiedKFold\n",
    "\n",
    "model = LogisticRegression()\n",
    "\n",
    "kfold = KFold(n_splits=5)\n",
    "skfold = StratifiedKFold(n_splits=5)\n",
    "\n",
    "# 파라미터는 (모델, Traingdata의 feature, Trainingdata의 target, 폴드수) 이다.\n",
    "# scikit-learn 0.22 버전부터 기본적으로 5-겹 교차 검증으로 바뀌었다.\n",
    "basic_scores = cross_val_score(model, X, y)\n",
    "\n",
    "\n",
    "# 물론 cv 매개변수를 이용하여 k겹의 k를 변경가능하다.\n",
    "# 하지만, 교차검증에서는 대게 5겹 교차 검증을 자주 사용한다.\n",
    "\n",
    "\n",
    "cv5_scores = cross_val_score(model, X, y, cv = 3)\n",
    "cv5_scores_kfold = cross_val_score(model, X, y, cv = kfold)\n",
    "cv5_scores_skfold = cross_val_score(model, X, y, cv = skfold)\n",
    "\n",
    "\n",
    "print('기본 교차 검증 점수 : ', basic_scores)\n",
    "print('기본 교차 검증 평균 점수 : ', basic_scores.mean())\n",
    "#print('5-겹 교차 검증 점수 : ', cv5_scores)\n",
    "print('5-겹 교차 검증 평균 점수 : ', cv5_scores.mean())\n",
    "#print('KFold_5-겹 교차 검증 점수 : ', cv5_scores_kfold)\n",
    "print('KFold_5-겹 교차 검증 평균 점수 : ', cv5_scores_kfold.mean())\n",
    "#print('S-KFold_5-겹 교차 검증 점수 : ', cv5_scores_skfold)\n",
    "print('S-KFold_5-겹 교차 검증 평균 점수 : ', cv5_scores_skfold.mean())\n",
    "\n",
    "#https://wooono.tistory.com/105\n",
    "#https://scikit-learn.org/stable/modules/cross_validation.html\n",
    "#https://jhryu1208.github.io/data/2021/01/24/ML_cross_validation/#1)-%EA%B5%90%EC%B0%A8-%EA%B2%80%EC%A6%9D-(Cross-Validation)"
   ]
  },
  {
   "cell_type": "code",
   "execution_count": 28,
   "id": "4a16e46e",
   "metadata": {},
   "outputs": [
    {
     "name": "stderr",
     "output_type": "stream",
     "text": [
      "/Users/hmc/opt/anaconda3/envs/ADP_Class/lib/python3.7/site-packages/sklearn/utils/validation.py:993: DataConversionWarning: A column-vector y was passed when a 1d array was expected. Please change the shape of y to (n_samples, ), for example using ravel().\n",
      "  y = column_or_1d(y, warn=True)\n",
      "/Users/hmc/opt/anaconda3/envs/ADP_Class/lib/python3.7/site-packages/sklearn/utils/validation.py:993: DataConversionWarning: A column-vector y was passed when a 1d array was expected. Please change the shape of y to (n_samples, ), for example using ravel().\n",
      "  y = column_or_1d(y, warn=True)\n",
      "/Users/hmc/opt/anaconda3/envs/ADP_Class/lib/python3.7/site-packages/sklearn/linear_model/_logistic.py:818: ConvergenceWarning: lbfgs failed to converge (status=1):\n",
      "STOP: TOTAL NO. of ITERATIONS REACHED LIMIT.\n",
      "\n",
      "Increase the number of iterations (max_iter) or scale the data as shown in:\n",
      "    https://scikit-learn.org/stable/modules/preprocessing.html\n",
      "Please also refer to the documentation for alternative solver options:\n",
      "    https://scikit-learn.org/stable/modules/linear_model.html#logistic-regression\n",
      "  extra_warning_msg=_LOGISTIC_SOLVER_CONVERGENCE_MSG,\n",
      "/Users/hmc/opt/anaconda3/envs/ADP_Class/lib/python3.7/site-packages/sklearn/utils/validation.py:993: DataConversionWarning: A column-vector y was passed when a 1d array was expected. Please change the shape of y to (n_samples, ), for example using ravel().\n",
      "  y = column_or_1d(y, warn=True)\n",
      "/Users/hmc/opt/anaconda3/envs/ADP_Class/lib/python3.7/site-packages/sklearn/utils/validation.py:993: DataConversionWarning: A column-vector y was passed when a 1d array was expected. Please change the shape of y to (n_samples, ), for example using ravel().\n",
      "  y = column_or_1d(y, warn=True)\n",
      "/Users/hmc/opt/anaconda3/envs/ADP_Class/lib/python3.7/site-packages/sklearn/utils/validation.py:993: DataConversionWarning: A column-vector y was passed when a 1d array was expected. Please change the shape of y to (n_samples, ), for example using ravel().\n",
      "  y = column_or_1d(y, warn=True)\n"
     ]
    },
    {
     "data": {
      "text/plain": [
       "{'fit_time': array([0.02407598, 0.02853513, 0.02238488, 0.02334309, 0.02247024]),\n",
       " 'score_time': array([0.001647  , 0.00170374, 0.00139594, 0.00156593, 0.00153804]),\n",
       " 'test_score': array([0.96666667, 1.        , 0.93333333, 0.96666667, 1.        ]),\n",
       " 'train_score': array([0.96666667, 0.96666667, 0.98333333, 0.98333333, 0.975     ])}"
      ]
     },
     "execution_count": 28,
     "metadata": {},
     "output_type": "execute_result"
    }
   ],
   "source": [
    "from sklearn.model_selection import cross_validate\n",
    "\n",
    "res = cross_validate(model, X, y, cv = 5, return_train_score=True)\n",
    "res"
   ]
  },
  {
   "cell_type": "code",
   "execution_count": 29,
   "id": "d09354a7",
   "metadata": {},
   "outputs": [
    {
     "data": {
      "text/plain": [
       "array([0.96666667, 1.        , 0.93333333, 0.96666667, 1.        ])"
      ]
     },
     "execution_count": 29,
     "metadata": {},
     "output_type": "execute_result"
    }
   ],
   "source": [
    "res.get('test_score')"
   ]
  },
  {
   "cell_type": "markdown",
   "id": "cb196445",
   "metadata": {},
   "source": [
    "### 분류_의사결정나무 멀티클래스"
   ]
  },
  {
   "cell_type": "code",
   "execution_count": 131,
   "id": "724091b4",
   "metadata": {},
   "outputs": [
    {
     "data": {
      "text/plain": [
       "array([2, 0, 0, 1, 1, 1, 2, 1, 2, 0, 0, 2, 0, 1, 0, 1, 2, 1, 1, 2, 2, 0,\n",
       "       1, 2, 1, 1, 1, 2, 0, 2, 0, 0, 1, 1, 2, 2, 0, 0, 0, 1, 2, 2, 1, 0,\n",
       "       0])"
      ]
     },
     "execution_count": 131,
     "metadata": {},
     "output_type": "execute_result"
    }
   ],
   "source": [
    "import pandas as pd\n",
    "import numpy as np\n",
    "\n",
    "from sklearn import datasets\n",
    "\n",
    "iris = datasets.load_iris()\n",
    "X = iris.data  # we only take the first two features.\n",
    "y = iris.target\n",
    "X = pd.DataFrame(X, columns = ['a','b','c','d'])\n",
    "y = pd.DataFrame(y, columns = ['target'])\n",
    "\n",
    "\n",
    "\n",
    "from sklearn.model_selection import train_test_split\n",
    "# 훈련셋, 테스트셋 분리\n",
    "X_train, X_test, y_train, y_test = train_test_split(X, y, stratify=y, test_size=0.3, random_state=1)\n",
    "\n",
    "\n",
    "from sklearn.tree import DecisionTreeClassifier\n",
    "# 의사결정나무 모델링\n",
    "dt_clf = DecisionTreeClassifier()\n",
    "## 모델 학습 \n",
    "dt_clf.fit(X_train, y_train)\n",
    "\n",
    "\n",
    "\n",
    "y_pred = dt_clf.predict(X_test)\n",
    "y_pred"
   ]
  },
  {
   "cell_type": "code",
   "execution_count": 134,
   "id": "c228a40b",
   "metadata": {},
   "outputs": [
    {
     "data": {
      "text/plain": [
       "array([[0., 0., 1.],\n",
       "       [1., 0., 0.],\n",
       "       [1., 0., 0.],\n",
       "       [0., 1., 0.],\n",
       "       [0., 1., 0.],\n",
       "       [0., 1., 0.],\n",
       "       [0., 0., 1.],\n",
       "       [0., 1., 0.],\n",
       "       [0., 0., 1.],\n",
       "       [1., 0., 0.],\n",
       "       [1., 0., 0.],\n",
       "       [0., 0., 1.],\n",
       "       [1., 0., 0.],\n",
       "       [0., 1., 0.],\n",
       "       [1., 0., 0.],\n",
       "       [0., 1., 0.],\n",
       "       [0., 0., 1.],\n",
       "       [0., 1., 0.],\n",
       "       [0., 1., 0.],\n",
       "       [0., 0., 1.],\n",
       "       [0., 0., 1.],\n",
       "       [1., 0., 0.],\n",
       "       [0., 1., 0.],\n",
       "       [0., 0., 1.],\n",
       "       [0., 1., 0.],\n",
       "       [0., 1., 0.],\n",
       "       [0., 1., 0.],\n",
       "       [0., 0., 1.],\n",
       "       [1., 0., 0.],\n",
       "       [0., 0., 1.],\n",
       "       [1., 0., 0.],\n",
       "       [1., 0., 0.],\n",
       "       [0., 1., 0.],\n",
       "       [0., 1., 0.],\n",
       "       [0., 0., 1.],\n",
       "       [0., 0., 1.],\n",
       "       [1., 0., 0.],\n",
       "       [1., 0., 0.],\n",
       "       [1., 0., 0.],\n",
       "       [0., 1., 0.],\n",
       "       [0., 0., 1.],\n",
       "       [0., 0., 1.],\n",
       "       [0., 1., 0.],\n",
       "       [1., 0., 0.],\n",
       "       [1., 0., 0.]])"
      ]
     },
     "execution_count": 134,
     "metadata": {},
     "output_type": "execute_result"
    }
   ],
   "source": [
    "dt_clf.predict_proba(X_test)"
   ]
  },
  {
   "cell_type": "code",
   "execution_count": 133,
   "id": "00aeeb76",
   "metadata": {},
   "outputs": [
    {
     "name": "stdout",
     "output_type": "stream",
     "text": [
      "[[15  0  0]\n",
      " [ 0 15  0]\n",
      " [ 0  1 14]]\n",
      "Acuuracy :  0.9777777777777777\n",
      "옳게 예측한 확률, TP+TN / TOTAL \n",
      "\n",
      "              precision    recall  f1-score   support\n",
      "\n",
      "           0       1.00      1.00      1.00        15\n",
      "           1       0.94      1.00      0.97        15\n",
      "           2       1.00      0.93      0.97        15\n",
      "\n",
      "    accuracy                           0.98        45\n",
      "   macro avg       0.98      0.98      0.98        45\n",
      "weighted avg       0.98      0.98      0.98        45\n",
      "\n"
     ]
    }
   ],
   "source": [
    "from sklearn.metrics import confusion_matrix, accuracy_score, recall_score, precision_score, f1_score, classification_report\n",
    "\n",
    "cm = confusion_matrix(y_test,y_pred)\n",
    "print(cm)\n",
    "#print(\"TN, FP\")\n",
    "#print(\"FN, TP \\n\")\n",
    "\n",
    "print(\"Acuuracy : \", accuracy_score(y_test, y_pred))\n",
    "print(\"옳게 예측한 확률, TP+TN / TOTAL \\n\")\n",
    "\n",
    "#print(\"Sensitivity(recall) : \", recall_score(y_test, y_pred))\n",
    "#print(\"True Positive Rate \\n\")\n",
    "\n",
    "#print(\"precision_score : \", precision_score(y_test, y_pred))\n",
    "#print(\"정밀도, TP / TP + FP\\n\")\n",
    "\n",
    "#print(\"f1_score : \", f1_score(y_test, y_pred))\n",
    "#print(\"2 * recall * precision / (recall + precision)\")\n",
    "#print(\"불균형 데이터라서...f1을 쓰는게 바람직함. survived==0의 갯수가 1에 비해 훨씬 많음 = TN, FP 갯수가 높음\")\n",
    "\n",
    "class_report = classification_report(y_test, y_pred)\n",
    "print(class_report)"
   ]
  },
  {
   "cell_type": "code",
   "execution_count": 32,
   "id": "7a3b859f",
   "metadata": {},
   "outputs": [
    {
     "data": {
      "text/plain": [
       "0.9833333333333334"
      ]
     },
     "execution_count": 32,
     "metadata": {},
     "output_type": "execute_result"
    }
   ],
   "source": [
    "roc_auc_score(y_test, dt_clf.predict_proba(X_test), multi_class='ovr')"
   ]
  },
  {
   "cell_type": "markdown",
   "id": "250957c9",
   "metadata": {},
   "source": [
    "#### 교차 검증 기법을 통한 매개변수 도출 - 그리드서치"
   ]
  },
  {
   "cell_type": "code",
   "execution_count": 135,
   "id": "b7695078",
   "metadata": {
    "scrolled": true
   },
   "outputs": [
    {
     "data": {
      "text/plain": [
       "6"
      ]
     },
     "execution_count": 135,
     "metadata": {},
     "output_type": "execute_result"
    }
   ],
   "source": [
    "dt_clf.get_depth()"
   ]
  },
  {
   "cell_type": "code",
   "execution_count": 137,
   "id": "7799f87e",
   "metadata": {},
   "outputs": [
    {
     "data": {
      "text/plain": [
       "{'ccp_alpha': 0.0,\n",
       " 'class_weight': None,\n",
       " 'criterion': 'gini',\n",
       " 'max_depth': None,\n",
       " 'max_features': None,\n",
       " 'max_leaf_nodes': None,\n",
       " 'min_impurity_decrease': 0.0,\n",
       " 'min_samples_leaf': 1,\n",
       " 'min_samples_split': 2,\n",
       " 'min_weight_fraction_leaf': 0.0,\n",
       " 'random_state': None,\n",
       " 'splitter': 'best'}"
      ]
     },
     "execution_count": 137,
     "metadata": {},
     "output_type": "execute_result"
    }
   ],
   "source": [
    "dt_clf.get_params()"
   ]
  },
  {
   "cell_type": "code",
   "execution_count": 138,
   "id": "a3712028",
   "metadata": {},
   "outputs": [
    {
     "data": {
      "text/plain": [
       "DecisionTreeClassifier(max_depth=7)"
      ]
     },
     "execution_count": 138,
     "metadata": {},
     "output_type": "execute_result"
    }
   ],
   "source": [
    "from sklearn.model_selection import GridSearchCV\n",
    "\n",
    "param_grid = {'max_depth':range(2,16,1) , 'min_samples_leaf':range(1,20,1)}\n",
    "model_grid_tree = GridSearchCV(DecisionTreeClassifier(), param_grid, cv=5)\n",
    "model_grid_tree.fit(X_train,y_train)\n",
    "model_grid_tree.best_estimator_"
   ]
  },
  {
   "cell_type": "code",
   "execution_count": 140,
   "id": "81c5da13",
   "metadata": {},
   "outputs": [
    {
     "data": {
      "text/plain": [
       "0.9833333333333334"
      ]
     },
     "execution_count": 140,
     "metadata": {},
     "output_type": "execute_result"
    }
   ],
   "source": [
    "roc_auc_score(y_test,model_grid_tree.predict_proba(X_test), multi_class='ovr')"
   ]
  },
  {
   "cell_type": "code",
   "execution_count": 141,
   "id": "c34a7a44",
   "metadata": {},
   "outputs": [
    {
     "data": {
      "text/plain": [
       "0.9833333333333334"
      ]
     },
     "execution_count": 141,
     "metadata": {},
     "output_type": "execute_result"
    }
   ],
   "source": [
    "roc_auc_score(y_test,model_grid_tree.best_estimator_.predict_proba(X_test), multi_class='ovr')"
   ]
  },
  {
   "cell_type": "markdown",
   "id": "3e55ac80",
   "metadata": {},
   "source": [
    "## 회귀\n",
    "- 선형 회귀 / 릿지라쏘 / 의사결정나무 회귀 / 앙상블 회귀 / ...\n",
    "- metrics.mean_squared_error\n",
    "    - RMSE\n",
    "- metrics.r2_score"
   ]
  },
  {
   "cell_type": "markdown",
   "id": "d3eee6ad",
   "metadata": {},
   "source": [
    "### Ridge 회귀\n",
    "- 보스턴 집값"
   ]
  },
  {
   "cell_type": "code",
   "execution_count": 203,
   "id": "7661cf5d",
   "metadata": {
    "scrolled": true
   },
   "outputs": [
    {
     "name": "stderr",
     "output_type": "stream",
     "text": [
      "/Users/hmc/opt/anaconda3/envs/ADP_Class/lib/python3.7/site-packages/sklearn/utils/deprecation.py:87: FutureWarning: Function load_boston is deprecated; `load_boston` is deprecated in 1.0 and will be removed in 1.2.\n",
      "\n",
      "    The Boston housing prices dataset has an ethical problem. You can refer to\n",
      "    the documentation of this function for further details.\n",
      "\n",
      "    The scikit-learn maintainers therefore strongly discourage the use of this\n",
      "    dataset unless the purpose of the code is to study and educate about\n",
      "    ethical issues in data science and machine learning.\n",
      "\n",
      "    In this special case, you can fetch the dataset from the original\n",
      "    source::\n",
      "\n",
      "        import pandas as pd\n",
      "        import numpy as np\n",
      "\n",
      "\n",
      "        data_url = \"http://lib.stat.cmu.edu/datasets/boston\"\n",
      "        raw_df = pd.read_csv(data_url, sep=\"\\s+\", skiprows=22, header=None)\n",
      "        data = np.hstack([raw_df.values[::2, :], raw_df.values[1::2, :2]])\n",
      "        target = raw_df.values[1::2, 2]\n",
      "\n",
      "    Alternative datasets include the California housing dataset (i.e.\n",
      "    :func:`~sklearn.datasets.fetch_california_housing`) and the Ames housing\n",
      "    dataset. You can load the datasets as follows::\n",
      "\n",
      "        from sklearn.datasets import fetch_california_housing\n",
      "        housing = fetch_california_housing()\n",
      "\n",
      "    for the California housing dataset and::\n",
      "\n",
      "        from sklearn.datasets import fetch_openml\n",
      "        housing = fetch_openml(name=\"house_prices\", as_frame=True)\n",
      "\n",
      "    for the Ames housing dataset.\n",
      "    \n",
      "  warnings.warn(msg, category=FutureWarning)\n"
     ]
    }
   ],
   "source": [
    "import pandas as pd \n",
    "import numpy as np \n",
    "import mglearn\n",
    "X,y = mglearn.datasets.load_extended_boston()\n",
    "\n",
    "\n",
    "# 훈련, 테스트 셋 분리 \n",
    "from sklearn.model_selection import train_test_split\n",
    "X_train, X_test, y_train, y_test = train_test_split(X,y,test_size=0.3,random_state=0)"
   ]
  },
  {
   "cell_type": "code",
   "execution_count": 204,
   "id": "6ee928f3",
   "metadata": {},
   "outputs": [
    {
     "data": {
      "text/plain": [
       "((506, 104), (506,))"
      ]
     },
     "execution_count": 204,
     "metadata": {},
     "output_type": "execute_result"
    }
   ],
   "source": [
    "X.shape, y.shape"
   ]
  },
  {
   "cell_type": "code",
   "execution_count": 205,
   "id": "275fec3a",
   "metadata": {},
   "outputs": [
    {
     "name": "stdout",
     "output_type": "stream",
     "text": [
      "X 독립변수 갯수 : 104\n",
      "train r2 성능 :  0.8820517790991204\n",
      "test r2 성능 :  0.78344599767367\n"
     ]
    }
   ],
   "source": [
    "from sklearn.linear_model import Ridge \n",
    "\n",
    "ridge = Ridge() \n",
    "ridge.fit(X_train,y_train)\n",
    "\n",
    "## R2 \n",
    "print(\"X 독립변수 갯수 :\", np.sum(ridge.coef_!=0))\n",
    "print(\"train r2 성능 : \", ridge.score(X_train,y_train))\n",
    "\n",
    "print(\"test r2 성능 : \", ridge.score(X_test,y_test))"
   ]
  },
  {
   "cell_type": "code",
   "execution_count": 206,
   "id": "437ede55",
   "metadata": {},
   "outputs": [
    {
     "name": "stdout",
     "output_type": "stream",
     "text": [
      "Help on method score in module sklearn.base:\n",
      "\n",
      "score(X, y, sample_weight=None) method of sklearn.linear_model._ridge.Ridge instance\n",
      "    Return the coefficient of determination of the prediction.\n",
      "    \n",
      "    The coefficient of determination :math:`R^2` is defined as\n",
      "    :math:`(1 - \\frac{u}{v})`, where :math:`u` is the residual\n",
      "    sum of squares ``((y_true - y_pred)** 2).sum()`` and :math:`v`\n",
      "    is the total sum of squares ``((y_true - y_true.mean()) ** 2).sum()``.\n",
      "    The best possible score is 1.0 and it can be negative (because the\n",
      "    model can be arbitrarily worse). A constant model that always predicts\n",
      "    the expected value of `y`, disregarding the input features, would get\n",
      "    a :math:`R^2` score of 0.0.\n",
      "    \n",
      "    Parameters\n",
      "    ----------\n",
      "    X : array-like of shape (n_samples, n_features)\n",
      "        Test samples. For some estimators this may be a precomputed\n",
      "        kernel matrix or a list of generic objects instead with shape\n",
      "        ``(n_samples, n_samples_fitted)``, where ``n_samples_fitted``\n",
      "        is the number of samples used in the fitting for the estimator.\n",
      "    \n",
      "    y : array-like of shape (n_samples,) or (n_samples, n_outputs)\n",
      "        True values for `X`.\n",
      "    \n",
      "    sample_weight : array-like of shape (n_samples,), default=None\n",
      "        Sample weights.\n",
      "    \n",
      "    Returns\n",
      "    -------\n",
      "    score : float\n",
      "        :math:`R^2` of ``self.predict(X)`` wrt. `y`.\n",
      "    \n",
      "    Notes\n",
      "    -----\n",
      "    The :math:`R^2` score used when calling ``score`` on a regressor uses\n",
      "    ``multioutput='uniform_average'`` from version 0.23 to keep consistent\n",
      "    with default value of :func:`~sklearn.metrics.r2_score`.\n",
      "    This influences the ``score`` method of all the multioutput\n",
      "    regressors (except for\n",
      "    :class:`~sklearn.multioutput.MultiOutputRegressor`).\n",
      "\n"
     ]
    }
   ],
   "source": [
    "#ridge.socre 는 r2 score 임\n",
    "help(ridge.score)\n",
    "#https://scikit-learn.org/stable/modules/generated/sklearn.linear_model.Ridge.html?highlight=ridge#sklearn.linear_model.Ridge"
   ]
  },
  {
   "cell_type": "code",
   "execution_count": 207,
   "id": "f0341a14",
   "metadata": {},
   "outputs": [
    {
     "name": "stdout",
     "output_type": "stream",
     "text": [
      "18.031477636877383\n",
      "4.246348741787158\n"
     ]
    }
   ],
   "source": [
    "y_pred = ridge.predict(X_test)\n",
    "resid = y_test - y_pred\n",
    "#mse\n",
    "print((resid**2).sum()/len(y_test))\n",
    "#rmse\n",
    "print(np.sqrt((resid**2).sum()/len(y_test)))\n"
   ]
  },
  {
   "cell_type": "code",
   "execution_count": 208,
   "id": "6001fea8",
   "metadata": {},
   "outputs": [
    {
     "name": "stdout",
     "output_type": "stream",
     "text": [
      "18.031477636877383\n",
      "4.246348741787158\n"
     ]
    }
   ],
   "source": [
    "from sklearn.metrics import mean_squared_error\n",
    "mse = mean_squared_error(y_test,y_pred)\n",
    "rmse = np.sqrt(mse)\n",
    "\n",
    "print(mse)\n",
    "print(rmse)"
   ]
  },
  {
   "cell_type": "code",
   "execution_count": 209,
   "id": "a2461112",
   "metadata": {},
   "outputs": [
    {
     "data": {
      "text/plain": [
       "{'alpha': 1.0,\n",
       " 'copy_X': True,\n",
       " 'fit_intercept': True,\n",
       " 'max_iter': None,\n",
       " 'normalize': 'deprecated',\n",
       " 'positive': False,\n",
       " 'random_state': None,\n",
       " 'solver': 'auto',\n",
       " 'tol': 0.001}"
      ]
     },
     "execution_count": 209,
     "metadata": {},
     "output_type": "execute_result"
    }
   ],
   "source": [
    "ridge.get_params()"
   ]
  },
  {
   "cell_type": "markdown",
   "id": "36b5d18a",
   "metadata": {},
   "source": [
    "#### 교차 검증 기법을 통한 매개변수 도출 "
   ]
  },
  {
   "cell_type": "code",
   "execution_count": 151,
   "id": "23844306",
   "metadata": {},
   "outputs": [
    {
     "name": "stdout",
     "output_type": "stream",
     "text": [
      "{'alpha': 0.06499999999999999, 'copy_X': True, 'fit_intercept': True, 'max_iter': None, 'normalize': 'deprecated', 'positive': False, 'random_state': None, 'solver': 'auto', 'tol': 0.001}\n",
      "X 독립변수 갯수 : 104\n",
      "train r2 성능 :  0.9311428581975452\n",
      "test r2 성능 :  0.7920039135746864\n",
      "4.246348741787158\n"
     ]
    }
   ],
   "source": [
    "from sklearn.model_selection import GridSearchCV\n",
    "\n",
    "ridge = Ridge() \n",
    "param_grid = {'alpha':np.arange(.01,1,0.005)}\n",
    "grid_ridge = GridSearchCV(Ridge() , param_grid, cv=5)\n",
    "grid_ridge.fit(X_train,y_train)\n",
    "print(grid_ridge.best_estimator_.get_params())\n",
    "\n",
    "## R2 \n",
    "print(\"X 독립변수 갯수 :\", np.sum(grid_ridge.best_estimator_.coef_!=0))\n",
    "print(\"train r2 성능 : \", grid_ridge.best_estimator_.score(X_train,y_train))\n",
    "print(\"test r2 성능 : \", grid_ridge.best_estimator_.score(X_test,y_test))\n",
    "\n",
    "from sklearn.metrics import mean_squared_error\n",
    "mse = mean_squared_error(y_test,y_pred)\n",
    "rmse = np.sqrt(mse)\n",
    "print(rmse)"
   ]
  },
  {
   "cell_type": "markdown",
   "id": "5f6cd361",
   "metadata": {},
   "source": [
    "## 군집\n",
    "- 비지도 학습 -> 평가를 할 수가 없음\n",
    "- 더 나은 모델을 찾기 위한 (매개변수를 찾기 위한) score\n",
    "- k-means / DBSCAN / ...\n",
    "- 군집 간 응집도 / 군집 내 응집도\n",
    ">metrics.calinski_harabasz_score(X, labels)  \n",
    "Compute the Calinski and Harabasz score.  \n",
    "모든 클러스터에 대한 클러스터 간 분산과 / 클러스터 내 분산의 합의 비율 (높을수록 높음)\n",
    ">\n",
    ">metrics.silhouette_score(X, labels, *[, ...])  \n",
    "Compute the mean Silhouette Coefficient of all samples.  \n",
    "개별 데이터가 가지는 실루엣 계수는 해당 데이터가 같은 군집 내의 데이터와 얼마나 가깝게 군집화 돼있고, 다른 군집에 있는 데이터와는 어얼마나 멀리 분리돼 있는지를 나타내는 지표이다 . (0~1, 1이 제일 좋음)\n",
    "https://studying-haeung.tistory.com/10\n",
    ">\n",
    ">엘보우기법  \n",
    "클러스터 내 오차제곱합(SSE)을 클러스터 개수마다 비교  \n",
    "클러스터 개수를 늘려나가면서 계산한 SSE를 비교  \n",
    "어느 순간 줄어드는 비율이 급격하게 작아지는 부분과 기울기가 소실되는 구간이 생김 (=팔꿈치, eblow)  \n",
    ">\n",
    "\n"
   ]
  },
  {
   "cell_type": "markdown",
   "id": "b9d7574e",
   "metadata": {},
   "source": [
    "- iris 데이터"
   ]
  },
  {
   "cell_type": "code",
   "execution_count": 152,
   "id": "abebd007",
   "metadata": {},
   "outputs": [],
   "source": [
    "import pandas as pd\n",
    "import numpy as np\n",
    "\n",
    "from sklearn import datasets\n",
    "\n",
    "iris = datasets.load_iris()\n",
    "X = iris.data\n",
    "#y = iris.target"
   ]
  },
  {
   "cell_type": "code",
   "execution_count": 153,
   "id": "bcb33935",
   "metadata": {},
   "outputs": [],
   "source": [
    "X = pd.DataFrame(X, columns = ['a','b','c','d'])"
   ]
  },
  {
   "cell_type": "code",
   "execution_count": 154,
   "id": "53e678a2",
   "metadata": {},
   "outputs": [
    {
     "data": {
      "text/html": [
       "<div>\n",
       "<style scoped>\n",
       "    .dataframe tbody tr th:only-of-type {\n",
       "        vertical-align: middle;\n",
       "    }\n",
       "\n",
       "    .dataframe tbody tr th {\n",
       "        vertical-align: top;\n",
       "    }\n",
       "\n",
       "    .dataframe thead th {\n",
       "        text-align: right;\n",
       "    }\n",
       "</style>\n",
       "<table border=\"1\" class=\"dataframe\">\n",
       "  <thead>\n",
       "    <tr style=\"text-align: right;\">\n",
       "      <th></th>\n",
       "      <th>a</th>\n",
       "      <th>b</th>\n",
       "      <th>c</th>\n",
       "      <th>d</th>\n",
       "    </tr>\n",
       "  </thead>\n",
       "  <tbody>\n",
       "    <tr>\n",
       "      <th>0</th>\n",
       "      <td>5.1</td>\n",
       "      <td>3.5</td>\n",
       "      <td>1.4</td>\n",
       "      <td>0.2</td>\n",
       "    </tr>\n",
       "    <tr>\n",
       "      <th>1</th>\n",
       "      <td>4.9</td>\n",
       "      <td>3.0</td>\n",
       "      <td>1.4</td>\n",
       "      <td>0.2</td>\n",
       "    </tr>\n",
       "    <tr>\n",
       "      <th>2</th>\n",
       "      <td>4.7</td>\n",
       "      <td>3.2</td>\n",
       "      <td>1.3</td>\n",
       "      <td>0.2</td>\n",
       "    </tr>\n",
       "    <tr>\n",
       "      <th>3</th>\n",
       "      <td>4.6</td>\n",
       "      <td>3.1</td>\n",
       "      <td>1.5</td>\n",
       "      <td>0.2</td>\n",
       "    </tr>\n",
       "    <tr>\n",
       "      <th>4</th>\n",
       "      <td>5.0</td>\n",
       "      <td>3.6</td>\n",
       "      <td>1.4</td>\n",
       "      <td>0.2</td>\n",
       "    </tr>\n",
       "    <tr>\n",
       "      <th>...</th>\n",
       "      <td>...</td>\n",
       "      <td>...</td>\n",
       "      <td>...</td>\n",
       "      <td>...</td>\n",
       "    </tr>\n",
       "    <tr>\n",
       "      <th>145</th>\n",
       "      <td>6.7</td>\n",
       "      <td>3.0</td>\n",
       "      <td>5.2</td>\n",
       "      <td>2.3</td>\n",
       "    </tr>\n",
       "    <tr>\n",
       "      <th>146</th>\n",
       "      <td>6.3</td>\n",
       "      <td>2.5</td>\n",
       "      <td>5.0</td>\n",
       "      <td>1.9</td>\n",
       "    </tr>\n",
       "    <tr>\n",
       "      <th>147</th>\n",
       "      <td>6.5</td>\n",
       "      <td>3.0</td>\n",
       "      <td>5.2</td>\n",
       "      <td>2.0</td>\n",
       "    </tr>\n",
       "    <tr>\n",
       "      <th>148</th>\n",
       "      <td>6.2</td>\n",
       "      <td>3.4</td>\n",
       "      <td>5.4</td>\n",
       "      <td>2.3</td>\n",
       "    </tr>\n",
       "    <tr>\n",
       "      <th>149</th>\n",
       "      <td>5.9</td>\n",
       "      <td>3.0</td>\n",
       "      <td>5.1</td>\n",
       "      <td>1.8</td>\n",
       "    </tr>\n",
       "  </tbody>\n",
       "</table>\n",
       "<p>150 rows × 4 columns</p>\n",
       "</div>"
      ],
      "text/plain": [
       "       a    b    c    d\n",
       "0    5.1  3.5  1.4  0.2\n",
       "1    4.9  3.0  1.4  0.2\n",
       "2    4.7  3.2  1.3  0.2\n",
       "3    4.6  3.1  1.5  0.2\n",
       "4    5.0  3.6  1.4  0.2\n",
       "..   ...  ...  ...  ...\n",
       "145  6.7  3.0  5.2  2.3\n",
       "146  6.3  2.5  5.0  1.9\n",
       "147  6.5  3.0  5.2  2.0\n",
       "148  6.2  3.4  5.4  2.3\n",
       "149  5.9  3.0  5.1  1.8\n",
       "\n",
       "[150 rows x 4 columns]"
      ]
     },
     "execution_count": 154,
     "metadata": {},
     "output_type": "execute_result"
    }
   ],
   "source": [
    "X"
   ]
  },
  {
   "cell_type": "markdown",
   "id": "27f31942",
   "metadata": {},
   "source": [
    "#### 실루엣계수, 하라바츠"
   ]
  },
  {
   "cell_type": "code",
   "execution_count": 157,
   "id": "ab3492b0",
   "metadata": {},
   "outputs": [
    {
     "name": "stdout",
     "output_type": "stream",
     "text": [
      "calinski_harabasz_score:  513.9245459802768\n",
      "silhouette_score:  0.6810461692117462\n"
     ]
    }
   ],
   "source": [
    "from sklearn.cluster import KMeans\n",
    "\n",
    "km = KMeans(n_clusters = 2, random_state=1)\n",
    "km.fit(X)\n",
    "\n",
    "from sklearn.metrics import calinski_harabasz_score\n",
    "from sklearn.metrics import silhouette_score\n",
    "print(\"calinski_harabasz_score: \",calinski_harabasz_score(X, km.labels_))\n",
    "print(\"silhouette_score: \", silhouette_score(X, km.labels_))"
   ]
  },
  {
   "cell_type": "code",
   "execution_count": 158,
   "id": "8cce95bd",
   "metadata": {},
   "outputs": [
    {
     "name": "stdout",
     "output_type": "stream",
     "text": [
      "calinski_harabasz_score:  561.62775662962\n",
      "silhouette_score:  0.5528190123564095\n"
     ]
    }
   ],
   "source": [
    "from sklearn.cluster import KMeans\n",
    "\n",
    "km = KMeans(n_clusters = 3, random_state=1)\n",
    "km.fit(X)\n",
    "\n",
    "from sklearn.metrics import calinski_harabasz_score\n",
    "from sklearn.metrics import silhouette_score\n",
    "print(\"calinski_harabasz_score: \",calinski_harabasz_score(X, km.labels_))\n",
    "print(\"silhouette_score: \", silhouette_score(X, km.labels_))"
   ]
  },
  {
   "cell_type": "code",
   "execution_count": 159,
   "id": "ede05d1c",
   "metadata": {
    "scrolled": true
   },
   "outputs": [
    {
     "name": "stdout",
     "output_type": "stream",
     "text": [
      "calinski_harabasz_score:  530.4871420421675\n",
      "silhouette_score:  0.4974551890173751\n"
     ]
    }
   ],
   "source": [
    "from sklearn.cluster import KMeans\n",
    "\n",
    "km = KMeans(n_clusters = 4, random_state=1)\n",
    "km.fit(X)\n",
    "\n",
    "from sklearn.metrics import calinski_harabasz_score\n",
    "from sklearn.metrics import silhouette_score\n",
    "print(\"calinski_harabasz_score: \",calinski_harabasz_score(X, km.labels_))\n",
    "print(\"silhouette_score: \", silhouette_score(X, km.labels_))"
   ]
  },
  {
   "cell_type": "markdown",
   "id": "4c0a9c84",
   "metadata": {},
   "source": [
    "#### 엘보우"
   ]
  },
  {
   "cell_type": "code",
   "execution_count": 29,
   "id": "01e2238b",
   "metadata": {},
   "outputs": [],
   "source": [
    "import matplotlib.pyplot as plt\n",
    "def elbow(X):\n",
    "    sse=[]\n",
    "    for i in range(1, 11):\n",
    "        km=KMeans(n_clusters=i, random_state=1)\n",
    "        km.fit(X)\n",
    "        sse.append(km.inertia_)\n",
    "    \n",
    "    plt.plot(range(1,11), sse, marker='o')\n",
    "    plt.xlabel('The Number of Clusters')\n",
    "    plt.ylabel('SSE')\n",
    "    plt.show()\n",
    "    print(sse)"
   ]
  },
  {
   "cell_type": "code",
   "execution_count": 30,
   "id": "cbcb4719",
   "metadata": {},
   "outputs": [
    {
     "data": {
      "image/png": "[encoded data removed]",
      "text/plain": [
       "<Figure size 432x288 with 1 Axes>"
      ]
     },
     "metadata": {
      "needs_background": "light"
     },
     "output_type": "display_data"
    },
    {
     "name": "stdout",
     "output_type": "stream",
     "text": [
      "[681.3706, 152.34795176035792, 78.85144142614601, 57.25600931571815, 46.44618205128205, 39.066035353535355, 34.723277629233515, 29.99042640692641, 28.278674715635244, 26.094089542638308]\n"
     ]
    }
   ],
   "source": [
    "elbow(X)"
   ]
  },
  {
   "cell_type": "code",
   "execution_count": 51,
   "id": "1b426739",
   "metadata": {},
   "outputs": [
    {
     "name": "stdout",
     "output_type": "stream",
     "text": [
      "Help on KMeans in module sklearn.cluster._kmeans object:\n",
      "\n",
      "class KMeans(sklearn.base.TransformerMixin, sklearn.base.ClusterMixin, sklearn.base.BaseEstimator)\n",
      " |  KMeans(n_clusters=8, *, init='k-means++', n_init=10, max_iter=300, tol=0.0001, verbose=0, random_state=None, copy_x=True, algorithm='auto')\n",
      " |  \n",
      " |  K-Means clustering.\n",
      " |  \n",
      " |  Read more in the :ref:`User Guide <k_means>`.\n",
      " |  \n",
      " |  Parameters\n",
      " |  ----------\n",
      " |  \n",
      " |  n_clusters : int, default=8\n",
      " |      The number of clusters to form as well as the number of\n",
      " |      centroids to generate.\n",
      " |  \n",
      " |  init : {'k-means++', 'random'}, callable or array-like of shape             (n_clusters, n_features), default='k-means++'\n",
      " |      Method for initialization:\n",
      " |  \n",
      " |      'k-means++' : selects initial cluster centers for k-mean\n",
      " |      clustering in a smart way to speed up convergence. See section\n",
      " |      Notes in k_init for more details.\n",
      " |  \n",
      " |      'random': choose `n_clusters` observations (rows) at random from data\n",
      " |      for the initial centroids.\n",
      " |  \n",
      " |      If an array is passed, it should be of shape (n_clusters, n_features)\n",
      " |      and gives the initial centers.\n",
      " |  \n",
      " |      If a callable is passed, it should take arguments X, n_clusters and a\n",
      " |      random state and return an initialization.\n",
      " |  \n",
      " |  n_init : int, default=10\n",
      " |      Number of time the k-means algorithm will be run with different\n",
      " |      centroid seeds. The final results will be the best output of\n",
      " |      n_init consecutive runs in terms of inertia.\n",
      " |  \n",
      " |  max_iter : int, default=300\n",
      " |      Maximum number of iterations of the k-means algorithm for a\n",
      " |      single run.\n",
      " |  \n",
      " |  tol : float, default=1e-4\n",
      " |      Relative tolerance with regards to Frobenius norm of the difference\n",
      " |      in the cluster centers of two consecutive iterations to declare\n",
      " |      convergence.\n",
      " |  \n",
      " |  verbose : int, default=0\n",
      " |      Verbosity mode.\n",
      " |  \n",
      " |  random_state : int, RandomState instance or None, default=None\n",
      " |      Determines random number generation for centroid initialization. Use\n",
      " |      an int to make the randomness deterministic.\n",
      " |      See :term:`Glossary <random_state>`.\n",
      " |  \n",
      " |  copy_x : bool, default=True\n",
      " |      When pre-computing distances it is more numerically accurate to center\n",
      " |      the data first. If copy_x is True (default), then the original data is\n",
      " |      not modified. If False, the original data is modified, and put back\n",
      " |      before the function returns, but small numerical differences may be\n",
      " |      introduced by subtracting and then adding the data mean. Note that if\n",
      " |      the original data is not C-contiguous, a copy will be made even if\n",
      " |      copy_x is False. If the original data is sparse, but not in CSR format,\n",
      " |      a copy will be made even if copy_x is False.\n",
      " |  \n",
      " |  algorithm : {\"auto\", \"full\", \"elkan\"}, default=\"auto\"\n",
      " |      K-means algorithm to use. The classical EM-style algorithm is \"full\".\n",
      " |      The \"elkan\" variation is more efficient on data with well-defined\n",
      " |      clusters, by using the triangle inequality. However it's more memory\n",
      " |      intensive due to the allocation of an extra array of shape\n",
      " |      (n_samples, n_clusters).\n",
      " |  \n",
      " |      For now \"auto\" (kept for backward compatibility) chooses \"elkan\" but it\n",
      " |      might change in the future for a better heuristic.\n",
      " |  \n",
      " |      .. versionchanged:: 0.18\n",
      " |          Added Elkan algorithm\n",
      " |  \n",
      " |  Attributes\n",
      " |  ----------\n",
      " |  cluster_centers_ : ndarray of shape (n_clusters, n_features)\n",
      " |      Coordinates of cluster centers. If the algorithm stops before fully\n",
      " |      converging (see ``tol`` and ``max_iter``), these will not be\n",
      " |      consistent with ``labels_``.\n",
      " |  \n",
      " |  labels_ : ndarray of shape (n_samples,)\n",
      " |      Labels of each point\n",
      " |  \n",
      " |  inertia_ : float\n",
      " |      Sum of squared distances of samples to their closest cluster center,\n",
      " |      weighted by the sample weights if provided.\n",
      " |  \n",
      " |  n_iter_ : int\n",
      " |      Number of iterations run.\n",
      " |  \n",
      " |  n_features_in_ : int\n",
      " |      Number of features seen during :term:`fit`.\n",
      " |  \n",
      " |      .. versionadded:: 0.24\n",
      " |  \n",
      " |  feature_names_in_ : ndarray of shape (`n_features_in_`,)\n",
      " |      Names of features seen during :term:`fit`. Defined only when `X`\n",
      " |      has feature names that are all strings.\n",
      " |  \n",
      " |      .. versionadded:: 1.0\n",
      " |  \n",
      " |  See Also\n",
      " |  --------\n",
      " |  MiniBatchKMeans : Alternative online implementation that does incremental\n",
      " |      updates of the centers positions using mini-batches.\n",
      " |      For large scale learning (say n_samples > 10k) MiniBatchKMeans is\n",
      " |      probably much faster than the default batch implementation.\n",
      " |  \n",
      " |  Notes\n",
      " |  -----\n",
      " |  The k-means problem is solved using either Lloyd's or Elkan's algorithm.\n",
      " |  \n",
      " |  The average complexity is given by O(k n T), where n is the number of\n",
      " |  samples and T is the number of iteration.\n",
      " |  \n",
      " |  The worst case complexity is given by O(n^(k+2/p)) with\n",
      " |  n = n_samples, p = n_features. (D. Arthur and S. Vassilvitskii,\n",
      " |  'How slow is the k-means method?' SoCG2006)\n",
      " |  \n",
      " |  In practice, the k-means algorithm is very fast (one of the fastest\n",
      " |  clustering algorithms available), but it falls in local minima. That's why\n",
      " |  it can be useful to restart it several times.\n",
      " |  \n",
      " |  If the algorithm stops before fully converging (because of ``tol`` or\n",
      " |  ``max_iter``), ``labels_`` and ``cluster_centers_`` will not be consistent,\n",
      " |  i.e. the ``cluster_centers_`` will not be the means of the points in each\n",
      " |  cluster. Also, the estimator will reassign ``labels_`` after the last\n",
      " |  iteration to make ``labels_`` consistent with ``predict`` on the training\n",
      " |  set.\n",
      " |  \n",
      " |  Examples\n",
      " |  --------\n",
      " |  \n",
      " |  >>> from sklearn.cluster import KMeans\n",
      " |  >>> import numpy as np\n",
      " |  >>> X = np.array([[1, 2], [1, 4], [1, 0],\n",
      " |  ...               [10, 2], [10, 4], [10, 0]])\n",
      " |  >>> kmeans = KMeans(n_clusters=2, random_state=0).fit(X)\n",
      " |  >>> kmeans.labels_\n",
      " |  array([1, 1, 1, 0, 0, 0], dtype=int32)\n",
      " |  >>> kmeans.predict([[0, 0], [12, 3]])\n",
      " |  array([1, 0], dtype=int32)\n",
      " |  >>> kmeans.cluster_centers_\n",
      " |  array([[10.,  2.],\n",
      " |         [ 1.,  2.]])\n",
      " |  \n",
      " |  Method resolution order:\n",
      " |      KMeans\n",
      " |      sklearn.base.TransformerMixin\n",
      " |      sklearn.base.ClusterMixin\n",
      " |      sklearn.base.BaseEstimator\n",
      " |      builtins.object\n",
      " |  \n",
      " |  Methods defined here:\n",
      " |  \n",
      " |  __init__(self, n_clusters=8, *, init='k-means++', n_init=10, max_iter=300, tol=0.0001, verbose=0, random_state=None, copy_x=True, algorithm='auto')\n",
      " |      Initialize self.  See help(type(self)) for accurate signature.\n",
      " |  \n",
      " |  fit(self, X, y=None, sample_weight=None)\n",
      " |      Compute k-means clustering.\n",
      " |      \n",
      " |      Parameters\n",
      " |      ----------\n",
      " |      X : {array-like, sparse matrix} of shape (n_samples, n_features)\n",
      " |          Training instances to cluster. It must be noted that the data\n",
      " |          will be converted to C ordering, which will cause a memory\n",
      " |          copy if the given data is not C-contiguous.\n",
      " |          If a sparse matrix is passed, a copy will be made if it's not in\n",
      " |          CSR format.\n",
      " |      \n",
      " |      y : Ignored\n",
      " |          Not used, present here for API consistency by convention.\n",
      " |      \n",
      " |      sample_weight : array-like of shape (n_samples,), default=None\n",
      " |          The weights for each observation in X. If None, all observations\n",
      " |          are assigned equal weight.\n",
      " |      \n",
      " |          .. versionadded:: 0.20\n",
      " |      \n",
      " |      Returns\n",
      " |      -------\n",
      " |      self : object\n",
      " |          Fitted estimator.\n",
      " |  \n",
      " |  fit_predict(self, X, y=None, sample_weight=None)\n",
      " |      Compute cluster centers and predict cluster index for each sample.\n",
      " |      \n",
      " |      Convenience method; equivalent to calling fit(X) followed by\n",
      " |      predict(X).\n",
      " |      \n",
      " |      Parameters\n",
      " |      ----------\n",
      " |      X : {array-like, sparse matrix} of shape (n_samples, n_features)\n",
      " |          New data to transform.\n",
      " |      \n",
      " |      y : Ignored\n",
      " |          Not used, present here for API consistency by convention.\n",
      " |      \n",
      " |      sample_weight : array-like of shape (n_samples,), default=None\n",
      " |          The weights for each observation in X. If None, all observations\n",
      " |          are assigned equal weight.\n",
      " |      \n",
      " |      Returns\n",
      " |      -------\n",
      " |      labels : ndarray of shape (n_samples,)\n",
      " |          Index of the cluster each sample belongs to.\n",
      " |  \n",
      " |  fit_transform(self, X, y=None, sample_weight=None)\n",
      " |      Compute clustering and transform X to cluster-distance space.\n",
      " |      \n",
      " |      Equivalent to fit(X).transform(X), but more efficiently implemented.\n",
      " |      \n",
      " |      Parameters\n",
      " |      ----------\n",
      " |      X : {array-like, sparse matrix} of shape (n_samples, n_features)\n",
      " |          New data to transform.\n",
      " |      \n",
      " |      y : Ignored\n",
      " |          Not used, present here for API consistency by convention.\n",
      " |      \n",
      " |      sample_weight : array-like of shape (n_samples,), default=None\n",
      " |          The weights for each observation in X. If None, all observations\n",
      " |          are assigned equal weight.\n",
      " |      \n",
      " |      Returns\n",
      " |      -------\n",
      " |      X_new : ndarray of shape (n_samples, n_clusters)\n",
      " |          X transformed in the new space.\n",
      " |  \n",
      " |  predict(self, X, sample_weight=None)\n",
      " |      Predict the closest cluster each sample in X belongs to.\n",
      " |      \n",
      " |      In the vector quantization literature, `cluster_centers_` is called\n",
      " |      the code book and each value returned by `predict` is the index of\n",
      " |      the closest code in the code book.\n",
      " |      \n",
      " |      Parameters\n",
      " |      ----------\n",
      " |      X : {array-like, sparse matrix} of shape (n_samples, n_features)\n",
      " |          New data to predict.\n",
      " |      \n",
      " |      sample_weight : array-like of shape (n_samples,), default=None\n",
      " |          The weights for each observation in X. If None, all observations\n",
      " |          are assigned equal weight.\n",
      " |      \n",
      " |      Returns\n",
      " |      -------\n",
      " |      labels : ndarray of shape (n_samples,)\n",
      " |          Index of the cluster each sample belongs to.\n",
      " |  \n",
      " |  score(self, X, y=None, sample_weight=None)\n",
      " |      Opposite of the value of X on the K-means objective.\n",
      " |      \n",
      " |      Parameters\n",
      " |      ----------\n",
      " |      X : {array-like, sparse matrix} of shape (n_samples, n_features)\n",
      " |          New data.\n",
      " |      \n",
      " |      y : Ignored\n",
      " |          Not used, present here for API consistency by convention.\n",
      " |      \n",
      " |      sample_weight : array-like of shape (n_samples,), default=None\n",
      " |          The weights for each observation in X. If None, all observations\n",
      " |          are assigned equal weight.\n",
      " |      \n",
      " |      Returns\n",
      " |      -------\n",
      " |      score : float\n",
      " |          Opposite of the value of X on the K-means objective.\n",
      " |  \n",
      " |  transform(self, X)\n",
      " |      Transform X to a cluster-distance space.\n",
      " |      \n",
      " |      In the new space, each dimension is the distance to the cluster\n",
      " |      centers. Note that even if X is sparse, the array returned by\n",
      " |      `transform` will typically be dense.\n",
      " |      \n",
      " |      Parameters\n",
      " |      ----------\n",
      " |      X : {array-like, sparse matrix} of shape (n_samples, n_features)\n",
      " |          New data to transform.\n",
      " |      \n",
      " |      Returns\n",
      " |      -------\n",
      " |      X_new : ndarray of shape (n_samples, n_clusters)\n",
      " |          X transformed in the new space.\n",
      " |  \n",
      " |  ----------------------------------------------------------------------\n",
      " |  Data descriptors inherited from sklearn.base.TransformerMixin:\n",
      " |  \n",
      " |  __dict__\n",
      " |      dictionary for instance variables (if defined)\n",
      " |  \n",
      " |  __weakref__\n",
      " |      list of weak references to the object (if defined)\n",
      " |  \n",
      " |  ----------------------------------------------------------------------\n",
      " |  Methods inherited from sklearn.base.BaseEstimator:\n",
      " |  \n",
      " |  __getstate__(self)\n",
      " |  \n",
      " |  __repr__(self, N_CHAR_MAX=700)\n",
      " |      Return repr(self).\n",
      " |  \n",
      " |  __setstate__(self, state)\n",
      " |  \n",
      " |  get_params(self, deep=True)\n",
      " |      Get parameters for this estimator.\n",
      " |      \n",
      " |      Parameters\n",
      " |      ----------\n",
      " |      deep : bool, default=True\n",
      " |          If True, will return the parameters for this estimator and\n",
      " |          contained subobjects that are estimators.\n",
      " |      \n",
      " |      Returns\n",
      " |      -------\n",
      " |      params : dict\n",
      " |          Parameter names mapped to their values.\n",
      " |  \n",
      " |  set_params(self, **params)\n",
      " |      Set the parameters of this estimator.\n",
      " |      \n",
      " |      The method works on simple estimators as well as on nested objects\n",
      " |      (such as :class:`~sklearn.pipeline.Pipeline`). The latter have\n",
      " |      parameters of the form ``<component>__<parameter>`` so that it's\n",
      " |      possible to update each component of a nested object.\n",
      " |      \n",
      " |      Parameters\n",
      " |      ----------\n",
      " |      **params : dict\n",
      " |          Estimator parameters.\n",
      " |      \n",
      " |      Returns\n",
      " |      -------\n",
      " |      self : estimator instance\n",
      " |          Estimator instance.\n",
      "\n"
     ]
    }
   ],
   "source": [
    "#km.inertia_\n",
    "#      Sum of squared distances of samples to their closest cluster center,\n",
    "#      weighted by the sample weights if provided.\n",
    "help(km)"
   ]
  },
  {
   "cell_type": "code",
   "execution_count": 53,
   "id": "215b72c5",
   "metadata": {
    "scrolled": true
   },
   "outputs": [
    {
     "data": {
      "text/plain": [
       "array([[5.9016129 , 2.7483871 , 4.39354839, 1.43387097],\n",
       "       [5.006     , 3.428     , 1.462     , 0.246     ],\n",
       "       [6.85      , 3.07368421, 5.74210526, 2.07105263]])"
      ]
     },
     "execution_count": 53,
     "metadata": {},
     "output_type": "execute_result"
    }
   ],
   "source": [
    "km.cluster_centers_"
   ]
  },
  {
   "cell_type": "code",
   "execution_count": 67,
   "id": "33e9c53e",
   "metadata": {},
   "outputs": [
    {
     "data": {
      "text/plain": [
       "78.85144142614601"
      ]
     },
     "execution_count": 67,
     "metadata": {},
     "output_type": "execute_result"
    }
   ],
   "source": [
    "(((X.iloc[km.predict(X)==0,:] - km.cluster_centers_[0])**2).sum().sum()+\n",
    " ((X.iloc[km.predict(X)==1,:] - km.cluster_centers_[1])**2).sum().sum()+\n",
    " ((X.iloc[km.predict(X)==2,:] - km.cluster_centers_[2])**2).sum().sum())"
   ]
  },
  {
   "cell_type": "code",
   "execution_count": 162,
   "id": "ff3a2c44",
   "metadata": {},
   "outputs": [
    {
     "data": {
      "image/png": "[encoded data removed]",
      "text/plain": [
       "<Figure size 762.375x720 with 20 Axes>"
      ]
     },
     "metadata": {
      "needs_background": "light"
     },
     "output_type": "display_data"
    }
   ],
   "source": [
    "# k-means 시각화 \n",
    "# 군집결과 시각화\n",
    "import seaborn as sns\n",
    "import matplotlib.pyplot as plt\n",
    "\n",
    "km = KMeans(n_clusters = 3, random_state=1)\n",
    "km.fit(X)\n",
    "\n",
    "df_iris=pd.DataFrame()\n",
    "df_iris=X\n",
    "df_iris['pred'] = km.predict(X)\n",
    "\n",
    "sns.pairplot(df_iris,\n",
    "             diag_kind='kde',\n",
    "             hue=\"pred\")\n",
    "plt.show()"
   ]
  },
  {
   "cell_type": "code",
   "execution_count": 164,
   "id": "6a55ef40",
   "metadata": {},
   "outputs": [
    {
     "data": {
      "text/plain": [
       "0      1\n",
       "1      1\n",
       "2      1\n",
       "3      1\n",
       "4      1\n",
       "      ..\n",
       "145    2\n",
       "146    0\n",
       "147    2\n",
       "148    2\n",
       "149    0\n",
       "Name: pred, Length: 150, dtype: int32"
      ]
     },
     "execution_count": 164,
     "metadata": {},
     "output_type": "execute_result"
    }
   ],
   "source": [
    "df_iris['pred']"
   ]
  },
  {
   "cell_type": "code",
   "execution_count": 165,
   "id": "8c085499",
   "metadata": {},
   "outputs": [
    {
     "data": {
      "text/plain": [
       "36"
      ]
     },
     "execution_count": 165,
     "metadata": {},
     "output_type": "execute_result"
    }
   ],
   "source": [
    "(df_iris['pred']==iris.target).sum()"
   ]
  },
  {
   "cell_type": "markdown",
   "id": "c872c3c8",
   "metadata": {},
   "source": [
    "### 계층적 군집 \n",
    "- https://steadiness-193.tistory.com/285\n",
    "- https://ahnjg.tistory.com/90\n",
    "- RMSLE???\n",
    "- ???"
   ]
  },
  {
   "cell_type": "markdown",
   "id": "1505ecdd",
   "metadata": {},
   "source": [
    "목차\n",
    "1. 분류분석 평가 방법들\n",
    "1. https://scikit-learn.org/stable/modules/model_evaluation.html  \n",
    "\n",
    "1. 군집 (모델의 성능이라기 보다 비지도학습 모델의 정도?를 정하기 위함)\n",
    "    1. 군집 분석 모델 : k-mean / DBSCAN\n",
    "    1. metrics.calinski_harabasz_score(X, labels)  \n",
    "    Compute the Calinski and Harabasz score.\n",
    "    1. metrics.silhouette_score(X, labels, *[, ...])  \n",
    "    Compute the mean Silhouette Coefficient of all samples.  \n",
    "    1. 엘보우 기법으로\n",
    "    \n",
    "1. 분류\n",
    "    1. 분류모델 : 로지스틱 분류 / 의사결정나무 / 앙상블 / 인공신경망 / KNN / SVM SVC...\n",
    "    1. ROC_AUC_CURVE \n",
    "    1. confusion matirx\n",
    "        1. 정밀도, 민감도, f1 score 등등\n",
    "    1. classification_report\n",
    "\n",
    "1. 회귀\n",
    "    1. 회귀모델 : 선형 회귀 / 릿지라쏘 / 의사결정나무 회귀 / 앙상블 회귀 / \n",
    "    1. RMSE (MSE)\n",
    "    1. R2 score\n",
    "    1.\n",
    "\n",
    "1. 스코어를 매기는 방법\n",
    "    1. CV test-train-split\n",
    "        1. K-fold\n",
    "        1. stratified K-fold\n",
    "\n",
    "1. 모델 결정을 위한 매개변수 결정의 방법\n",
    "    1. 그리드서치CV\n",
    "- cross_val_score\n",
    "- cross_validate  \n",
    "https://jhryu1208.github.io/data/2021/01/24/ML_cross_validation/#1-1)-scikit-learn%EC%97%90%EC%84%9C%EC%9D%98-%EA%B5%90%EC%B0%A8-%EA%B2%80%EC%A6%9D-(cross_val_score-&-cross_validate)  \n",
    "https://continuous-development.tistory.com/166  \n",
    "https://dev-lagom.tistory.com/43"
   ]
  },
  {
   "cell_type": "markdown",
   "id": "401eaccb",
   "metadata": {},
   "source": [
    "OOB 점수를 쓰면 앙상블에서, CV를 안해도됨\n",
    "train, test split 데이터를 안쓰고 바로 X, y를 쓰고 OOB SCORE를 쓰면 됨"
   ]
  },
  {
   "cell_type": "markdown",
   "id": "28e70f45",
   "metadata": {},
   "source": [
    "# Appendix."
   ]
  },
  {
   "cell_type": "markdown",
   "id": "cae6dff8",
   "metadata": {},
   "source": [
    "### 의사결정나무"
   ]
  },
  {
   "cell_type": "markdown",
   "id": "de00e1e5",
   "metadata": {},
   "source": [
    "### 앙상블"
   ]
  },
  {
   "cell_type": "markdown",
   "id": "72afca9e",
   "metadata": {},
   "source": [
    "#### 배깅"
   ]
  },
  {
   "cell_type": "markdown",
   "id": "8372a2d9",
   "metadata": {},
   "source": [
    "#### 랜덤포레스트"
   ]
  },
  {
   "cell_type": "markdown",
   "id": "c8ae29e7",
   "metadata": {},
   "source": [
    "#### 부스팅"
   ]
  },
  {
   "cell_type": "markdown",
   "id": "93e7601c",
   "metadata": {},
   "source": [
    "### 나이브베이즈 분류"
   ]
  },
  {
   "cell_type": "markdown",
   "id": "6a2b00f0",
   "metadata": {},
   "source": [
    "### KNN 분류기"
   ]
  },
  {
   "cell_type": "markdown",
   "id": "3a42a374",
   "metadata": {},
   "source": [
    "### SVM 분류기"
   ]
  },
  {
   "cell_type": "markdown",
   "id": "9270b426",
   "metadata": {},
   "source": [
    "### 인공신경망 분류"
   ]
  },
  {
   "cell_type": "markdown",
   "id": "cf27169a",
   "metadata": {},
   "source": [
    "## 회귀 분석"
   ]
  },
  {
   "cell_type": "code",
   "execution_count": null,
   "id": "736f2b6d",
   "metadata": {},
   "outputs": [],
   "source": []
  }
 ],
 "metadata": {
  "kernelspec": {
   "display_name": "Python 3 (ipykernel)",
   "language": "python",
   "name": "python3"
  },
  "language_info": {
   "codemirror_mode": {
    "name": "ipython",
    "version": 3
   },
   "file_extension": ".py",
   "mimetype": "text/x-python",
   "name": "python",
   "nbconvert_exporter": "python",
   "pygments_lexer": "ipython3",
   "version": "3.7.11"
  },
  "toc": {
   "base_numbering": 1,
   "nav_menu": {},
   "number_sections": true,
   "sideBar": true,
   "skip_h1_title": false,
   "title_cell": "Table of Contents",
   "title_sidebar": "Contents",
   "toc_cell": false,
   "toc_position": {
    "height": "calc(100% - 180px)",
    "left": "10px",
    "top": "150px",
    "width": "301px"
   },
   "toc_section_display": true,
   "toc_window_display": true
  }
 },
 "nbformat": 4,
 "nbformat_minor": 5
}
