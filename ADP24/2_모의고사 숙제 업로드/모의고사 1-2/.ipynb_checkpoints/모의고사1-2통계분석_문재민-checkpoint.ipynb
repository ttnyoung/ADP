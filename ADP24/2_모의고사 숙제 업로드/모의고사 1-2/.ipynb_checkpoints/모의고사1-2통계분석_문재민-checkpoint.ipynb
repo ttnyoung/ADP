{
 "cells": [
  {
   "cell_type": "markdown",
   "id": "867f576f",
   "metadata": {},
   "source": [
    "# 모의고사 1-2 통계분석 Q1~5"
   ]
  },
  {
   "cell_type": "code",
   "execution_count": 3,
   "id": "3edc9c8d",
   "metadata": {},
   "outputs": [],
   "source": [
    "#---------------------------------------------------------------------------------------\n",
    "# Q1) FIFA데이터에서 각 선수의 키는 Heghit변수에 피트와 인치로 입력되어 있습니다. \n",
    "#      이를 cm로 변환하여 새로운 변수 Height_cm을 생성하시오. \n",
    "#      ( “ ' ” 앞의 숫자는 피트이며, “ ' ” 뒤의 숫자는 인치, 1피트 = 30cm, 1인치 = 2.5cm)\n",
    "#---------------------------------------------------------------------------------------"
   ]
  },
  {
   "cell_type": "code",
   "execution_count": 9,
   "id": "bbf3d416",
   "metadata": {},
   "outputs": [
    {
     "name": "stdout",
     "output_type": "stream",
     "text": [
      "/Users/hmc/opt/anaconda3/envs/ADP_Class/bin/python\n"
     ]
    }
   ],
   "source": [
    "import sys\n",
    "print(sys.executable)"
   ]
  },
  {
   "cell_type": "code",
   "execution_count": 11,
   "id": "dbeb80eb",
   "metadata": {},
   "outputs": [
    {
     "name": "stdout",
     "output_type": "stream",
     "text": [
      "['/Users/hmc/Documents/GitHub/ADP/ADP24/2_모의고사 숙제 업로드/모의고사 1-2', '/Users/hmc/opt/anaconda3/envs/ADP_Class/lib/python37.zip', '/Users/hmc/opt/anaconda3/envs/ADP_Class/lib/python3.7', '/Users/hmc/opt/anaconda3/envs/ADP_Class/lib/python3.7/lib-dynload', '', '/Users/hmc/opt/anaconda3/envs/ADP_Class/lib/python3.7/site-packages', '/Users/hmc/opt/anaconda3/envs/ADP_Class/lib/python3.7/site-packages/IPython/extensions', '/Users/hmc/.ipython']\n"
     ]
    }
   ],
   "source": [
    "print(sys.path)"
   ]
  },
  {
   "cell_type": "code",
   "execution_count": null,
   "id": "ca6dddbf",
   "metadata": {},
   "outputs": [],
   "source": [
    "sys.path.append('/Users/hmc/opt/anaconda3/envs/ADP_Class/bin/python')"
   ]
  },
  {
   "cell_type": "code",
   "execution_count": 2,
   "id": "41001cac",
   "metadata": {},
   "outputs": [
    {
     "ename": "ModuleNotFoundError",
     "evalue": "No module named 'pandas'",
     "output_type": "error",
     "traceback": [
      "\u001b[0;31m---------------------------------------------------------------------------\u001b[0m",
      "\u001b[0;31mModuleNotFoundError\u001b[0m                       Traceback (most recent call last)",
      "\u001b[0;32m/var/folders/6j/h2vyb9_j0mn_90drfhhgggv00000gn/T/ipykernel_2561/363289641.py\u001b[0m in \u001b[0;36m<module>\u001b[0;34m\u001b[0m\n\u001b[0;32m----> 1\u001b[0;31m \u001b[0;32mimport\u001b[0m \u001b[0mpandas\u001b[0m \u001b[0;32mas\u001b[0m \u001b[0mpd\u001b[0m\u001b[0;34m\u001b[0m\u001b[0;34m\u001b[0m\u001b[0m\n\u001b[0m\u001b[1;32m      2\u001b[0m \u001b[0;32mimport\u001b[0m \u001b[0mnumpy\u001b[0m \u001b[0;32mas\u001b[0m \u001b[0mnp\u001b[0m\u001b[0;34m\u001b[0m\u001b[0;34m\u001b[0m\u001b[0m\n\u001b[1;32m      3\u001b[0m \u001b[0mdf_fifa\u001b[0m \u001b[0;34m=\u001b[0m \u001b[0mpd\u001b[0m\u001b[0;34m.\u001b[0m\u001b[0mread_csv\u001b[0m\u001b[0;34m(\u001b[0m\u001b[0;34m\"FIFA.csv\"\u001b[0m\u001b[0;34m,\u001b[0m \u001b[0mencoding\u001b[0m\u001b[0;34m=\u001b[0m\u001b[0;34m\"cp949\"\u001b[0m\u001b[0;34m)\u001b[0m\u001b[0;34m\u001b[0m\u001b[0;34m\u001b[0m\u001b[0m\n\u001b[1;32m      4\u001b[0m \u001b[0mdf_fifa\u001b[0m\u001b[0;34m\u001b[0m\u001b[0;34m\u001b[0m\u001b[0m\n",
      "\u001b[0;31mModuleNotFoundError\u001b[0m: No module named 'pandas'"
     ]
    }
   ],
   "source": [
    "import pandas as pd\n",
    "import numpy as np\n",
    "df_fifa = pd.read_csv(\"FIFA.csv\", encoding=\"cp949\")\n",
    "df_fifa"
   ]
  },
  {
   "cell_type": "code",
   "execution_count": 3,
   "id": "eb09cb96",
   "metadata": {},
   "outputs": [
    {
     "name": "stdout",
     "output_type": "stream",
     "text": [
      "<class 'pandas.core.frame.DataFrame'>\n",
      "RangeIndex: 16642 entries, 0 to 16641\n",
      "Data columns (total 16 columns):\n",
      " #   Column                Non-Null Count  Dtype \n",
      "---  ------                --------------  ----- \n",
      " 0   ID                    16642 non-null  int64 \n",
      " 1   Name                  16642 non-null  object\n",
      " 2   Age                   16642 non-null  int64 \n",
      " 3   Nationality           16642 non-null  object\n",
      " 4   Overall               16642 non-null  int64 \n",
      " 5   Club                  16642 non-null  object\n",
      " 6   Preferred_Foot        16642 non-null  object\n",
      " 7   Work_Rate             16642 non-null  object\n",
      " 8   Position              16642 non-null  object\n",
      " 9   Jersey_Number         16642 non-null  int64 \n",
      " 10  Contract_Valid_Until  16642 non-null  int64 \n",
      " 11  Height                16642 non-null  object\n",
      " 12  Weight_lb             16642 non-null  int64 \n",
      " 13  Release_Clause        16642 non-null  int64 \n",
      " 14  Value                 16642 non-null  int64 \n",
      " 15  Wage                  16642 non-null  int64 \n",
      "dtypes: int64(9), object(7)\n",
      "memory usage: 2.0+ MB\n"
     ]
    }
   ],
   "source": [
    "df_fifa.info()"
   ]
  },
  {
   "cell_type": "code",
   "execution_count": 4,
   "id": "96a76e85",
   "metadata": {},
   "outputs": [],
   "source": [
    "df_fifa[\"Height_cm\"] = df_fifa[\"Height\"]"
   ]
  },
  {
   "cell_type": "code",
   "execution_count": 5,
   "id": "991c6243",
   "metadata": {
    "scrolled": true
   },
   "outputs": [
    {
     "data": {
      "text/plain": [
       "0        167.5\n",
       "1        185.0\n",
       "2        172.5\n",
       "3        190.0\n",
       "4        177.5\n",
       "         ...  \n",
       "16637    172.5\n",
       "16638    187.5\n",
       "16639    170.0\n",
       "16640    175.0\n",
       "16641    175.0\n",
       "Name: Height_cm, Length: 16642, dtype: float64"
      ]
     },
     "execution_count": 5,
     "metadata": {},
     "output_type": "execute_result"
    }
   ],
   "source": [
    "df_fifa[\"Height_cm\"] = df_fifa[\"Height_cm\"].map(lambda x: int(x.split(\"'\")[0])*30 + int(x.split(\"'\")[1])*2.5)\n",
    "df_fifa[\"Height_cm\"]"
   ]
  },
  {
   "cell_type": "markdown",
   "id": "d734c7fb",
   "metadata": {},
   "source": [
    "# Q1 끝"
   ]
  },
  {
   "cell_type": "code",
   "execution_count": 6,
   "id": "78b4d434",
   "metadata": {},
   "outputs": [],
   "source": [
    "#---------------------------------------------------------------------------------------\n",
    "# Q2) 포지션을 의미하는 Position변수를 아래 표를 참고하여 “Forward”, “Midfielder”, \n",
    "#      “Defender”, “GoalKeeper”로 재범주화하고, factor형으로 변환하여 Position_Class \n",
    "#       라는 변수를 생성하고 저장하시오.\n",
    "#---------------------------------------------------------------------------------------"
   ]
  },
  {
   "cell_type": "code",
   "execution_count": 7,
   "id": "a9b61aa7",
   "metadata": {},
   "outputs": [
    {
     "data": {
      "text/plain": [
       "ST     1924\n",
       "GK     1900\n",
       "CB     1646\n",
       "CM     1276\n",
       "LB     1223\n",
       "RB     1199\n",
       "RM     1022\n",
       "LM     1012\n",
       "CAM     876\n",
       "CDM     873\n",
       "RCB     615\n",
       "LCB     595\n",
       "RCM     355\n",
       "LCM     353\n",
       "LW      338\n",
       "RW      325\n",
       "RDM     228\n",
       "LDM     224\n",
       "LS      184\n",
       "RS      179\n",
       "RWB      84\n",
       "LWB      76\n",
       "CF       66\n",
       "RAM      21\n",
       "LAM      20\n",
       "LF       15\n",
       "RF       13\n",
       "Name: Position, dtype: int64"
      ]
     },
     "execution_count": 7,
     "metadata": {},
     "output_type": "execute_result"
    }
   ],
   "source": [
    "df_fifa[\"Position\"].value_counts()"
   ]
  },
  {
   "cell_type": "code",
   "execution_count": 8,
   "id": "93fa1da2",
   "metadata": {},
   "outputs": [],
   "source": [
    "Forward = [\"LS\",\"ST\",\"RS\",\"LW\",\"LF\",\"CF\",\"RF\",\"RW\"]\n",
    "Midfielder = [\"LAM\",\"CAM\",\"RAM\",\"LM\",\"LCM\",\"CM\",\"RCM\",\"RM\"]\n",
    "Defender = [\"LWB\",\"LDM\",\"CDM\",\"RDM\",\"RWB\",\"LB\",\"LCB\",\"CB\",\"RCB\",\"RB\"]\n",
    "Goalkeeper = [\"GK\"]"
   ]
  },
  {
   "cell_type": "code",
   "execution_count": 9,
   "id": "f40986f7",
   "metadata": {},
   "outputs": [],
   "source": [
    "df_fifa.loc[df_fifa[\"Position\"].isin(Forward),\"Position_Class\"] = \"Forward\"\n",
    "df_fifa.loc[df_fifa[\"Position\"].isin(Midfielder),\"Position_Class\"] = \"Midfielder\"\n",
    "df_fifa.loc[df_fifa[\"Position\"].isin(Defender),\"Position_Class\"] = \"Defender\"\n",
    "df_fifa.loc[df_fifa[\"Position\"].isin(Goalkeeper),\"Position_Class\"] = \"Goalkeeper\""
   ]
  },
  {
   "cell_type": "code",
   "execution_count": 10,
   "id": "80f301c7",
   "metadata": {},
   "outputs": [
    {
     "data": {
      "text/plain": [
       "Defender      6763\n",
       "Midfielder    4935\n",
       "Forward       3044\n",
       "Goalkeeper    1900\n",
       "Name: Position_Class, dtype: int64"
      ]
     },
     "execution_count": 10,
     "metadata": {},
     "output_type": "execute_result"
    }
   ],
   "source": [
    "df_fifa[\"Position_Class\"].value_counts()"
   ]
  },
  {
   "cell_type": "markdown",
   "id": "eb0d34cf",
   "metadata": {},
   "source": [
    "## Q2 끝"
   ]
  },
  {
   "cell_type": "code",
   "execution_count": 31,
   "id": "d221e14a",
   "metadata": {},
   "outputs": [],
   "source": [
    "#---------------------------------------------------------------------------------------\n",
    "# Q3) 새로 생성한 Position_Class 변수의 각 범주에 따른 Value(선수의 시장가치)의 \n",
    "#      평균값의 차이를 비교하는 일원배치 분산분석을 수행하고 결과를 해석하시오. \n",
    "#      그리고 평균값의 차이가 통계적으로 유의하다면 사후검정을 수행하고 설명하시오.\n",
    "#---------------------------------------------------------------------------------------"
   ]
  },
  {
   "cell_type": "code",
   "execution_count": null,
   "id": "1156e985",
   "metadata": {},
   "outputs": [],
   "source": []
  },
  {
   "cell_type": "code",
   "execution_count": 12,
   "id": "daca7c60",
   "metadata": {},
   "outputs": [
    {
     "data": {
      "text/html": [
       "<div>\n",
       "<style scoped>\n",
       "    .dataframe tbody tr th:only-of-type {\n",
       "        vertical-align: middle;\n",
       "    }\n",
       "\n",
       "    .dataframe tbody tr th {\n",
       "        vertical-align: top;\n",
       "    }\n",
       "\n",
       "    .dataframe thead th {\n",
       "        text-align: right;\n",
       "    }\n",
       "</style>\n",
       "<table border=\"1\" class=\"dataframe\">\n",
       "  <thead>\n",
       "    <tr style=\"text-align: right;\">\n",
       "      <th></th>\n",
       "      <th>df</th>\n",
       "      <th>sum_sq</th>\n",
       "      <th>mean_sq</th>\n",
       "      <th>F</th>\n",
       "      <th>PR(&gt;F)</th>\n",
       "    </tr>\n",
       "  </thead>\n",
       "  <tbody>\n",
       "    <tr>\n",
       "      <th>C(Position_Class)</th>\n",
       "      <td>3.0</td>\n",
       "      <td>4.081181e+09</td>\n",
       "      <td>1.360394e+09</td>\n",
       "      <td>41.873906</td>\n",
       "      <td>5.988667e-27</td>\n",
       "    </tr>\n",
       "    <tr>\n",
       "      <th>Residual</th>\n",
       "      <td>16638.0</td>\n",
       "      <td>5.405330e+11</td>\n",
       "      <td>3.248786e+07</td>\n",
       "      <td>NaN</td>\n",
       "      <td>NaN</td>\n",
       "    </tr>\n",
       "  </tbody>\n",
       "</table>\n",
       "</div>"
      ],
      "text/plain": [
       "                        df        sum_sq       mean_sq          F  \\\n",
       "C(Position_Class)      3.0  4.081181e+09  1.360394e+09  41.873906   \n",
       "Residual           16638.0  5.405330e+11  3.248786e+07        NaN   \n",
       "\n",
       "                         PR(>F)  \n",
       "C(Position_Class)  5.988667e-27  \n",
       "Residual                    NaN  "
      ]
     },
     "execution_count": 12,
     "metadata": {},
     "output_type": "execute_result"
    }
   ],
   "source": [
    "from statsmodels.stats.anova import anova_lm\n",
    "from statsmodels.formula.api import ols\n",
    "\n",
    "anova_lm(ols(\"Value ~ C(Position_Class)\", data = df_fifa).fit())"
   ]
  },
  {
   "cell_type": "markdown",
   "id": "e69a88fe",
   "metadata": {},
   "source": [
    "## Q3-1\n",
    "Value 값을 Position_Class를 요인으로 ANOVA 분석 결과,\n",
    "\n",
    "F 통계값에 대한 P-value가 유의수준 0.05에 비해 현저히 낮으므로\n",
    "\n",
    "귀무가설인 mean(Position_Class == Forward) = mean(Position_Class == Midfielder) = ... = mean(Position_Class == GoalKeeper)를 기각하여,\n",
    "\n",
    "Position_Class 요인에 따라 적어도 한 쌍은 평균이 통계적으로 다르다라고 말할 수 있다."
   ]
  },
  {
   "cell_type": "code",
   "execution_count": 13,
   "id": "a7339420",
   "metadata": {},
   "outputs": [
    {
     "data": {
      "text/html": [
       "<table class=\"simpletable\">\n",
       "<caption>Multiple Comparison of Means - Tukey HSD, FWER=0.05</caption>\n",
       "<tr>\n",
       "    <th>group1</th>     <th>group2</th>    <th>meandiff</th>   <th>p-adj</th>    <th>lower</th>      <th>upper</th>   <th>reject</th>\n",
       "</tr>\n",
       "<tr>\n",
       "   <td>Defender</td>    <td>Forward</td>    <td>930.373</td>   <td>0.001</td>  <td>610.7429</td>   <td>1250.0031</td>  <td>True</td> \n",
       "</tr>\n",
       "<tr>\n",
       "   <td>Defender</td>  <td>Goalkeeper</td>  <td>-507.3848</td> <td>0.0034</td>  <td>-887.6261</td>  <td>-127.1436</td>  <td>True</td> \n",
       "</tr>\n",
       "<tr>\n",
       "   <td>Defender</td>  <td>Midfielder</td>  <td>760.8787</td>   <td>0.001</td>  <td>486.7123</td>   <td>1035.045</td>   <td>True</td> \n",
       "</tr>\n",
       "<tr>\n",
       "    <td>Forward</td>  <td>Goalkeeper</td> <td>-1437.7579</td>  <td>0.001</td> <td>-1865.9234</td> <td>-1009.5923</td>  <td>True</td> \n",
       "</tr>\n",
       "<tr>\n",
       "    <td>Forward</td>  <td>Midfielder</td>  <td>-169.4944</td> <td>0.5609</td>  <td>-506.9991</td>  <td>168.0104</td>   <td>False</td>\n",
       "</tr>\n",
       "<tr>\n",
       "  <td>Goalkeeper</td> <td>Midfielder</td>  <td>1268.2635</td>  <td>0.001</td>  <td>872.8782</td>   <td>1663.6488</td>  <td>True</td> \n",
       "</tr>\n",
       "</table>"
      ],
      "text/plain": [
       "<class 'statsmodels.iolib.table.SimpleTable'>"
      ]
     },
     "execution_count": 13,
     "metadata": {},
     "output_type": "execute_result"
    }
   ],
   "source": [
    "from statsmodels.stats.multicomp import pairwise_tukeyhsd\n",
    "pairwise_tukeyhsd(df_fifa[\"Value\"], df_fifa[\"Position_Class\"]).summary()"
   ]
  },
  {
   "cell_type": "markdown",
   "id": "e8b092b2",
   "metadata": {},
   "source": [
    "## Q3-2\n",
    "Tukey HSD로 요인 Position_Class 에 대한 쌍검정을 했을때,\n",
    "\n",
    "Forward - Midfeilder 쌍을 제외하고, 모두 meandiff 값이 HSD 범위를 벗어났으므로, Value 평균이 0.05의 유의수준에 대해 다르다고 말할 수 있다.\n",
    "\n",
    "Forward - Midfeilder 쌍은 meandiff 값이 HSD 범위 내에 있으므로, Value 평균이 다르다고 말할 수 없다."
   ]
  },
  {
   "cell_type": "code",
   "execution_count": 14,
   "id": "d76a1eee",
   "metadata": {},
   "outputs": [],
   "source": [
    "#---------------------------------------------------------------------------------------\n",
    "# Q4) Preferred Foot(주로 사용하는 발)과 Position_Class(재범주화 된 포지션)변수에 \n",
    "#      따라 Value(이적료)의 차이가 있는지를 알아보기 위해 이원배치분산분석을 \n",
    "#      수행하고 결과를 해석하시오.\n",
    "#--------------------------------------------------------------------------------------"
   ]
  },
  {
   "cell_type": "code",
   "execution_count": 34,
   "id": "9429ea69",
   "metadata": {},
   "outputs": [
    {
     "data": {
      "text/html": [
       "<div>\n",
       "<style scoped>\n",
       "    .dataframe tbody tr th:only-of-type {\n",
       "        vertical-align: middle;\n",
       "    }\n",
       "\n",
       "    .dataframe tbody tr th {\n",
       "        vertical-align: top;\n",
       "    }\n",
       "\n",
       "    .dataframe thead th {\n",
       "        text-align: right;\n",
       "    }\n",
       "</style>\n",
       "<table border=\"1\" class=\"dataframe\">\n",
       "  <thead>\n",
       "    <tr style=\"text-align: right;\">\n",
       "      <th></th>\n",
       "      <th>df</th>\n",
       "      <th>sum_sq</th>\n",
       "      <th>mean_sq</th>\n",
       "      <th>F</th>\n",
       "      <th>PR(&gt;F)</th>\n",
       "    </tr>\n",
       "  </thead>\n",
       "  <tbody>\n",
       "    <tr>\n",
       "      <th>Preferred_Foot</th>\n",
       "      <td>1.0</td>\n",
       "      <td>1.460850e+08</td>\n",
       "      <td>1.460850e+08</td>\n",
       "      <td>4.500734</td>\n",
       "      <td>3.389505e-02</td>\n",
       "    </tr>\n",
       "    <tr>\n",
       "      <th>Position_Class</th>\n",
       "      <td>3.0</td>\n",
       "      <td>4.087367e+09</td>\n",
       "      <td>1.362456e+09</td>\n",
       "      <td>41.975902</td>\n",
       "      <td>5.151392e-27</td>\n",
       "    </tr>\n",
       "    <tr>\n",
       "      <th>Preferred_Foot:Position_Class</th>\n",
       "      <td>3.0</td>\n",
       "      <td>4.736156e+08</td>\n",
       "      <td>1.578719e+08</td>\n",
       "      <td>4.863874</td>\n",
       "      <td>2.207249e-03</td>\n",
       "    </tr>\n",
       "    <tr>\n",
       "      <th>Residual</th>\n",
       "      <td>16634.0</td>\n",
       "      <td>5.399071e+11</td>\n",
       "      <td>3.245805e+07</td>\n",
       "      <td>NaN</td>\n",
       "      <td>NaN</td>\n",
       "    </tr>\n",
       "  </tbody>\n",
       "</table>\n",
       "</div>"
      ],
      "text/plain": [
       "                                    df        sum_sq       mean_sq          F  \\\n",
       "Preferred_Foot                     1.0  1.460850e+08  1.460850e+08   4.500734   \n",
       "Position_Class                     3.0  4.087367e+09  1.362456e+09  41.975902   \n",
       "Preferred_Foot:Position_Class      3.0  4.736156e+08  1.578719e+08   4.863874   \n",
       "Residual                       16634.0  5.399071e+11  3.245805e+07        NaN   \n",
       "\n",
       "                                     PR(>F)  \n",
       "Preferred_Foot                 3.389505e-02  \n",
       "Position_Class                 5.151392e-27  \n",
       "Preferred_Foot:Position_Class  2.207249e-03  \n",
       "Residual                                NaN  "
      ]
     },
     "execution_count": 34,
     "metadata": {},
     "output_type": "execute_result"
    }
   ],
   "source": [
    "anova_lm(ols(\"Value ~ Preferred_Foot * Position_Class\", data = df_fifa).fit())"
   ]
  },
  {
   "cell_type": "code",
   "execution_count": 33,
   "id": "87bf2285",
   "metadata": {},
   "outputs": [
    {
     "data": {
      "text/html": [
       "<div>\n",
       "<style scoped>\n",
       "    .dataframe tbody tr th:only-of-type {\n",
       "        vertical-align: middle;\n",
       "    }\n",
       "\n",
       "    .dataframe tbody tr th {\n",
       "        vertical-align: top;\n",
       "    }\n",
       "\n",
       "    .dataframe thead th {\n",
       "        text-align: right;\n",
       "    }\n",
       "</style>\n",
       "<table border=\"1\" class=\"dataframe\">\n",
       "  <thead>\n",
       "    <tr style=\"text-align: right;\">\n",
       "      <th></th>\n",
       "      <th>ID</th>\n",
       "      <th>Age</th>\n",
       "      <th>Overall</th>\n",
       "      <th>Jersey_Number</th>\n",
       "      <th>Contract_Valid_Until</th>\n",
       "      <th>Weight_lb</th>\n",
       "      <th>Release_Clause</th>\n",
       "      <th>Value</th>\n",
       "      <th>Wage</th>\n",
       "      <th>Height_cm</th>\n",
       "    </tr>\n",
       "  </thead>\n",
       "  <tbody>\n",
       "    <tr>\n",
       "      <th>ID</th>\n",
       "      <td>1.000000</td>\n",
       "      <td>-0.737610</td>\n",
       "      <td>-0.423717</td>\n",
       "      <td>0.192431</td>\n",
       "      <td>0.166814</td>\n",
       "      <td>-0.191752</td>\n",
       "      <td>-0.124451</td>\n",
       "      <td>-0.137516</td>\n",
       "      <td>-0.206945</td>\n",
       "      <td>-0.092039</td>\n",
       "    </tr>\n",
       "    <tr>\n",
       "      <th>Age</th>\n",
       "      <td>-0.737610</td>\n",
       "      <td>1.000000</td>\n",
       "      <td>0.464903</td>\n",
       "      <td>-0.255474</td>\n",
       "      <td>-0.161816</td>\n",
       "      <td>0.232524</td>\n",
       "      <td>0.060747</td>\n",
       "      <td>0.076442</td>\n",
       "      <td>0.148563</td>\n",
       "      <td>0.085335</td>\n",
       "    </tr>\n",
       "    <tr>\n",
       "      <th>Overall</th>\n",
       "      <td>-0.423717</td>\n",
       "      <td>0.464903</td>\n",
       "      <td>1.000000</td>\n",
       "      <td>-0.228448</td>\n",
       "      <td>0.196236</td>\n",
       "      <td>0.154307</td>\n",
       "      <td>0.616444</td>\n",
       "      <td>0.629205</td>\n",
       "      <td>0.573953</td>\n",
       "      <td>0.038583</td>\n",
       "    </tr>\n",
       "    <tr>\n",
       "      <th>Jersey_Number</th>\n",
       "      <td>0.192431</td>\n",
       "      <td>-0.255474</td>\n",
       "      <td>-0.228448</td>\n",
       "      <td>1.000000</td>\n",
       "      <td>0.014456</td>\n",
       "      <td>-0.090863</td>\n",
       "      <td>-0.096654</td>\n",
       "      <td>-0.102231</td>\n",
       "      <td>-0.093218</td>\n",
       "      <td>-0.041401</td>\n",
       "    </tr>\n",
       "    <tr>\n",
       "      <th>Contract_Valid_Until</th>\n",
       "      <td>0.166814</td>\n",
       "      <td>-0.161816</td>\n",
       "      <td>0.196236</td>\n",
       "      <td>0.014456</td>\n",
       "      <td>1.000000</td>\n",
       "      <td>-0.024708</td>\n",
       "      <td>0.241999</td>\n",
       "      <td>0.237373</td>\n",
       "      <td>0.172608</td>\n",
       "      <td>-0.013968</td>\n",
       "    </tr>\n",
       "    <tr>\n",
       "      <th>Weight_lb</th>\n",
       "      <td>-0.191752</td>\n",
       "      <td>0.232524</td>\n",
       "      <td>0.154307</td>\n",
       "      <td>-0.090863</td>\n",
       "      <td>-0.024708</td>\n",
       "      <td>1.000000</td>\n",
       "      <td>0.039860</td>\n",
       "      <td>0.044140</td>\n",
       "      <td>0.065241</td>\n",
       "      <td>0.755261</td>\n",
       "    </tr>\n",
       "    <tr>\n",
       "      <th>Release_Clause</th>\n",
       "      <td>-0.124451</td>\n",
       "      <td>0.060747</td>\n",
       "      <td>0.616444</td>\n",
       "      <td>-0.096654</td>\n",
       "      <td>0.241999</td>\n",
       "      <td>0.039860</td>\n",
       "      <td>1.000000</td>\n",
       "      <td>0.994354</td>\n",
       "      <td>0.855927</td>\n",
       "      <td>0.001940</td>\n",
       "    </tr>\n",
       "    <tr>\n",
       "      <th>Value</th>\n",
       "      <td>-0.137516</td>\n",
       "      <td>0.076442</td>\n",
       "      <td>0.629205</td>\n",
       "      <td>-0.102231</td>\n",
       "      <td>0.237373</td>\n",
       "      <td>0.044140</td>\n",
       "      <td>0.994354</td>\n",
       "      <td>1.000000</td>\n",
       "      <td>0.861540</td>\n",
       "      <td>0.001890</td>\n",
       "    </tr>\n",
       "    <tr>\n",
       "      <th>Wage</th>\n",
       "      <td>-0.206945</td>\n",
       "      <td>0.148563</td>\n",
       "      <td>0.573953</td>\n",
       "      <td>-0.093218</td>\n",
       "      <td>0.172608</td>\n",
       "      <td>0.065241</td>\n",
       "      <td>0.855927</td>\n",
       "      <td>0.861540</td>\n",
       "      <td>1.000000</td>\n",
       "      <td>0.020167</td>\n",
       "    </tr>\n",
       "    <tr>\n",
       "      <th>Height_cm</th>\n",
       "      <td>-0.092039</td>\n",
       "      <td>0.085335</td>\n",
       "      <td>0.038583</td>\n",
       "      <td>-0.041401</td>\n",
       "      <td>-0.013968</td>\n",
       "      <td>0.755261</td>\n",
       "      <td>0.001940</td>\n",
       "      <td>0.001890</td>\n",
       "      <td>0.020167</td>\n",
       "      <td>1.000000</td>\n",
       "    </tr>\n",
       "  </tbody>\n",
       "</table>\n",
       "</div>"
      ],
      "text/plain": [
       "                            ID       Age   Overall  Jersey_Number  \\\n",
       "ID                    1.000000 -0.737610 -0.423717       0.192431   \n",
       "Age                  -0.737610  1.000000  0.464903      -0.255474   \n",
       "Overall              -0.423717  0.464903  1.000000      -0.228448   \n",
       "Jersey_Number         0.192431 -0.255474 -0.228448       1.000000   \n",
       "Contract_Valid_Until  0.166814 -0.161816  0.196236       0.014456   \n",
       "Weight_lb            -0.191752  0.232524  0.154307      -0.090863   \n",
       "Release_Clause       -0.124451  0.060747  0.616444      -0.096654   \n",
       "Value                -0.137516  0.076442  0.629205      -0.102231   \n",
       "Wage                 -0.206945  0.148563  0.573953      -0.093218   \n",
       "Height_cm            -0.092039  0.085335  0.038583      -0.041401   \n",
       "\n",
       "                      Contract_Valid_Until  Weight_lb  Release_Clause  \\\n",
       "ID                                0.166814  -0.191752       -0.124451   \n",
       "Age                              -0.161816   0.232524        0.060747   \n",
       "Overall                           0.196236   0.154307        0.616444   \n",
       "Jersey_Number                     0.014456  -0.090863       -0.096654   \n",
       "Contract_Valid_Until              1.000000  -0.024708        0.241999   \n",
       "Weight_lb                        -0.024708   1.000000        0.039860   \n",
       "Release_Clause                    0.241999   0.039860        1.000000   \n",
       "Value                             0.237373   0.044140        0.994354   \n",
       "Wage                              0.172608   0.065241        0.855927   \n",
       "Height_cm                        -0.013968   0.755261        0.001940   \n",
       "\n",
       "                         Value      Wage  Height_cm  \n",
       "ID                   -0.137516 -0.206945  -0.092039  \n",
       "Age                   0.076442  0.148563   0.085335  \n",
       "Overall               0.629205  0.573953   0.038583  \n",
       "Jersey_Number        -0.102231 -0.093218  -0.041401  \n",
       "Contract_Valid_Until  0.237373  0.172608  -0.013968  \n",
       "Weight_lb             0.044140  0.065241   0.755261  \n",
       "Release_Clause        0.994354  0.855927   0.001940  \n",
       "Value                 1.000000  0.861540   0.001890  \n",
       "Wage                  0.861540  1.000000   0.020167  \n",
       "Height_cm             0.001890  0.020167   1.000000  "
      ]
     },
     "execution_count": 33,
     "metadata": {},
     "output_type": "execute_result"
    }
   ],
   "source": [
    "df_fifa.corr()"
   ]
  },
  {
   "cell_type": "markdown",
   "id": "02cb03b5",
   "metadata": {},
   "source": [
    "## Q4-1\n",
    "주 요인인, Preferred_Foot, Position_Class 에 대해 F 값에 대한 P-value가 유의수준 0.05에 대해 현저히 낮으므로,\n",
    "\n",
    "귀무가설을 기각하여, 주 요인에 따라 Value 평균이 다르다고 말할 수 있다.\n",
    "\n",
    "또한 교호작용 요인인, Preferred_Foot * Position_Class 에 대해서도 F값에 대한 P-value가 유의수준 0.05에 비해 낮기 때문에,\n",
    "\n",
    "귀무가설을 기각하여, 두 요인의 교호작용에 대해서도 Value 평균이 달라진다고 말할 수 있다."
   ]
  },
  {
   "cell_type": "code",
   "execution_count": 16,
   "id": "26aa2b88",
   "metadata": {},
   "outputs": [
    {
     "data": {
      "text/plain": [
       "Right_Defender      4838\n",
       "Right_Midfielder    3747\n",
       "Right_Forward       2530\n",
       "Left_Defender       1925\n",
       "Right_Goalkeeper    1707\n",
       "Left_Midfielder     1188\n",
       "Left_Forward         514\n",
       "Left_Goalkeeper      193\n",
       "Name: Preferred_Foot_Position_Class, dtype: int64"
      ]
     },
     "execution_count": 16,
     "metadata": {},
     "output_type": "execute_result"
    }
   ],
   "source": [
    "df_fifa[\"Preferred_Foot_Position_Class\"] = df_fifa[\"Preferred_Foot\"] + \"_\" + df_fifa[\"Position_Class\"]\n",
    "df_fifa[\"Preferred_Foot_Position_Class\"].value_counts()"
   ]
  },
  {
   "cell_type": "code",
   "execution_count": 17,
   "id": "8954e518",
   "metadata": {},
   "outputs": [
    {
     "data": {
      "text/html": [
       "<table class=\"simpletable\">\n",
       "<caption>Multiple Comparison of Means - Tukey HSD, FWER=0.05</caption>\n",
       "<tr>\n",
       "       <th>group1</th>           <th>group2</th>       <th>meandiff</th>   <th>p-adj</th>    <th>lower</th>     <th>upper</th>   <th>reject</th>\n",
       "</tr>\n",
       "<tr>\n",
       "    <td>Left_Defender</td>    <td>Left_Forward</td>    <td>1713.4347</td>  <td>0.001</td>  <td>856.0187</td>  <td>2570.8508</td>  <td>True</td> \n",
       "</tr>\n",
       "<tr>\n",
       "    <td>Left_Defender</td>   <td>Left_Goalkeeper</td>  <td>574.0484</td>  <td>0.8816</td>  <td>-729.8736</td> <td>1877.9703</td>  <td>False</td>\n",
       "</tr>\n",
       "<tr>\n",
       "    <td>Left_Defender</td>   <td>Left_Midfielder</td>  <td>1107.086</td>   <td>0.001</td>  <td>469.9258</td>  <td>1744.2461</td>  <td>True</td> \n",
       "</tr>\n",
       "<tr>\n",
       "    <td>Left_Defender</td>   <td>Right_Defender</td>   <td>131.8539</td>    <td>0.9</td>   <td>-333.5222</td> <td>597.2299</td>   <td>False</td>\n",
       "</tr>\n",
       "<tr>\n",
       "    <td>Left_Defender</td>    <td>Right_Forward</td>   <td>884.7709</td>   <td>0.001</td>  <td>362.4579</td>  <td>1407.084</td>   <td>True</td> \n",
       "</tr>\n",
       "<tr>\n",
       "    <td>Left_Defender</td>  <td>Right_Goalkeeper</td>  <td>-524.6679</td> <td>0.1026</td> <td>-1098.8153</td>  <td>49.4796</td>   <td>False</td>\n",
       "</tr>\n",
       "<tr>\n",
       "    <td>Left_Defender</td>  <td>Right_Midfielder</td>  <td>775.3413</td>   <td>0.001</td>  <td>291.0647</td>  <td>1259.618</td>   <td>True</td> \n",
       "</tr>\n",
       "<tr>\n",
       "    <td>Left_Forward</td>    <td>Left_Goalkeeper</td> <td>-1139.3864</td> <td>0.2567</td> <td>-2597.3011</td> <td>318.5284</td>   <td>False</td>\n",
       "</tr>\n",
       "<tr>\n",
       "    <td>Left_Forward</td>    <td>Left_Midfielder</td>  <td>-606.3488</td> <td>0.4727</td> <td>-1518.0922</td> <td>305.3947</td>   <td>False</td>\n",
       "</tr>\n",
       "<tr>\n",
       "    <td>Left_Forward</td>    <td>Right_Defender</td>  <td>-1581.5808</td>  <td>0.001</td> <td>-2382.7537</td> <td>-780.408</td>   <td>True</td> \n",
       "</tr>\n",
       "<tr>\n",
       "    <td>Left_Forward</td>     <td>Right_Forward</td>   <td>-828.6638</td> <td>0.0538</td> <td>-1664.1959</td>  <td>6.8683</td>    <td>False</td>\n",
       "</tr>\n",
       "<tr>\n",
       "    <td>Left_Forward</td>   <td>Right_Goalkeeper</td> <td>-2238.1026</td>  <td>0.001</td> <td>-3106.9802</td> <td>-1369.225</td>  <td>True</td> \n",
       "</tr>\n",
       "<tr>\n",
       "    <td>Left_Forward</td>   <td>Right_Midfielder</td>  <td>-938.0934</td>  <td>0.011</td> <td>-1750.3907</td> <td>-125.7961</td>  <td>True</td> \n",
       "</tr>\n",
       "<tr>\n",
       "   <td>Left_Goalkeeper</td>  <td>Left_Midfielder</td>  <td>533.0376</td>    <td>0.9</td>   <td>-807.2334</td> <td>1873.3085</td>  <td>False</td>\n",
       "</tr>\n",
       "<tr>\n",
       "   <td>Left_Goalkeeper</td>  <td>Right_Defender</td>   <td>-442.1945</td>   <td>0.9</td>  <td>-1709.8411</td> <td>825.4522</td>   <td>False</td>\n",
       "</tr>\n",
       "<tr>\n",
       "   <td>Left_Goalkeeper</td>   <td>Right_Forward</td>   <td>310.7226</td>    <td>0.9</td>   <td>-978.9146</td> <td>1600.3597</td>  <td>False</td>\n",
       "</tr>\n",
       "<tr>\n",
       "   <td>Left_Goalkeeper</td> <td>Right_Goalkeeper</td> <td>-1098.7163</td> <td>0.1787</td> <td>-2410.2034</td> <td>212.7709</td>   <td>False</td>\n",
       "</tr>\n",
       "<tr>\n",
       "   <td>Left_Goalkeeper</td> <td>Right_Midfielder</td>   <td>201.293</td>    <td>0.9</td>  <td>-1073.4137</td> <td>1475.9996</td>  <td>False</td>\n",
       "</tr>\n",
       "<tr>\n",
       "   <td>Left_Midfielder</td>  <td>Right_Defender</td>   <td>-975.2321</td>  <td>0.001</td> <td>-1534.4178</td> <td>-416.0464</td>  <td>True</td> \n",
       "</tr>\n",
       "<tr>\n",
       "   <td>Left_Midfielder</td>   <td>Right_Forward</td>   <td>-222.315</td>    <td>0.9</td>   <td>-829.7067</td> <td>385.0767</td>   <td>False</td>\n",
       "</tr>\n",
       "<tr>\n",
       "   <td>Left_Midfielder</td> <td>Right_Goalkeeper</td> <td>-1631.7538</td>  <td>0.001</td>  <td>-2284.256</td> <td>-979.2517</td>  <td>True</td> \n",
       "</tr>\n",
       "<tr>\n",
       "   <td>Left_Midfielder</td> <td>Right_Midfielder</td>  <td>-331.7446</td> <td>0.6339</td>  <td>-906.7556</td> <td>243.2664</td>   <td>False</td>\n",
       "</tr>\n",
       "<tr>\n",
       "   <td>Right_Defender</td>    <td>Right_Forward</td>    <td>752.917</td>   <td>0.001</td>  <td>329.2114</td>  <td>1176.6227</td>  <td>True</td> \n",
       "</tr>\n",
       "<tr>\n",
       "   <td>Right_Defender</td>  <td>Right_Goalkeeper</td>  <td>-656.5218</td> <td>0.0011</td> <td>-1142.6913</td> <td>-170.3522</td>  <td>True</td> \n",
       "</tr>\n",
       "<tr>\n",
       "   <td>Right_Defender</td>  <td>Right_Midfielder</td>  <td>643.4875</td>   <td>0.001</td>  <td>267.6691</td>  <td>1019.3058</td>  <td>True</td> \n",
       "</tr>\n",
       "<tr>\n",
       "    <td>Right_Forward</td>  <td>Right_Goalkeeper</td> <td>-1409.4388</td>  <td>0.001</td> <td>-1950.3611</td> <td>-868.5165</td>  <td>True</td> \n",
       "</tr>\n",
       "<tr>\n",
       "    <td>Right_Forward</td>  <td>Right_Midfielder</td>  <td>-109.4296</td>   <td>0.9</td>   <td>-553.8117</td> <td>334.9526</td>   <td>False</td>\n",
       "</tr>\n",
       "<tr>\n",
       "  <td>Right_Goalkeeper</td> <td>Right_Midfielder</td>  <td>1300.0092</td>  <td>0.001</td>  <td>795.7178</td>  <td>1804.3007</td>  <td>True</td> \n",
       "</tr>\n",
       "</table>"
      ],
      "text/plain": [
       "<class 'statsmodels.iolib.table.SimpleTable'>"
      ]
     },
     "execution_count": 17,
     "metadata": {},
     "output_type": "execute_result"
    }
   ],
   "source": [
    "pairwise_tukeyhsd(df_fifa[\"Value\"], df_fifa[\"Preferred_Foot_Position_Class\"]).summary()"
   ]
  },
  {
   "cell_type": "markdown",
   "id": "02d87347",
   "metadata": {},
   "source": [
    "## Q4-2\n",
    "두 요인의 조합인 Preferred_Foot * Position_Class 에 대해 Tukey HSD 구간 검정을 했을때,\n",
    "\n",
    "reject가 True인 쌍은 서로 value 평균이 다르다고 말할 수 있고 (유의수준 0.05)\n",
    "\n",
    "reject가 False인 쌍은 서로 value 평균이 다르다고 말할 수 없다 (유의수준 0.05)"
   ]
  },
  {
   "cell_type": "code",
   "execution_count": 18,
   "id": "065cee0c",
   "metadata": {},
   "outputs": [],
   "source": [
    "#---------------------------------------------------------------------------------------\n",
    "# Q5)Age, Overall, Wage, Height_cm, Weight_lb 가 Value에 영향을 미치는지 \n",
    "#     알아보는 회귀분석을 단계적 선택법을 사용하여 수행하고 결과를 해석하시오. \n",
    "#---------------------------------------------------------------------------------------"
   ]
  },
  {
   "cell_type": "code",
   "execution_count": 24,
   "id": "fb0f85d1",
   "metadata": {},
   "outputs": [
    {
     "name": "stdout",
     "output_type": "stream",
     "text": [
      "335197.4361434203\n",
      "335101.9050948277\n",
      "326811.6430766084\n",
      "312636.7113986248\n",
      "335199.3767194875\n",
      "335166.9800023204\n"
     ]
    }
   ],
   "source": [
    "# 1, 상수항\n",
    "model = ols(\"Value ~ 1\", data = df_fifa)\n",
    "print(model.fit().aic)\n",
    "model = ols(\"Value ~ Age\", data = df_fifa)\n",
    "print(model.fit().aic)\n",
    "model = ols(\"Value ~ Overall\", data = df_fifa)\n",
    "print(model.fit().aic)\n",
    "model = ols(\"Value ~ Wage\", data = df_fifa)\n",
    "print(model.fit().aic)\n",
    "model = ols(\"Value ~ Height_cm\", data = df_fifa)\n",
    "print(model.fit().aic)\n",
    "model = ols(\"Value ~ Weight_lb\", data = df_fifa)\n",
    "print(model.fit().aic)"
   ]
  },
  {
   "cell_type": "code",
   "execution_count": 25,
   "id": "b5a326b5",
   "metadata": {},
   "outputs": [
    {
     "name": "stdout",
     "output_type": "stream",
     "text": [
      "312636.7113986248\n",
      "335197.4361434203\n",
      "312462.32321630104\n",
      "310792.4128532369\n",
      "312623.2149041213\n",
      "312629.2657629237\n"
     ]
    }
   ],
   "source": [
    "# 2, Wage 추가\n",
    "model = ols(\"Value ~ Wage\", data = df_fifa)\n",
    "print(model.fit().aic)\n",
    "model = ols(\"Value ~ 1\", data = df_fifa)\n",
    "print(model.fit().aic)\n",
    "model = ols(\"Value ~ Wage + Age\", data = df_fifa)\n",
    "print(model.fit().aic)\n",
    "model = ols(\"Value ~ Wage + Overall\", data = df_fifa)\n",
    "print(model.fit().aic)\n",
    "model = ols(\"Value ~ Wage + Height_cm\", data = df_fifa)\n",
    "print(model.fit().aic)\n",
    "model = ols(\"Value ~ Wage + Weight_lb\", data = df_fifa)\n",
    "print(model.fit().aic)"
   ]
  },
  {
   "cell_type": "code",
   "execution_count": 26,
   "id": "2811cd04",
   "metadata": {},
   "outputs": [
    {
     "name": "stdout",
     "output_type": "stream",
     "text": [
      "310792.4128532369\n",
      "312636.7113986248\n",
      "326811.6430766084\n",
      "309173.1691867521\n",
      "310762.78845630656\n",
      "310700.69694111776\n"
     ]
    }
   ],
   "source": [
    "# 3, Wage + Overall\n",
    "model = ols(\"Value ~ Wage + Overall\", data = df_fifa)\n",
    "print(model.fit().aic)\n",
    "model = ols(\"Value ~ Wage\", data = df_fifa)\n",
    "print(model.fit().aic)\n",
    "model = ols(\"Value ~ Overall\", data = df_fifa)\n",
    "print(model.fit().aic)\n",
    "model = ols(\"Value ~ Wage + Overall + Age\", data = df_fifa)\n",
    "print(model.fit().aic)\n",
    "model = ols(\"Value ~ Wage + Overall + Height_cm\", data = df_fifa)\n",
    "print(model.fit().aic)\n",
    "model = ols(\"Value ~ Wage + Overall + Weight_lb\", data = df_fifa)\n",
    "print(model.fit().aic)"
   ]
  },
  {
   "cell_type": "code",
   "execution_count": 28,
   "id": "91bcf945",
   "metadata": {},
   "outputs": [
    {
     "name": "stdout",
     "output_type": "stream",
     "text": [
      "309173.1691867521\n",
      "325086.13869170786\n",
      "312462.32321630104\n",
      "310792.4128532369\n",
      "309167.6615284396\n",
      "309167.8762187488\n"
     ]
    }
   ],
   "source": [
    "# 4, Wage + Overal + Age\n",
    "model = ols(\"Value ~ Wage + Overall + Age\", data = df_fifa)\n",
    "print(model.fit().aic)\n",
    "model = ols(\"Value ~ Overall + Age\", data = df_fifa)\n",
    "print(model.fit().aic)\n",
    "model = ols(\"Value ~ Wage + Age\", data = df_fifa)\n",
    "print(model.fit().aic)\n",
    "model = ols(\"Value ~ Wage + Overall\", data = df_fifa)\n",
    "print(model.fit().aic)\n",
    "model = ols(\"Value ~ Wage + Overall + Age + Height_cm\", data = df_fifa)\n",
    "print(model.fit().aic)\n",
    "model = ols(\"Value ~ Wage + Overall + Age + Weight_lb\", data = df_fifa)\n",
    "print(model.fit().aic)"
   ]
  },
  {
   "cell_type": "code",
   "execution_count": 29,
   "id": "46c4c50a",
   "metadata": {},
   "outputs": [
    {
     "name": "stdout",
     "output_type": "stream",
     "text": [
      "309167.6615284396\n",
      "325087.6920958424\n",
      "312456.15594132437\n",
      "310762.78845630656\n",
      "309173.1691867521\n",
      "309168.75716840284\n"
     ]
    }
   ],
   "source": [
    "# 5, Wage + Overal + Age + Height_cm\n",
    "model = ols(\"Value ~ Wage + Overall + Age + Height_cm\", data = df_fifa)\n",
    "print(model.fit().aic)\n",
    "model = ols(\"Value ~ Overall + Age + Height_cm\", data = df_fifa)\n",
    "print(model.fit().aic)\n",
    "model = ols(\"Value ~ Wage + Age + Height_cm\", data = df_fifa)\n",
    "print(model.fit().aic)\n",
    "model = ols(\"Value ~ Wage + Overall + Height_cm\", data = df_fifa)\n",
    "print(model.fit().aic)\n",
    "model = ols(\"Value ~ Wage + Overall + Age\", data = df_fifa)\n",
    "print(model.fit().aic)\n",
    "model = ols(\"Value ~ Wage + Overall + Age + Height_cm + Weight_lb\", data = df_fifa)\n",
    "print(model.fit().aic)"
   ]
  },
  {
   "cell_type": "code",
   "execution_count": 30,
   "id": "31f8c029",
   "metadata": {},
   "outputs": [
    {
     "data": {
      "text/html": [
       "<table class=\"simpletable\">\n",
       "<caption>OLS Regression Results</caption>\n",
       "<tr>\n",
       "  <th>Dep. Variable:</th>          <td>Value</td>      <th>  R-squared:         </th>  <td>   0.791</td>  \n",
       "</tr>\n",
       "<tr>\n",
       "  <th>Model:</th>                   <td>OLS</td>       <th>  Adj. R-squared:    </th>  <td>   0.791</td>  \n",
       "</tr>\n",
       "<tr>\n",
       "  <th>Method:</th>             <td>Least Squares</td>  <th>  F-statistic:       </th>  <td>1.572e+04</td> \n",
       "</tr>\n",
       "<tr>\n",
       "  <th>Date:</th>             <td>Sun, 19 Dec 2021</td> <th>  Prob (F-statistic):</th>   <td>  0.00</td>   \n",
       "</tr>\n",
       "<tr>\n",
       "  <th>Time:</th>                 <td>20:01:23</td>     <th>  Log-Likelihood:    </th> <td>-1.5458e+05</td>\n",
       "</tr>\n",
       "<tr>\n",
       "  <th>No. Observations:</th>      <td> 16642</td>      <th>  AIC:               </th>  <td>3.092e+05</td> \n",
       "</tr>\n",
       "<tr>\n",
       "  <th>Df Residuals:</th>          <td> 16637</td>      <th>  BIC:               </th>  <td>3.092e+05</td> \n",
       "</tr>\n",
       "<tr>\n",
       "  <th>Df Model:</th>              <td>     4</td>      <th>                     </th>      <td> </td>     \n",
       "</tr>\n",
       "<tr>\n",
       "  <th>Covariance Type:</th>      <td>nonrobust</td>    <th>                     </th>      <td> </td>     \n",
       "</tr>\n",
       "</table>\n",
       "<table class=\"simpletable\">\n",
       "<tr>\n",
       "      <td></td>         <th>coef</th>     <th>std err</th>      <th>t</th>      <th>P>|t|</th>  <th>[0.025</th>    <th>0.975]</th>  \n",
       "</tr>\n",
       "<tr>\n",
       "  <th>Intercept</th> <td>-8690.8178</td> <td>  588.280</td> <td>  -14.773</td> <td> 0.000</td> <td>-9843.908</td> <td>-7537.727</td>\n",
       "</tr>\n",
       "<tr>\n",
       "  <th>Wage</th>      <td>  184.1837</td> <td>    1.128</td> <td>  163.317</td> <td> 0.000</td> <td>  181.973</td> <td>  186.394</td>\n",
       "</tr>\n",
       "<tr>\n",
       "  <th>Overall</th>   <td>  241.3450</td> <td>    4.002</td> <td>   60.310</td> <td> 0.000</td> <td>  233.501</td> <td>  249.189</td>\n",
       "</tr>\n",
       "<tr>\n",
       "  <th>Age</th>       <td> -202.1603</td> <td>    4.938</td> <td>  -40.936</td> <td> 0.000</td> <td> -211.840</td> <td> -192.480</td>\n",
       "</tr>\n",
       "<tr>\n",
       "  <th>Height_cm</th> <td>   -8.4446</td> <td>    3.082</td> <td>   -2.740</td> <td> 0.006</td> <td>  -14.486</td> <td>   -2.403</td>\n",
       "</tr>\n",
       "</table>\n",
       "<table class=\"simpletable\">\n",
       "<tr>\n",
       "  <th>Omnibus:</th>       <td>17089.038</td> <th>  Durbin-Watson:     </th>  <td>   1.407</td>  \n",
       "</tr>\n",
       "<tr>\n",
       "  <th>Prob(Omnibus):</th>  <td> 0.000</td>   <th>  Jarque-Bera (JB):  </th> <td>3525378.426</td>\n",
       "</tr>\n",
       "<tr>\n",
       "  <th>Skew:</th>           <td> 4.665</td>   <th>  Prob(JB):          </th>  <td>    0.00</td>  \n",
       "</tr>\n",
       "<tr>\n",
       "  <th>Kurtosis:</th>       <td>73.690</td>   <th>  Cond. No.          </th>  <td>5.58e+03</td>  \n",
       "</tr>\n",
       "</table><br/><br/>Warnings:<br/>[1] Standard Errors assume that the covariance matrix of the errors is correctly specified.<br/>[2] The condition number is large, 5.58e+03. This might indicate that there are<br/>strong multicollinearity or other numerical problems."
      ],
      "text/plain": [
       "<class 'statsmodels.iolib.summary.Summary'>\n",
       "\"\"\"\n",
       "                            OLS Regression Results                            \n",
       "==============================================================================\n",
       "Dep. Variable:                  Value   R-squared:                       0.791\n",
       "Model:                            OLS   Adj. R-squared:                  0.791\n",
       "Method:                 Least Squares   F-statistic:                 1.572e+04\n",
       "Date:                Sun, 19 Dec 2021   Prob (F-statistic):               0.00\n",
       "Time:                        20:01:23   Log-Likelihood:            -1.5458e+05\n",
       "No. Observations:               16642   AIC:                         3.092e+05\n",
       "Df Residuals:                   16637   BIC:                         3.092e+05\n",
       "Df Model:                           4                                         \n",
       "Covariance Type:            nonrobust                                         \n",
       "==============================================================================\n",
       "                 coef    std err          t      P>|t|      [0.025      0.975]\n",
       "------------------------------------------------------------------------------\n",
       "Intercept  -8690.8178    588.280    -14.773      0.000   -9843.908   -7537.727\n",
       "Wage         184.1837      1.128    163.317      0.000     181.973     186.394\n",
       "Overall      241.3450      4.002     60.310      0.000     233.501     249.189\n",
       "Age         -202.1603      4.938    -40.936      0.000    -211.840    -192.480\n",
       "Height_cm     -8.4446      3.082     -2.740      0.006     -14.486      -2.403\n",
       "==============================================================================\n",
       "Omnibus:                    17089.038   Durbin-Watson:                   1.407\n",
       "Prob(Omnibus):                  0.000   Jarque-Bera (JB):          3525378.426\n",
       "Skew:                           4.665   Prob(JB):                         0.00\n",
       "Kurtosis:                      73.690   Cond. No.                     5.58e+03\n",
       "==============================================================================\n",
       "\n",
       "Warnings:\n",
       "[1] Standard Errors assume that the covariance matrix of the errors is correctly specified.\n",
       "[2] The condition number is large, 5.58e+03. This might indicate that there are\n",
       "strong multicollinearity or other numerical problems.\n",
       "\"\"\""
      ]
     },
     "execution_count": 30,
     "metadata": {},
     "output_type": "execute_result"
    }
   ],
   "source": [
    "# 6, Wage + Overal + Age + Height_cm 의 AIC 값보다 작아지는 벌점이 없으므로, 변수 추가 또는 삭제 종료\n",
    "# 최종 모델은 Value ~ Wage + Overal + Age + Height_cm\n",
    "\n",
    "model = ols(\"Value ~ Wage + Overall + Age + Height_cm\", data = df_fifa)\n",
    "model.fit().summary()"
   ]
  },
  {
   "cell_type": "markdown",
   "id": "b5f349ad",
   "metadata": {},
   "source": [
    "## Q5\n",
    "최종 모델은 Value =  ...... 이며,\n",
    "\n",
    "수정된 R2 결정계수는 0.791로 모델이 약 79%를 설명한다고 할 수 있다.\n",
    "\n",
    "각각의 coef는 P value가 유의수준보다 낮으므로 (0.05) 통계적으로 유의하다.\n",
    "\n",
    "Wage 가 증가할 때 value 가 증가하며, Overall 이 증가할 때도 value 는 증가한다.\n",
    "\n",
    "Age 가 증가할 때는 value 는 감소한다.\n",
    "\n",
    "또한 coef 절대값이 Overall 이 가장 크므로, value에 대한 영향력이 가장 크다고 할 수 있다."
   ]
  },
  {
   "cell_type": "code",
   "execution_count": null,
   "id": "7499bde0",
   "metadata": {},
   "outputs": [],
   "source": []
  }
 ],
 "metadata": {
  "environment": {
   "kernel": "python3",
   "name": "common-cpu.m87",
   "type": "gcloud",
   "uri": "gcr.io/deeplearning-platform-release/base-cpu:m87"
  },
  "kernelspec": {
   "display_name": "Python 3 (ipykernel)",
   "language": "python",
   "name": "python3"
  },
  "language_info": {
   "codemirror_mode": {
    "name": "ipython",
    "version": 3
   },
   "file_extension": ".py",
   "mimetype": "text/x-python",
   "name": "python",
   "nbconvert_exporter": "python",
   "pygments_lexer": "ipython3",
   "version": "3.7.11"
  }
 },
 "nbformat": 4,
 "nbformat_minor": 5
}
